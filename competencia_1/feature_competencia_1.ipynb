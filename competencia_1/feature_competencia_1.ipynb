{
  "cells": [
    {
      "cell_type": "markdown",
      "metadata": {
        "id": "omsU_-5ONQ9S"
      },
      "source": [
        "# Feature engineering"
      ]
    },
    {
      "cell_type": "code",
      "execution_count": null,
      "metadata": {
        "colab": {
          "base_uri": "https://localhost:8080/"
        },
        "id": "xtcR4GM3jB37",
        "outputId": "2f2366b7-ad78-49de-ae1c-66d0c5fcbf01"
      },
      "outputs": [
        {
          "output_type": "stream",
          "name": "stdout",
          "text": [
            "Requirement already satisfied: duckdb in /usr/local/lib/python3.12/dist-packages (1.3.2)\n",
            "Collecting duckdb-engine\n",
            "  Downloading duckdb_engine-0.17.0-py3-none-any.whl.metadata (8.4 kB)\n",
            "Collecting jupysql\n",
            "  Downloading jupysql-0.11.1-py3-none-any.whl.metadata (5.9 kB)\n",
            "Collecting odfpy\n",
            "  Downloading odfpy-1.4.1.tar.gz (717 kB)\n",
            "\u001b[2K     \u001b[90m━━━━━━━━━━━━━━━━━━━━━━━━━━━━━━━━━━━━━━\u001b[0m \u001b[32m717.0/717.0 kB\u001b[0m \u001b[31m12.1 MB/s\u001b[0m eta \u001b[36m0:00:00\u001b[0m\n",
            "\u001b[?25h  Preparing metadata (setup.py) ... \u001b[?25l\u001b[?25hdone\n",
            "Requirement already satisfied: packaging>=21 in /usr/local/lib/python3.12/dist-packages (from duckdb-engine) (25.0)\n",
            "Requirement already satisfied: sqlalchemy>=1.3.22 in /usr/local/lib/python3.12/dist-packages (from duckdb-engine) (2.0.43)\n",
            "Requirement already satisfied: prettytable>=3.12.0 in /usr/local/lib/python3.12/dist-packages (from jupysql) (3.16.0)\n",
            "Requirement already satisfied: sqlparse in /usr/local/lib/python3.12/dist-packages (from jupysql) (0.5.3)\n",
            "Requirement already satisfied: ipython-genutils>=0.1.0 in /usr/local/lib/python3.12/dist-packages (from jupysql) (0.2.0)\n",
            "Requirement already satisfied: jinja2 in /usr/local/lib/python3.12/dist-packages (from jupysql) (3.1.6)\n",
            "Requirement already satisfied: sqlglot>=11.3.7 in /usr/local/lib/python3.12/dist-packages (from jupysql) (25.20.2)\n",
            "Collecting jupysql-plugin>=0.4.2 (from jupysql)\n",
            "  Downloading jupysql_plugin-0.4.5-py3-none-any.whl.metadata (7.8 kB)\n",
            "Collecting ploomber-core>=0.2.7 (from jupysql)\n",
            "  Downloading ploomber_core-0.2.27-py3-none-any.whl.metadata (532 bytes)\n",
            "Requirement already satisfied: defusedxml in /usr/local/lib/python3.12/dist-packages (from odfpy) (0.7.1)\n",
            "Requirement already satisfied: pyyaml in /usr/local/lib/python3.12/dist-packages (from ploomber-core>=0.2.7->jupysql) (6.0.3)\n",
            "Collecting posthog>=3.0 (from ploomber-core>=0.2.7->jupysql)\n",
            "  Downloading posthog-6.7.6-py3-none-any.whl.metadata (6.0 kB)\n",
            "Requirement already satisfied: wcwidth in /usr/local/lib/python3.12/dist-packages (from prettytable>=3.12.0->jupysql) (0.2.14)\n",
            "Requirement already satisfied: greenlet>=1 in /usr/local/lib/python3.12/dist-packages (from sqlalchemy>=1.3.22->duckdb-engine) (3.2.4)\n",
            "Requirement already satisfied: typing-extensions>=4.6.0 in /usr/local/lib/python3.12/dist-packages (from sqlalchemy>=1.3.22->duckdb-engine) (4.15.0)\n",
            "Requirement already satisfied: MarkupSafe>=2.0 in /usr/local/lib/python3.12/dist-packages (from jinja2->jupysql) (3.0.3)\n",
            "Requirement already satisfied: requests<3.0,>=2.7 in /usr/local/lib/python3.12/dist-packages (from posthog>=3.0->ploomber-core>=0.2.7->jupysql) (2.32.4)\n",
            "Requirement already satisfied: six>=1.5 in /usr/local/lib/python3.12/dist-packages (from posthog>=3.0->ploomber-core>=0.2.7->jupysql) (1.17.0)\n",
            "Requirement already satisfied: python-dateutil>=2.2 in /usr/local/lib/python3.12/dist-packages (from posthog>=3.0->ploomber-core>=0.2.7->jupysql) (2.9.0.post0)\n",
            "Collecting backoff>=1.10.0 (from posthog>=3.0->ploomber-core>=0.2.7->jupysql)\n",
            "  Downloading backoff-2.2.1-py3-none-any.whl.metadata (14 kB)\n",
            "Requirement already satisfied: distro>=1.5.0 in /usr/local/lib/python3.12/dist-packages (from posthog>=3.0->ploomber-core>=0.2.7->jupysql) (1.9.0)\n",
            "Requirement already satisfied: charset_normalizer<4,>=2 in /usr/local/lib/python3.12/dist-packages (from requests<3.0,>=2.7->posthog>=3.0->ploomber-core>=0.2.7->jupysql) (3.4.3)\n",
            "Requirement already satisfied: idna<4,>=2.5 in /usr/local/lib/python3.12/dist-packages (from requests<3.0,>=2.7->posthog>=3.0->ploomber-core>=0.2.7->jupysql) (3.10)\n",
            "Requirement already satisfied: urllib3<3,>=1.21.1 in /usr/local/lib/python3.12/dist-packages (from requests<3.0,>=2.7->posthog>=3.0->ploomber-core>=0.2.7->jupysql) (2.5.0)\n",
            "Requirement already satisfied: certifi>=2017.4.17 in /usr/local/lib/python3.12/dist-packages (from requests<3.0,>=2.7->posthog>=3.0->ploomber-core>=0.2.7->jupysql) (2025.10.5)\n",
            "Downloading duckdb_engine-0.17.0-py3-none-any.whl (49 kB)\n",
            "\u001b[2K   \u001b[90m━━━━━━━━━━━━━━━━━━━━━━━━━━━━━━━━━━━━━━━━\u001b[0m \u001b[32m49.7/49.7 kB\u001b[0m \u001b[31m1.8 MB/s\u001b[0m eta \u001b[36m0:00:00\u001b[0m\n",
            "\u001b[?25hDownloading jupysql-0.11.1-py3-none-any.whl (95 kB)\n",
            "\u001b[2K   \u001b[90m━━━━━━━━━━━━━━━━━━━━━━━━━━━━━━━━━━━━━━━━\u001b[0m \u001b[32m95.1/95.1 kB\u001b[0m \u001b[31m4.2 MB/s\u001b[0m eta \u001b[36m0:00:00\u001b[0m\n",
            "\u001b[?25hDownloading jupysql_plugin-0.4.5-py3-none-any.whl (192 kB)\n",
            "\u001b[2K   \u001b[90m━━━━━━━━━━━━━━━━━━━━━━━━━━━━━━━━━━━━━━━━\u001b[0m \u001b[32m192.8/192.8 kB\u001b[0m \u001b[31m10.0 MB/s\u001b[0m eta \u001b[36m0:00:00\u001b[0m\n",
            "\u001b[?25hDownloading ploomber_core-0.2.27-py3-none-any.whl (22 kB)\n",
            "Downloading posthog-6.7.6-py3-none-any.whl (137 kB)\n",
            "\u001b[2K   \u001b[90m━━━━━━━━━━━━━━━━━━━━━━━━━━━━━━━━━━━━━━━━\u001b[0m \u001b[32m137.3/137.3 kB\u001b[0m \u001b[31m4.9 MB/s\u001b[0m eta \u001b[36m0:00:00\u001b[0m\n",
            "\u001b[?25hDownloading backoff-2.2.1-py3-none-any.whl (15 kB)\n",
            "Building wheels for collected packages: odfpy\n",
            "  Building wheel for odfpy (setup.py) ... \u001b[?25l\u001b[?25hdone\n",
            "  Created wheel for odfpy: filename=odfpy-1.4.1-py2.py3-none-any.whl size=160673 sha256=d6d557e597a5da7b868f59923442f21bc3fed27c707fb22a1e63b74f525ebb81\n",
            "  Stored in directory: /root/.cache/pip/wheels/36/5d/63/8243a7ee78fff0f944d638fd0e66d7278888f5e2285d7346b6\n",
            "Successfully built odfpy\n",
            "Installing collected packages: odfpy, backoff, posthog, duckdb-engine, ploomber-core, jupysql-plugin, jupysql\n",
            "Successfully installed backoff-2.2.1 duckdb-engine-0.17.0 jupysql-0.11.1 jupysql-plugin-0.4.5 odfpy-1.4.1 ploomber-core-0.2.27 posthog-6.7.6\n"
          ]
        }
      ],
      "source": [
        "!pip install duckdb duckdb-engine jupysql odfpy"
      ]
    },
    {
      "cell_type": "code",
      "execution_count": null,
      "metadata": {
        "id": "xngH6X13jeHo"
      },
      "outputs": [],
      "source": [
        "import pandas as pd\n",
        "import duckdb\n",
        "from pprint import pprint"
      ]
    },
    {
      "cell_type": "code",
      "execution_count": null,
      "metadata": {
        "id": "Rrnvgm4bjPQq"
      },
      "outputs": [],
      "source": [
        "BASE_PATH = '/content/drive/MyDrive/EyF/'\n",
        "DATASET_PATH = BASE_PATH\n",
        "MODELOS_PATH = BASE_PATH + 'modelos/'\n",
        "DB_PATH = BASE_PATH + 'db/'\n",
        "DATASET_FILE = 'trainset.csv'\n",
        "NEW_FILENAME = 'fe_v2.csv'\n",
        "DICCIONARY_FILENAME = 'DiccionarioDatos_2025.ods'\n",
        "CRUDO_FILENAME = 'competencia_01_crudo.csv'"
      ]
    },
    {
      "cell_type": "code",
      "execution_count": null,
      "metadata": {
        "id": "svddwXid3MCC"
      },
      "outputs": [],
      "source": [
        "dicc = pd.read_excel(BASE_PATH + DICCIONARY_FILENAME, index_col = 0, engine = 'odf').set_index(\"campo\")"
      ]
    },
    {
      "cell_type": "code",
      "source": [
        "lags = ['ctrx_quarter',\n",
        " 'mcaja_ahorro',\n",
        " 'mpasivos_margen',\n",
        " 'mcuentas_saldo',\n",
        " 'cpayroll_trx',\n",
        " 'mprestamos_personales',\n",
        " 'mtarjeta_visa_consumo',\n",
        " 'mcuenta_corriente',\n",
        " 'cprestamos_personales',\n",
        " 'ctarjeta_visa_transacciones',\n",
        " 'mrentabilidad_annual',\n",
        " 'Visa_msaldopesos',\n",
        " 'mpayroll',\n",
        " 'Master_status',\n",
        " 'mactivos_margen',\n",
        " 'Visa_status',\n",
        " 'ctarjeta_visa',\n",
        " 'mcomisiones_mantenimiento',\n",
        " 'ctarjeta_master',\n",
        " 'Master_fechaalta',\n",
        " 'tcallcenter',\n",
        " 'cliente_edad',\n",
        " 'mcomisiones',\n",
        " 'Visa_msaldototal',\n",
        " 'chomebanking_transacciones',\n",
        " 'cproductos',\n",
        " 'internet',\n",
        " 'Master_Fvencimiento',\n",
        " 'Visa_fechaalta',\n",
        " 'ccallcenter_transacciones',\n",
        " 'ccajas_consultas',\n",
        " 'Master_mfinanciacion_limite',\n",
        " 'mautoservicio',\n",
        " 'mrentabilidad',\n",
        " 'Visa_mpagospesos',\n",
        " 'Visa_Fvencimiento',\n",
        " 'ccomisiones_otras',\n",
        " 'Visa_mfinanciacion_limite',\n",
        " 'cliente_antiguedad',\n",
        " 'cdescubierto_preacordado',\n",
        " 'mtransferencias_recibidas',\n",
        " 'Visa_mpagominimo',\n",
        " 'ccomisiones_mantenimiento',\n",
        " 'Visa_mconsumospesos',\n",
        " 'mcomisiones_otras',\n",
        " 'mcaja_ahorro_dolares',\n",
        " 'Master_mlimitecompra',\n",
        " 'cmobile_app_trx',\n",
        " 'Master_mpagominimo',\n",
        " 'ccajas_transacciones']"
      ],
      "metadata": {
        "id": "7m-A6w5VRRcf"
      },
      "execution_count": null,
      "outputs": []
    },
    {
      "cell_type": "code",
      "source": [
        "print(len(lags))"
      ],
      "metadata": {
        "colab": {
          "base_uri": "https://localhost:8080/"
        },
        "id": "uCeXH1JGbkGn",
        "outputId": "19f050bf-3b0d-433d-80cb-fd7a44a779df"
      },
      "execution_count": null,
      "outputs": [
        {
          "output_type": "stream",
          "name": "stdout",
          "text": [
            "50\n"
          ]
        }
      ]
    },
    {
      "cell_type": "markdown",
      "metadata": {
        "id": "9QSrLONS4qe_"
      },
      "source": [
        "# Exploración"
      ]
    },
    {
      "cell_type": "code",
      "execution_count": null,
      "metadata": {
        "id": "J3PnAWhLnSuD"
      },
      "outputs": [],
      "source": [
        "dicc.to_csv(\"dicc.csv\")"
      ]
    },
    {
      "cell_type": "code",
      "execution_count": null,
      "metadata": {
        "colab": {
          "base_uri": "https://localhost:8080/"
        },
        "id": "WHIeGTyN3fEQ",
        "outputId": "f0e4ed07-7681-48e7-d822-d4153f89033f"
      },
      "outputs": [
        {
          "output_type": "stream",
          "name": "stdout",
          "text": [
            "['numero_de_cliente', 'foto_mes', 'active_quarter', 'cliente_vip', 'internet', 'cliente_edad', 'cliente_antiguedad', 'mrentabilidad', 'mrentabilidad_annual', 'mcomisiones', 'mactivos_margen', 'mpasivos_margen', 'cproductos', 'tcuentas', 'ccuenta_corriente', 'mcuenta_corriente_adicional', 'mcuenta_corriente', 'ccaja_ahorro', 'mcaja_ahorro', 'mcaja_ahorro_adicional', 'mcaja_ahorro_dolares', 'cdescubierto_preacordado', 'mcuentas_saldo', 'ctarjeta_debito', 'ctarjeta_debito_transacciones', 'mautoservicio', 'ctarjeta_visa', 'ctarjeta_visa_transacciones', 'mtarjeta_visa_consumo', 'ctarjeta_master', 'ctarjeta_master_transacciones', 'mtarjeta_master_consumo', 'cprestamos_personales', 'mprestamos_personales', 'cprestamos_prendarios', 'mprestamos_prendarios', 'cprestamos_hipotecarios', 'mprestamos_hipotecarios', 'cplazo_fijo', 'mplazo_fijo_dolares', 'mplazo_fijo_pesos', 'cinversion1', 'minversion1_pesos', 'minversion1_dolares', 'cinversion2', 'minversion2', 'cseguro_vida', 'cseguro_auto', 'cseguro_vivienda', 'cseguro_accidentes_personales', 'ccaja_seguridad', 'cpayroll_trx', 'mpayroll', 'mpayroll2', 'cpayroll2_trx', 'ccuenta_debitos_automaticos', 'mcuenta_debitos_automaticos', 'ctarjeta_visa_debitos_automaticos', 'mtarjeta_visa_debitos_automaticos', 'ctarjeta_master_debitos_automaticos', 'mttarjeta_master_debitos_automaticos', 'cpagodeservicios', 'mpagodeservicios', 'cpagomiscuentas', 'mpagomiscuentas', 'ccajeros_propios_descuentos', 'mcajeros_propios_descuentos', 'ctarjeta_visa_descuentos', 'mtarjeta_visa_descuentos', 'ctarjeta_master_descuentos', 'mtarjeta_master_descuentos', 'ccomisiones_mantenimiento', 'mcomisiones_mantenimiento', 'ccomisiones_otras', 'mcomisiones_otras', 'cforex', 'cforex_buy', 'mforex_buy', 'cforex_sell', 'mforex_sell', 'ctransferencias_recibidas', 'mtransferencias_recibidas', 'ctransferencias_emitidas', 'mtransferencias_emitidas', 'cextraccion_autoservicio', 'mextraccion_autoservicio', 'ccheques_depositados', 'mcheques_depositados', 'ccheques_emitidos', 'mcheques_emitidos', 'ccheques_depositados_rechazados', 'mcheques_depositados_rechazados', 'ccheques_emitidos_rechazados', 'mcheques_emitidos_rechazados', 'tcallcenter', 'ccallcenter_transacciones', 'thomebanking', 'chomebanking_transacciones', 'ccajas_transacciones', 'ccajas_consultas', 'ccajas_depositos', 'ccajas_extracciones', 'ccajas_otras', 'catm_trx', 'matm', 'catm_trx_other', 'matm_other', 'ctrx_quarter', 'tmobile_app', 'cmobile_app_trx', 'Master_delinquency', 'Master_status', 'Master_mfinanciacion_limite', 'Master_Fvencimiento', 'Master_Finiciomora', 'Master_msaldototal', 'Master_msaldopesos', 'Master_msaldodolares', 'Master_mconsumospesos', 'Master_mconsumosdolares', 'Master_mlimitecompra', 'Master_madelantopesos', 'Master_madelantodolares', 'Master_fultimo_cierre', 'Master_mpagado', 'Master_mpagospesos', 'Master_mpagosdolares', 'Master_fechaalta', 'Master_mconsumototal', 'Master_cconsumos', 'Master_cadelantosefectivo', 'Master_mpagominimo', 'Visa_delinquency', 'Visa_status', 'Visa_mfinanciacion_limite', 'Visa_Fvencimiento', 'Visa_Finiciomora', 'Visa_msaldototal', 'Visa_msaldopesos', 'Visa_msaldodolares', 'Visa_mconsumospesos', 'Visa_mconsumosdolares', 'Visa_mlimitecompra', 'Visa_madelantopesos', 'Visa_madelantodolares', 'Visa_fultimo_cierre', 'Visa_mpagado', 'Visa_mpagospesos', 'Visa_mpagosdolares', 'Visa_fechaalta', 'Visa_mconsumototal', 'Visa_cconsumos', 'Visa_cadelantosefectivo', 'Visa_mpagominimo', 'clase_ternaria']\n"
          ]
        }
      ],
      "source": [
        "features = list(dicc.index)\n",
        "print(features)"
      ]
    },
    {
      "cell_type": "markdown",
      "metadata": {
        "id": "wo3t9E4v4ogw"
      },
      "source": [
        "# Conexión"
      ]
    },
    {
      "cell_type": "code",
      "execution_count": null,
      "metadata": {
        "id": "m8jXD3qR9L7g"
      },
      "outputs": [],
      "source": [
        "con = duckdb.connect()"
      ]
    },
    {
      "cell_type": "markdown",
      "metadata": {
        "id": "MUYkfVoXCxpO"
      },
      "source": [
        "# Clase ternaria"
      ]
    },
    {
      "cell_type": "code",
      "execution_count": null,
      "metadata": {
        "colab": {
          "base_uri": "https://localhost:8080/",
          "height": 67,
          "referenced_widgets": [
            "c6b69bd32b584babb9f9569904c81f09",
            "b3efd958d5e3430b929f6dfa296034fa",
            "9b1ead265fdd4b72bf7b321ce7b666e9"
          ]
        },
        "id": "FS_n8fPcDOQm",
        "outputId": "bf4e7c76-ad94-4d0f-b2f5-41e469f54ffa"
      },
      "outputs": [
        {
          "output_type": "display_data",
          "data": {
            "text/plain": [
              "FloatProgress(value=0.0, layout=Layout(width='auto'), style=ProgressStyle(bar_color='black'))"
            ],
            "application/vnd.jupyter.widget-view+json": {
              "version_major": 2,
              "version_minor": 0,
              "model_id": "c6b69bd32b584babb9f9569904c81f09"
            }
          },
          "metadata": {}
        },
        {
          "output_type": "execute_result",
          "data": {
            "text/plain": [
              "<duckdb.duckdb.DuckDBPyConnection at 0x7e1d8fcf5e30>"
            ]
          },
          "metadata": {},
          "execution_count": 10
        }
      ],
      "source": [
        "query = f\"\"\"create or replace table competencia_01 as\n",
        "select *\n",
        "from read_csv_auto(\"{BASE_PATH + CRUDO_FILENAME}\")\"\"\"\n",
        "\n",
        "con.execute(query)\n"
      ]
    },
    {
      "cell_type": "code",
      "execution_count": null,
      "metadata": {
        "colab": {
          "base_uri": "https://localhost:8080/"
        },
        "id": "QqD7RO-6EE9C",
        "outputId": "957fe310-273e-406a-e4cf-aceaa4bcf333"
      },
      "outputs": [
        {
          "output_type": "stream",
          "name": "stdout",
          "text": [
            "('create or replace table competencia_01 as\\n'\n",
            " 'select *\\n'\n",
            " 'from read_csv_auto(\"/content/drive/MyDrive/EyF/competencia_01_crudo.csv\")')\n"
          ]
        }
      ],
      "source": [
        "pprint(query)"
      ]
    },
    {
      "cell_type": "code",
      "execution_count": null,
      "metadata": {
        "colab": {
          "base_uri": "https://localhost:8080/",
          "height": 67,
          "referenced_widgets": [
            "7e46e19506564a43a7b397cd9f821a95",
            "faf37a0531f94277955d0b57179044ca",
            "c627ce8375aa455e847daf7becda3504"
          ]
        },
        "id": "LtflKJH3DXE8",
        "outputId": "7b19f80d-8a83-4a6b-edbf-230087049cd3"
      },
      "outputs": [
        {
          "output_type": "display_data",
          "data": {
            "text/plain": [
              "FloatProgress(value=0.0, layout=Layout(width='auto'), style=ProgressStyle(bar_color='black'))"
            ],
            "application/vnd.jupyter.widget-view+json": {
              "version_major": 2,
              "version_minor": 0,
              "model_id": "7e46e19506564a43a7b397cd9f821a95"
            }
          },
          "metadata": {}
        },
        {
          "output_type": "execute_result",
          "data": {
            "text/plain": [
              "<duckdb.duckdb.DuckDBPyConnection at 0x7e1d8fcf5e30>"
            ]
          },
          "metadata": {},
          "execution_count": 12
        }
      ],
      "source": [
        "query = \"\"\"CREATE TABLE competencia_01_ternaria AS (\n",
        "WITH clientes AS (\n",
        "    SELECT *\n",
        "    FROM competencia_01\n",
        ")\n",
        "SELECT\n",
        "    c1.*,\n",
        "    CASE\n",
        "        WHEN c2.numero_de_cliente IS NULL THEN 'BAJA+1'\n",
        "        WHEN c2.numero_de_cliente IS NOT NULL AND c3.numero_de_cliente IS NULL THEN 'BAJA+2'\n",
        "        ELSE 'CONTINUA'\n",
        "    END AS clase_ternaria\n",
        "FROM clientes c1\n",
        "LEFT JOIN clientes c2\n",
        "    ON c1.numero_de_cliente = c2.numero_de_cliente\n",
        "    AND c2.foto_mes = c1.foto_mes + 1   -- cliente presente en el mes siguiente\n",
        "LEFT JOIN clientes c3\n",
        "    ON c1.numero_de_cliente = c3.numero_de_cliente\n",
        "    AND c3.foto_mes = c1.foto_mes + 2   -- cliente presente en el segundo mes siguiente\n",
        "--WHERE c1.foto_mes < 202106   -- últimos registros no se etiquetan\n",
        "ORDER BY c1.numero_de_cliente, c1.foto_mes)\"\"\"\n",
        "\n",
        "con.execute(query)"
      ]
    },
    {
      "cell_type": "code",
      "execution_count": null,
      "metadata": {
        "id": "Jgs-ygwSFLDs"
      },
      "outputs": [],
      "source": [
        "query = \"\"\"SELECT\n",
        "foto_mes,\n",
        "clase_ternaria,\n",
        "count(*)\n",
        "FROM competencia_01_ternaria\n",
        "GROUP BY foto_mes, clase_ternaria\n",
        "\"\"\"\n",
        "\n",
        "prueba = con.execute(query).fetchdf()"
      ]
    },
    {
      "cell_type": "code",
      "execution_count": null,
      "metadata": {
        "colab": {
          "base_uri": "https://localhost:8080/",
          "height": 551
        },
        "id": "u4URX_0ZFZXR",
        "outputId": "cd83b2af-3eef-43e4-8763-936d349df1e4"
      },
      "outputs": [
        {
          "output_type": "execute_result",
          "data": {
            "text/plain": [
              "                         count_star()\n",
              "foto_mes clase_ternaria              \n",
              "202101   BAJA+1                   622\n",
              "         BAJA+2                   825\n",
              "         CONTINUA              160080\n",
              "202102   BAJA+1                   831\n",
              "         BAJA+2                  1032\n",
              "         CONTINUA              160292\n",
              "202103   BAJA+1                  1039\n",
              "         BAJA+2                   951\n",
              "         CONTINUA              161119\n",
              "202104   BAJA+1                   955\n",
              "         BAJA+2                  1130\n",
              "         CONTINUA              161333\n",
              "202105   BAJA+1                  1134\n",
              "         BAJA+2                162783\n",
              "202106   BAJA+1                164313"
            ],
            "text/html": [
              "\n",
              "  <div id=\"df-02811899-8fde-44e2-a8af-b4896701ed13\" class=\"colab-df-container\">\n",
              "    <div>\n",
              "<style scoped>\n",
              "    .dataframe tbody tr th:only-of-type {\n",
              "        vertical-align: middle;\n",
              "    }\n",
              "\n",
              "    .dataframe tbody tr th {\n",
              "        vertical-align: top;\n",
              "    }\n",
              "\n",
              "    .dataframe thead th {\n",
              "        text-align: right;\n",
              "    }\n",
              "</style>\n",
              "<table border=\"1\" class=\"dataframe\">\n",
              "  <thead>\n",
              "    <tr style=\"text-align: right;\">\n",
              "      <th></th>\n",
              "      <th></th>\n",
              "      <th>count_star()</th>\n",
              "    </tr>\n",
              "    <tr>\n",
              "      <th>foto_mes</th>\n",
              "      <th>clase_ternaria</th>\n",
              "      <th></th>\n",
              "    </tr>\n",
              "  </thead>\n",
              "  <tbody>\n",
              "    <tr>\n",
              "      <th rowspan=\"3\" valign=\"top\">202101</th>\n",
              "      <th>BAJA+1</th>\n",
              "      <td>622</td>\n",
              "    </tr>\n",
              "    <tr>\n",
              "      <th>BAJA+2</th>\n",
              "      <td>825</td>\n",
              "    </tr>\n",
              "    <tr>\n",
              "      <th>CONTINUA</th>\n",
              "      <td>160080</td>\n",
              "    </tr>\n",
              "    <tr>\n",
              "      <th rowspan=\"3\" valign=\"top\">202102</th>\n",
              "      <th>BAJA+1</th>\n",
              "      <td>831</td>\n",
              "    </tr>\n",
              "    <tr>\n",
              "      <th>BAJA+2</th>\n",
              "      <td>1032</td>\n",
              "    </tr>\n",
              "    <tr>\n",
              "      <th>CONTINUA</th>\n",
              "      <td>160292</td>\n",
              "    </tr>\n",
              "    <tr>\n",
              "      <th rowspan=\"3\" valign=\"top\">202103</th>\n",
              "      <th>BAJA+1</th>\n",
              "      <td>1039</td>\n",
              "    </tr>\n",
              "    <tr>\n",
              "      <th>BAJA+2</th>\n",
              "      <td>951</td>\n",
              "    </tr>\n",
              "    <tr>\n",
              "      <th>CONTINUA</th>\n",
              "      <td>161119</td>\n",
              "    </tr>\n",
              "    <tr>\n",
              "      <th rowspan=\"3\" valign=\"top\">202104</th>\n",
              "      <th>BAJA+1</th>\n",
              "      <td>955</td>\n",
              "    </tr>\n",
              "    <tr>\n",
              "      <th>BAJA+2</th>\n",
              "      <td>1130</td>\n",
              "    </tr>\n",
              "    <tr>\n",
              "      <th>CONTINUA</th>\n",
              "      <td>161333</td>\n",
              "    </tr>\n",
              "    <tr>\n",
              "      <th rowspan=\"2\" valign=\"top\">202105</th>\n",
              "      <th>BAJA+1</th>\n",
              "      <td>1134</td>\n",
              "    </tr>\n",
              "    <tr>\n",
              "      <th>BAJA+2</th>\n",
              "      <td>162783</td>\n",
              "    </tr>\n",
              "    <tr>\n",
              "      <th>202106</th>\n",
              "      <th>BAJA+1</th>\n",
              "      <td>164313</td>\n",
              "    </tr>\n",
              "  </tbody>\n",
              "</table>\n",
              "</div>\n",
              "    <div class=\"colab-df-buttons\">\n",
              "\n",
              "  <div class=\"colab-df-container\">\n",
              "    <button class=\"colab-df-convert\" onclick=\"convertToInteractive('df-02811899-8fde-44e2-a8af-b4896701ed13')\"\n",
              "            title=\"Convert this dataframe to an interactive table.\"\n",
              "            style=\"display:none;\">\n",
              "\n",
              "  <svg xmlns=\"http://www.w3.org/2000/svg\" height=\"24px\" viewBox=\"0 -960 960 960\">\n",
              "    <path d=\"M120-120v-720h720v720H120Zm60-500h600v-160H180v160Zm220 220h160v-160H400v160Zm0 220h160v-160H400v160ZM180-400h160v-160H180v160Zm440 0h160v-160H620v160ZM180-180h160v-160H180v160Zm440 0h160v-160H620v160Z\"/>\n",
              "  </svg>\n",
              "    </button>\n",
              "\n",
              "  <style>\n",
              "    .colab-df-container {\n",
              "      display:flex;\n",
              "      gap: 12px;\n",
              "    }\n",
              "\n",
              "    .colab-df-convert {\n",
              "      background-color: #E8F0FE;\n",
              "      border: none;\n",
              "      border-radius: 50%;\n",
              "      cursor: pointer;\n",
              "      display: none;\n",
              "      fill: #1967D2;\n",
              "      height: 32px;\n",
              "      padding: 0 0 0 0;\n",
              "      width: 32px;\n",
              "    }\n",
              "\n",
              "    .colab-df-convert:hover {\n",
              "      background-color: #E2EBFA;\n",
              "      box-shadow: 0px 1px 2px rgba(60, 64, 67, 0.3), 0px 1px 3px 1px rgba(60, 64, 67, 0.15);\n",
              "      fill: #174EA6;\n",
              "    }\n",
              "\n",
              "    .colab-df-buttons div {\n",
              "      margin-bottom: 4px;\n",
              "    }\n",
              "\n",
              "    [theme=dark] .colab-df-convert {\n",
              "      background-color: #3B4455;\n",
              "      fill: #D2E3FC;\n",
              "    }\n",
              "\n",
              "    [theme=dark] .colab-df-convert:hover {\n",
              "      background-color: #434B5C;\n",
              "      box-shadow: 0px 1px 3px 1px rgba(0, 0, 0, 0.15);\n",
              "      filter: drop-shadow(0px 1px 2px rgba(0, 0, 0, 0.3));\n",
              "      fill: #FFFFFF;\n",
              "    }\n",
              "  </style>\n",
              "\n",
              "    <script>\n",
              "      const buttonEl =\n",
              "        document.querySelector('#df-02811899-8fde-44e2-a8af-b4896701ed13 button.colab-df-convert');\n",
              "      buttonEl.style.display =\n",
              "        google.colab.kernel.accessAllowed ? 'block' : 'none';\n",
              "\n",
              "      async function convertToInteractive(key) {\n",
              "        const element = document.querySelector('#df-02811899-8fde-44e2-a8af-b4896701ed13');\n",
              "        const dataTable =\n",
              "          await google.colab.kernel.invokeFunction('convertToInteractive',\n",
              "                                                    [key], {});\n",
              "        if (!dataTable) return;\n",
              "\n",
              "        const docLinkHtml = 'Like what you see? Visit the ' +\n",
              "          '<a target=\"_blank\" href=https://colab.research.google.com/notebooks/data_table.ipynb>data table notebook</a>'\n",
              "          + ' to learn more about interactive tables.';\n",
              "        element.innerHTML = '';\n",
              "        dataTable['output_type'] = 'display_data';\n",
              "        await google.colab.output.renderOutput(dataTable, element);\n",
              "        const docLink = document.createElement('div');\n",
              "        docLink.innerHTML = docLinkHtml;\n",
              "        element.appendChild(docLink);\n",
              "      }\n",
              "    </script>\n",
              "  </div>\n",
              "\n",
              "\n",
              "    <div id=\"df-94fd4338-7f76-4dbb-b6e3-7502c719ff91\">\n",
              "      <button class=\"colab-df-quickchart\" onclick=\"quickchart('df-94fd4338-7f76-4dbb-b6e3-7502c719ff91')\"\n",
              "                title=\"Suggest charts\"\n",
              "                style=\"display:none;\">\n",
              "\n",
              "<svg xmlns=\"http://www.w3.org/2000/svg\" height=\"24px\"viewBox=\"0 0 24 24\"\n",
              "     width=\"24px\">\n",
              "    <g>\n",
              "        <path d=\"M19 3H5c-1.1 0-2 .9-2 2v14c0 1.1.9 2 2 2h14c1.1 0 2-.9 2-2V5c0-1.1-.9-2-2-2zM9 17H7v-7h2v7zm4 0h-2V7h2v10zm4 0h-2v-4h2v4z\"/>\n",
              "    </g>\n",
              "</svg>\n",
              "      </button>\n",
              "\n",
              "<style>\n",
              "  .colab-df-quickchart {\n",
              "      --bg-color: #E8F0FE;\n",
              "      --fill-color: #1967D2;\n",
              "      --hover-bg-color: #E2EBFA;\n",
              "      --hover-fill-color: #174EA6;\n",
              "      --disabled-fill-color: #AAA;\n",
              "      --disabled-bg-color: #DDD;\n",
              "  }\n",
              "\n",
              "  [theme=dark] .colab-df-quickchart {\n",
              "      --bg-color: #3B4455;\n",
              "      --fill-color: #D2E3FC;\n",
              "      --hover-bg-color: #434B5C;\n",
              "      --hover-fill-color: #FFFFFF;\n",
              "      --disabled-bg-color: #3B4455;\n",
              "      --disabled-fill-color: #666;\n",
              "  }\n",
              "\n",
              "  .colab-df-quickchart {\n",
              "    background-color: var(--bg-color);\n",
              "    border: none;\n",
              "    border-radius: 50%;\n",
              "    cursor: pointer;\n",
              "    display: none;\n",
              "    fill: var(--fill-color);\n",
              "    height: 32px;\n",
              "    padding: 0;\n",
              "    width: 32px;\n",
              "  }\n",
              "\n",
              "  .colab-df-quickchart:hover {\n",
              "    background-color: var(--hover-bg-color);\n",
              "    box-shadow: 0 1px 2px rgba(60, 64, 67, 0.3), 0 1px 3px 1px rgba(60, 64, 67, 0.15);\n",
              "    fill: var(--button-hover-fill-color);\n",
              "  }\n",
              "\n",
              "  .colab-df-quickchart-complete:disabled,\n",
              "  .colab-df-quickchart-complete:disabled:hover {\n",
              "    background-color: var(--disabled-bg-color);\n",
              "    fill: var(--disabled-fill-color);\n",
              "    box-shadow: none;\n",
              "  }\n",
              "\n",
              "  .colab-df-spinner {\n",
              "    border: 2px solid var(--fill-color);\n",
              "    border-color: transparent;\n",
              "    border-bottom-color: var(--fill-color);\n",
              "    animation:\n",
              "      spin 1s steps(1) infinite;\n",
              "  }\n",
              "\n",
              "  @keyframes spin {\n",
              "    0% {\n",
              "      border-color: transparent;\n",
              "      border-bottom-color: var(--fill-color);\n",
              "      border-left-color: var(--fill-color);\n",
              "    }\n",
              "    20% {\n",
              "      border-color: transparent;\n",
              "      border-left-color: var(--fill-color);\n",
              "      border-top-color: var(--fill-color);\n",
              "    }\n",
              "    30% {\n",
              "      border-color: transparent;\n",
              "      border-left-color: var(--fill-color);\n",
              "      border-top-color: var(--fill-color);\n",
              "      border-right-color: var(--fill-color);\n",
              "    }\n",
              "    40% {\n",
              "      border-color: transparent;\n",
              "      border-right-color: var(--fill-color);\n",
              "      border-top-color: var(--fill-color);\n",
              "    }\n",
              "    60% {\n",
              "      border-color: transparent;\n",
              "      border-right-color: var(--fill-color);\n",
              "    }\n",
              "    80% {\n",
              "      border-color: transparent;\n",
              "      border-right-color: var(--fill-color);\n",
              "      border-bottom-color: var(--fill-color);\n",
              "    }\n",
              "    90% {\n",
              "      border-color: transparent;\n",
              "      border-bottom-color: var(--fill-color);\n",
              "    }\n",
              "  }\n",
              "</style>\n",
              "\n",
              "      <script>\n",
              "        async function quickchart(key) {\n",
              "          const quickchartButtonEl =\n",
              "            document.querySelector('#' + key + ' button');\n",
              "          quickchartButtonEl.disabled = true;  // To prevent multiple clicks.\n",
              "          quickchartButtonEl.classList.add('colab-df-spinner');\n",
              "          try {\n",
              "            const charts = await google.colab.kernel.invokeFunction(\n",
              "                'suggestCharts', [key], {});\n",
              "          } catch (error) {\n",
              "            console.error('Error during call to suggestCharts:', error);\n",
              "          }\n",
              "          quickchartButtonEl.classList.remove('colab-df-spinner');\n",
              "          quickchartButtonEl.classList.add('colab-df-quickchart-complete');\n",
              "        }\n",
              "        (() => {\n",
              "          let quickchartButtonEl =\n",
              "            document.querySelector('#df-94fd4338-7f76-4dbb-b6e3-7502c719ff91 button');\n",
              "          quickchartButtonEl.style.display =\n",
              "            google.colab.kernel.accessAllowed ? 'block' : 'none';\n",
              "        })();\n",
              "      </script>\n",
              "    </div>\n",
              "\n",
              "    </div>\n",
              "  </div>\n"
            ],
            "application/vnd.google.colaboratory.intrinsic+json": {
              "type": "dataframe",
              "summary": "{\n  \"name\": \"prueba\",\n  \"rows\": 15,\n  \"fields\": [\n    {\n      \"column\": \"count_star()\",\n      \"properties\": {\n        \"dtype\": \"number\",\n        \"std\": 81499,\n        \"min\": 622,\n        \"max\": 164313,\n        \"num_unique_values\": 15,\n        \"samples\": [\n          955,\n          161333,\n          622\n        ],\n        \"semantic_type\": \"\",\n        \"description\": \"\"\n      }\n    }\n  ]\n}"
            }
          },
          "metadata": {},
          "execution_count": 14
        }
      ],
      "source": [
        "prueba.sort_values(by = [\"foto_mes\",\"clase_ternaria\"]).set_index([\"foto_mes\",\"clase_ternaria\"])"
      ]
    },
    {
      "cell_type": "code",
      "source": [
        "query = \"\"\"SELECT *\n",
        "FROM competencia_01_ternaria\n",
        "LIMIT 2\n",
        "\"\"\"\n",
        "\n",
        "prueba_ = con.execute(query).fetchdf()"
      ],
      "metadata": {
        "id": "JGMm9fZP7bzs"
      },
      "execution_count": null,
      "outputs": []
    },
    {
      "cell_type": "code",
      "source": [
        "prueba_.columns.shape"
      ],
      "metadata": {
        "colab": {
          "base_uri": "https://localhost:8080/"
        },
        "id": "ktDm_NvO8nYs",
        "outputId": "6769820c-0028-487a-da95-e97356c49131"
      },
      "execution_count": null,
      "outputs": [
        {
          "output_type": "execute_result",
          "data": {
            "text/plain": [
              "(155,)"
            ]
          },
          "metadata": {},
          "execution_count": 16
        }
      ]
    },
    {
      "cell_type": "code",
      "source": [
        "vars_to_keep = list(prueba_.columns)"
      ],
      "metadata": {
        "id": "vC2TD_Jc9fFx"
      },
      "execution_count": null,
      "outputs": []
    },
    {
      "cell_type": "markdown",
      "metadata": {
        "id": "2HhR8togCzKg"
      },
      "source": [
        "# Creación de la tabla"
      ]
    },
    {
      "cell_type": "code",
      "execution_count": null,
      "metadata": {
        "id": "leD8InGv6S3u"
      },
      "outputs": [],
      "source": [
        "str_important_features = ',\\n'.join([feat for feat in vars_to_keep])"
      ]
    },
    {
      "cell_type": "code",
      "execution_count": null,
      "metadata": {
        "colab": {
          "base_uri": "https://localhost:8080/",
          "height": 67,
          "referenced_widgets": [
            "ee2c1229ab594393a0ae0e295da44377",
            "d0dd64d277aa4d8cb0847b77daa65166",
            "4ae3105e5d1d4c2ba9817fd5a71cf81f"
          ]
        },
        "id": "4QLnM7E26GlJ",
        "outputId": "f203fc93-6b88-417e-c800-8f2ff6f238b1"
      },
      "outputs": [
        {
          "output_type": "display_data",
          "data": {
            "text/plain": [
              "FloatProgress(value=0.0, layout=Layout(width='auto'), style=ProgressStyle(bar_color='black'))"
            ],
            "application/vnd.jupyter.widget-view+json": {
              "version_major": 2,
              "version_minor": 0,
              "model_id": "ee2c1229ab594393a0ae0e295da44377"
            }
          },
          "metadata": {}
        },
        {
          "output_type": "execute_result",
          "data": {
            "text/plain": [
              "<duckdb.duckdb.DuckDBPyConnection at 0x7e1d8fcf5e30>"
            ]
          },
          "metadata": {},
          "execution_count": 19
        }
      ],
      "source": [
        "# Crea la query\n",
        "\n",
        "query = f\"\"\"create or replace table competencia_01 as\n",
        "select *\n",
        "from competencia_01_ternaria\"\"\"\n",
        "\n",
        "con.execute(query)"
      ]
    },
    {
      "cell_type": "markdown",
      "metadata": {
        "id": "4NhRvEEe6CFY"
      },
      "source": [
        "# Lags"
      ]
    },
    {
      "cell_type": "code",
      "source": [
        "no_lags = [\n",
        "    'cliente_edad',\n",
        "    'cliente_antiguedad',\n",
        "    \"numero_de_cliente\",\n",
        "    \"foto_mes\",\n",
        "    \"cliente_vip\",\n",
        "    \"cprestamos_prendarios\",\n",
        "    \"cprestamos_hipotecarios\",\n",
        "    \"cseguro_vida\",\n",
        "    \"cseguro_auto\",\n",
        "    \"cseguro_vivienda\",\n",
        "    \"cseguro_accidentes_personales\",\n",
        "    \"Visa_fultimo_cierre\",\n",
        "    \"Master_Finiciomora\",\n",
        "    \"Visa_Finiciomora\",\n",
        "    \"Master_delinquency\",\n",
        "    \"Visa_delinquency\",\n",
        "    \"active_quarter\",\n",
        "    \"clase_ternaria\",\n",
        "    'Visa_fechaalta',\n",
        "    'Master_fechaalta'\n",
        "]"
      ],
      "metadata": {
        "id": "h1FTtHh15wjV"
      },
      "execution_count": null,
      "outputs": []
    },
    {
      "cell_type": "code",
      "source": [
        "lags = [v for v in lags if v not in no_lags]\n",
        "print(lags)"
      ],
      "metadata": {
        "colab": {
          "base_uri": "https://localhost:8080/"
        },
        "id": "LsKkyytD5yyM",
        "outputId": "e543c233-d90b-42ca-cdee-36616cf2c6ab"
      },
      "execution_count": null,
      "outputs": [
        {
          "output_type": "stream",
          "name": "stdout",
          "text": [
            "['ctrx_quarter', 'mcaja_ahorro', 'mpasivos_margen', 'mcuentas_saldo', 'cpayroll_trx', 'mprestamos_personales', 'mtarjeta_visa_consumo', 'mcuenta_corriente', 'cprestamos_personales', 'ctarjeta_visa_transacciones', 'mrentabilidad_annual', 'Visa_msaldopesos', 'mpayroll', 'Master_status', 'mactivos_margen', 'Visa_status', 'ctarjeta_visa', 'mcomisiones_mantenimiento', 'ctarjeta_master', 'tcallcenter', 'mcomisiones', 'Visa_msaldototal', 'chomebanking_transacciones', 'cproductos', 'internet', 'Master_Fvencimiento', 'ccallcenter_transacciones', 'ccajas_consultas', 'Master_mfinanciacion_limite', 'mautoservicio', 'mrentabilidad', 'Visa_mpagospesos', 'Visa_Fvencimiento', 'ccomisiones_otras', 'Visa_mfinanciacion_limite', 'cdescubierto_preacordado', 'mtransferencias_recibidas', 'Visa_mpagominimo', 'ccomisiones_mantenimiento', 'Visa_mconsumospesos', 'mcomisiones_otras', 'mcaja_ahorro_dolares', 'Master_mlimitecompra', 'cmobile_app_trx', 'Master_mpagominimo', 'ccajas_transacciones']\n"
          ]
        }
      ]
    },
    {
      "cell_type": "code",
      "execution_count": null,
      "metadata": {
        "id": "JZTXoSV46lbN",
        "colab": {
          "base_uri": "https://localhost:8080/"
        },
        "outputId": "5ca7f5f7-0aba-4ce8-e705-26fdd27f4ad5"
      },
      "outputs": [
        {
          "output_type": "execute_result",
          "data": {
            "text/plain": [
              "['lag_1_ctrx_quarter',\n",
              " 'lag_2_ctrx_quarter',\n",
              " 'lag_3_ctrx_quarter',\n",
              " 'lag_1_mcaja_ahorro',\n",
              " 'lag_2_mcaja_ahorro',\n",
              " 'lag_3_mcaja_ahorro',\n",
              " 'lag_1_mpasivos_margen',\n",
              " 'lag_2_mpasivos_margen',\n",
              " 'lag_3_mpasivos_margen',\n",
              " 'lag_1_mcuentas_saldo',\n",
              " 'lag_2_mcuentas_saldo',\n",
              " 'lag_3_mcuentas_saldo',\n",
              " 'lag_1_cpayroll_trx',\n",
              " 'lag_2_cpayroll_trx',\n",
              " 'lag_3_cpayroll_trx',\n",
              " 'lag_1_mprestamos_personales',\n",
              " 'lag_2_mprestamos_personales',\n",
              " 'lag_3_mprestamos_personales',\n",
              " 'lag_1_mtarjeta_visa_consumo',\n",
              " 'lag_2_mtarjeta_visa_consumo',\n",
              " 'lag_3_mtarjeta_visa_consumo',\n",
              " 'lag_1_mcuenta_corriente',\n",
              " 'lag_2_mcuenta_corriente',\n",
              " 'lag_3_mcuenta_corriente',\n",
              " 'lag_1_cprestamos_personales',\n",
              " 'lag_2_cprestamos_personales',\n",
              " 'lag_3_cprestamos_personales',\n",
              " 'lag_1_ctarjeta_visa_transacciones',\n",
              " 'lag_2_ctarjeta_visa_transacciones',\n",
              " 'lag_3_ctarjeta_visa_transacciones',\n",
              " 'lag_1_mrentabilidad_annual',\n",
              " 'lag_2_mrentabilidad_annual',\n",
              " 'lag_3_mrentabilidad_annual',\n",
              " 'lag_1_Visa_msaldopesos',\n",
              " 'lag_2_Visa_msaldopesos',\n",
              " 'lag_3_Visa_msaldopesos',\n",
              " 'lag_1_mpayroll',\n",
              " 'lag_2_mpayroll',\n",
              " 'lag_3_mpayroll',\n",
              " 'lag_1_Master_status',\n",
              " 'lag_2_Master_status',\n",
              " 'lag_3_Master_status',\n",
              " 'lag_1_mactivos_margen',\n",
              " 'lag_2_mactivos_margen',\n",
              " 'lag_3_mactivos_margen',\n",
              " 'lag_1_Visa_status',\n",
              " 'lag_2_Visa_status',\n",
              " 'lag_3_Visa_status',\n",
              " 'lag_1_ctarjeta_visa',\n",
              " 'lag_2_ctarjeta_visa',\n",
              " 'lag_3_ctarjeta_visa',\n",
              " 'lag_1_mcomisiones_mantenimiento',\n",
              " 'lag_2_mcomisiones_mantenimiento',\n",
              " 'lag_3_mcomisiones_mantenimiento',\n",
              " 'lag_1_ctarjeta_master',\n",
              " 'lag_2_ctarjeta_master',\n",
              " 'lag_3_ctarjeta_master',\n",
              " 'lag_1_tcallcenter',\n",
              " 'lag_2_tcallcenter',\n",
              " 'lag_3_tcallcenter',\n",
              " 'lag_1_mcomisiones',\n",
              " 'lag_2_mcomisiones',\n",
              " 'lag_3_mcomisiones',\n",
              " 'lag_1_Visa_msaldototal',\n",
              " 'lag_2_Visa_msaldototal',\n",
              " 'lag_3_Visa_msaldototal',\n",
              " 'lag_1_chomebanking_transacciones',\n",
              " 'lag_2_chomebanking_transacciones',\n",
              " 'lag_3_chomebanking_transacciones',\n",
              " 'lag_1_cproductos',\n",
              " 'lag_2_cproductos',\n",
              " 'lag_3_cproductos',\n",
              " 'lag_1_internet',\n",
              " 'lag_2_internet',\n",
              " 'lag_3_internet',\n",
              " 'lag_1_Master_Fvencimiento',\n",
              " 'lag_2_Master_Fvencimiento',\n",
              " 'lag_3_Master_Fvencimiento',\n",
              " 'lag_1_ccallcenter_transacciones',\n",
              " 'lag_2_ccallcenter_transacciones',\n",
              " 'lag_3_ccallcenter_transacciones',\n",
              " 'lag_1_ccajas_consultas',\n",
              " 'lag_2_ccajas_consultas',\n",
              " 'lag_3_ccajas_consultas',\n",
              " 'lag_1_Master_mfinanciacion_limite',\n",
              " 'lag_2_Master_mfinanciacion_limite',\n",
              " 'lag_3_Master_mfinanciacion_limite',\n",
              " 'lag_1_mautoservicio',\n",
              " 'lag_2_mautoservicio',\n",
              " 'lag_3_mautoservicio',\n",
              " 'lag_1_mrentabilidad',\n",
              " 'lag_2_mrentabilidad',\n",
              " 'lag_3_mrentabilidad',\n",
              " 'lag_1_Visa_mpagospesos',\n",
              " 'lag_2_Visa_mpagospesos',\n",
              " 'lag_3_Visa_mpagospesos',\n",
              " 'lag_1_Visa_Fvencimiento',\n",
              " 'lag_2_Visa_Fvencimiento',\n",
              " 'lag_3_Visa_Fvencimiento',\n",
              " 'lag_1_ccomisiones_otras',\n",
              " 'lag_2_ccomisiones_otras',\n",
              " 'lag_3_ccomisiones_otras',\n",
              " 'lag_1_Visa_mfinanciacion_limite',\n",
              " 'lag_2_Visa_mfinanciacion_limite',\n",
              " 'lag_3_Visa_mfinanciacion_limite',\n",
              " 'lag_1_cdescubierto_preacordado',\n",
              " 'lag_2_cdescubierto_preacordado',\n",
              " 'lag_3_cdescubierto_preacordado',\n",
              " 'lag_1_mtransferencias_recibidas',\n",
              " 'lag_2_mtransferencias_recibidas',\n",
              " 'lag_3_mtransferencias_recibidas',\n",
              " 'lag_1_Visa_mpagominimo',\n",
              " 'lag_2_Visa_mpagominimo',\n",
              " 'lag_3_Visa_mpagominimo',\n",
              " 'lag_1_ccomisiones_mantenimiento',\n",
              " 'lag_2_ccomisiones_mantenimiento',\n",
              " 'lag_3_ccomisiones_mantenimiento',\n",
              " 'lag_1_Visa_mconsumospesos',\n",
              " 'lag_2_Visa_mconsumospesos',\n",
              " 'lag_3_Visa_mconsumospesos',\n",
              " 'lag_1_mcomisiones_otras',\n",
              " 'lag_2_mcomisiones_otras',\n",
              " 'lag_3_mcomisiones_otras',\n",
              " 'lag_1_mcaja_ahorro_dolares',\n",
              " 'lag_2_mcaja_ahorro_dolares',\n",
              " 'lag_3_mcaja_ahorro_dolares',\n",
              " 'lag_1_Master_mlimitecompra',\n",
              " 'lag_2_Master_mlimitecompra',\n",
              " 'lag_3_Master_mlimitecompra',\n",
              " 'lag_1_cmobile_app_trx',\n",
              " 'lag_2_cmobile_app_trx',\n",
              " 'lag_3_cmobile_app_trx',\n",
              " 'lag_1_Master_mpagominimo',\n",
              " 'lag_2_Master_mpagominimo',\n",
              " 'lag_3_Master_mpagominimo',\n",
              " 'lag_1_ccajas_transacciones',\n",
              " 'lag_2_ccajas_transacciones',\n",
              " 'lag_3_ccajas_transacciones']"
            ]
          },
          "metadata": {},
          "execution_count": 22
        }
      ],
      "source": [
        "new_lags_variables = [f'lag_{i}_{lag_feature}' for lag_feature in lags for i in range(1,4)]\n",
        "str_lags = ',\\n'.join([f'lag({lag_feature}, {i}) over (partition by numero_de_cliente order by foto_mes) as lag_{i}_{lag_feature}' for lag_feature in lags for i in range(1,4)])\n",
        "\n",
        "new_lags_variables"
      ]
    },
    {
      "cell_type": "code",
      "source": [
        "str_lags"
      ],
      "metadata": {
        "colab": {
          "base_uri": "https://localhost:8080/"
        },
        "id": "_EvUxM_eEBaZ",
        "outputId": "0141cd65-9ab7-499e-91df-36eed78b63bc"
      },
      "execution_count": null,
      "outputs": [
        {
          "output_type": "execute_result",
          "data": {
            "text/plain": [
              "'lag(ctrx_quarter, 1) over (partition by numero_de_cliente order by foto_mes) as lag_1_ctrx_quarter,\\nlag(ctrx_quarter, 2) over (partition by numero_de_cliente order by foto_mes) as lag_2_ctrx_quarter,\\nlag(ctrx_quarter, 3) over (partition by numero_de_cliente order by foto_mes) as lag_3_ctrx_quarter,\\nlag(mcaja_ahorro, 1) over (partition by numero_de_cliente order by foto_mes) as lag_1_mcaja_ahorro,\\nlag(mcaja_ahorro, 2) over (partition by numero_de_cliente order by foto_mes) as lag_2_mcaja_ahorro,\\nlag(mcaja_ahorro, 3) over (partition by numero_de_cliente order by foto_mes) as lag_3_mcaja_ahorro,\\nlag(mpasivos_margen, 1) over (partition by numero_de_cliente order by foto_mes) as lag_1_mpasivos_margen,\\nlag(mpasivos_margen, 2) over (partition by numero_de_cliente order by foto_mes) as lag_2_mpasivos_margen,\\nlag(mpasivos_margen, 3) over (partition by numero_de_cliente order by foto_mes) as lag_3_mpasivos_margen,\\nlag(mcuentas_saldo, 1) over (partition by numero_de_cliente order by foto_mes) as lag_1_mcuentas_saldo,\\nlag(mcuentas_saldo, 2) over (partition by numero_de_cliente order by foto_mes) as lag_2_mcuentas_saldo,\\nlag(mcuentas_saldo, 3) over (partition by numero_de_cliente order by foto_mes) as lag_3_mcuentas_saldo,\\nlag(cpayroll_trx, 1) over (partition by numero_de_cliente order by foto_mes) as lag_1_cpayroll_trx,\\nlag(cpayroll_trx, 2) over (partition by numero_de_cliente order by foto_mes) as lag_2_cpayroll_trx,\\nlag(cpayroll_trx, 3) over (partition by numero_de_cliente order by foto_mes) as lag_3_cpayroll_trx,\\nlag(mprestamos_personales, 1) over (partition by numero_de_cliente order by foto_mes) as lag_1_mprestamos_personales,\\nlag(mprestamos_personales, 2) over (partition by numero_de_cliente order by foto_mes) as lag_2_mprestamos_personales,\\nlag(mprestamos_personales, 3) over (partition by numero_de_cliente order by foto_mes) as lag_3_mprestamos_personales,\\nlag(mtarjeta_visa_consumo, 1) over (partition by numero_de_cliente order by foto_mes) as lag_1_mtarjeta_visa_consumo,\\nlag(mtarjeta_visa_consumo, 2) over (partition by numero_de_cliente order by foto_mes) as lag_2_mtarjeta_visa_consumo,\\nlag(mtarjeta_visa_consumo, 3) over (partition by numero_de_cliente order by foto_mes) as lag_3_mtarjeta_visa_consumo,\\nlag(mcuenta_corriente, 1) over (partition by numero_de_cliente order by foto_mes) as lag_1_mcuenta_corriente,\\nlag(mcuenta_corriente, 2) over (partition by numero_de_cliente order by foto_mes) as lag_2_mcuenta_corriente,\\nlag(mcuenta_corriente, 3) over (partition by numero_de_cliente order by foto_mes) as lag_3_mcuenta_corriente,\\nlag(cprestamos_personales, 1) over (partition by numero_de_cliente order by foto_mes) as lag_1_cprestamos_personales,\\nlag(cprestamos_personales, 2) over (partition by numero_de_cliente order by foto_mes) as lag_2_cprestamos_personales,\\nlag(cprestamos_personales, 3) over (partition by numero_de_cliente order by foto_mes) as lag_3_cprestamos_personales,\\nlag(ctarjeta_visa_transacciones, 1) over (partition by numero_de_cliente order by foto_mes) as lag_1_ctarjeta_visa_transacciones,\\nlag(ctarjeta_visa_transacciones, 2) over (partition by numero_de_cliente order by foto_mes) as lag_2_ctarjeta_visa_transacciones,\\nlag(ctarjeta_visa_transacciones, 3) over (partition by numero_de_cliente order by foto_mes) as lag_3_ctarjeta_visa_transacciones,\\nlag(mrentabilidad_annual, 1) over (partition by numero_de_cliente order by foto_mes) as lag_1_mrentabilidad_annual,\\nlag(mrentabilidad_annual, 2) over (partition by numero_de_cliente order by foto_mes) as lag_2_mrentabilidad_annual,\\nlag(mrentabilidad_annual, 3) over (partition by numero_de_cliente order by foto_mes) as lag_3_mrentabilidad_annual,\\nlag(Visa_msaldopesos, 1) over (partition by numero_de_cliente order by foto_mes) as lag_1_Visa_msaldopesos,\\nlag(Visa_msaldopesos, 2) over (partition by numero_de_cliente order by foto_mes) as lag_2_Visa_msaldopesos,\\nlag(Visa_msaldopesos, 3) over (partition by numero_de_cliente order by foto_mes) as lag_3_Visa_msaldopesos,\\nlag(mpayroll, 1) over (partition by numero_de_cliente order by foto_mes) as lag_1_mpayroll,\\nlag(mpayroll, 2) over (partition by numero_de_cliente order by foto_mes) as lag_2_mpayroll,\\nlag(mpayroll, 3) over (partition by numero_de_cliente order by foto_mes) as lag_3_mpayroll,\\nlag(Master_status, 1) over (partition by numero_de_cliente order by foto_mes) as lag_1_Master_status,\\nlag(Master_status, 2) over (partition by numero_de_cliente order by foto_mes) as lag_2_Master_status,\\nlag(Master_status, 3) over (partition by numero_de_cliente order by foto_mes) as lag_3_Master_status,\\nlag(mactivos_margen, 1) over (partition by numero_de_cliente order by foto_mes) as lag_1_mactivos_margen,\\nlag(mactivos_margen, 2) over (partition by numero_de_cliente order by foto_mes) as lag_2_mactivos_margen,\\nlag(mactivos_margen, 3) over (partition by numero_de_cliente order by foto_mes) as lag_3_mactivos_margen,\\nlag(Visa_status, 1) over (partition by numero_de_cliente order by foto_mes) as lag_1_Visa_status,\\nlag(Visa_status, 2) over (partition by numero_de_cliente order by foto_mes) as lag_2_Visa_status,\\nlag(Visa_status, 3) over (partition by numero_de_cliente order by foto_mes) as lag_3_Visa_status,\\nlag(ctarjeta_visa, 1) over (partition by numero_de_cliente order by foto_mes) as lag_1_ctarjeta_visa,\\nlag(ctarjeta_visa, 2) over (partition by numero_de_cliente order by foto_mes) as lag_2_ctarjeta_visa,\\nlag(ctarjeta_visa, 3) over (partition by numero_de_cliente order by foto_mes) as lag_3_ctarjeta_visa,\\nlag(mcomisiones_mantenimiento, 1) over (partition by numero_de_cliente order by foto_mes) as lag_1_mcomisiones_mantenimiento,\\nlag(mcomisiones_mantenimiento, 2) over (partition by numero_de_cliente order by foto_mes) as lag_2_mcomisiones_mantenimiento,\\nlag(mcomisiones_mantenimiento, 3) over (partition by numero_de_cliente order by foto_mes) as lag_3_mcomisiones_mantenimiento,\\nlag(ctarjeta_master, 1) over (partition by numero_de_cliente order by foto_mes) as lag_1_ctarjeta_master,\\nlag(ctarjeta_master, 2) over (partition by numero_de_cliente order by foto_mes) as lag_2_ctarjeta_master,\\nlag(ctarjeta_master, 3) over (partition by numero_de_cliente order by foto_mes) as lag_3_ctarjeta_master,\\nlag(tcallcenter, 1) over (partition by numero_de_cliente order by foto_mes) as lag_1_tcallcenter,\\nlag(tcallcenter, 2) over (partition by numero_de_cliente order by foto_mes) as lag_2_tcallcenter,\\nlag(tcallcenter, 3) over (partition by numero_de_cliente order by foto_mes) as lag_3_tcallcenter,\\nlag(mcomisiones, 1) over (partition by numero_de_cliente order by foto_mes) as lag_1_mcomisiones,\\nlag(mcomisiones, 2) over (partition by numero_de_cliente order by foto_mes) as lag_2_mcomisiones,\\nlag(mcomisiones, 3) over (partition by numero_de_cliente order by foto_mes) as lag_3_mcomisiones,\\nlag(Visa_msaldototal, 1) over (partition by numero_de_cliente order by foto_mes) as lag_1_Visa_msaldototal,\\nlag(Visa_msaldototal, 2) over (partition by numero_de_cliente order by foto_mes) as lag_2_Visa_msaldototal,\\nlag(Visa_msaldototal, 3) over (partition by numero_de_cliente order by foto_mes) as lag_3_Visa_msaldototal,\\nlag(chomebanking_transacciones, 1) over (partition by numero_de_cliente order by foto_mes) as lag_1_chomebanking_transacciones,\\nlag(chomebanking_transacciones, 2) over (partition by numero_de_cliente order by foto_mes) as lag_2_chomebanking_transacciones,\\nlag(chomebanking_transacciones, 3) over (partition by numero_de_cliente order by foto_mes) as lag_3_chomebanking_transacciones,\\nlag(cproductos, 1) over (partition by numero_de_cliente order by foto_mes) as lag_1_cproductos,\\nlag(cproductos, 2) over (partition by numero_de_cliente order by foto_mes) as lag_2_cproductos,\\nlag(cproductos, 3) over (partition by numero_de_cliente order by foto_mes) as lag_3_cproductos,\\nlag(internet, 1) over (partition by numero_de_cliente order by foto_mes) as lag_1_internet,\\nlag(internet, 2) over (partition by numero_de_cliente order by foto_mes) as lag_2_internet,\\nlag(internet, 3) over (partition by numero_de_cliente order by foto_mes) as lag_3_internet,\\nlag(Master_Fvencimiento, 1) over (partition by numero_de_cliente order by foto_mes) as lag_1_Master_Fvencimiento,\\nlag(Master_Fvencimiento, 2) over (partition by numero_de_cliente order by foto_mes) as lag_2_Master_Fvencimiento,\\nlag(Master_Fvencimiento, 3) over (partition by numero_de_cliente order by foto_mes) as lag_3_Master_Fvencimiento,\\nlag(ccallcenter_transacciones, 1) over (partition by numero_de_cliente order by foto_mes) as lag_1_ccallcenter_transacciones,\\nlag(ccallcenter_transacciones, 2) over (partition by numero_de_cliente order by foto_mes) as lag_2_ccallcenter_transacciones,\\nlag(ccallcenter_transacciones, 3) over (partition by numero_de_cliente order by foto_mes) as lag_3_ccallcenter_transacciones,\\nlag(ccajas_consultas, 1) over (partition by numero_de_cliente order by foto_mes) as lag_1_ccajas_consultas,\\nlag(ccajas_consultas, 2) over (partition by numero_de_cliente order by foto_mes) as lag_2_ccajas_consultas,\\nlag(ccajas_consultas, 3) over (partition by numero_de_cliente order by foto_mes) as lag_3_ccajas_consultas,\\nlag(Master_mfinanciacion_limite, 1) over (partition by numero_de_cliente order by foto_mes) as lag_1_Master_mfinanciacion_limite,\\nlag(Master_mfinanciacion_limite, 2) over (partition by numero_de_cliente order by foto_mes) as lag_2_Master_mfinanciacion_limite,\\nlag(Master_mfinanciacion_limite, 3) over (partition by numero_de_cliente order by foto_mes) as lag_3_Master_mfinanciacion_limite,\\nlag(mautoservicio, 1) over (partition by numero_de_cliente order by foto_mes) as lag_1_mautoservicio,\\nlag(mautoservicio, 2) over (partition by numero_de_cliente order by foto_mes) as lag_2_mautoservicio,\\nlag(mautoservicio, 3) over (partition by numero_de_cliente order by foto_mes) as lag_3_mautoservicio,\\nlag(mrentabilidad, 1) over (partition by numero_de_cliente order by foto_mes) as lag_1_mrentabilidad,\\nlag(mrentabilidad, 2) over (partition by numero_de_cliente order by foto_mes) as lag_2_mrentabilidad,\\nlag(mrentabilidad, 3) over (partition by numero_de_cliente order by foto_mes) as lag_3_mrentabilidad,\\nlag(Visa_mpagospesos, 1) over (partition by numero_de_cliente order by foto_mes) as lag_1_Visa_mpagospesos,\\nlag(Visa_mpagospesos, 2) over (partition by numero_de_cliente order by foto_mes) as lag_2_Visa_mpagospesos,\\nlag(Visa_mpagospesos, 3) over (partition by numero_de_cliente order by foto_mes) as lag_3_Visa_mpagospesos,\\nlag(Visa_Fvencimiento, 1) over (partition by numero_de_cliente order by foto_mes) as lag_1_Visa_Fvencimiento,\\nlag(Visa_Fvencimiento, 2) over (partition by numero_de_cliente order by foto_mes) as lag_2_Visa_Fvencimiento,\\nlag(Visa_Fvencimiento, 3) over (partition by numero_de_cliente order by foto_mes) as lag_3_Visa_Fvencimiento,\\nlag(ccomisiones_otras, 1) over (partition by numero_de_cliente order by foto_mes) as lag_1_ccomisiones_otras,\\nlag(ccomisiones_otras, 2) over (partition by numero_de_cliente order by foto_mes) as lag_2_ccomisiones_otras,\\nlag(ccomisiones_otras, 3) over (partition by numero_de_cliente order by foto_mes) as lag_3_ccomisiones_otras,\\nlag(Visa_mfinanciacion_limite, 1) over (partition by numero_de_cliente order by foto_mes) as lag_1_Visa_mfinanciacion_limite,\\nlag(Visa_mfinanciacion_limite, 2) over (partition by numero_de_cliente order by foto_mes) as lag_2_Visa_mfinanciacion_limite,\\nlag(Visa_mfinanciacion_limite, 3) over (partition by numero_de_cliente order by foto_mes) as lag_3_Visa_mfinanciacion_limite,\\nlag(cdescubierto_preacordado, 1) over (partition by numero_de_cliente order by foto_mes) as lag_1_cdescubierto_preacordado,\\nlag(cdescubierto_preacordado, 2) over (partition by numero_de_cliente order by foto_mes) as lag_2_cdescubierto_preacordado,\\nlag(cdescubierto_preacordado, 3) over (partition by numero_de_cliente order by foto_mes) as lag_3_cdescubierto_preacordado,\\nlag(mtransferencias_recibidas, 1) over (partition by numero_de_cliente order by foto_mes) as lag_1_mtransferencias_recibidas,\\nlag(mtransferencias_recibidas, 2) over (partition by numero_de_cliente order by foto_mes) as lag_2_mtransferencias_recibidas,\\nlag(mtransferencias_recibidas, 3) over (partition by numero_de_cliente order by foto_mes) as lag_3_mtransferencias_recibidas,\\nlag(Visa_mpagominimo, 1) over (partition by numero_de_cliente order by foto_mes) as lag_1_Visa_mpagominimo,\\nlag(Visa_mpagominimo, 2) over (partition by numero_de_cliente order by foto_mes) as lag_2_Visa_mpagominimo,\\nlag(Visa_mpagominimo, 3) over (partition by numero_de_cliente order by foto_mes) as lag_3_Visa_mpagominimo,\\nlag(ccomisiones_mantenimiento, 1) over (partition by numero_de_cliente order by foto_mes) as lag_1_ccomisiones_mantenimiento,\\nlag(ccomisiones_mantenimiento, 2) over (partition by numero_de_cliente order by foto_mes) as lag_2_ccomisiones_mantenimiento,\\nlag(ccomisiones_mantenimiento, 3) over (partition by numero_de_cliente order by foto_mes) as lag_3_ccomisiones_mantenimiento,\\nlag(Visa_mconsumospesos, 1) over (partition by numero_de_cliente order by foto_mes) as lag_1_Visa_mconsumospesos,\\nlag(Visa_mconsumospesos, 2) over (partition by numero_de_cliente order by foto_mes) as lag_2_Visa_mconsumospesos,\\nlag(Visa_mconsumospesos, 3) over (partition by numero_de_cliente order by foto_mes) as lag_3_Visa_mconsumospesos,\\nlag(mcomisiones_otras, 1) over (partition by numero_de_cliente order by foto_mes) as lag_1_mcomisiones_otras,\\nlag(mcomisiones_otras, 2) over (partition by numero_de_cliente order by foto_mes) as lag_2_mcomisiones_otras,\\nlag(mcomisiones_otras, 3) over (partition by numero_de_cliente order by foto_mes) as lag_3_mcomisiones_otras,\\nlag(mcaja_ahorro_dolares, 1) over (partition by numero_de_cliente order by foto_mes) as lag_1_mcaja_ahorro_dolares,\\nlag(mcaja_ahorro_dolares, 2) over (partition by numero_de_cliente order by foto_mes) as lag_2_mcaja_ahorro_dolares,\\nlag(mcaja_ahorro_dolares, 3) over (partition by numero_de_cliente order by foto_mes) as lag_3_mcaja_ahorro_dolares,\\nlag(Master_mlimitecompra, 1) over (partition by numero_de_cliente order by foto_mes) as lag_1_Master_mlimitecompra,\\nlag(Master_mlimitecompra, 2) over (partition by numero_de_cliente order by foto_mes) as lag_2_Master_mlimitecompra,\\nlag(Master_mlimitecompra, 3) over (partition by numero_de_cliente order by foto_mes) as lag_3_Master_mlimitecompra,\\nlag(cmobile_app_trx, 1) over (partition by numero_de_cliente order by foto_mes) as lag_1_cmobile_app_trx,\\nlag(cmobile_app_trx, 2) over (partition by numero_de_cliente order by foto_mes) as lag_2_cmobile_app_trx,\\nlag(cmobile_app_trx, 3) over (partition by numero_de_cliente order by foto_mes) as lag_3_cmobile_app_trx,\\nlag(Master_mpagominimo, 1) over (partition by numero_de_cliente order by foto_mes) as lag_1_Master_mpagominimo,\\nlag(Master_mpagominimo, 2) over (partition by numero_de_cliente order by foto_mes) as lag_2_Master_mpagominimo,\\nlag(Master_mpagominimo, 3) over (partition by numero_de_cliente order by foto_mes) as lag_3_Master_mpagominimo,\\nlag(ccajas_transacciones, 1) over (partition by numero_de_cliente order by foto_mes) as lag_1_ccajas_transacciones,\\nlag(ccajas_transacciones, 2) over (partition by numero_de_cliente order by foto_mes) as lag_2_ccajas_transacciones,\\nlag(ccajas_transacciones, 3) over (partition by numero_de_cliente order by foto_mes) as lag_3_ccajas_transacciones'"
            ],
            "application/vnd.google.colaboratory.intrinsic+json": {
              "type": "string"
            }
          },
          "metadata": {},
          "execution_count": 23
        }
      ]
    },
    {
      "cell_type": "code",
      "execution_count": null,
      "metadata": {
        "id": "GMWOkLKA-HbA"
      },
      "outputs": [],
      "source": [
        "query = f\"\"\"create or replace table competencia_01 as\n",
        "select *,\n",
        "    {str_lags}\n",
        "from competencia_01\"\"\""
      ]
    },
    {
      "cell_type": "code",
      "execution_count": null,
      "metadata": {
        "colab": {
          "base_uri": "https://localhost:8080/",
          "referenced_widgets": [
            "1b2c59293d784a0aba5bae460c169737",
            "8642e4277df5492dacfdbaeb6f089ca7",
            "5c2f43badcad4c55b68243d82744e049"
          ]
        },
        "id": "Ot8mOWIyPqpB",
        "outputId": "bc1b7101-3156-4697-c8de-7123337fb10d"
      },
      "outputs": [
        {
          "output_type": "display_data",
          "data": {
            "text/plain": [
              "FloatProgress(value=0.0, layout=Layout(width='auto'), style=ProgressStyle(bar_color='black'))"
            ],
            "application/vnd.jupyter.widget-view+json": {
              "version_major": 2,
              "version_minor": 0,
              "model_id": "1b2c59293d784a0aba5bae460c169737"
            }
          },
          "metadata": {}
        },
        {
          "output_type": "execute_result",
          "data": {
            "text/plain": [
              "<duckdb.duckdb.DuckDBPyConnection at 0x7e1d8fcf5e30>"
            ]
          },
          "metadata": {},
          "execution_count": 25
        }
      ],
      "source": [
        "con.execute(query)"
      ]
    },
    {
      "cell_type": "markdown",
      "source": [
        "# delta_1"
      ],
      "metadata": {
        "id": "Jn2EI27OXxBw"
      }
    },
    {
      "cell_type": "code",
      "source": [
        "delta_vars = [f\"delta_1m_{lag_feature}\" for lag_feature in lags]\n",
        "delta_vars"
      ],
      "metadata": {
        "colab": {
          "base_uri": "https://localhost:8080/"
        },
        "id": "7PFxa7kSZTi2",
        "outputId": "12c544a1-a488-47f3-8a75-84a3ca10f272"
      },
      "execution_count": null,
      "outputs": [
        {
          "output_type": "execute_result",
          "data": {
            "text/plain": [
              "['delta_1m_ctrx_quarter',\n",
              " 'delta_1m_mcaja_ahorro',\n",
              " 'delta_1m_mpasivos_margen',\n",
              " 'delta_1m_mcuentas_saldo',\n",
              " 'delta_1m_cpayroll_trx',\n",
              " 'delta_1m_mprestamos_personales',\n",
              " 'delta_1m_mtarjeta_visa_consumo',\n",
              " 'delta_1m_mcuenta_corriente',\n",
              " 'delta_1m_cprestamos_personales',\n",
              " 'delta_1m_ctarjeta_visa_transacciones',\n",
              " 'delta_1m_mrentabilidad_annual',\n",
              " 'delta_1m_Visa_msaldopesos',\n",
              " 'delta_1m_mpayroll',\n",
              " 'delta_1m_Master_status',\n",
              " 'delta_1m_mactivos_margen',\n",
              " 'delta_1m_Visa_status',\n",
              " 'delta_1m_ctarjeta_visa',\n",
              " 'delta_1m_mcomisiones_mantenimiento',\n",
              " 'delta_1m_ctarjeta_master',\n",
              " 'delta_1m_tcallcenter',\n",
              " 'delta_1m_mcomisiones',\n",
              " 'delta_1m_Visa_msaldototal',\n",
              " 'delta_1m_chomebanking_transacciones',\n",
              " 'delta_1m_cproductos',\n",
              " 'delta_1m_internet',\n",
              " 'delta_1m_Master_Fvencimiento',\n",
              " 'delta_1m_ccallcenter_transacciones',\n",
              " 'delta_1m_ccajas_consultas',\n",
              " 'delta_1m_Master_mfinanciacion_limite',\n",
              " 'delta_1m_mautoservicio',\n",
              " 'delta_1m_mrentabilidad',\n",
              " 'delta_1m_Visa_mpagospesos',\n",
              " 'delta_1m_Visa_Fvencimiento',\n",
              " 'delta_1m_ccomisiones_otras',\n",
              " 'delta_1m_Visa_mfinanciacion_limite',\n",
              " 'delta_1m_cdescubierto_preacordado',\n",
              " 'delta_1m_mtransferencias_recibidas',\n",
              " 'delta_1m_Visa_mpagominimo',\n",
              " 'delta_1m_ccomisiones_mantenimiento',\n",
              " 'delta_1m_Visa_mconsumospesos',\n",
              " 'delta_1m_mcomisiones_otras',\n",
              " 'delta_1m_mcaja_ahorro_dolares',\n",
              " 'delta_1m_Master_mlimitecompra',\n",
              " 'delta_1m_cmobile_app_trx',\n",
              " 'delta_1m_Master_mpagominimo',\n",
              " 'delta_1m_ccajas_transacciones']"
            ]
          },
          "metadata": {},
          "execution_count": 26
        }
      ]
    },
    {
      "cell_type": "code",
      "source": [
        "str_delta = ',\\n'.join([\n",
        "    f\"{lag_feature} - lag_1_{lag_feature} as delta_1m_{lag_feature}\"\n",
        "    for lag_feature in lags\n",
        "])\n",
        "str_delta"
      ],
      "metadata": {
        "colab": {
          "base_uri": "https://localhost:8080/",
          "height": 181
        },
        "id": "u0isjx9pD95s",
        "outputId": "f12c3ce8-f53c-410f-8bb4-46573996f8a2"
      },
      "execution_count": null,
      "outputs": [
        {
          "output_type": "execute_result",
          "data": {
            "text/plain": [
              "'ctrx_quarter - lag_1_ctrx_quarter as delta_1m_ctrx_quarter,\\nmcaja_ahorro - lag_1_mcaja_ahorro as delta_1m_mcaja_ahorro,\\nmpasivos_margen - lag_1_mpasivos_margen as delta_1m_mpasivos_margen,\\nmcuentas_saldo - lag_1_mcuentas_saldo as delta_1m_mcuentas_saldo,\\ncpayroll_trx - lag_1_cpayroll_trx as delta_1m_cpayroll_trx,\\nmprestamos_personales - lag_1_mprestamos_personales as delta_1m_mprestamos_personales,\\nmtarjeta_visa_consumo - lag_1_mtarjeta_visa_consumo as delta_1m_mtarjeta_visa_consumo,\\nmcuenta_corriente - lag_1_mcuenta_corriente as delta_1m_mcuenta_corriente,\\ncprestamos_personales - lag_1_cprestamos_personales as delta_1m_cprestamos_personales,\\nctarjeta_visa_transacciones - lag_1_ctarjeta_visa_transacciones as delta_1m_ctarjeta_visa_transacciones,\\nmrentabilidad_annual - lag_1_mrentabilidad_annual as delta_1m_mrentabilidad_annual,\\nVisa_msaldopesos - lag_1_Visa_msaldopesos as delta_1m_Visa_msaldopesos,\\nmpayroll - lag_1_mpayroll as delta_1m_mpayroll,\\nMaster_status - lag_1_Master_status as delta_1m_Master_status,\\nmactivos_margen - lag_1_mactivos_margen as delta_1m_mactivos_margen,\\nVisa_status - lag_1_Visa_status as delta_1m_Visa_status,\\nctarjeta_visa - lag_1_ctarjeta_visa as delta_1m_ctarjeta_visa,\\nmcomisiones_mantenimiento - lag_1_mcomisiones_mantenimiento as delta_1m_mcomisiones_mantenimiento,\\nctarjeta_master - lag_1_ctarjeta_master as delta_1m_ctarjeta_master,\\ntcallcenter - lag_1_tcallcenter as delta_1m_tcallcenter,\\nmcomisiones - lag_1_mcomisiones as delta_1m_mcomisiones,\\nVisa_msaldototal - lag_1_Visa_msaldototal as delta_1m_Visa_msaldototal,\\nchomebanking_transacciones - lag_1_chomebanking_transacciones as delta_1m_chomebanking_transacciones,\\ncproductos - lag_1_cproductos as delta_1m_cproductos,\\ninternet - lag_1_internet as delta_1m_internet,\\nMaster_Fvencimiento - lag_1_Master_Fvencimiento as delta_1m_Master_Fvencimiento,\\nccallcenter_transacciones - lag_1_ccallcenter_transacciones as delta_1m_ccallcenter_transacciones,\\nccajas_consultas - lag_1_ccajas_consultas as delta_1m_ccajas_consultas,\\nMaster_mfinanciacion_limite - lag_1_Master_mfinanciacion_limite as delta_1m_Master_mfinanciacion_limite,\\nmautoservicio - lag_1_mautoservicio as delta_1m_mautoservicio,\\nmrentabilidad - lag_1_mrentabilidad as delta_1m_mrentabilidad,\\nVisa_mpagospesos - lag_1_Visa_mpagospesos as delta_1m_Visa_mpagospesos,\\nVisa_Fvencimiento - lag_1_Visa_Fvencimiento as delta_1m_Visa_Fvencimiento,\\nccomisiones_otras - lag_1_ccomisiones_otras as delta_1m_ccomisiones_otras,\\nVisa_mfinanciacion_limite - lag_1_Visa_mfinanciacion_limite as delta_1m_Visa_mfinanciacion_limite,\\ncdescubierto_preacordado - lag_1_cdescubierto_preacordado as delta_1m_cdescubierto_preacordado,\\nmtransferencias_recibidas - lag_1_mtransferencias_recibidas as delta_1m_mtransferencias_recibidas,\\nVisa_mpagominimo - lag_1_Visa_mpagominimo as delta_1m_Visa_mpagominimo,\\nccomisiones_mantenimiento - lag_1_ccomisiones_mantenimiento as delta_1m_ccomisiones_mantenimiento,\\nVisa_mconsumospesos - lag_1_Visa_mconsumospesos as delta_1m_Visa_mconsumospesos,\\nmcomisiones_otras - lag_1_mcomisiones_otras as delta_1m_mcomisiones_otras,\\nmcaja_ahorro_dolares - lag_1_mcaja_ahorro_dolares as delta_1m_mcaja_ahorro_dolares,\\nMaster_mlimitecompra - lag_1_Master_mlimitecompra as delta_1m_Master_mlimitecompra,\\ncmobile_app_trx - lag_1_cmobile_app_trx as delta_1m_cmobile_app_trx,\\nMaster_mpagominimo - lag_1_Master_mpagominimo as delta_1m_Master_mpagominimo,\\nccajas_transacciones - lag_1_ccajas_transacciones as delta_1m_ccajas_transacciones'"
            ],
            "application/vnd.google.colaboratory.intrinsic+json": {
              "type": "string"
            }
          },
          "metadata": {},
          "execution_count": 27
        }
      ]
    },
    {
      "cell_type": "code",
      "source": [
        "query = f\"\"\"create or replace table competencia_01 as\n",
        "select *,\n",
        "    {str_delta}\n",
        "from competencia_01\"\"\""
      ],
      "metadata": {
        "id": "VgsjPqjdZcwt"
      },
      "execution_count": null,
      "outputs": []
    },
    {
      "cell_type": "code",
      "source": [
        "print(query)"
      ],
      "metadata": {
        "colab": {
          "base_uri": "https://localhost:8080/"
        },
        "id": "b9gvBmsBfxP1",
        "outputId": "8372ed9f-2132-47d5-f8c2-2cb094bb6f1b"
      },
      "execution_count": null,
      "outputs": [
        {
          "output_type": "stream",
          "name": "stdout",
          "text": [
            "create or replace table competencia_01 as\n",
            "select *,\n",
            "    ctrx_quarter - lag_1_ctrx_quarter as delta_1m_ctrx_quarter,\n",
            "mcaja_ahorro - lag_1_mcaja_ahorro as delta_1m_mcaja_ahorro,\n",
            "mpasivos_margen - lag_1_mpasivos_margen as delta_1m_mpasivos_margen,\n",
            "mcuentas_saldo - lag_1_mcuentas_saldo as delta_1m_mcuentas_saldo,\n",
            "cpayroll_trx - lag_1_cpayroll_trx as delta_1m_cpayroll_trx,\n",
            "mprestamos_personales - lag_1_mprestamos_personales as delta_1m_mprestamos_personales,\n",
            "mtarjeta_visa_consumo - lag_1_mtarjeta_visa_consumo as delta_1m_mtarjeta_visa_consumo,\n",
            "mcuenta_corriente - lag_1_mcuenta_corriente as delta_1m_mcuenta_corriente,\n",
            "cprestamos_personales - lag_1_cprestamos_personales as delta_1m_cprestamos_personales,\n",
            "ctarjeta_visa_transacciones - lag_1_ctarjeta_visa_transacciones as delta_1m_ctarjeta_visa_transacciones,\n",
            "mrentabilidad_annual - lag_1_mrentabilidad_annual as delta_1m_mrentabilidad_annual,\n",
            "Visa_msaldopesos - lag_1_Visa_msaldopesos as delta_1m_Visa_msaldopesos,\n",
            "mpayroll - lag_1_mpayroll as delta_1m_mpayroll,\n",
            "Master_status - lag_1_Master_status as delta_1m_Master_status,\n",
            "mactivos_margen - lag_1_mactivos_margen as delta_1m_mactivos_margen,\n",
            "Visa_status - lag_1_Visa_status as delta_1m_Visa_status,\n",
            "ctarjeta_visa - lag_1_ctarjeta_visa as delta_1m_ctarjeta_visa,\n",
            "mcomisiones_mantenimiento - lag_1_mcomisiones_mantenimiento as delta_1m_mcomisiones_mantenimiento,\n",
            "ctarjeta_master - lag_1_ctarjeta_master as delta_1m_ctarjeta_master,\n",
            "tcallcenter - lag_1_tcallcenter as delta_1m_tcallcenter,\n",
            "mcomisiones - lag_1_mcomisiones as delta_1m_mcomisiones,\n",
            "Visa_msaldototal - lag_1_Visa_msaldototal as delta_1m_Visa_msaldototal,\n",
            "chomebanking_transacciones - lag_1_chomebanking_transacciones as delta_1m_chomebanking_transacciones,\n",
            "cproductos - lag_1_cproductos as delta_1m_cproductos,\n",
            "internet - lag_1_internet as delta_1m_internet,\n",
            "Master_Fvencimiento - lag_1_Master_Fvencimiento as delta_1m_Master_Fvencimiento,\n",
            "ccallcenter_transacciones - lag_1_ccallcenter_transacciones as delta_1m_ccallcenter_transacciones,\n",
            "ccajas_consultas - lag_1_ccajas_consultas as delta_1m_ccajas_consultas,\n",
            "Master_mfinanciacion_limite - lag_1_Master_mfinanciacion_limite as delta_1m_Master_mfinanciacion_limite,\n",
            "mautoservicio - lag_1_mautoservicio as delta_1m_mautoservicio,\n",
            "mrentabilidad - lag_1_mrentabilidad as delta_1m_mrentabilidad,\n",
            "Visa_mpagospesos - lag_1_Visa_mpagospesos as delta_1m_Visa_mpagospesos,\n",
            "Visa_Fvencimiento - lag_1_Visa_Fvencimiento as delta_1m_Visa_Fvencimiento,\n",
            "ccomisiones_otras - lag_1_ccomisiones_otras as delta_1m_ccomisiones_otras,\n",
            "Visa_mfinanciacion_limite - lag_1_Visa_mfinanciacion_limite as delta_1m_Visa_mfinanciacion_limite,\n",
            "cdescubierto_preacordado - lag_1_cdescubierto_preacordado as delta_1m_cdescubierto_preacordado,\n",
            "mtransferencias_recibidas - lag_1_mtransferencias_recibidas as delta_1m_mtransferencias_recibidas,\n",
            "Visa_mpagominimo - lag_1_Visa_mpagominimo as delta_1m_Visa_mpagominimo,\n",
            "ccomisiones_mantenimiento - lag_1_ccomisiones_mantenimiento as delta_1m_ccomisiones_mantenimiento,\n",
            "Visa_mconsumospesos - lag_1_Visa_mconsumospesos as delta_1m_Visa_mconsumospesos,\n",
            "mcomisiones_otras - lag_1_mcomisiones_otras as delta_1m_mcomisiones_otras,\n",
            "mcaja_ahorro_dolares - lag_1_mcaja_ahorro_dolares as delta_1m_mcaja_ahorro_dolares,\n",
            "Master_mlimitecompra - lag_1_Master_mlimitecompra as delta_1m_Master_mlimitecompra,\n",
            "cmobile_app_trx - lag_1_cmobile_app_trx as delta_1m_cmobile_app_trx,\n",
            "Master_mpagominimo - lag_1_Master_mpagominimo as delta_1m_Master_mpagominimo,\n",
            "ccajas_transacciones - lag_1_ccajas_transacciones as delta_1m_ccajas_transacciones\n",
            "from competencia_01\n"
          ]
        }
      ]
    },
    {
      "cell_type": "code",
      "source": [
        "con.execute(query)"
      ],
      "metadata": {
        "colab": {
          "base_uri": "https://localhost:8080/",
          "height": 67,
          "referenced_widgets": [
            "c4b2244d426041c99abac6cfe8bad0bc",
            "78ce665489d349a4bf64849f0d8884b9",
            "78c2595b7a0f4e64b48f3837947cfe53"
          ]
        },
        "id": "xuySYuEMZeWs",
        "outputId": "7ab4e82b-620d-4135-eadd-f46897e9d232"
      },
      "execution_count": null,
      "outputs": [
        {
          "output_type": "display_data",
          "data": {
            "text/plain": [
              "FloatProgress(value=0.0, layout=Layout(width='auto'), style=ProgressStyle(bar_color='black'))"
            ],
            "application/vnd.jupyter.widget-view+json": {
              "version_major": 2,
              "version_minor": 0,
              "model_id": "c4b2244d426041c99abac6cfe8bad0bc"
            }
          },
          "metadata": {}
        },
        {
          "output_type": "execute_result",
          "data": {
            "text/plain": [
              "<duckdb.duckdb.DuckDBPyConnection at 0x7e1d8fcf5e30>"
            ]
          },
          "metadata": {},
          "execution_count": 30
        }
      ]
    },
    {
      "cell_type": "code",
      "source": [
        "query = \"\"\"select * from competencia_01 limit 5\"\"\"\n",
        "df = con.execute(query).fetchdf()\n",
        "print((df.columns))"
      ],
      "metadata": {
        "colab": {
          "base_uri": "https://localhost:8080/"
        },
        "id": "YHnodyYAfYcF",
        "outputId": "6834b873-1ac5-4a96-ac62-30d43f30aed2"
      },
      "execution_count": null,
      "outputs": [
        {
          "output_type": "stream",
          "name": "stdout",
          "text": [
            "Index(['numero_de_cliente', 'foto_mes', 'active_quarter', 'cliente_vip',\n",
            "       'internet', 'cliente_edad', 'cliente_antiguedad', 'mrentabilidad',\n",
            "       'mrentabilidad_annual', 'mcomisiones',\n",
            "       ...\n",
            "       'delta_1m_mtransferencias_recibidas', 'delta_1m_Visa_mpagominimo',\n",
            "       'delta_1m_ccomisiones_mantenimiento', 'delta_1m_Visa_mconsumospesos',\n",
            "       'delta_1m_mcomisiones_otras', 'delta_1m_mcaja_ahorro_dolares',\n",
            "       'delta_1m_Master_mlimitecompra', 'delta_1m_cmobile_app_trx',\n",
            "       'delta_1m_Master_mpagominimo', 'delta_1m_ccajas_transacciones'],\n",
            "      dtype='object', length=339)\n"
          ]
        }
      ]
    },
    {
      "cell_type": "markdown",
      "source": [
        "# delta_2"
      ],
      "metadata": {
        "id": "UeSE9Bh2dA8U"
      }
    },
    {
      "cell_type": "code",
      "source": [
        "delta_vars = [f\"delta_2m_{lag_feature}\" for lag_feature in lags]\n",
        "delta_vars"
      ],
      "metadata": {
        "colab": {
          "base_uri": "https://localhost:8080/"
        },
        "outputId": "46b6c2e5-22ef-4985-90c9-73f13b8e49fe",
        "id": "3FAmLruEdA8U"
      },
      "execution_count": null,
      "outputs": [
        {
          "output_type": "execute_result",
          "data": {
            "text/plain": [
              "['delta_2m_ctrx_quarter',\n",
              " 'delta_2m_mcaja_ahorro',\n",
              " 'delta_2m_mpasivos_margen',\n",
              " 'delta_2m_mcuentas_saldo',\n",
              " 'delta_2m_cpayroll_trx',\n",
              " 'delta_2m_mprestamos_personales',\n",
              " 'delta_2m_mtarjeta_visa_consumo',\n",
              " 'delta_2m_mcuenta_corriente',\n",
              " 'delta_2m_cprestamos_personales',\n",
              " 'delta_2m_ctarjeta_visa_transacciones',\n",
              " 'delta_2m_mrentabilidad_annual',\n",
              " 'delta_2m_Visa_msaldopesos',\n",
              " 'delta_2m_mpayroll',\n",
              " 'delta_2m_Master_status',\n",
              " 'delta_2m_mactivos_margen',\n",
              " 'delta_2m_Visa_status',\n",
              " 'delta_2m_ctarjeta_visa',\n",
              " 'delta_2m_mcomisiones_mantenimiento',\n",
              " 'delta_2m_ctarjeta_master',\n",
              " 'delta_2m_tcallcenter',\n",
              " 'delta_2m_mcomisiones',\n",
              " 'delta_2m_Visa_msaldototal',\n",
              " 'delta_2m_chomebanking_transacciones',\n",
              " 'delta_2m_cproductos',\n",
              " 'delta_2m_internet',\n",
              " 'delta_2m_Master_Fvencimiento',\n",
              " 'delta_2m_ccallcenter_transacciones',\n",
              " 'delta_2m_ccajas_consultas',\n",
              " 'delta_2m_Master_mfinanciacion_limite',\n",
              " 'delta_2m_mautoservicio',\n",
              " 'delta_2m_mrentabilidad',\n",
              " 'delta_2m_Visa_mpagospesos',\n",
              " 'delta_2m_Visa_Fvencimiento',\n",
              " 'delta_2m_ccomisiones_otras',\n",
              " 'delta_2m_Visa_mfinanciacion_limite',\n",
              " 'delta_2m_cdescubierto_preacordado',\n",
              " 'delta_2m_mtransferencias_recibidas',\n",
              " 'delta_2m_Visa_mpagominimo',\n",
              " 'delta_2m_ccomisiones_mantenimiento',\n",
              " 'delta_2m_Visa_mconsumospesos',\n",
              " 'delta_2m_mcomisiones_otras',\n",
              " 'delta_2m_mcaja_ahorro_dolares',\n",
              " 'delta_2m_Master_mlimitecompra',\n",
              " 'delta_2m_cmobile_app_trx',\n",
              " 'delta_2m_Master_mpagominimo',\n",
              " 'delta_2m_ccajas_transacciones']"
            ]
          },
          "metadata": {},
          "execution_count": 32
        }
      ]
    },
    {
      "cell_type": "code",
      "source": [
        "str_delta = ',\\n'.join([\n",
        "    f\"{lag_feature} - lag_2_{lag_feature} as delta_2m_{lag_feature}\"\n",
        "    for lag_feature in lags\n",
        "])\n",
        "str_delta"
      ],
      "metadata": {
        "colab": {
          "base_uri": "https://localhost:8080/",
          "height": 181
        },
        "outputId": "6b65a48e-df1c-43c9-ec6e-15771f36eb40",
        "id": "KcNHYLB7dA8V"
      },
      "execution_count": null,
      "outputs": [
        {
          "output_type": "execute_result",
          "data": {
            "text/plain": [
              "'ctrx_quarter - lag_2_ctrx_quarter as delta_2m_ctrx_quarter,\\nmcaja_ahorro - lag_2_mcaja_ahorro as delta_2m_mcaja_ahorro,\\nmpasivos_margen - lag_2_mpasivos_margen as delta_2m_mpasivos_margen,\\nmcuentas_saldo - lag_2_mcuentas_saldo as delta_2m_mcuentas_saldo,\\ncpayroll_trx - lag_2_cpayroll_trx as delta_2m_cpayroll_trx,\\nmprestamos_personales - lag_2_mprestamos_personales as delta_2m_mprestamos_personales,\\nmtarjeta_visa_consumo - lag_2_mtarjeta_visa_consumo as delta_2m_mtarjeta_visa_consumo,\\nmcuenta_corriente - lag_2_mcuenta_corriente as delta_2m_mcuenta_corriente,\\ncprestamos_personales - lag_2_cprestamos_personales as delta_2m_cprestamos_personales,\\nctarjeta_visa_transacciones - lag_2_ctarjeta_visa_transacciones as delta_2m_ctarjeta_visa_transacciones,\\nmrentabilidad_annual - lag_2_mrentabilidad_annual as delta_2m_mrentabilidad_annual,\\nVisa_msaldopesos - lag_2_Visa_msaldopesos as delta_2m_Visa_msaldopesos,\\nmpayroll - lag_2_mpayroll as delta_2m_mpayroll,\\nMaster_status - lag_2_Master_status as delta_2m_Master_status,\\nmactivos_margen - lag_2_mactivos_margen as delta_2m_mactivos_margen,\\nVisa_status - lag_2_Visa_status as delta_2m_Visa_status,\\nctarjeta_visa - lag_2_ctarjeta_visa as delta_2m_ctarjeta_visa,\\nmcomisiones_mantenimiento - lag_2_mcomisiones_mantenimiento as delta_2m_mcomisiones_mantenimiento,\\nctarjeta_master - lag_2_ctarjeta_master as delta_2m_ctarjeta_master,\\ntcallcenter - lag_2_tcallcenter as delta_2m_tcallcenter,\\nmcomisiones - lag_2_mcomisiones as delta_2m_mcomisiones,\\nVisa_msaldototal - lag_2_Visa_msaldototal as delta_2m_Visa_msaldototal,\\nchomebanking_transacciones - lag_2_chomebanking_transacciones as delta_2m_chomebanking_transacciones,\\ncproductos - lag_2_cproductos as delta_2m_cproductos,\\ninternet - lag_2_internet as delta_2m_internet,\\nMaster_Fvencimiento - lag_2_Master_Fvencimiento as delta_2m_Master_Fvencimiento,\\nccallcenter_transacciones - lag_2_ccallcenter_transacciones as delta_2m_ccallcenter_transacciones,\\nccajas_consultas - lag_2_ccajas_consultas as delta_2m_ccajas_consultas,\\nMaster_mfinanciacion_limite - lag_2_Master_mfinanciacion_limite as delta_2m_Master_mfinanciacion_limite,\\nmautoservicio - lag_2_mautoservicio as delta_2m_mautoservicio,\\nmrentabilidad - lag_2_mrentabilidad as delta_2m_mrentabilidad,\\nVisa_mpagospesos - lag_2_Visa_mpagospesos as delta_2m_Visa_mpagospesos,\\nVisa_Fvencimiento - lag_2_Visa_Fvencimiento as delta_2m_Visa_Fvencimiento,\\nccomisiones_otras - lag_2_ccomisiones_otras as delta_2m_ccomisiones_otras,\\nVisa_mfinanciacion_limite - lag_2_Visa_mfinanciacion_limite as delta_2m_Visa_mfinanciacion_limite,\\ncdescubierto_preacordado - lag_2_cdescubierto_preacordado as delta_2m_cdescubierto_preacordado,\\nmtransferencias_recibidas - lag_2_mtransferencias_recibidas as delta_2m_mtransferencias_recibidas,\\nVisa_mpagominimo - lag_2_Visa_mpagominimo as delta_2m_Visa_mpagominimo,\\nccomisiones_mantenimiento - lag_2_ccomisiones_mantenimiento as delta_2m_ccomisiones_mantenimiento,\\nVisa_mconsumospesos - lag_2_Visa_mconsumospesos as delta_2m_Visa_mconsumospesos,\\nmcomisiones_otras - lag_2_mcomisiones_otras as delta_2m_mcomisiones_otras,\\nmcaja_ahorro_dolares - lag_2_mcaja_ahorro_dolares as delta_2m_mcaja_ahorro_dolares,\\nMaster_mlimitecompra - lag_2_Master_mlimitecompra as delta_2m_Master_mlimitecompra,\\ncmobile_app_trx - lag_2_cmobile_app_trx as delta_2m_cmobile_app_trx,\\nMaster_mpagominimo - lag_2_Master_mpagominimo as delta_2m_Master_mpagominimo,\\nccajas_transacciones - lag_2_ccajas_transacciones as delta_2m_ccajas_transacciones'"
            ],
            "application/vnd.google.colaboratory.intrinsic+json": {
              "type": "string"
            }
          },
          "metadata": {},
          "execution_count": 33
        }
      ]
    },
    {
      "cell_type": "code",
      "source": [
        "query = f\"\"\"create or replace table competencia_01 as\n",
        "select *,\n",
        "    {str_delta}\n",
        "from competencia_01\"\"\""
      ],
      "metadata": {
        "id": "Q_5BQ_jJdA8W"
      },
      "execution_count": null,
      "outputs": []
    },
    {
      "cell_type": "code",
      "source": [
        "con.execute(query)"
      ],
      "metadata": {
        "colab": {
          "base_uri": "https://localhost:8080/",
          "height": 67,
          "referenced_widgets": [
            "1b2363c0ecf74d91a1e3a8d0a70d95ec",
            "0532ffa9451941c59bc9490f5b0116bd",
            "6479e0366247417b9aab843560095f7f"
          ]
        },
        "outputId": "37d4f1cb-43ce-416c-91e9-1eb8797ce60c",
        "id": "z0c2B4aldA8W"
      },
      "execution_count": null,
      "outputs": [
        {
          "output_type": "display_data",
          "data": {
            "text/plain": [
              "FloatProgress(value=0.0, layout=Layout(width='auto'), style=ProgressStyle(bar_color='black'))"
            ],
            "application/vnd.jupyter.widget-view+json": {
              "version_major": 2,
              "version_minor": 0,
              "model_id": "1b2363c0ecf74d91a1e3a8d0a70d95ec"
            }
          },
          "metadata": {}
        },
        {
          "output_type": "execute_result",
          "data": {
            "text/plain": [
              "<duckdb.duckdb.DuckDBPyConnection at 0x7e1d8fcf5e30>"
            ]
          },
          "metadata": {},
          "execution_count": 35
        }
      ]
    },
    {
      "cell_type": "code",
      "source": [
        "query = \"\"\"select * from competencia_01 limit 5\"\"\"\n",
        "df = con.execute(query).fetchdf()\n",
        "print((df.columns))"
      ],
      "metadata": {
        "colab": {
          "base_uri": "https://localhost:8080/"
        },
        "outputId": "109cc218-406e-4ab3-d8d0-5f688e8707d1",
        "id": "3H6Z5z29dA8W"
      },
      "execution_count": null,
      "outputs": [
        {
          "output_type": "stream",
          "name": "stdout",
          "text": [
            "Index(['numero_de_cliente', 'foto_mes', 'active_quarter', 'cliente_vip',\n",
            "       'internet', 'cliente_edad', 'cliente_antiguedad', 'mrentabilidad',\n",
            "       'mrentabilidad_annual', 'mcomisiones',\n",
            "       ...\n",
            "       'delta_2m_mtransferencias_recibidas', 'delta_2m_Visa_mpagominimo',\n",
            "       'delta_2m_ccomisiones_mantenimiento', 'delta_2m_Visa_mconsumospesos',\n",
            "       'delta_2m_mcomisiones_otras', 'delta_2m_mcaja_ahorro_dolares',\n",
            "       'delta_2m_Master_mlimitecompra', 'delta_2m_cmobile_app_trx',\n",
            "       'delta_2m_Master_mpagominimo', 'delta_2m_ccajas_transacciones'],\n",
            "      dtype='object', length=385)\n"
          ]
        }
      ]
    },
    {
      "cell_type": "markdown",
      "source": [
        "# delta_3"
      ],
      "metadata": {
        "id": "pqgKGaeuriU9"
      }
    },
    {
      "cell_type": "code",
      "source": [
        "delta_vars = [f\"delta_3m_{lag_feature}\" for lag_feature in lags]\n",
        "delta_vars"
      ],
      "metadata": {
        "colab": {
          "base_uri": "https://localhost:8080/"
        },
        "outputId": "52214094-bc38-4f32-d440-dbeea7ae9816",
        "id": "AshAUsjSriU_"
      },
      "execution_count": null,
      "outputs": [
        {
          "output_type": "execute_result",
          "data": {
            "text/plain": [
              "['delta_3m_ctrx_quarter',\n",
              " 'delta_3m_mcaja_ahorro',\n",
              " 'delta_3m_mpasivos_margen',\n",
              " 'delta_3m_mcuentas_saldo',\n",
              " 'delta_3m_cpayroll_trx',\n",
              " 'delta_3m_mprestamos_personales',\n",
              " 'delta_3m_mtarjeta_visa_consumo',\n",
              " 'delta_3m_mcuenta_corriente',\n",
              " 'delta_3m_cprestamos_personales',\n",
              " 'delta_3m_ctarjeta_visa_transacciones',\n",
              " 'delta_3m_mrentabilidad_annual',\n",
              " 'delta_3m_Visa_msaldopesos',\n",
              " 'delta_3m_mpayroll',\n",
              " 'delta_3m_Master_status',\n",
              " 'delta_3m_mactivos_margen',\n",
              " 'delta_3m_Visa_status',\n",
              " 'delta_3m_ctarjeta_visa',\n",
              " 'delta_3m_mcomisiones_mantenimiento',\n",
              " 'delta_3m_ctarjeta_master',\n",
              " 'delta_3m_tcallcenter',\n",
              " 'delta_3m_mcomisiones',\n",
              " 'delta_3m_Visa_msaldototal',\n",
              " 'delta_3m_chomebanking_transacciones',\n",
              " 'delta_3m_cproductos',\n",
              " 'delta_3m_internet',\n",
              " 'delta_3m_Master_Fvencimiento',\n",
              " 'delta_3m_ccallcenter_transacciones',\n",
              " 'delta_3m_ccajas_consultas',\n",
              " 'delta_3m_Master_mfinanciacion_limite',\n",
              " 'delta_3m_mautoservicio',\n",
              " 'delta_3m_mrentabilidad',\n",
              " 'delta_3m_Visa_mpagospesos',\n",
              " 'delta_3m_Visa_Fvencimiento',\n",
              " 'delta_3m_ccomisiones_otras',\n",
              " 'delta_3m_Visa_mfinanciacion_limite',\n",
              " 'delta_3m_cdescubierto_preacordado',\n",
              " 'delta_3m_mtransferencias_recibidas',\n",
              " 'delta_3m_Visa_mpagominimo',\n",
              " 'delta_3m_ccomisiones_mantenimiento',\n",
              " 'delta_3m_Visa_mconsumospesos',\n",
              " 'delta_3m_mcomisiones_otras',\n",
              " 'delta_3m_mcaja_ahorro_dolares',\n",
              " 'delta_3m_Master_mlimitecompra',\n",
              " 'delta_3m_cmobile_app_trx',\n",
              " 'delta_3m_Master_mpagominimo',\n",
              " 'delta_3m_ccajas_transacciones']"
            ]
          },
          "metadata": {},
          "execution_count": 37
        }
      ]
    },
    {
      "cell_type": "code",
      "source": [
        "str_delta = ',\\n'.join([\n",
        "    f\"{lag_feature} - lag_3_{lag_feature} as delta_3m_{lag_feature}\"\n",
        "    for lag_feature in lags\n",
        "])\n",
        "str_delta"
      ],
      "metadata": {
        "colab": {
          "base_uri": "https://localhost:8080/",
          "height": 181
        },
        "outputId": "252be556-0b86-4613-da3d-0577eb724516",
        "id": "GVu3yVUCriU_"
      },
      "execution_count": null,
      "outputs": [
        {
          "output_type": "execute_result",
          "data": {
            "text/plain": [
              "'ctrx_quarter - lag_3_ctrx_quarter as delta_3m_ctrx_quarter,\\nmcaja_ahorro - lag_3_mcaja_ahorro as delta_3m_mcaja_ahorro,\\nmpasivos_margen - lag_3_mpasivos_margen as delta_3m_mpasivos_margen,\\nmcuentas_saldo - lag_3_mcuentas_saldo as delta_3m_mcuentas_saldo,\\ncpayroll_trx - lag_3_cpayroll_trx as delta_3m_cpayroll_trx,\\nmprestamos_personales - lag_3_mprestamos_personales as delta_3m_mprestamos_personales,\\nmtarjeta_visa_consumo - lag_3_mtarjeta_visa_consumo as delta_3m_mtarjeta_visa_consumo,\\nmcuenta_corriente - lag_3_mcuenta_corriente as delta_3m_mcuenta_corriente,\\ncprestamos_personales - lag_3_cprestamos_personales as delta_3m_cprestamos_personales,\\nctarjeta_visa_transacciones - lag_3_ctarjeta_visa_transacciones as delta_3m_ctarjeta_visa_transacciones,\\nmrentabilidad_annual - lag_3_mrentabilidad_annual as delta_3m_mrentabilidad_annual,\\nVisa_msaldopesos - lag_3_Visa_msaldopesos as delta_3m_Visa_msaldopesos,\\nmpayroll - lag_3_mpayroll as delta_3m_mpayroll,\\nMaster_status - lag_3_Master_status as delta_3m_Master_status,\\nmactivos_margen - lag_3_mactivos_margen as delta_3m_mactivos_margen,\\nVisa_status - lag_3_Visa_status as delta_3m_Visa_status,\\nctarjeta_visa - lag_3_ctarjeta_visa as delta_3m_ctarjeta_visa,\\nmcomisiones_mantenimiento - lag_3_mcomisiones_mantenimiento as delta_3m_mcomisiones_mantenimiento,\\nctarjeta_master - lag_3_ctarjeta_master as delta_3m_ctarjeta_master,\\ntcallcenter - lag_3_tcallcenter as delta_3m_tcallcenter,\\nmcomisiones - lag_3_mcomisiones as delta_3m_mcomisiones,\\nVisa_msaldototal - lag_3_Visa_msaldototal as delta_3m_Visa_msaldototal,\\nchomebanking_transacciones - lag_3_chomebanking_transacciones as delta_3m_chomebanking_transacciones,\\ncproductos - lag_3_cproductos as delta_3m_cproductos,\\ninternet - lag_3_internet as delta_3m_internet,\\nMaster_Fvencimiento - lag_3_Master_Fvencimiento as delta_3m_Master_Fvencimiento,\\nccallcenter_transacciones - lag_3_ccallcenter_transacciones as delta_3m_ccallcenter_transacciones,\\nccajas_consultas - lag_3_ccajas_consultas as delta_3m_ccajas_consultas,\\nMaster_mfinanciacion_limite - lag_3_Master_mfinanciacion_limite as delta_3m_Master_mfinanciacion_limite,\\nmautoservicio - lag_3_mautoservicio as delta_3m_mautoservicio,\\nmrentabilidad - lag_3_mrentabilidad as delta_3m_mrentabilidad,\\nVisa_mpagospesos - lag_3_Visa_mpagospesos as delta_3m_Visa_mpagospesos,\\nVisa_Fvencimiento - lag_3_Visa_Fvencimiento as delta_3m_Visa_Fvencimiento,\\nccomisiones_otras - lag_3_ccomisiones_otras as delta_3m_ccomisiones_otras,\\nVisa_mfinanciacion_limite - lag_3_Visa_mfinanciacion_limite as delta_3m_Visa_mfinanciacion_limite,\\ncdescubierto_preacordado - lag_3_cdescubierto_preacordado as delta_3m_cdescubierto_preacordado,\\nmtransferencias_recibidas - lag_3_mtransferencias_recibidas as delta_3m_mtransferencias_recibidas,\\nVisa_mpagominimo - lag_3_Visa_mpagominimo as delta_3m_Visa_mpagominimo,\\nccomisiones_mantenimiento - lag_3_ccomisiones_mantenimiento as delta_3m_ccomisiones_mantenimiento,\\nVisa_mconsumospesos - lag_3_Visa_mconsumospesos as delta_3m_Visa_mconsumospesos,\\nmcomisiones_otras - lag_3_mcomisiones_otras as delta_3m_mcomisiones_otras,\\nmcaja_ahorro_dolares - lag_3_mcaja_ahorro_dolares as delta_3m_mcaja_ahorro_dolares,\\nMaster_mlimitecompra - lag_3_Master_mlimitecompra as delta_3m_Master_mlimitecompra,\\ncmobile_app_trx - lag_3_cmobile_app_trx as delta_3m_cmobile_app_trx,\\nMaster_mpagominimo - lag_3_Master_mpagominimo as delta_3m_Master_mpagominimo,\\nccajas_transacciones - lag_3_ccajas_transacciones as delta_3m_ccajas_transacciones'"
            ],
            "application/vnd.google.colaboratory.intrinsic+json": {
              "type": "string"
            }
          },
          "metadata": {},
          "execution_count": 38
        }
      ]
    },
    {
      "cell_type": "code",
      "source": [
        "query = f\"\"\"create or replace table competencia_01 as\n",
        "select *,\n",
        "    {str_delta}\n",
        "from competencia_01\"\"\""
      ],
      "metadata": {
        "id": "JAoCSNuXriVA"
      },
      "execution_count": null,
      "outputs": []
    },
    {
      "cell_type": "code",
      "source": [
        "con.execute(query)"
      ],
      "metadata": {
        "colab": {
          "base_uri": "https://localhost:8080/",
          "height": 67,
          "referenced_widgets": [
            "9575bb52585a43cfae36be15a53122c3",
            "43840995bfe44d7086cd9d08e6285182",
            "4585247ed3c64b5d903e8095f2f606e4"
          ]
        },
        "outputId": "adb5bcd8-1ad4-4830-b90d-7ea46c3cd0ea",
        "id": "9LkYb_K5riVA"
      },
      "execution_count": null,
      "outputs": [
        {
          "output_type": "display_data",
          "data": {
            "text/plain": [
              "FloatProgress(value=0.0, layout=Layout(width='auto'), style=ProgressStyle(bar_color='black'))"
            ],
            "application/vnd.jupyter.widget-view+json": {
              "version_major": 2,
              "version_minor": 0,
              "model_id": "9575bb52585a43cfae36be15a53122c3"
            }
          },
          "metadata": {}
        },
        {
          "output_type": "execute_result",
          "data": {
            "text/plain": [
              "<duckdb.duckdb.DuckDBPyConnection at 0x7e1d8fcf5e30>"
            ]
          },
          "metadata": {},
          "execution_count": 40
        }
      ]
    },
    {
      "cell_type": "code",
      "source": [
        "query = \"\"\"select * from competencia_01 limit 5\"\"\"\n",
        "df = con.execute(query).fetchdf()\n",
        "print((df.columns))"
      ],
      "metadata": {
        "colab": {
          "base_uri": "https://localhost:8080/"
        },
        "outputId": "033fac82-32d0-481f-b537-e414fa29969f",
        "id": "4bTKv0-8riVB"
      },
      "execution_count": null,
      "outputs": [
        {
          "output_type": "stream",
          "name": "stdout",
          "text": [
            "Index(['numero_de_cliente', 'foto_mes', 'active_quarter', 'cliente_vip',\n",
            "       'internet', 'cliente_edad', 'cliente_antiguedad', 'mrentabilidad',\n",
            "       'mrentabilidad_annual', 'mcomisiones',\n",
            "       ...\n",
            "       'delta_3m_mtransferencias_recibidas', 'delta_3m_Visa_mpagominimo',\n",
            "       'delta_3m_ccomisiones_mantenimiento', 'delta_3m_Visa_mconsumospesos',\n",
            "       'delta_3m_mcomisiones_otras', 'delta_3m_mcaja_ahorro_dolares',\n",
            "       'delta_3m_Master_mlimitecompra', 'delta_3m_cmobile_app_trx',\n",
            "       'delta_3m_Master_mpagominimo', 'delta_3m_ccajas_transacciones'],\n",
            "      dtype='object', length=431)\n"
          ]
        }
      ]
    },
    {
      "cell_type": "markdown",
      "source": [
        "# ratios"
      ],
      "metadata": {
        "id": "g_o-pbpY4fos"
      }
    },
    {
      "cell_type": "code",
      "source": [
        "ratio_feats = ',\\n'.join([\n",
        "    f\"{lag_feature} / nullif(lag_1_{lag_feature}, 0) as ratio_{lag_feature}_vs_prev\"\n",
        "    for lag_feature in lags\n",
        "])\n",
        "\n",
        "ratio_vars = [f\"ratio_{lag_feature}_vs_prev\" for lag_feature in lags]\n",
        "ratio_vars"
      ],
      "metadata": {
        "colab": {
          "base_uri": "https://localhost:8080/"
        },
        "id": "-Hny1SoC6OHV",
        "outputId": "a30e73ed-0549-4c41-fa3c-02617f50b4f2"
      },
      "execution_count": null,
      "outputs": [
        {
          "output_type": "execute_result",
          "data": {
            "text/plain": [
              "['ratio_ctrx_quarter_vs_prev',\n",
              " 'ratio_mcaja_ahorro_vs_prev',\n",
              " 'ratio_mpasivos_margen_vs_prev',\n",
              " 'ratio_mcuentas_saldo_vs_prev',\n",
              " 'ratio_cpayroll_trx_vs_prev',\n",
              " 'ratio_mprestamos_personales_vs_prev',\n",
              " 'ratio_mtarjeta_visa_consumo_vs_prev',\n",
              " 'ratio_mcuenta_corriente_vs_prev',\n",
              " 'ratio_cprestamos_personales_vs_prev',\n",
              " 'ratio_ctarjeta_visa_transacciones_vs_prev',\n",
              " 'ratio_mrentabilidad_annual_vs_prev',\n",
              " 'ratio_Visa_msaldopesos_vs_prev',\n",
              " 'ratio_mpayroll_vs_prev',\n",
              " 'ratio_Master_status_vs_prev',\n",
              " 'ratio_mactivos_margen_vs_prev',\n",
              " 'ratio_Visa_status_vs_prev',\n",
              " 'ratio_ctarjeta_visa_vs_prev',\n",
              " 'ratio_mcomisiones_mantenimiento_vs_prev',\n",
              " 'ratio_ctarjeta_master_vs_prev',\n",
              " 'ratio_tcallcenter_vs_prev',\n",
              " 'ratio_mcomisiones_vs_prev',\n",
              " 'ratio_Visa_msaldototal_vs_prev',\n",
              " 'ratio_chomebanking_transacciones_vs_prev',\n",
              " 'ratio_cproductos_vs_prev',\n",
              " 'ratio_internet_vs_prev',\n",
              " 'ratio_Master_Fvencimiento_vs_prev',\n",
              " 'ratio_ccallcenter_transacciones_vs_prev',\n",
              " 'ratio_ccajas_consultas_vs_prev',\n",
              " 'ratio_Master_mfinanciacion_limite_vs_prev',\n",
              " 'ratio_mautoservicio_vs_prev',\n",
              " 'ratio_mrentabilidad_vs_prev',\n",
              " 'ratio_Visa_mpagospesos_vs_prev',\n",
              " 'ratio_Visa_Fvencimiento_vs_prev',\n",
              " 'ratio_ccomisiones_otras_vs_prev',\n",
              " 'ratio_Visa_mfinanciacion_limite_vs_prev',\n",
              " 'ratio_cdescubierto_preacordado_vs_prev',\n",
              " 'ratio_mtransferencias_recibidas_vs_prev',\n",
              " 'ratio_Visa_mpagominimo_vs_prev',\n",
              " 'ratio_ccomisiones_mantenimiento_vs_prev',\n",
              " 'ratio_Visa_mconsumospesos_vs_prev',\n",
              " 'ratio_mcomisiones_otras_vs_prev',\n",
              " 'ratio_mcaja_ahorro_dolares_vs_prev',\n",
              " 'ratio_Master_mlimitecompra_vs_prev',\n",
              " 'ratio_cmobile_app_trx_vs_prev',\n",
              " 'ratio_Master_mpagominimo_vs_prev',\n",
              " 'ratio_ccajas_transacciones_vs_prev']"
            ]
          },
          "metadata": {},
          "execution_count": 42
        }
      ]
    },
    {
      "cell_type": "code",
      "source": [
        "query = f\"\"\"create or replace table competencia_01 as\n",
        "select *,\n",
        "    {ratio_feats}\n",
        "from competencia_01\"\"\""
      ],
      "metadata": {
        "id": "zptfbnc-77uM"
      },
      "execution_count": null,
      "outputs": []
    },
    {
      "cell_type": "code",
      "source": [
        "con.execute(query)"
      ],
      "metadata": {
        "id": "IPnTerB-8ej6",
        "colab": {
          "base_uri": "https://localhost:8080/",
          "height": 67,
          "referenced_widgets": [
            "05bb255e5b97406db77eab25fac9d9ff",
            "a4b8029460ca4b68acea00405316a538",
            "d828fe1e8aa9467fb9c0f6204cec52b2"
          ]
        },
        "outputId": "1cc5c5c5-a6d1-4a3d-fd0d-bf8129a741a6"
      },
      "execution_count": null,
      "outputs": [
        {
          "output_type": "display_data",
          "data": {
            "text/plain": [
              "FloatProgress(value=0.0, layout=Layout(width='auto'), style=ProgressStyle(bar_color='black'))"
            ],
            "application/vnd.jupyter.widget-view+json": {
              "version_major": 2,
              "version_minor": 0,
              "model_id": "05bb255e5b97406db77eab25fac9d9ff"
            }
          },
          "metadata": {}
        },
        {
          "output_type": "execute_result",
          "data": {
            "text/plain": [
              "<duckdb.duckdb.DuckDBPyConnection at 0x7e1d8fcf5e30>"
            ]
          },
          "metadata": {},
          "execution_count": 44
        }
      ]
    },
    {
      "cell_type": "code",
      "source": [
        "query = \"\"\"select * from competencia_01 limit 5\"\"\"\n",
        "df = con.execute(query).fetchdf()\n",
        "print((df.columns))"
      ],
      "metadata": {
        "colab": {
          "base_uri": "https://localhost:8080/"
        },
        "id": "RvSTHAKBf3wl",
        "outputId": "5e20deb3-2ec0-4915-a78a-2c44187d1c17"
      },
      "execution_count": null,
      "outputs": [
        {
          "output_type": "stream",
          "name": "stdout",
          "text": [
            "Index(['numero_de_cliente', 'foto_mes', 'active_quarter', 'cliente_vip',\n",
            "       'internet', 'cliente_edad', 'cliente_antiguedad', 'mrentabilidad',\n",
            "       'mrentabilidad_annual', 'mcomisiones',\n",
            "       ...\n",
            "       'ratio_mtransferencias_recibidas_vs_prev',\n",
            "       'ratio_Visa_mpagominimo_vs_prev',\n",
            "       'ratio_ccomisiones_mantenimiento_vs_prev',\n",
            "       'ratio_Visa_mconsumospesos_vs_prev', 'ratio_mcomisiones_otras_vs_prev',\n",
            "       'ratio_mcaja_ahorro_dolares_vs_prev',\n",
            "       'ratio_Master_mlimitecompra_vs_prev', 'ratio_cmobile_app_trx_vs_prev',\n",
            "       'ratio_Master_mpagominimo_vs_prev',\n",
            "       'ratio_ccajas_transacciones_vs_prev'],\n",
            "      dtype='object', length=477)\n"
          ]
        }
      ]
    },
    {
      "cell_type": "markdown",
      "source": [
        "# estandarizadas"
      ],
      "metadata": {
        "id": "OTLZZWhNU42R"
      }
    },
    {
      "cell_type": "code",
      "source": [
        "vars_to_standardize = [\n",
        "    \"ctrx_quarter\",\n",
        "    \"mcuentas_saldo\",\n",
        "    \"mcaja_ahorro\",\n",
        "    \"mprestamos_personales\",\n",
        "    \"mpasivos_margen\",\n",
        "    \"mtarjeta_visa_consumo\",\n",
        "    \"mpayroll\",\n",
        "    \"mrentabilidad_annual\",\n",
        "    \"mcomisiones\",\n",
        "    \"mcuenta_corriente\",\n",
        "    \"mactivos_margen\",\n",
        "    \"mcomisiones_mantenimiento\",\n",
        "    \"mcomisiones_otras\",\n",
        "    \"cproductos\",\n",
        "    \"cdescubierto_preacordado\",\n",
        "    \"cpayroll_trx\",\n",
        "    \"ccomisiones_mantenimiento\",\n",
        "    \"ccallcenter_transacciones\",\n",
        "    \"ccajas_consultas\",\n",
        "    \"ctarjeta_visa_transacciones\",\n",
        "    \"Master_status\",\n",
        "    \"Master_mfinanciacion_limite\",\n",
        "    \"Visa_status\",\n",
        "    \"Visa_msaldototal\",\n",
        "    \"mtransferencias_recibidas\",\n",
        "    \"mextraccion_autoservicio\",\n",
        "    \"mcuenta_debitos_automaticos\",\n",
        "    \"mpagomiscuentas\",\n",
        "    \"mautoservicio\",\n",
        "    \"Visa_msaldopesos\",\n",
        "    \"Visa_mlimitecompra\",\n",
        "    \"Visa_mpagospesos\",\n",
        "    \"Master_msaldopesos\",\n",
        "    \"Master_mlimitecompra\",\n",
        "    \"Master_mconsumototal\",\n",
        "    \"Visa_mconsumototal\",\n",
        "    \"Visa_mconsumospesos\",\n",
        "    \"Visa_madelantopesos\",\n",
        "    \"Master_mfinanciacion_limite\",\n",
        "    \"mcuenta_corriente\"\n",
        "]\n",
        "vars_to_standardize = lags[0:15]"
      ],
      "metadata": {
        "id": "dVQDzSM2-w-C"
      },
      "execution_count": null,
      "outputs": []
    },
    {
      "cell_type": "code",
      "source": [
        "std_features = [f'std_{var}' for var in vars_to_standardize]\n",
        "\n",
        "str_std = ',\\n'.join([\n",
        "    f'({var} - avg({var}) over (partition by foto_mes)) / nullif(stddev_pop({var}) over (partition by foto_mes),0) as std_{var}'\n",
        "    for var in vars_to_standardize\n",
        "])\n"
      ],
      "metadata": {
        "id": "9-NA2AY9U6Mb"
      },
      "execution_count": null,
      "outputs": []
    },
    {
      "cell_type": "code",
      "source": [
        "query = f\"\"\"create or replace table competencia_01 as\n",
        "select *,\n",
        "    {str_std}\n",
        "from competencia_01\"\"\""
      ],
      "metadata": {
        "id": "22ggxyrCU866"
      },
      "execution_count": null,
      "outputs": []
    },
    {
      "cell_type": "code",
      "source": [
        "con.execute(query)"
      ],
      "metadata": {
        "id": "_7Hk_DZaU_6B",
        "colab": {
          "base_uri": "https://localhost:8080/",
          "height": 67,
          "referenced_widgets": [
            "66aa048a6f55456e9de17c615dde0843",
            "94ba6b4453f8405a82504876bc570da3",
            "af2316f9d4504edeb7c29232ebab4e2b"
          ]
        },
        "outputId": "03b753d7-e3fe-46d8-ad01-18e44948ba15"
      },
      "execution_count": null,
      "outputs": [
        {
          "output_type": "display_data",
          "data": {
            "text/plain": [
              "FloatProgress(value=0.0, layout=Layout(width='auto'), style=ProgressStyle(bar_color='black'))"
            ],
            "application/vnd.jupyter.widget-view+json": {
              "version_major": 2,
              "version_minor": 0,
              "model_id": "66aa048a6f55456e9de17c615dde0843"
            }
          },
          "metadata": {}
        },
        {
          "output_type": "execute_result",
          "data": {
            "text/plain": [
              "<duckdb.duckdb.DuckDBPyConnection at 0x7e1d8fcf5e30>"
            ]
          },
          "metadata": {},
          "execution_count": 49
        }
      ]
    },
    {
      "cell_type": "code",
      "source": [
        "query = \"\"\"select * from competencia_01 limit 5\"\"\"\n",
        "df = con.execute(query).fetchdf()\n",
        "print((list(df.columns)))"
      ],
      "metadata": {
        "colab": {
          "base_uri": "https://localhost:8080/"
        },
        "id": "GrZ-pqMibnyX",
        "outputId": "1b4b40d0-4d9b-42e5-9a5d-333f137c2bd7"
      },
      "execution_count": null,
      "outputs": [
        {
          "output_type": "stream",
          "name": "stdout",
          "text": [
            "['numero_de_cliente', 'foto_mes', 'active_quarter', 'cliente_vip', 'internet', 'cliente_edad', 'cliente_antiguedad', 'mrentabilidad', 'mrentabilidad_annual', 'mcomisiones', 'mactivos_margen', 'mpasivos_margen', 'cproductos', 'tcuentas', 'ccuenta_corriente', 'mcuenta_corriente_adicional', 'mcuenta_corriente', 'ccaja_ahorro', 'mcaja_ahorro', 'mcaja_ahorro_adicional', 'mcaja_ahorro_dolares', 'cdescubierto_preacordado', 'mcuentas_saldo', 'ctarjeta_debito', 'ctarjeta_debito_transacciones', 'mautoservicio', 'ctarjeta_visa', 'ctarjeta_visa_transacciones', 'mtarjeta_visa_consumo', 'ctarjeta_master', 'ctarjeta_master_transacciones', 'mtarjeta_master_consumo', 'cprestamos_personales', 'mprestamos_personales', 'cprestamos_prendarios', 'mprestamos_prendarios', 'cprestamos_hipotecarios', 'mprestamos_hipotecarios', 'cplazo_fijo', 'mplazo_fijo_dolares', 'mplazo_fijo_pesos', 'cinversion1', 'minversion1_pesos', 'minversion1_dolares', 'cinversion2', 'minversion2', 'cseguro_vida', 'cseguro_auto', 'cseguro_vivienda', 'cseguro_accidentes_personales', 'ccaja_seguridad', 'cpayroll_trx', 'mpayroll', 'mpayroll2', 'cpayroll2_trx', 'ccuenta_debitos_automaticos', 'mcuenta_debitos_automaticos', 'ctarjeta_visa_debitos_automaticos', 'mttarjeta_visa_debitos_automaticos', 'ctarjeta_master_debitos_automaticos', 'mttarjeta_master_debitos_automaticos', 'cpagodeservicios', 'mpagodeservicios', 'cpagomiscuentas', 'mpagomiscuentas', 'ccajeros_propios_descuentos', 'mcajeros_propios_descuentos', 'ctarjeta_visa_descuentos', 'mtarjeta_visa_descuentos', 'ctarjeta_master_descuentos', 'mtarjeta_master_descuentos', 'ccomisiones_mantenimiento', 'mcomisiones_mantenimiento', 'ccomisiones_otras', 'mcomisiones_otras', 'cforex', 'cforex_buy', 'mforex_buy', 'cforex_sell', 'mforex_sell', 'ctransferencias_recibidas', 'mtransferencias_recibidas', 'ctransferencias_emitidas', 'mtransferencias_emitidas', 'cextraccion_autoservicio', 'mextraccion_autoservicio', 'ccheques_depositados', 'mcheques_depositados', 'ccheques_emitidos', 'mcheques_emitidos', 'ccheques_depositados_rechazados', 'mcheques_depositados_rechazados', 'ccheques_emitidos_rechazados', 'mcheques_emitidos_rechazados', 'tcallcenter', 'ccallcenter_transacciones', 'thomebanking', 'chomebanking_transacciones', 'ccajas_transacciones', 'ccajas_consultas', 'ccajas_depositos', 'ccajas_extracciones', 'ccajas_otras', 'catm_trx', 'matm', 'catm_trx_other', 'matm_other', 'ctrx_quarter', 'tmobile_app', 'cmobile_app_trx', 'Master_delinquency', 'Master_status', 'Master_mfinanciacion_limite', 'Master_Fvencimiento', 'Master_Finiciomora', 'Master_msaldototal', 'Master_msaldopesos', 'Master_msaldodolares', 'Master_mconsumospesos', 'Master_mconsumosdolares', 'Master_mlimitecompra', 'Master_madelantopesos', 'Master_madelantodolares', 'Master_fultimo_cierre', 'Master_mpagado', 'Master_mpagospesos', 'Master_mpagosdolares', 'Master_fechaalta', 'Master_mconsumototal', 'Master_cconsumos', 'Master_cadelantosefectivo', 'Master_mpagominimo', 'Visa_delinquency', 'Visa_status', 'Visa_mfinanciacion_limite', 'Visa_Fvencimiento', 'Visa_Finiciomora', 'Visa_msaldototal', 'Visa_msaldopesos', 'Visa_msaldodolares', 'Visa_mconsumospesos', 'Visa_mconsumosdolares', 'Visa_mlimitecompra', 'Visa_madelantopesos', 'Visa_madelantodolares', 'Visa_fultimo_cierre', 'Visa_mpagado', 'Visa_mpagospesos', 'Visa_mpagosdolares', 'Visa_fechaalta', 'Visa_mconsumototal', 'Visa_cconsumos', 'Visa_cadelantosefectivo', 'Visa_mpagominimo', 'clase_ternaria', 'lag_1_ctrx_quarter', 'lag_2_ctrx_quarter', 'lag_3_ctrx_quarter', 'lag_1_mcaja_ahorro', 'lag_2_mcaja_ahorro', 'lag_3_mcaja_ahorro', 'lag_1_mpasivos_margen', 'lag_2_mpasivos_margen', 'lag_3_mpasivos_margen', 'lag_1_mcuentas_saldo', 'lag_2_mcuentas_saldo', 'lag_3_mcuentas_saldo', 'lag_1_cpayroll_trx', 'lag_2_cpayroll_trx', 'lag_3_cpayroll_trx', 'lag_1_mprestamos_personales', 'lag_2_mprestamos_personales', 'lag_3_mprestamos_personales', 'lag_1_mtarjeta_visa_consumo', 'lag_2_mtarjeta_visa_consumo', 'lag_3_mtarjeta_visa_consumo', 'lag_1_mcuenta_corriente', 'lag_2_mcuenta_corriente', 'lag_3_mcuenta_corriente', 'lag_1_cprestamos_personales', 'lag_2_cprestamos_personales', 'lag_3_cprestamos_personales', 'lag_1_ctarjeta_visa_transacciones', 'lag_2_ctarjeta_visa_transacciones', 'lag_3_ctarjeta_visa_transacciones', 'lag_1_mrentabilidad_annual', 'lag_2_mrentabilidad_annual', 'lag_3_mrentabilidad_annual', 'lag_1_Visa_msaldopesos', 'lag_2_Visa_msaldopesos', 'lag_3_Visa_msaldopesos', 'lag_1_mpayroll', 'lag_2_mpayroll', 'lag_3_mpayroll', 'lag_1_Master_status', 'lag_2_Master_status', 'lag_3_Master_status', 'lag_1_mactivos_margen', 'lag_2_mactivos_margen', 'lag_3_mactivos_margen', 'lag_1_Visa_status', 'lag_2_Visa_status', 'lag_3_Visa_status', 'lag_1_ctarjeta_visa', 'lag_2_ctarjeta_visa', 'lag_3_ctarjeta_visa', 'lag_1_mcomisiones_mantenimiento', 'lag_2_mcomisiones_mantenimiento', 'lag_3_mcomisiones_mantenimiento', 'lag_1_ctarjeta_master', 'lag_2_ctarjeta_master', 'lag_3_ctarjeta_master', 'lag_1_tcallcenter', 'lag_2_tcallcenter', 'lag_3_tcallcenter', 'lag_1_mcomisiones', 'lag_2_mcomisiones', 'lag_3_mcomisiones', 'lag_1_Visa_msaldototal', 'lag_2_Visa_msaldototal', 'lag_3_Visa_msaldototal', 'lag_1_chomebanking_transacciones', 'lag_2_chomebanking_transacciones', 'lag_3_chomebanking_transacciones', 'lag_1_cproductos', 'lag_2_cproductos', 'lag_3_cproductos', 'lag_1_internet', 'lag_2_internet', 'lag_3_internet', 'lag_1_Master_Fvencimiento', 'lag_2_Master_Fvencimiento', 'lag_3_Master_Fvencimiento', 'lag_1_ccallcenter_transacciones', 'lag_2_ccallcenter_transacciones', 'lag_3_ccallcenter_transacciones', 'lag_1_ccajas_consultas', 'lag_2_ccajas_consultas', 'lag_3_ccajas_consultas', 'lag_1_Master_mfinanciacion_limite', 'lag_2_Master_mfinanciacion_limite', 'lag_3_Master_mfinanciacion_limite', 'lag_1_mautoservicio', 'lag_2_mautoservicio', 'lag_3_mautoservicio', 'lag_1_mrentabilidad', 'lag_2_mrentabilidad', 'lag_3_mrentabilidad', 'lag_1_Visa_mpagospesos', 'lag_2_Visa_mpagospesos', 'lag_3_Visa_mpagospesos', 'lag_1_Visa_Fvencimiento', 'lag_2_Visa_Fvencimiento', 'lag_3_Visa_Fvencimiento', 'lag_1_ccomisiones_otras', 'lag_2_ccomisiones_otras', 'lag_3_ccomisiones_otras', 'lag_1_Visa_mfinanciacion_limite', 'lag_2_Visa_mfinanciacion_limite', 'lag_3_Visa_mfinanciacion_limite', 'lag_1_cdescubierto_preacordado', 'lag_2_cdescubierto_preacordado', 'lag_3_cdescubierto_preacordado', 'lag_1_mtransferencias_recibidas', 'lag_2_mtransferencias_recibidas', 'lag_3_mtransferencias_recibidas', 'lag_1_Visa_mpagominimo', 'lag_2_Visa_mpagominimo', 'lag_3_Visa_mpagominimo', 'lag_1_ccomisiones_mantenimiento', 'lag_2_ccomisiones_mantenimiento', 'lag_3_ccomisiones_mantenimiento', 'lag_1_Visa_mconsumospesos', 'lag_2_Visa_mconsumospesos', 'lag_3_Visa_mconsumospesos', 'lag_1_mcomisiones_otras', 'lag_2_mcomisiones_otras', 'lag_3_mcomisiones_otras', 'lag_1_mcaja_ahorro_dolares', 'lag_2_mcaja_ahorro_dolares', 'lag_3_mcaja_ahorro_dolares', 'lag_1_Master_mlimitecompra', 'lag_2_Master_mlimitecompra', 'lag_3_Master_mlimitecompra', 'lag_1_cmobile_app_trx', 'lag_2_cmobile_app_trx', 'lag_3_cmobile_app_trx', 'lag_1_Master_mpagominimo', 'lag_2_Master_mpagominimo', 'lag_3_Master_mpagominimo', 'lag_1_ccajas_transacciones', 'lag_2_ccajas_transacciones', 'lag_3_ccajas_transacciones', 'delta_1m_ctrx_quarter', 'delta_1m_mcaja_ahorro', 'delta_1m_mpasivos_margen', 'delta_1m_mcuentas_saldo', 'delta_1m_cpayroll_trx', 'delta_1m_mprestamos_personales', 'delta_1m_mtarjeta_visa_consumo', 'delta_1m_mcuenta_corriente', 'delta_1m_cprestamos_personales', 'delta_1m_ctarjeta_visa_transacciones', 'delta_1m_mrentabilidad_annual', 'delta_1m_Visa_msaldopesos', 'delta_1m_mpayroll', 'delta_1m_Master_status', 'delta_1m_mactivos_margen', 'delta_1m_Visa_status', 'delta_1m_ctarjeta_visa', 'delta_1m_mcomisiones_mantenimiento', 'delta_1m_ctarjeta_master', 'delta_1m_tcallcenter', 'delta_1m_mcomisiones', 'delta_1m_Visa_msaldototal', 'delta_1m_chomebanking_transacciones', 'delta_1m_cproductos', 'delta_1m_internet', 'delta_1m_Master_Fvencimiento', 'delta_1m_ccallcenter_transacciones', 'delta_1m_ccajas_consultas', 'delta_1m_Master_mfinanciacion_limite', 'delta_1m_mautoservicio', 'delta_1m_mrentabilidad', 'delta_1m_Visa_mpagospesos', 'delta_1m_Visa_Fvencimiento', 'delta_1m_ccomisiones_otras', 'delta_1m_Visa_mfinanciacion_limite', 'delta_1m_cdescubierto_preacordado', 'delta_1m_mtransferencias_recibidas', 'delta_1m_Visa_mpagominimo', 'delta_1m_ccomisiones_mantenimiento', 'delta_1m_Visa_mconsumospesos', 'delta_1m_mcomisiones_otras', 'delta_1m_mcaja_ahorro_dolares', 'delta_1m_Master_mlimitecompra', 'delta_1m_cmobile_app_trx', 'delta_1m_Master_mpagominimo', 'delta_1m_ccajas_transacciones', 'delta_2m_ctrx_quarter', 'delta_2m_mcaja_ahorro', 'delta_2m_mpasivos_margen', 'delta_2m_mcuentas_saldo', 'delta_2m_cpayroll_trx', 'delta_2m_mprestamos_personales', 'delta_2m_mtarjeta_visa_consumo', 'delta_2m_mcuenta_corriente', 'delta_2m_cprestamos_personales', 'delta_2m_ctarjeta_visa_transacciones', 'delta_2m_mrentabilidad_annual', 'delta_2m_Visa_msaldopesos', 'delta_2m_mpayroll', 'delta_2m_Master_status', 'delta_2m_mactivos_margen', 'delta_2m_Visa_status', 'delta_2m_ctarjeta_visa', 'delta_2m_mcomisiones_mantenimiento', 'delta_2m_ctarjeta_master', 'delta_2m_tcallcenter', 'delta_2m_mcomisiones', 'delta_2m_Visa_msaldototal', 'delta_2m_chomebanking_transacciones', 'delta_2m_cproductos', 'delta_2m_internet', 'delta_2m_Master_Fvencimiento', 'delta_2m_ccallcenter_transacciones', 'delta_2m_ccajas_consultas', 'delta_2m_Master_mfinanciacion_limite', 'delta_2m_mautoservicio', 'delta_2m_mrentabilidad', 'delta_2m_Visa_mpagospesos', 'delta_2m_Visa_Fvencimiento', 'delta_2m_ccomisiones_otras', 'delta_2m_Visa_mfinanciacion_limite', 'delta_2m_cdescubierto_preacordado', 'delta_2m_mtransferencias_recibidas', 'delta_2m_Visa_mpagominimo', 'delta_2m_ccomisiones_mantenimiento', 'delta_2m_Visa_mconsumospesos', 'delta_2m_mcomisiones_otras', 'delta_2m_mcaja_ahorro_dolares', 'delta_2m_Master_mlimitecompra', 'delta_2m_cmobile_app_trx', 'delta_2m_Master_mpagominimo', 'delta_2m_ccajas_transacciones', 'delta_3m_ctrx_quarter', 'delta_3m_mcaja_ahorro', 'delta_3m_mpasivos_margen', 'delta_3m_mcuentas_saldo', 'delta_3m_cpayroll_trx', 'delta_3m_mprestamos_personales', 'delta_3m_mtarjeta_visa_consumo', 'delta_3m_mcuenta_corriente', 'delta_3m_cprestamos_personales', 'delta_3m_ctarjeta_visa_transacciones', 'delta_3m_mrentabilidad_annual', 'delta_3m_Visa_msaldopesos', 'delta_3m_mpayroll', 'delta_3m_Master_status', 'delta_3m_mactivos_margen', 'delta_3m_Visa_status', 'delta_3m_ctarjeta_visa', 'delta_3m_mcomisiones_mantenimiento', 'delta_3m_ctarjeta_master', 'delta_3m_tcallcenter', 'delta_3m_mcomisiones', 'delta_3m_Visa_msaldototal', 'delta_3m_chomebanking_transacciones', 'delta_3m_cproductos', 'delta_3m_internet', 'delta_3m_Master_Fvencimiento', 'delta_3m_ccallcenter_transacciones', 'delta_3m_ccajas_consultas', 'delta_3m_Master_mfinanciacion_limite', 'delta_3m_mautoservicio', 'delta_3m_mrentabilidad', 'delta_3m_Visa_mpagospesos', 'delta_3m_Visa_Fvencimiento', 'delta_3m_ccomisiones_otras', 'delta_3m_Visa_mfinanciacion_limite', 'delta_3m_cdescubierto_preacordado', 'delta_3m_mtransferencias_recibidas', 'delta_3m_Visa_mpagominimo', 'delta_3m_ccomisiones_mantenimiento', 'delta_3m_Visa_mconsumospesos', 'delta_3m_mcomisiones_otras', 'delta_3m_mcaja_ahorro_dolares', 'delta_3m_Master_mlimitecompra', 'delta_3m_cmobile_app_trx', 'delta_3m_Master_mpagominimo', 'delta_3m_ccajas_transacciones', 'ratio_ctrx_quarter_vs_prev', 'ratio_mcaja_ahorro_vs_prev', 'ratio_mpasivos_margen_vs_prev', 'ratio_mcuentas_saldo_vs_prev', 'ratio_cpayroll_trx_vs_prev', 'ratio_mprestamos_personales_vs_prev', 'ratio_mtarjeta_visa_consumo_vs_prev', 'ratio_mcuenta_corriente_vs_prev', 'ratio_cprestamos_personales_vs_prev', 'ratio_ctarjeta_visa_transacciones_vs_prev', 'ratio_mrentabilidad_annual_vs_prev', 'ratio_Visa_msaldopesos_vs_prev', 'ratio_mpayroll_vs_prev', 'ratio_Master_status_vs_prev', 'ratio_mactivos_margen_vs_prev', 'ratio_Visa_status_vs_prev', 'ratio_ctarjeta_visa_vs_prev', 'ratio_mcomisiones_mantenimiento_vs_prev', 'ratio_ctarjeta_master_vs_prev', 'ratio_tcallcenter_vs_prev', 'ratio_mcomisiones_vs_prev', 'ratio_Visa_msaldototal_vs_prev', 'ratio_chomebanking_transacciones_vs_prev', 'ratio_cproductos_vs_prev', 'ratio_internet_vs_prev', 'ratio_Master_Fvencimiento_vs_prev', 'ratio_ccallcenter_transacciones_vs_prev', 'ratio_ccajas_consultas_vs_prev', 'ratio_Master_mfinanciacion_limite_vs_prev', 'ratio_mautoservicio_vs_prev', 'ratio_mrentabilidad_vs_prev', 'ratio_Visa_mpagospesos_vs_prev', 'ratio_Visa_Fvencimiento_vs_prev', 'ratio_ccomisiones_otras_vs_prev', 'ratio_Visa_mfinanciacion_limite_vs_prev', 'ratio_cdescubierto_preacordado_vs_prev', 'ratio_mtransferencias_recibidas_vs_prev', 'ratio_Visa_mpagominimo_vs_prev', 'ratio_ccomisiones_mantenimiento_vs_prev', 'ratio_Visa_mconsumospesos_vs_prev', 'ratio_mcomisiones_otras_vs_prev', 'ratio_mcaja_ahorro_dolares_vs_prev', 'ratio_Master_mlimitecompra_vs_prev', 'ratio_cmobile_app_trx_vs_prev', 'ratio_Master_mpagominimo_vs_prev', 'ratio_ccajas_transacciones_vs_prev', 'std_ctrx_quarter', 'std_mcaja_ahorro', 'std_mpasivos_margen', 'std_mcuentas_saldo', 'std_cpayroll_trx', 'std_mprestamos_personales', 'std_mtarjeta_visa_consumo', 'std_mcuenta_corriente', 'std_cprestamos_personales', 'std_ctarjeta_visa_transacciones', 'std_mrentabilidad_annual', 'std_Visa_msaldopesos', 'std_mpayroll', 'std_Master_status', 'std_mactivos_margen']\n"
          ]
        }
      ]
    },
    {
      "cell_type": "markdown",
      "source": [
        "# data drift"
      ],
      "metadata": {
        "id": "pVKJb021PINo"
      }
    },
    {
      "cell_type": "code",
      "source": [
        "# query = \"\"\"SELECT\n",
        "#     foto_mes,\n",
        "#     AVG(mpayroll) AS mean_payroll,\n",
        "#     STDDEV(mpayroll) AS std_payroll,\n",
        "#     AVG(mcuentas_saldo) AS mean_saldo\n",
        "# FROM competencia_01\n",
        "# GROUP BY foto_mes\n",
        "# ORDER BY foto_mes;\"\"\"\n",
        "# df = con.execute(query).fetchdf()\n",
        "# df"
      ],
      "metadata": {
        "id": "SxdKM8SBPJ9T"
      },
      "execution_count": null,
      "outputs": []
    },
    {
      "cell_type": "markdown",
      "source": [
        "## es_empleado"
      ],
      "metadata": {
        "id": "Njj0BTCoQNIJ"
      }
    },
    {
      "cell_type": "code",
      "source": [
        "query = \"\"\"CREATE OR REPLACE TABLE competencia_01 AS\n",
        "SELECT\n",
        "    *,\n",
        "    CASE\n",
        "        WHEN COALESCE(cpayroll_trx,0) > 0 OR COALESCE(mpayroll,0) > 0 THEN 1\n",
        "        ELSE 0\n",
        "    END AS es_empleado\n",
        "FROM competencia_01;\"\"\"\n"
      ],
      "metadata": {
        "id": "0N02vruvPj_6"
      },
      "execution_count": null,
      "outputs": []
    },
    {
      "cell_type": "code",
      "source": [
        "#con.execute(query)"
      ],
      "metadata": {
        "id": "O5n2TEnHRWYP"
      },
      "execution_count": null,
      "outputs": []
    },
    {
      "cell_type": "code",
      "source": [
        "# query = \"\"\"select * from competencia_01 limit 5\"\"\"\n",
        "# df = con.execute(query).fetchdf()\n",
        "# \"es_empleado\" in df.columns"
      ],
      "metadata": {
        "id": "T8lSi6JmcMPX"
      },
      "execution_count": null,
      "outputs": []
    },
    {
      "cell_type": "markdown",
      "source": [
        "## percentil"
      ],
      "metadata": {
        "id": "O75Z_ZPCQRRw"
      }
    },
    {
      "cell_type": "code",
      "source": [
        "percent_vars = lags[0:10]\n",
        "\n",
        "percentil_sql = ',\\n'.join([\n",
        "    f\"\"\"CASE\n",
        "            WHEN {v} > 0 THEN PERCENT_RANK() OVER (PARTITION BY foto_mes ORDER BY {v})\n",
        "            WHEN {v} < 0 THEN -1 * PERCENT_RANK() OVER (PARTITION BY foto_mes ORDER BY {v} DESC)\n",
        "            ELSE 0\n",
        "        END AS {v}_ranked\"\"\"\n",
        "    for v in percent_vars\n",
        "])\n",
        "\n",
        "# Armar el bloque SQL completo\n",
        "query = f\"\"\"\n",
        "CREATE OR REPLACE TABLE competencia_01 AS\n",
        "SELECT\n",
        "    *,\n",
        "    {percentil_sql}\n",
        "FROM competencia_01;\n",
        "\"\"\""
      ],
      "metadata": {
        "id": "N-bx9251Qe5S"
      },
      "execution_count": null,
      "outputs": []
    },
    {
      "cell_type": "code",
      "source": [
        "#con.execute(query)"
      ],
      "metadata": {
        "id": "5Mi7Qcw8Rt5o"
      },
      "execution_count": null,
      "outputs": []
    },
    {
      "cell_type": "code",
      "source": [
        "query = \"\"\"select * from competencia_01 limit 5\"\"\"\n",
        "df = con.execute(query).fetchdf()\n",
        "df.columns"
      ],
      "metadata": {
        "colab": {
          "base_uri": "https://localhost:8080/"
        },
        "id": "HjHZRXYLcsep",
        "outputId": "1e9af3a8-4ec7-44c8-a695-cc297cbdc392"
      },
      "execution_count": null,
      "outputs": [
        {
          "output_type": "execute_result",
          "data": {
            "text/plain": [
              "Index(['numero_de_cliente', 'foto_mes', 'active_quarter', 'cliente_vip',\n",
              "       'internet', 'cliente_edad', 'cliente_antiguedad', 'mrentabilidad',\n",
              "       'mrentabilidad_annual', 'mcomisiones',\n",
              "       ...\n",
              "       'std_mprestamos_personales', 'std_mtarjeta_visa_consumo',\n",
              "       'std_mcuenta_corriente', 'std_cprestamos_personales',\n",
              "       'std_ctarjeta_visa_transacciones', 'std_mrentabilidad_annual',\n",
              "       'std_Visa_msaldopesos', 'std_mpayroll', 'std_Master_status',\n",
              "       'std_mactivos_margen'],\n",
              "      dtype='object', length=492)"
            ]
          },
          "metadata": {},
          "execution_count": 57
        }
      ]
    },
    {
      "cell_type": "markdown",
      "source": [
        "# pendiente"
      ],
      "metadata": {
        "id": "PmRCZ7WS4hGW"
      }
    },
    {
      "cell_type": "code",
      "source": [
        "slope_feats = ',\\n'.join([\n",
        "    f\"({lag_feature} - lag_2_{lag_feature}) / 2.0 as slope_2m_{lag_feature}\"\n",
        "    for lag_feature in lags\n",
        "])\n",
        "\n",
        "slope_vars = [f\"slope_2m_{lag_feature}\" for lag_feature in lags]\n",
        "str_slope = \"\\n\"\n",
        "print(slope_vars)"
      ],
      "metadata": {
        "id": "KT1pIYjg8txe",
        "colab": {
          "base_uri": "https://localhost:8080/"
        },
        "outputId": "8f88dbda-27db-4e75-fdb1-2273826b2578"
      },
      "execution_count": null,
      "outputs": [
        {
          "output_type": "stream",
          "name": "stdout",
          "text": [
            "['slope_2m_ctrx_quarter', 'slope_2m_mcaja_ahorro', 'slope_2m_mpasivos_margen', 'slope_2m_mcuentas_saldo', 'slope_2m_cpayroll_trx', 'slope_2m_mprestamos_personales', 'slope_2m_mtarjeta_visa_consumo', 'slope_2m_mcuenta_corriente', 'slope_2m_cprestamos_personales', 'slope_2m_ctarjeta_visa_transacciones', 'slope_2m_mrentabilidad_annual', 'slope_2m_Visa_msaldopesos', 'slope_2m_mpayroll', 'slope_2m_Master_status', 'slope_2m_mactivos_margen', 'slope_2m_Visa_status', 'slope_2m_ctarjeta_visa', 'slope_2m_mcomisiones_mantenimiento', 'slope_2m_ctarjeta_master', 'slope_2m_tcallcenter', 'slope_2m_mcomisiones', 'slope_2m_Visa_msaldototal', 'slope_2m_chomebanking_transacciones', 'slope_2m_cproductos', 'slope_2m_internet', 'slope_2m_Master_Fvencimiento', 'slope_2m_ccallcenter_transacciones', 'slope_2m_ccajas_consultas', 'slope_2m_Master_mfinanciacion_limite', 'slope_2m_mautoservicio', 'slope_2m_mrentabilidad', 'slope_2m_Visa_mpagospesos', 'slope_2m_Visa_Fvencimiento', 'slope_2m_ccomisiones_otras', 'slope_2m_Visa_mfinanciacion_limite', 'slope_2m_cdescubierto_preacordado', 'slope_2m_mtransferencias_recibidas', 'slope_2m_Visa_mpagominimo', 'slope_2m_ccomisiones_mantenimiento', 'slope_2m_Visa_mconsumospesos', 'slope_2m_mcomisiones_otras', 'slope_2m_mcaja_ahorro_dolares', 'slope_2m_Master_mlimitecompra', 'slope_2m_cmobile_app_trx', 'slope_2m_Master_mpagominimo', 'slope_2m_ccajas_transacciones']\n"
          ]
        }
      ]
    },
    {
      "cell_type": "code",
      "source": [
        "query = f\"\"\"create or replace table competencia_01 as\n",
        "select *,\n",
        "    {slope_feats}\n",
        "from competencia_01\"\"\""
      ],
      "metadata": {
        "id": "yjjJDwwj81KD"
      },
      "execution_count": null,
      "outputs": []
    },
    {
      "cell_type": "code",
      "source": [
        "# con.execute(query)"
      ],
      "metadata": {
        "id": "6oZSwsxr82KK"
      },
      "execution_count": null,
      "outputs": []
    },
    {
      "cell_type": "code",
      "source": [
        "slope_vars"
      ],
      "metadata": {
        "id": "KrZpyWmWeptP",
        "colab": {
          "base_uri": "https://localhost:8080/"
        },
        "outputId": "1b1bcd00-8bed-4f24-be5a-608611a70d8b"
      },
      "execution_count": null,
      "outputs": [
        {
          "output_type": "execute_result",
          "data": {
            "text/plain": [
              "['slope_2m_ctrx_quarter',\n",
              " 'slope_2m_mcaja_ahorro',\n",
              " 'slope_2m_mpasivos_margen',\n",
              " 'slope_2m_mcuentas_saldo',\n",
              " 'slope_2m_cpayroll_trx',\n",
              " 'slope_2m_mprestamos_personales',\n",
              " 'slope_2m_mtarjeta_visa_consumo',\n",
              " 'slope_2m_mcuenta_corriente',\n",
              " 'slope_2m_cprestamos_personales',\n",
              " 'slope_2m_ctarjeta_visa_transacciones',\n",
              " 'slope_2m_mrentabilidad_annual',\n",
              " 'slope_2m_Visa_msaldopesos',\n",
              " 'slope_2m_mpayroll',\n",
              " 'slope_2m_Master_status',\n",
              " 'slope_2m_mactivos_margen',\n",
              " 'slope_2m_Visa_status',\n",
              " 'slope_2m_ctarjeta_visa',\n",
              " 'slope_2m_mcomisiones_mantenimiento',\n",
              " 'slope_2m_ctarjeta_master',\n",
              " 'slope_2m_tcallcenter',\n",
              " 'slope_2m_mcomisiones',\n",
              " 'slope_2m_Visa_msaldototal',\n",
              " 'slope_2m_chomebanking_transacciones',\n",
              " 'slope_2m_cproductos',\n",
              " 'slope_2m_internet',\n",
              " 'slope_2m_Master_Fvencimiento',\n",
              " 'slope_2m_ccallcenter_transacciones',\n",
              " 'slope_2m_ccajas_consultas',\n",
              " 'slope_2m_Master_mfinanciacion_limite',\n",
              " 'slope_2m_mautoservicio',\n",
              " 'slope_2m_mrentabilidad',\n",
              " 'slope_2m_Visa_mpagospesos',\n",
              " 'slope_2m_Visa_Fvencimiento',\n",
              " 'slope_2m_ccomisiones_otras',\n",
              " 'slope_2m_Visa_mfinanciacion_limite',\n",
              " 'slope_2m_cdescubierto_preacordado',\n",
              " 'slope_2m_mtransferencias_recibidas',\n",
              " 'slope_2m_Visa_mpagominimo',\n",
              " 'slope_2m_ccomisiones_mantenimiento',\n",
              " 'slope_2m_Visa_mconsumospesos',\n",
              " 'slope_2m_mcomisiones_otras',\n",
              " 'slope_2m_mcaja_ahorro_dolares',\n",
              " 'slope_2m_Master_mlimitecompra',\n",
              " 'slope_2m_cmobile_app_trx',\n",
              " 'slope_2m_Master_mpagominimo',\n",
              " 'slope_2m_ccajas_transacciones']"
            ]
          },
          "metadata": {},
          "execution_count": 61
        }
      ]
    },
    {
      "cell_type": "markdown",
      "source": [
        "# mean"
      ],
      "metadata": {
        "id": "6CfYTUS78oNq"
      }
    },
    {
      "cell_type": "code",
      "source": [
        "mean_feats = ',\\n'.join([\n",
        "    f\"avg({lag_feature}) over (partition by numero_de_cliente order by foto_mes rows between 3 preceding and 1 preceding) as mean_{lag_feature}\"\n",
        "    for lag_feature in lags\n",
        "])\n",
        "\n",
        "mean_vars = [f\"mean_{lag_feature}\" for lag_feature in lags]\n",
        "\n",
        "mean_vars"
      ],
      "metadata": {
        "colab": {
          "base_uri": "https://localhost:8080/"
        },
        "id": "zhQn8ydK8o18",
        "outputId": "6855ed83-47aa-4f4d-895d-499991636690"
      },
      "execution_count": null,
      "outputs": [
        {
          "output_type": "execute_result",
          "data": {
            "text/plain": [
              "['mean_ctrx_quarter',\n",
              " 'mean_mcaja_ahorro',\n",
              " 'mean_mpasivos_margen',\n",
              " 'mean_mcuentas_saldo',\n",
              " 'mean_cpayroll_trx',\n",
              " 'mean_mprestamos_personales',\n",
              " 'mean_mtarjeta_visa_consumo',\n",
              " 'mean_mcuenta_corriente',\n",
              " 'mean_cprestamos_personales',\n",
              " 'mean_ctarjeta_visa_transacciones',\n",
              " 'mean_mrentabilidad_annual',\n",
              " 'mean_Visa_msaldopesos',\n",
              " 'mean_mpayroll',\n",
              " 'mean_Master_status',\n",
              " 'mean_mactivos_margen',\n",
              " 'mean_Visa_status',\n",
              " 'mean_ctarjeta_visa',\n",
              " 'mean_mcomisiones_mantenimiento',\n",
              " 'mean_ctarjeta_master',\n",
              " 'mean_tcallcenter',\n",
              " 'mean_mcomisiones',\n",
              " 'mean_Visa_msaldototal',\n",
              " 'mean_chomebanking_transacciones',\n",
              " 'mean_cproductos',\n",
              " 'mean_internet',\n",
              " 'mean_Master_Fvencimiento',\n",
              " 'mean_ccallcenter_transacciones',\n",
              " 'mean_ccajas_consultas',\n",
              " 'mean_Master_mfinanciacion_limite',\n",
              " 'mean_mautoservicio',\n",
              " 'mean_mrentabilidad',\n",
              " 'mean_Visa_mpagospesos',\n",
              " 'mean_Visa_Fvencimiento',\n",
              " 'mean_ccomisiones_otras',\n",
              " 'mean_Visa_mfinanciacion_limite',\n",
              " 'mean_cdescubierto_preacordado',\n",
              " 'mean_mtransferencias_recibidas',\n",
              " 'mean_Visa_mpagominimo',\n",
              " 'mean_ccomisiones_mantenimiento',\n",
              " 'mean_Visa_mconsumospesos',\n",
              " 'mean_mcomisiones_otras',\n",
              " 'mean_mcaja_ahorro_dolares',\n",
              " 'mean_Master_mlimitecompra',\n",
              " 'mean_cmobile_app_trx',\n",
              " 'mean_Master_mpagominimo',\n",
              " 'mean_ccajas_transacciones']"
            ]
          },
          "metadata": {},
          "execution_count": 62
        }
      ]
    },
    {
      "cell_type": "code",
      "source": [
        "query = f\"\"\"create or replace table competencia_01 as\n",
        "select *,\n",
        "    {mean_feats}\n",
        "from competencia_01\"\"\"\n",
        "\n"
      ],
      "metadata": {
        "id": "uG7q1SDX9DrU"
      },
      "execution_count": null,
      "outputs": []
    },
    {
      "cell_type": "code",
      "source": [
        "#con.execute(query)"
      ],
      "metadata": {
        "id": "l9f8LWEnos2Y"
      },
      "execution_count": null,
      "outputs": []
    },
    {
      "cell_type": "code",
      "source": [
        "query = \"\"\"select * from competencia_01 limit 5\"\"\"\n",
        "df = con.execute(query).fetchdf()\n",
        "print((list(df.columns)))"
      ],
      "metadata": {
        "colab": {
          "base_uri": "https://localhost:8080/"
        },
        "id": "4rCT_GqMo7b8",
        "outputId": "2a34acf9-175e-4cc0-d05d-7fb74dbfceef"
      },
      "execution_count": null,
      "outputs": [
        {
          "output_type": "stream",
          "name": "stdout",
          "text": [
            "['numero_de_cliente', 'foto_mes', 'active_quarter', 'cliente_vip', 'internet', 'cliente_edad', 'cliente_antiguedad', 'mrentabilidad', 'mrentabilidad_annual', 'mcomisiones', 'mactivos_margen', 'mpasivos_margen', 'cproductos', 'tcuentas', 'ccuenta_corriente', 'mcuenta_corriente_adicional', 'mcuenta_corriente', 'ccaja_ahorro', 'mcaja_ahorro', 'mcaja_ahorro_adicional', 'mcaja_ahorro_dolares', 'cdescubierto_preacordado', 'mcuentas_saldo', 'ctarjeta_debito', 'ctarjeta_debito_transacciones', 'mautoservicio', 'ctarjeta_visa', 'ctarjeta_visa_transacciones', 'mtarjeta_visa_consumo', 'ctarjeta_master', 'ctarjeta_master_transacciones', 'mtarjeta_master_consumo', 'cprestamos_personales', 'mprestamos_personales', 'cprestamos_prendarios', 'mprestamos_prendarios', 'cprestamos_hipotecarios', 'mprestamos_hipotecarios', 'cplazo_fijo', 'mplazo_fijo_dolares', 'mplazo_fijo_pesos', 'cinversion1', 'minversion1_pesos', 'minversion1_dolares', 'cinversion2', 'minversion2', 'cseguro_vida', 'cseguro_auto', 'cseguro_vivienda', 'cseguro_accidentes_personales', 'ccaja_seguridad', 'cpayroll_trx', 'mpayroll', 'mpayroll2', 'cpayroll2_trx', 'ccuenta_debitos_automaticos', 'mcuenta_debitos_automaticos', 'ctarjeta_visa_debitos_automaticos', 'mttarjeta_visa_debitos_automaticos', 'ctarjeta_master_debitos_automaticos', 'mttarjeta_master_debitos_automaticos', 'cpagodeservicios', 'mpagodeservicios', 'cpagomiscuentas', 'mpagomiscuentas', 'ccajeros_propios_descuentos', 'mcajeros_propios_descuentos', 'ctarjeta_visa_descuentos', 'mtarjeta_visa_descuentos', 'ctarjeta_master_descuentos', 'mtarjeta_master_descuentos', 'ccomisiones_mantenimiento', 'mcomisiones_mantenimiento', 'ccomisiones_otras', 'mcomisiones_otras', 'cforex', 'cforex_buy', 'mforex_buy', 'cforex_sell', 'mforex_sell', 'ctransferencias_recibidas', 'mtransferencias_recibidas', 'ctransferencias_emitidas', 'mtransferencias_emitidas', 'cextraccion_autoservicio', 'mextraccion_autoservicio', 'ccheques_depositados', 'mcheques_depositados', 'ccheques_emitidos', 'mcheques_emitidos', 'ccheques_depositados_rechazados', 'mcheques_depositados_rechazados', 'ccheques_emitidos_rechazados', 'mcheques_emitidos_rechazados', 'tcallcenter', 'ccallcenter_transacciones', 'thomebanking', 'chomebanking_transacciones', 'ccajas_transacciones', 'ccajas_consultas', 'ccajas_depositos', 'ccajas_extracciones', 'ccajas_otras', 'catm_trx', 'matm', 'catm_trx_other', 'matm_other', 'ctrx_quarter', 'tmobile_app', 'cmobile_app_trx', 'Master_delinquency', 'Master_status', 'Master_mfinanciacion_limite', 'Master_Fvencimiento', 'Master_Finiciomora', 'Master_msaldototal', 'Master_msaldopesos', 'Master_msaldodolares', 'Master_mconsumospesos', 'Master_mconsumosdolares', 'Master_mlimitecompra', 'Master_madelantopesos', 'Master_madelantodolares', 'Master_fultimo_cierre', 'Master_mpagado', 'Master_mpagospesos', 'Master_mpagosdolares', 'Master_fechaalta', 'Master_mconsumototal', 'Master_cconsumos', 'Master_cadelantosefectivo', 'Master_mpagominimo', 'Visa_delinquency', 'Visa_status', 'Visa_mfinanciacion_limite', 'Visa_Fvencimiento', 'Visa_Finiciomora', 'Visa_msaldototal', 'Visa_msaldopesos', 'Visa_msaldodolares', 'Visa_mconsumospesos', 'Visa_mconsumosdolares', 'Visa_mlimitecompra', 'Visa_madelantopesos', 'Visa_madelantodolares', 'Visa_fultimo_cierre', 'Visa_mpagado', 'Visa_mpagospesos', 'Visa_mpagosdolares', 'Visa_fechaalta', 'Visa_mconsumototal', 'Visa_cconsumos', 'Visa_cadelantosefectivo', 'Visa_mpagominimo', 'clase_ternaria', 'lag_1_ctrx_quarter', 'lag_2_ctrx_quarter', 'lag_3_ctrx_quarter', 'lag_1_mcaja_ahorro', 'lag_2_mcaja_ahorro', 'lag_3_mcaja_ahorro', 'lag_1_mpasivos_margen', 'lag_2_mpasivos_margen', 'lag_3_mpasivos_margen', 'lag_1_mcuentas_saldo', 'lag_2_mcuentas_saldo', 'lag_3_mcuentas_saldo', 'lag_1_cpayroll_trx', 'lag_2_cpayroll_trx', 'lag_3_cpayroll_trx', 'lag_1_mprestamos_personales', 'lag_2_mprestamos_personales', 'lag_3_mprestamos_personales', 'lag_1_mtarjeta_visa_consumo', 'lag_2_mtarjeta_visa_consumo', 'lag_3_mtarjeta_visa_consumo', 'lag_1_mcuenta_corriente', 'lag_2_mcuenta_corriente', 'lag_3_mcuenta_corriente', 'lag_1_cprestamos_personales', 'lag_2_cprestamos_personales', 'lag_3_cprestamos_personales', 'lag_1_ctarjeta_visa_transacciones', 'lag_2_ctarjeta_visa_transacciones', 'lag_3_ctarjeta_visa_transacciones', 'lag_1_mrentabilidad_annual', 'lag_2_mrentabilidad_annual', 'lag_3_mrentabilidad_annual', 'lag_1_Visa_msaldopesos', 'lag_2_Visa_msaldopesos', 'lag_3_Visa_msaldopesos', 'lag_1_mpayroll', 'lag_2_mpayroll', 'lag_3_mpayroll', 'lag_1_Master_status', 'lag_2_Master_status', 'lag_3_Master_status', 'lag_1_mactivos_margen', 'lag_2_mactivos_margen', 'lag_3_mactivos_margen', 'lag_1_Visa_status', 'lag_2_Visa_status', 'lag_3_Visa_status', 'lag_1_ctarjeta_visa', 'lag_2_ctarjeta_visa', 'lag_3_ctarjeta_visa', 'lag_1_mcomisiones_mantenimiento', 'lag_2_mcomisiones_mantenimiento', 'lag_3_mcomisiones_mantenimiento', 'lag_1_ctarjeta_master', 'lag_2_ctarjeta_master', 'lag_3_ctarjeta_master', 'lag_1_tcallcenter', 'lag_2_tcallcenter', 'lag_3_tcallcenter', 'lag_1_mcomisiones', 'lag_2_mcomisiones', 'lag_3_mcomisiones', 'lag_1_Visa_msaldototal', 'lag_2_Visa_msaldototal', 'lag_3_Visa_msaldototal', 'lag_1_chomebanking_transacciones', 'lag_2_chomebanking_transacciones', 'lag_3_chomebanking_transacciones', 'lag_1_cproductos', 'lag_2_cproductos', 'lag_3_cproductos', 'lag_1_internet', 'lag_2_internet', 'lag_3_internet', 'lag_1_Master_Fvencimiento', 'lag_2_Master_Fvencimiento', 'lag_3_Master_Fvencimiento', 'lag_1_ccallcenter_transacciones', 'lag_2_ccallcenter_transacciones', 'lag_3_ccallcenter_transacciones', 'lag_1_ccajas_consultas', 'lag_2_ccajas_consultas', 'lag_3_ccajas_consultas', 'lag_1_Master_mfinanciacion_limite', 'lag_2_Master_mfinanciacion_limite', 'lag_3_Master_mfinanciacion_limite', 'lag_1_mautoservicio', 'lag_2_mautoservicio', 'lag_3_mautoservicio', 'lag_1_mrentabilidad', 'lag_2_mrentabilidad', 'lag_3_mrentabilidad', 'lag_1_Visa_mpagospesos', 'lag_2_Visa_mpagospesos', 'lag_3_Visa_mpagospesos', 'lag_1_Visa_Fvencimiento', 'lag_2_Visa_Fvencimiento', 'lag_3_Visa_Fvencimiento', 'lag_1_ccomisiones_otras', 'lag_2_ccomisiones_otras', 'lag_3_ccomisiones_otras', 'lag_1_Visa_mfinanciacion_limite', 'lag_2_Visa_mfinanciacion_limite', 'lag_3_Visa_mfinanciacion_limite', 'lag_1_cdescubierto_preacordado', 'lag_2_cdescubierto_preacordado', 'lag_3_cdescubierto_preacordado', 'lag_1_mtransferencias_recibidas', 'lag_2_mtransferencias_recibidas', 'lag_3_mtransferencias_recibidas', 'lag_1_Visa_mpagominimo', 'lag_2_Visa_mpagominimo', 'lag_3_Visa_mpagominimo', 'lag_1_ccomisiones_mantenimiento', 'lag_2_ccomisiones_mantenimiento', 'lag_3_ccomisiones_mantenimiento', 'lag_1_Visa_mconsumospesos', 'lag_2_Visa_mconsumospesos', 'lag_3_Visa_mconsumospesos', 'lag_1_mcomisiones_otras', 'lag_2_mcomisiones_otras', 'lag_3_mcomisiones_otras', 'lag_1_mcaja_ahorro_dolares', 'lag_2_mcaja_ahorro_dolares', 'lag_3_mcaja_ahorro_dolares', 'lag_1_Master_mlimitecompra', 'lag_2_Master_mlimitecompra', 'lag_3_Master_mlimitecompra', 'lag_1_cmobile_app_trx', 'lag_2_cmobile_app_trx', 'lag_3_cmobile_app_trx', 'lag_1_Master_mpagominimo', 'lag_2_Master_mpagominimo', 'lag_3_Master_mpagominimo', 'lag_1_ccajas_transacciones', 'lag_2_ccajas_transacciones', 'lag_3_ccajas_transacciones', 'delta_1m_ctrx_quarter', 'delta_1m_mcaja_ahorro', 'delta_1m_mpasivos_margen', 'delta_1m_mcuentas_saldo', 'delta_1m_cpayroll_trx', 'delta_1m_mprestamos_personales', 'delta_1m_mtarjeta_visa_consumo', 'delta_1m_mcuenta_corriente', 'delta_1m_cprestamos_personales', 'delta_1m_ctarjeta_visa_transacciones', 'delta_1m_mrentabilidad_annual', 'delta_1m_Visa_msaldopesos', 'delta_1m_mpayroll', 'delta_1m_Master_status', 'delta_1m_mactivos_margen', 'delta_1m_Visa_status', 'delta_1m_ctarjeta_visa', 'delta_1m_mcomisiones_mantenimiento', 'delta_1m_ctarjeta_master', 'delta_1m_tcallcenter', 'delta_1m_mcomisiones', 'delta_1m_Visa_msaldototal', 'delta_1m_chomebanking_transacciones', 'delta_1m_cproductos', 'delta_1m_internet', 'delta_1m_Master_Fvencimiento', 'delta_1m_ccallcenter_transacciones', 'delta_1m_ccajas_consultas', 'delta_1m_Master_mfinanciacion_limite', 'delta_1m_mautoservicio', 'delta_1m_mrentabilidad', 'delta_1m_Visa_mpagospesos', 'delta_1m_Visa_Fvencimiento', 'delta_1m_ccomisiones_otras', 'delta_1m_Visa_mfinanciacion_limite', 'delta_1m_cdescubierto_preacordado', 'delta_1m_mtransferencias_recibidas', 'delta_1m_Visa_mpagominimo', 'delta_1m_ccomisiones_mantenimiento', 'delta_1m_Visa_mconsumospesos', 'delta_1m_mcomisiones_otras', 'delta_1m_mcaja_ahorro_dolares', 'delta_1m_Master_mlimitecompra', 'delta_1m_cmobile_app_trx', 'delta_1m_Master_mpagominimo', 'delta_1m_ccajas_transacciones', 'delta_2m_ctrx_quarter', 'delta_2m_mcaja_ahorro', 'delta_2m_mpasivos_margen', 'delta_2m_mcuentas_saldo', 'delta_2m_cpayroll_trx', 'delta_2m_mprestamos_personales', 'delta_2m_mtarjeta_visa_consumo', 'delta_2m_mcuenta_corriente', 'delta_2m_cprestamos_personales', 'delta_2m_ctarjeta_visa_transacciones', 'delta_2m_mrentabilidad_annual', 'delta_2m_Visa_msaldopesos', 'delta_2m_mpayroll', 'delta_2m_Master_status', 'delta_2m_mactivos_margen', 'delta_2m_Visa_status', 'delta_2m_ctarjeta_visa', 'delta_2m_mcomisiones_mantenimiento', 'delta_2m_ctarjeta_master', 'delta_2m_tcallcenter', 'delta_2m_mcomisiones', 'delta_2m_Visa_msaldototal', 'delta_2m_chomebanking_transacciones', 'delta_2m_cproductos', 'delta_2m_internet', 'delta_2m_Master_Fvencimiento', 'delta_2m_ccallcenter_transacciones', 'delta_2m_ccajas_consultas', 'delta_2m_Master_mfinanciacion_limite', 'delta_2m_mautoservicio', 'delta_2m_mrentabilidad', 'delta_2m_Visa_mpagospesos', 'delta_2m_Visa_Fvencimiento', 'delta_2m_ccomisiones_otras', 'delta_2m_Visa_mfinanciacion_limite', 'delta_2m_cdescubierto_preacordado', 'delta_2m_mtransferencias_recibidas', 'delta_2m_Visa_mpagominimo', 'delta_2m_ccomisiones_mantenimiento', 'delta_2m_Visa_mconsumospesos', 'delta_2m_mcomisiones_otras', 'delta_2m_mcaja_ahorro_dolares', 'delta_2m_Master_mlimitecompra', 'delta_2m_cmobile_app_trx', 'delta_2m_Master_mpagominimo', 'delta_2m_ccajas_transacciones', 'delta_3m_ctrx_quarter', 'delta_3m_mcaja_ahorro', 'delta_3m_mpasivos_margen', 'delta_3m_mcuentas_saldo', 'delta_3m_cpayroll_trx', 'delta_3m_mprestamos_personales', 'delta_3m_mtarjeta_visa_consumo', 'delta_3m_mcuenta_corriente', 'delta_3m_cprestamos_personales', 'delta_3m_ctarjeta_visa_transacciones', 'delta_3m_mrentabilidad_annual', 'delta_3m_Visa_msaldopesos', 'delta_3m_mpayroll', 'delta_3m_Master_status', 'delta_3m_mactivos_margen', 'delta_3m_Visa_status', 'delta_3m_ctarjeta_visa', 'delta_3m_mcomisiones_mantenimiento', 'delta_3m_ctarjeta_master', 'delta_3m_tcallcenter', 'delta_3m_mcomisiones', 'delta_3m_Visa_msaldototal', 'delta_3m_chomebanking_transacciones', 'delta_3m_cproductos', 'delta_3m_internet', 'delta_3m_Master_Fvencimiento', 'delta_3m_ccallcenter_transacciones', 'delta_3m_ccajas_consultas', 'delta_3m_Master_mfinanciacion_limite', 'delta_3m_mautoservicio', 'delta_3m_mrentabilidad', 'delta_3m_Visa_mpagospesos', 'delta_3m_Visa_Fvencimiento', 'delta_3m_ccomisiones_otras', 'delta_3m_Visa_mfinanciacion_limite', 'delta_3m_cdescubierto_preacordado', 'delta_3m_mtransferencias_recibidas', 'delta_3m_Visa_mpagominimo', 'delta_3m_ccomisiones_mantenimiento', 'delta_3m_Visa_mconsumospesos', 'delta_3m_mcomisiones_otras', 'delta_3m_mcaja_ahorro_dolares', 'delta_3m_Master_mlimitecompra', 'delta_3m_cmobile_app_trx', 'delta_3m_Master_mpagominimo', 'delta_3m_ccajas_transacciones', 'ratio_ctrx_quarter_vs_prev', 'ratio_mcaja_ahorro_vs_prev', 'ratio_mpasivos_margen_vs_prev', 'ratio_mcuentas_saldo_vs_prev', 'ratio_cpayroll_trx_vs_prev', 'ratio_mprestamos_personales_vs_prev', 'ratio_mtarjeta_visa_consumo_vs_prev', 'ratio_mcuenta_corriente_vs_prev', 'ratio_cprestamos_personales_vs_prev', 'ratio_ctarjeta_visa_transacciones_vs_prev', 'ratio_mrentabilidad_annual_vs_prev', 'ratio_Visa_msaldopesos_vs_prev', 'ratio_mpayroll_vs_prev', 'ratio_Master_status_vs_prev', 'ratio_mactivos_margen_vs_prev', 'ratio_Visa_status_vs_prev', 'ratio_ctarjeta_visa_vs_prev', 'ratio_mcomisiones_mantenimiento_vs_prev', 'ratio_ctarjeta_master_vs_prev', 'ratio_tcallcenter_vs_prev', 'ratio_mcomisiones_vs_prev', 'ratio_Visa_msaldototal_vs_prev', 'ratio_chomebanking_transacciones_vs_prev', 'ratio_cproductos_vs_prev', 'ratio_internet_vs_prev', 'ratio_Master_Fvencimiento_vs_prev', 'ratio_ccallcenter_transacciones_vs_prev', 'ratio_ccajas_consultas_vs_prev', 'ratio_Master_mfinanciacion_limite_vs_prev', 'ratio_mautoservicio_vs_prev', 'ratio_mrentabilidad_vs_prev', 'ratio_Visa_mpagospesos_vs_prev', 'ratio_Visa_Fvencimiento_vs_prev', 'ratio_ccomisiones_otras_vs_prev', 'ratio_Visa_mfinanciacion_limite_vs_prev', 'ratio_cdescubierto_preacordado_vs_prev', 'ratio_mtransferencias_recibidas_vs_prev', 'ratio_Visa_mpagominimo_vs_prev', 'ratio_ccomisiones_mantenimiento_vs_prev', 'ratio_Visa_mconsumospesos_vs_prev', 'ratio_mcomisiones_otras_vs_prev', 'ratio_mcaja_ahorro_dolares_vs_prev', 'ratio_Master_mlimitecompra_vs_prev', 'ratio_cmobile_app_trx_vs_prev', 'ratio_Master_mpagominimo_vs_prev', 'ratio_ccajas_transacciones_vs_prev', 'std_ctrx_quarter', 'std_mcaja_ahorro', 'std_mpasivos_margen', 'std_mcuentas_saldo', 'std_cpayroll_trx', 'std_mprestamos_personales', 'std_mtarjeta_visa_consumo', 'std_mcuenta_corriente', 'std_cprestamos_personales', 'std_ctarjeta_visa_transacciones', 'std_mrentabilidad_annual', 'std_Visa_msaldopesos', 'std_mpayroll', 'std_Master_status', 'std_mactivos_margen']\n"
          ]
        }
      ]
    },
    {
      "cell_type": "markdown",
      "source": [
        "# max"
      ],
      "metadata": {
        "id": "VtWSgaOX4iCe"
      }
    },
    {
      "cell_type": "code",
      "source": [
        "max_feats = ',\\n'.join([\n",
        "    f\"max({lag_feature}) over (partition by numero_de_cliente order by foto_mes rows between 3 preceding and 1 preceding) as max_3m_{lag_feature}\"\n",
        "    for lag_feature in lags\n",
        "])\n",
        "\n",
        "max_vars = [f\"max_{lag_feature}\" for lag_feature in lags]\n"
      ],
      "metadata": {
        "id": "EbU9RPxV8mQu"
      },
      "execution_count": null,
      "outputs": []
    },
    {
      "cell_type": "code",
      "source": [
        "query = f\"\"\"create or replace table competencia_01 as\n",
        "select *,\n",
        "    {max_feats}\n",
        "from competencia_01\"\"\"\n"
      ],
      "metadata": {
        "id": "rgQ70p159JJb"
      },
      "execution_count": null,
      "outputs": []
    },
    {
      "cell_type": "code",
      "source": [
        "#con.execute(query)"
      ],
      "metadata": {
        "id": "ngvZ-mUYore3"
      },
      "execution_count": null,
      "outputs": []
    },
    {
      "cell_type": "code",
      "source": [
        "query = \"\"\"select * from competencia_01 limit 5\"\"\"\n",
        "df = con.execute(query).fetchdf()\n",
        "print((list(df.columns)))"
      ],
      "metadata": {
        "colab": {
          "base_uri": "https://localhost:8080/"
        },
        "id": "49FOkecNo7-P",
        "outputId": "bd16b9b7-bbbf-4197-9d66-9ec95e5f5772"
      },
      "execution_count": null,
      "outputs": [
        {
          "output_type": "stream",
          "name": "stdout",
          "text": [
            "['numero_de_cliente', 'foto_mes', 'active_quarter', 'cliente_vip', 'internet', 'cliente_edad', 'cliente_antiguedad', 'mrentabilidad', 'mrentabilidad_annual', 'mcomisiones', 'mactivos_margen', 'mpasivos_margen', 'cproductos', 'tcuentas', 'ccuenta_corriente', 'mcuenta_corriente_adicional', 'mcuenta_corriente', 'ccaja_ahorro', 'mcaja_ahorro', 'mcaja_ahorro_adicional', 'mcaja_ahorro_dolares', 'cdescubierto_preacordado', 'mcuentas_saldo', 'ctarjeta_debito', 'ctarjeta_debito_transacciones', 'mautoservicio', 'ctarjeta_visa', 'ctarjeta_visa_transacciones', 'mtarjeta_visa_consumo', 'ctarjeta_master', 'ctarjeta_master_transacciones', 'mtarjeta_master_consumo', 'cprestamos_personales', 'mprestamos_personales', 'cprestamos_prendarios', 'mprestamos_prendarios', 'cprestamos_hipotecarios', 'mprestamos_hipotecarios', 'cplazo_fijo', 'mplazo_fijo_dolares', 'mplazo_fijo_pesos', 'cinversion1', 'minversion1_pesos', 'minversion1_dolares', 'cinversion2', 'minversion2', 'cseguro_vida', 'cseguro_auto', 'cseguro_vivienda', 'cseguro_accidentes_personales', 'ccaja_seguridad', 'cpayroll_trx', 'mpayroll', 'mpayroll2', 'cpayroll2_trx', 'ccuenta_debitos_automaticos', 'mcuenta_debitos_automaticos', 'ctarjeta_visa_debitos_automaticos', 'mttarjeta_visa_debitos_automaticos', 'ctarjeta_master_debitos_automaticos', 'mttarjeta_master_debitos_automaticos', 'cpagodeservicios', 'mpagodeservicios', 'cpagomiscuentas', 'mpagomiscuentas', 'ccajeros_propios_descuentos', 'mcajeros_propios_descuentos', 'ctarjeta_visa_descuentos', 'mtarjeta_visa_descuentos', 'ctarjeta_master_descuentos', 'mtarjeta_master_descuentos', 'ccomisiones_mantenimiento', 'mcomisiones_mantenimiento', 'ccomisiones_otras', 'mcomisiones_otras', 'cforex', 'cforex_buy', 'mforex_buy', 'cforex_sell', 'mforex_sell', 'ctransferencias_recibidas', 'mtransferencias_recibidas', 'ctransferencias_emitidas', 'mtransferencias_emitidas', 'cextraccion_autoservicio', 'mextraccion_autoservicio', 'ccheques_depositados', 'mcheques_depositados', 'ccheques_emitidos', 'mcheques_emitidos', 'ccheques_depositados_rechazados', 'mcheques_depositados_rechazados', 'ccheques_emitidos_rechazados', 'mcheques_emitidos_rechazados', 'tcallcenter', 'ccallcenter_transacciones', 'thomebanking', 'chomebanking_transacciones', 'ccajas_transacciones', 'ccajas_consultas', 'ccajas_depositos', 'ccajas_extracciones', 'ccajas_otras', 'catm_trx', 'matm', 'catm_trx_other', 'matm_other', 'ctrx_quarter', 'tmobile_app', 'cmobile_app_trx', 'Master_delinquency', 'Master_status', 'Master_mfinanciacion_limite', 'Master_Fvencimiento', 'Master_Finiciomora', 'Master_msaldototal', 'Master_msaldopesos', 'Master_msaldodolares', 'Master_mconsumospesos', 'Master_mconsumosdolares', 'Master_mlimitecompra', 'Master_madelantopesos', 'Master_madelantodolares', 'Master_fultimo_cierre', 'Master_mpagado', 'Master_mpagospesos', 'Master_mpagosdolares', 'Master_fechaalta', 'Master_mconsumototal', 'Master_cconsumos', 'Master_cadelantosefectivo', 'Master_mpagominimo', 'Visa_delinquency', 'Visa_status', 'Visa_mfinanciacion_limite', 'Visa_Fvencimiento', 'Visa_Finiciomora', 'Visa_msaldototal', 'Visa_msaldopesos', 'Visa_msaldodolares', 'Visa_mconsumospesos', 'Visa_mconsumosdolares', 'Visa_mlimitecompra', 'Visa_madelantopesos', 'Visa_madelantodolares', 'Visa_fultimo_cierre', 'Visa_mpagado', 'Visa_mpagospesos', 'Visa_mpagosdolares', 'Visa_fechaalta', 'Visa_mconsumototal', 'Visa_cconsumos', 'Visa_cadelantosefectivo', 'Visa_mpagominimo', 'clase_ternaria', 'lag_1_ctrx_quarter', 'lag_2_ctrx_quarter', 'lag_3_ctrx_quarter', 'lag_1_mcaja_ahorro', 'lag_2_mcaja_ahorro', 'lag_3_mcaja_ahorro', 'lag_1_mpasivos_margen', 'lag_2_mpasivos_margen', 'lag_3_mpasivos_margen', 'lag_1_mcuentas_saldo', 'lag_2_mcuentas_saldo', 'lag_3_mcuentas_saldo', 'lag_1_cpayroll_trx', 'lag_2_cpayroll_trx', 'lag_3_cpayroll_trx', 'lag_1_mprestamos_personales', 'lag_2_mprestamos_personales', 'lag_3_mprestamos_personales', 'lag_1_mtarjeta_visa_consumo', 'lag_2_mtarjeta_visa_consumo', 'lag_3_mtarjeta_visa_consumo', 'lag_1_mcuenta_corriente', 'lag_2_mcuenta_corriente', 'lag_3_mcuenta_corriente', 'lag_1_cprestamos_personales', 'lag_2_cprestamos_personales', 'lag_3_cprestamos_personales', 'lag_1_ctarjeta_visa_transacciones', 'lag_2_ctarjeta_visa_transacciones', 'lag_3_ctarjeta_visa_transacciones', 'lag_1_mrentabilidad_annual', 'lag_2_mrentabilidad_annual', 'lag_3_mrentabilidad_annual', 'lag_1_Visa_msaldopesos', 'lag_2_Visa_msaldopesos', 'lag_3_Visa_msaldopesos', 'lag_1_mpayroll', 'lag_2_mpayroll', 'lag_3_mpayroll', 'lag_1_Master_status', 'lag_2_Master_status', 'lag_3_Master_status', 'lag_1_mactivos_margen', 'lag_2_mactivos_margen', 'lag_3_mactivos_margen', 'lag_1_Visa_status', 'lag_2_Visa_status', 'lag_3_Visa_status', 'lag_1_ctarjeta_visa', 'lag_2_ctarjeta_visa', 'lag_3_ctarjeta_visa', 'lag_1_mcomisiones_mantenimiento', 'lag_2_mcomisiones_mantenimiento', 'lag_3_mcomisiones_mantenimiento', 'lag_1_ctarjeta_master', 'lag_2_ctarjeta_master', 'lag_3_ctarjeta_master', 'lag_1_tcallcenter', 'lag_2_tcallcenter', 'lag_3_tcallcenter', 'lag_1_mcomisiones', 'lag_2_mcomisiones', 'lag_3_mcomisiones', 'lag_1_Visa_msaldototal', 'lag_2_Visa_msaldototal', 'lag_3_Visa_msaldototal', 'lag_1_chomebanking_transacciones', 'lag_2_chomebanking_transacciones', 'lag_3_chomebanking_transacciones', 'lag_1_cproductos', 'lag_2_cproductos', 'lag_3_cproductos', 'lag_1_internet', 'lag_2_internet', 'lag_3_internet', 'lag_1_Master_Fvencimiento', 'lag_2_Master_Fvencimiento', 'lag_3_Master_Fvencimiento', 'lag_1_ccallcenter_transacciones', 'lag_2_ccallcenter_transacciones', 'lag_3_ccallcenter_transacciones', 'lag_1_ccajas_consultas', 'lag_2_ccajas_consultas', 'lag_3_ccajas_consultas', 'lag_1_Master_mfinanciacion_limite', 'lag_2_Master_mfinanciacion_limite', 'lag_3_Master_mfinanciacion_limite', 'lag_1_mautoservicio', 'lag_2_mautoservicio', 'lag_3_mautoservicio', 'lag_1_mrentabilidad', 'lag_2_mrentabilidad', 'lag_3_mrentabilidad', 'lag_1_Visa_mpagospesos', 'lag_2_Visa_mpagospesos', 'lag_3_Visa_mpagospesos', 'lag_1_Visa_Fvencimiento', 'lag_2_Visa_Fvencimiento', 'lag_3_Visa_Fvencimiento', 'lag_1_ccomisiones_otras', 'lag_2_ccomisiones_otras', 'lag_3_ccomisiones_otras', 'lag_1_Visa_mfinanciacion_limite', 'lag_2_Visa_mfinanciacion_limite', 'lag_3_Visa_mfinanciacion_limite', 'lag_1_cdescubierto_preacordado', 'lag_2_cdescubierto_preacordado', 'lag_3_cdescubierto_preacordado', 'lag_1_mtransferencias_recibidas', 'lag_2_mtransferencias_recibidas', 'lag_3_mtransferencias_recibidas', 'lag_1_Visa_mpagominimo', 'lag_2_Visa_mpagominimo', 'lag_3_Visa_mpagominimo', 'lag_1_ccomisiones_mantenimiento', 'lag_2_ccomisiones_mantenimiento', 'lag_3_ccomisiones_mantenimiento', 'lag_1_Visa_mconsumospesos', 'lag_2_Visa_mconsumospesos', 'lag_3_Visa_mconsumospesos', 'lag_1_mcomisiones_otras', 'lag_2_mcomisiones_otras', 'lag_3_mcomisiones_otras', 'lag_1_mcaja_ahorro_dolares', 'lag_2_mcaja_ahorro_dolares', 'lag_3_mcaja_ahorro_dolares', 'lag_1_Master_mlimitecompra', 'lag_2_Master_mlimitecompra', 'lag_3_Master_mlimitecompra', 'lag_1_cmobile_app_trx', 'lag_2_cmobile_app_trx', 'lag_3_cmobile_app_trx', 'lag_1_Master_mpagominimo', 'lag_2_Master_mpagominimo', 'lag_3_Master_mpagominimo', 'lag_1_ccajas_transacciones', 'lag_2_ccajas_transacciones', 'lag_3_ccajas_transacciones', 'delta_1m_ctrx_quarter', 'delta_1m_mcaja_ahorro', 'delta_1m_mpasivos_margen', 'delta_1m_mcuentas_saldo', 'delta_1m_cpayroll_trx', 'delta_1m_mprestamos_personales', 'delta_1m_mtarjeta_visa_consumo', 'delta_1m_mcuenta_corriente', 'delta_1m_cprestamos_personales', 'delta_1m_ctarjeta_visa_transacciones', 'delta_1m_mrentabilidad_annual', 'delta_1m_Visa_msaldopesos', 'delta_1m_mpayroll', 'delta_1m_Master_status', 'delta_1m_mactivos_margen', 'delta_1m_Visa_status', 'delta_1m_ctarjeta_visa', 'delta_1m_mcomisiones_mantenimiento', 'delta_1m_ctarjeta_master', 'delta_1m_tcallcenter', 'delta_1m_mcomisiones', 'delta_1m_Visa_msaldototal', 'delta_1m_chomebanking_transacciones', 'delta_1m_cproductos', 'delta_1m_internet', 'delta_1m_Master_Fvencimiento', 'delta_1m_ccallcenter_transacciones', 'delta_1m_ccajas_consultas', 'delta_1m_Master_mfinanciacion_limite', 'delta_1m_mautoservicio', 'delta_1m_mrentabilidad', 'delta_1m_Visa_mpagospesos', 'delta_1m_Visa_Fvencimiento', 'delta_1m_ccomisiones_otras', 'delta_1m_Visa_mfinanciacion_limite', 'delta_1m_cdescubierto_preacordado', 'delta_1m_mtransferencias_recibidas', 'delta_1m_Visa_mpagominimo', 'delta_1m_ccomisiones_mantenimiento', 'delta_1m_Visa_mconsumospesos', 'delta_1m_mcomisiones_otras', 'delta_1m_mcaja_ahorro_dolares', 'delta_1m_Master_mlimitecompra', 'delta_1m_cmobile_app_trx', 'delta_1m_Master_mpagominimo', 'delta_1m_ccajas_transacciones', 'delta_2m_ctrx_quarter', 'delta_2m_mcaja_ahorro', 'delta_2m_mpasivos_margen', 'delta_2m_mcuentas_saldo', 'delta_2m_cpayroll_trx', 'delta_2m_mprestamos_personales', 'delta_2m_mtarjeta_visa_consumo', 'delta_2m_mcuenta_corriente', 'delta_2m_cprestamos_personales', 'delta_2m_ctarjeta_visa_transacciones', 'delta_2m_mrentabilidad_annual', 'delta_2m_Visa_msaldopesos', 'delta_2m_mpayroll', 'delta_2m_Master_status', 'delta_2m_mactivos_margen', 'delta_2m_Visa_status', 'delta_2m_ctarjeta_visa', 'delta_2m_mcomisiones_mantenimiento', 'delta_2m_ctarjeta_master', 'delta_2m_tcallcenter', 'delta_2m_mcomisiones', 'delta_2m_Visa_msaldototal', 'delta_2m_chomebanking_transacciones', 'delta_2m_cproductos', 'delta_2m_internet', 'delta_2m_Master_Fvencimiento', 'delta_2m_ccallcenter_transacciones', 'delta_2m_ccajas_consultas', 'delta_2m_Master_mfinanciacion_limite', 'delta_2m_mautoservicio', 'delta_2m_mrentabilidad', 'delta_2m_Visa_mpagospesos', 'delta_2m_Visa_Fvencimiento', 'delta_2m_ccomisiones_otras', 'delta_2m_Visa_mfinanciacion_limite', 'delta_2m_cdescubierto_preacordado', 'delta_2m_mtransferencias_recibidas', 'delta_2m_Visa_mpagominimo', 'delta_2m_ccomisiones_mantenimiento', 'delta_2m_Visa_mconsumospesos', 'delta_2m_mcomisiones_otras', 'delta_2m_mcaja_ahorro_dolares', 'delta_2m_Master_mlimitecompra', 'delta_2m_cmobile_app_trx', 'delta_2m_Master_mpagominimo', 'delta_2m_ccajas_transacciones', 'delta_3m_ctrx_quarter', 'delta_3m_mcaja_ahorro', 'delta_3m_mpasivos_margen', 'delta_3m_mcuentas_saldo', 'delta_3m_cpayroll_trx', 'delta_3m_mprestamos_personales', 'delta_3m_mtarjeta_visa_consumo', 'delta_3m_mcuenta_corriente', 'delta_3m_cprestamos_personales', 'delta_3m_ctarjeta_visa_transacciones', 'delta_3m_mrentabilidad_annual', 'delta_3m_Visa_msaldopesos', 'delta_3m_mpayroll', 'delta_3m_Master_status', 'delta_3m_mactivos_margen', 'delta_3m_Visa_status', 'delta_3m_ctarjeta_visa', 'delta_3m_mcomisiones_mantenimiento', 'delta_3m_ctarjeta_master', 'delta_3m_tcallcenter', 'delta_3m_mcomisiones', 'delta_3m_Visa_msaldototal', 'delta_3m_chomebanking_transacciones', 'delta_3m_cproductos', 'delta_3m_internet', 'delta_3m_Master_Fvencimiento', 'delta_3m_ccallcenter_transacciones', 'delta_3m_ccajas_consultas', 'delta_3m_Master_mfinanciacion_limite', 'delta_3m_mautoservicio', 'delta_3m_mrentabilidad', 'delta_3m_Visa_mpagospesos', 'delta_3m_Visa_Fvencimiento', 'delta_3m_ccomisiones_otras', 'delta_3m_Visa_mfinanciacion_limite', 'delta_3m_cdescubierto_preacordado', 'delta_3m_mtransferencias_recibidas', 'delta_3m_Visa_mpagominimo', 'delta_3m_ccomisiones_mantenimiento', 'delta_3m_Visa_mconsumospesos', 'delta_3m_mcomisiones_otras', 'delta_3m_mcaja_ahorro_dolares', 'delta_3m_Master_mlimitecompra', 'delta_3m_cmobile_app_trx', 'delta_3m_Master_mpagominimo', 'delta_3m_ccajas_transacciones', 'ratio_ctrx_quarter_vs_prev', 'ratio_mcaja_ahorro_vs_prev', 'ratio_mpasivos_margen_vs_prev', 'ratio_mcuentas_saldo_vs_prev', 'ratio_cpayroll_trx_vs_prev', 'ratio_mprestamos_personales_vs_prev', 'ratio_mtarjeta_visa_consumo_vs_prev', 'ratio_mcuenta_corriente_vs_prev', 'ratio_cprestamos_personales_vs_prev', 'ratio_ctarjeta_visa_transacciones_vs_prev', 'ratio_mrentabilidad_annual_vs_prev', 'ratio_Visa_msaldopesos_vs_prev', 'ratio_mpayroll_vs_prev', 'ratio_Master_status_vs_prev', 'ratio_mactivos_margen_vs_prev', 'ratio_Visa_status_vs_prev', 'ratio_ctarjeta_visa_vs_prev', 'ratio_mcomisiones_mantenimiento_vs_prev', 'ratio_ctarjeta_master_vs_prev', 'ratio_tcallcenter_vs_prev', 'ratio_mcomisiones_vs_prev', 'ratio_Visa_msaldototal_vs_prev', 'ratio_chomebanking_transacciones_vs_prev', 'ratio_cproductos_vs_prev', 'ratio_internet_vs_prev', 'ratio_Master_Fvencimiento_vs_prev', 'ratio_ccallcenter_transacciones_vs_prev', 'ratio_ccajas_consultas_vs_prev', 'ratio_Master_mfinanciacion_limite_vs_prev', 'ratio_mautoservicio_vs_prev', 'ratio_mrentabilidad_vs_prev', 'ratio_Visa_mpagospesos_vs_prev', 'ratio_Visa_Fvencimiento_vs_prev', 'ratio_ccomisiones_otras_vs_prev', 'ratio_Visa_mfinanciacion_limite_vs_prev', 'ratio_cdescubierto_preacordado_vs_prev', 'ratio_mtransferencias_recibidas_vs_prev', 'ratio_Visa_mpagominimo_vs_prev', 'ratio_ccomisiones_mantenimiento_vs_prev', 'ratio_Visa_mconsumospesos_vs_prev', 'ratio_mcomisiones_otras_vs_prev', 'ratio_mcaja_ahorro_dolares_vs_prev', 'ratio_Master_mlimitecompra_vs_prev', 'ratio_cmobile_app_trx_vs_prev', 'ratio_Master_mpagominimo_vs_prev', 'ratio_ccajas_transacciones_vs_prev', 'std_ctrx_quarter', 'std_mcaja_ahorro', 'std_mpasivos_margen', 'std_mcuentas_saldo', 'std_cpayroll_trx', 'std_mprestamos_personales', 'std_mtarjeta_visa_consumo', 'std_mcuenta_corriente', 'std_cprestamos_personales', 'std_ctarjeta_visa_transacciones', 'std_mrentabilidad_annual', 'std_Visa_msaldopesos', 'std_mpayroll', 'std_Master_status', 'std_mactivos_margen']\n"
          ]
        }
      ]
    },
    {
      "cell_type": "markdown",
      "source": [
        "# min"
      ],
      "metadata": {
        "id": "uw5VAtmW4jAr"
      }
    },
    {
      "cell_type": "code",
      "source": [
        "min_feats = ',\\n'.join([\n",
        "    f\"min({lag_feature}) over (partition by numero_de_cliente order by foto_mes rows between 3 preceding and 1 preceding) as min_{lag_feature}\"\n",
        "    for lag_feature in lags\n",
        "])\n",
        "\n",
        "min_vars = [f\"min_{lag_feature}\" for lag_feature in lags]\n"
      ],
      "metadata": {
        "id": "_uwB0z1H6Vzq"
      },
      "execution_count": null,
      "outputs": []
    },
    {
      "cell_type": "code",
      "source": [
        "query = f\"\"\"create or replace table competencia_01 as\n",
        "select *,\n",
        "    {min_feats}\n",
        "from competencia_01\"\"\""
      ],
      "metadata": {
        "id": "vVj4whnA9K0m"
      },
      "execution_count": null,
      "outputs": []
    },
    {
      "cell_type": "code",
      "source": [
        "#con.execute(query)"
      ],
      "metadata": {
        "id": "0kIde9Gdou_g"
      },
      "execution_count": null,
      "outputs": []
    },
    {
      "cell_type": "code",
      "source": [
        "query = \"\"\"select * from competencia_01 limit 5\"\"\"\n",
        "df = con.execute(query).fetchdf()\n",
        "print((list(df.columns)))"
      ],
      "metadata": {
        "colab": {
          "base_uri": "https://localhost:8080/"
        },
        "id": "vUdI51NOo8aQ",
        "outputId": "6c7e8f02-ad93-497a-cff9-c82066ff2238"
      },
      "execution_count": null,
      "outputs": [
        {
          "output_type": "stream",
          "name": "stdout",
          "text": [
            "['numero_de_cliente', 'foto_mes', 'active_quarter', 'cliente_vip', 'internet', 'cliente_edad', 'cliente_antiguedad', 'mrentabilidad', 'mrentabilidad_annual', 'mcomisiones', 'mactivos_margen', 'mpasivos_margen', 'cproductos', 'tcuentas', 'ccuenta_corriente', 'mcuenta_corriente_adicional', 'mcuenta_corriente', 'ccaja_ahorro', 'mcaja_ahorro', 'mcaja_ahorro_adicional', 'mcaja_ahorro_dolares', 'cdescubierto_preacordado', 'mcuentas_saldo', 'ctarjeta_debito', 'ctarjeta_debito_transacciones', 'mautoservicio', 'ctarjeta_visa', 'ctarjeta_visa_transacciones', 'mtarjeta_visa_consumo', 'ctarjeta_master', 'ctarjeta_master_transacciones', 'mtarjeta_master_consumo', 'cprestamos_personales', 'mprestamos_personales', 'cprestamos_prendarios', 'mprestamos_prendarios', 'cprestamos_hipotecarios', 'mprestamos_hipotecarios', 'cplazo_fijo', 'mplazo_fijo_dolares', 'mplazo_fijo_pesos', 'cinversion1', 'minversion1_pesos', 'minversion1_dolares', 'cinversion2', 'minversion2', 'cseguro_vida', 'cseguro_auto', 'cseguro_vivienda', 'cseguro_accidentes_personales', 'ccaja_seguridad', 'cpayroll_trx', 'mpayroll', 'mpayroll2', 'cpayroll2_trx', 'ccuenta_debitos_automaticos', 'mcuenta_debitos_automaticos', 'ctarjeta_visa_debitos_automaticos', 'mttarjeta_visa_debitos_automaticos', 'ctarjeta_master_debitos_automaticos', 'mttarjeta_master_debitos_automaticos', 'cpagodeservicios', 'mpagodeservicios', 'cpagomiscuentas', 'mpagomiscuentas', 'ccajeros_propios_descuentos', 'mcajeros_propios_descuentos', 'ctarjeta_visa_descuentos', 'mtarjeta_visa_descuentos', 'ctarjeta_master_descuentos', 'mtarjeta_master_descuentos', 'ccomisiones_mantenimiento', 'mcomisiones_mantenimiento', 'ccomisiones_otras', 'mcomisiones_otras', 'cforex', 'cforex_buy', 'mforex_buy', 'cforex_sell', 'mforex_sell', 'ctransferencias_recibidas', 'mtransferencias_recibidas', 'ctransferencias_emitidas', 'mtransferencias_emitidas', 'cextraccion_autoservicio', 'mextraccion_autoservicio', 'ccheques_depositados', 'mcheques_depositados', 'ccheques_emitidos', 'mcheques_emitidos', 'ccheques_depositados_rechazados', 'mcheques_depositados_rechazados', 'ccheques_emitidos_rechazados', 'mcheques_emitidos_rechazados', 'tcallcenter', 'ccallcenter_transacciones', 'thomebanking', 'chomebanking_transacciones', 'ccajas_transacciones', 'ccajas_consultas', 'ccajas_depositos', 'ccajas_extracciones', 'ccajas_otras', 'catm_trx', 'matm', 'catm_trx_other', 'matm_other', 'ctrx_quarter', 'tmobile_app', 'cmobile_app_trx', 'Master_delinquency', 'Master_status', 'Master_mfinanciacion_limite', 'Master_Fvencimiento', 'Master_Finiciomora', 'Master_msaldototal', 'Master_msaldopesos', 'Master_msaldodolares', 'Master_mconsumospesos', 'Master_mconsumosdolares', 'Master_mlimitecompra', 'Master_madelantopesos', 'Master_madelantodolares', 'Master_fultimo_cierre', 'Master_mpagado', 'Master_mpagospesos', 'Master_mpagosdolares', 'Master_fechaalta', 'Master_mconsumototal', 'Master_cconsumos', 'Master_cadelantosefectivo', 'Master_mpagominimo', 'Visa_delinquency', 'Visa_status', 'Visa_mfinanciacion_limite', 'Visa_Fvencimiento', 'Visa_Finiciomora', 'Visa_msaldototal', 'Visa_msaldopesos', 'Visa_msaldodolares', 'Visa_mconsumospesos', 'Visa_mconsumosdolares', 'Visa_mlimitecompra', 'Visa_madelantopesos', 'Visa_madelantodolares', 'Visa_fultimo_cierre', 'Visa_mpagado', 'Visa_mpagospesos', 'Visa_mpagosdolares', 'Visa_fechaalta', 'Visa_mconsumototal', 'Visa_cconsumos', 'Visa_cadelantosefectivo', 'Visa_mpagominimo', 'clase_ternaria', 'lag_1_ctrx_quarter', 'lag_2_ctrx_quarter', 'lag_3_ctrx_quarter', 'lag_1_mcaja_ahorro', 'lag_2_mcaja_ahorro', 'lag_3_mcaja_ahorro', 'lag_1_mpasivos_margen', 'lag_2_mpasivos_margen', 'lag_3_mpasivos_margen', 'lag_1_mcuentas_saldo', 'lag_2_mcuentas_saldo', 'lag_3_mcuentas_saldo', 'lag_1_cpayroll_trx', 'lag_2_cpayroll_trx', 'lag_3_cpayroll_trx', 'lag_1_mprestamos_personales', 'lag_2_mprestamos_personales', 'lag_3_mprestamos_personales', 'lag_1_mtarjeta_visa_consumo', 'lag_2_mtarjeta_visa_consumo', 'lag_3_mtarjeta_visa_consumo', 'lag_1_mcuenta_corriente', 'lag_2_mcuenta_corriente', 'lag_3_mcuenta_corriente', 'lag_1_cprestamos_personales', 'lag_2_cprestamos_personales', 'lag_3_cprestamos_personales', 'lag_1_ctarjeta_visa_transacciones', 'lag_2_ctarjeta_visa_transacciones', 'lag_3_ctarjeta_visa_transacciones', 'lag_1_mrentabilidad_annual', 'lag_2_mrentabilidad_annual', 'lag_3_mrentabilidad_annual', 'lag_1_Visa_msaldopesos', 'lag_2_Visa_msaldopesos', 'lag_3_Visa_msaldopesos', 'lag_1_mpayroll', 'lag_2_mpayroll', 'lag_3_mpayroll', 'lag_1_Master_status', 'lag_2_Master_status', 'lag_3_Master_status', 'lag_1_mactivos_margen', 'lag_2_mactivos_margen', 'lag_3_mactivos_margen', 'lag_1_Visa_status', 'lag_2_Visa_status', 'lag_3_Visa_status', 'lag_1_ctarjeta_visa', 'lag_2_ctarjeta_visa', 'lag_3_ctarjeta_visa', 'lag_1_mcomisiones_mantenimiento', 'lag_2_mcomisiones_mantenimiento', 'lag_3_mcomisiones_mantenimiento', 'lag_1_ctarjeta_master', 'lag_2_ctarjeta_master', 'lag_3_ctarjeta_master', 'lag_1_tcallcenter', 'lag_2_tcallcenter', 'lag_3_tcallcenter', 'lag_1_mcomisiones', 'lag_2_mcomisiones', 'lag_3_mcomisiones', 'lag_1_Visa_msaldototal', 'lag_2_Visa_msaldototal', 'lag_3_Visa_msaldototal', 'lag_1_chomebanking_transacciones', 'lag_2_chomebanking_transacciones', 'lag_3_chomebanking_transacciones', 'lag_1_cproductos', 'lag_2_cproductos', 'lag_3_cproductos', 'lag_1_internet', 'lag_2_internet', 'lag_3_internet', 'lag_1_Master_Fvencimiento', 'lag_2_Master_Fvencimiento', 'lag_3_Master_Fvencimiento', 'lag_1_ccallcenter_transacciones', 'lag_2_ccallcenter_transacciones', 'lag_3_ccallcenter_transacciones', 'lag_1_ccajas_consultas', 'lag_2_ccajas_consultas', 'lag_3_ccajas_consultas', 'lag_1_Master_mfinanciacion_limite', 'lag_2_Master_mfinanciacion_limite', 'lag_3_Master_mfinanciacion_limite', 'lag_1_mautoservicio', 'lag_2_mautoservicio', 'lag_3_mautoservicio', 'lag_1_mrentabilidad', 'lag_2_mrentabilidad', 'lag_3_mrentabilidad', 'lag_1_Visa_mpagospesos', 'lag_2_Visa_mpagospesos', 'lag_3_Visa_mpagospesos', 'lag_1_Visa_Fvencimiento', 'lag_2_Visa_Fvencimiento', 'lag_3_Visa_Fvencimiento', 'lag_1_ccomisiones_otras', 'lag_2_ccomisiones_otras', 'lag_3_ccomisiones_otras', 'lag_1_Visa_mfinanciacion_limite', 'lag_2_Visa_mfinanciacion_limite', 'lag_3_Visa_mfinanciacion_limite', 'lag_1_cdescubierto_preacordado', 'lag_2_cdescubierto_preacordado', 'lag_3_cdescubierto_preacordado', 'lag_1_mtransferencias_recibidas', 'lag_2_mtransferencias_recibidas', 'lag_3_mtransferencias_recibidas', 'lag_1_Visa_mpagominimo', 'lag_2_Visa_mpagominimo', 'lag_3_Visa_mpagominimo', 'lag_1_ccomisiones_mantenimiento', 'lag_2_ccomisiones_mantenimiento', 'lag_3_ccomisiones_mantenimiento', 'lag_1_Visa_mconsumospesos', 'lag_2_Visa_mconsumospesos', 'lag_3_Visa_mconsumospesos', 'lag_1_mcomisiones_otras', 'lag_2_mcomisiones_otras', 'lag_3_mcomisiones_otras', 'lag_1_mcaja_ahorro_dolares', 'lag_2_mcaja_ahorro_dolares', 'lag_3_mcaja_ahorro_dolares', 'lag_1_Master_mlimitecompra', 'lag_2_Master_mlimitecompra', 'lag_3_Master_mlimitecompra', 'lag_1_cmobile_app_trx', 'lag_2_cmobile_app_trx', 'lag_3_cmobile_app_trx', 'lag_1_Master_mpagominimo', 'lag_2_Master_mpagominimo', 'lag_3_Master_mpagominimo', 'lag_1_ccajas_transacciones', 'lag_2_ccajas_transacciones', 'lag_3_ccajas_transacciones', 'delta_1m_ctrx_quarter', 'delta_1m_mcaja_ahorro', 'delta_1m_mpasivos_margen', 'delta_1m_mcuentas_saldo', 'delta_1m_cpayroll_trx', 'delta_1m_mprestamos_personales', 'delta_1m_mtarjeta_visa_consumo', 'delta_1m_mcuenta_corriente', 'delta_1m_cprestamos_personales', 'delta_1m_ctarjeta_visa_transacciones', 'delta_1m_mrentabilidad_annual', 'delta_1m_Visa_msaldopesos', 'delta_1m_mpayroll', 'delta_1m_Master_status', 'delta_1m_mactivos_margen', 'delta_1m_Visa_status', 'delta_1m_ctarjeta_visa', 'delta_1m_mcomisiones_mantenimiento', 'delta_1m_ctarjeta_master', 'delta_1m_tcallcenter', 'delta_1m_mcomisiones', 'delta_1m_Visa_msaldototal', 'delta_1m_chomebanking_transacciones', 'delta_1m_cproductos', 'delta_1m_internet', 'delta_1m_Master_Fvencimiento', 'delta_1m_ccallcenter_transacciones', 'delta_1m_ccajas_consultas', 'delta_1m_Master_mfinanciacion_limite', 'delta_1m_mautoservicio', 'delta_1m_mrentabilidad', 'delta_1m_Visa_mpagospesos', 'delta_1m_Visa_Fvencimiento', 'delta_1m_ccomisiones_otras', 'delta_1m_Visa_mfinanciacion_limite', 'delta_1m_cdescubierto_preacordado', 'delta_1m_mtransferencias_recibidas', 'delta_1m_Visa_mpagominimo', 'delta_1m_ccomisiones_mantenimiento', 'delta_1m_Visa_mconsumospesos', 'delta_1m_mcomisiones_otras', 'delta_1m_mcaja_ahorro_dolares', 'delta_1m_Master_mlimitecompra', 'delta_1m_cmobile_app_trx', 'delta_1m_Master_mpagominimo', 'delta_1m_ccajas_transacciones', 'delta_2m_ctrx_quarter', 'delta_2m_mcaja_ahorro', 'delta_2m_mpasivos_margen', 'delta_2m_mcuentas_saldo', 'delta_2m_cpayroll_trx', 'delta_2m_mprestamos_personales', 'delta_2m_mtarjeta_visa_consumo', 'delta_2m_mcuenta_corriente', 'delta_2m_cprestamos_personales', 'delta_2m_ctarjeta_visa_transacciones', 'delta_2m_mrentabilidad_annual', 'delta_2m_Visa_msaldopesos', 'delta_2m_mpayroll', 'delta_2m_Master_status', 'delta_2m_mactivos_margen', 'delta_2m_Visa_status', 'delta_2m_ctarjeta_visa', 'delta_2m_mcomisiones_mantenimiento', 'delta_2m_ctarjeta_master', 'delta_2m_tcallcenter', 'delta_2m_mcomisiones', 'delta_2m_Visa_msaldototal', 'delta_2m_chomebanking_transacciones', 'delta_2m_cproductos', 'delta_2m_internet', 'delta_2m_Master_Fvencimiento', 'delta_2m_ccallcenter_transacciones', 'delta_2m_ccajas_consultas', 'delta_2m_Master_mfinanciacion_limite', 'delta_2m_mautoservicio', 'delta_2m_mrentabilidad', 'delta_2m_Visa_mpagospesos', 'delta_2m_Visa_Fvencimiento', 'delta_2m_ccomisiones_otras', 'delta_2m_Visa_mfinanciacion_limite', 'delta_2m_cdescubierto_preacordado', 'delta_2m_mtransferencias_recibidas', 'delta_2m_Visa_mpagominimo', 'delta_2m_ccomisiones_mantenimiento', 'delta_2m_Visa_mconsumospesos', 'delta_2m_mcomisiones_otras', 'delta_2m_mcaja_ahorro_dolares', 'delta_2m_Master_mlimitecompra', 'delta_2m_cmobile_app_trx', 'delta_2m_Master_mpagominimo', 'delta_2m_ccajas_transacciones', 'delta_3m_ctrx_quarter', 'delta_3m_mcaja_ahorro', 'delta_3m_mpasivos_margen', 'delta_3m_mcuentas_saldo', 'delta_3m_cpayroll_trx', 'delta_3m_mprestamos_personales', 'delta_3m_mtarjeta_visa_consumo', 'delta_3m_mcuenta_corriente', 'delta_3m_cprestamos_personales', 'delta_3m_ctarjeta_visa_transacciones', 'delta_3m_mrentabilidad_annual', 'delta_3m_Visa_msaldopesos', 'delta_3m_mpayroll', 'delta_3m_Master_status', 'delta_3m_mactivos_margen', 'delta_3m_Visa_status', 'delta_3m_ctarjeta_visa', 'delta_3m_mcomisiones_mantenimiento', 'delta_3m_ctarjeta_master', 'delta_3m_tcallcenter', 'delta_3m_mcomisiones', 'delta_3m_Visa_msaldototal', 'delta_3m_chomebanking_transacciones', 'delta_3m_cproductos', 'delta_3m_internet', 'delta_3m_Master_Fvencimiento', 'delta_3m_ccallcenter_transacciones', 'delta_3m_ccajas_consultas', 'delta_3m_Master_mfinanciacion_limite', 'delta_3m_mautoservicio', 'delta_3m_mrentabilidad', 'delta_3m_Visa_mpagospesos', 'delta_3m_Visa_Fvencimiento', 'delta_3m_ccomisiones_otras', 'delta_3m_Visa_mfinanciacion_limite', 'delta_3m_cdescubierto_preacordado', 'delta_3m_mtransferencias_recibidas', 'delta_3m_Visa_mpagominimo', 'delta_3m_ccomisiones_mantenimiento', 'delta_3m_Visa_mconsumospesos', 'delta_3m_mcomisiones_otras', 'delta_3m_mcaja_ahorro_dolares', 'delta_3m_Master_mlimitecompra', 'delta_3m_cmobile_app_trx', 'delta_3m_Master_mpagominimo', 'delta_3m_ccajas_transacciones', 'ratio_ctrx_quarter_vs_prev', 'ratio_mcaja_ahorro_vs_prev', 'ratio_mpasivos_margen_vs_prev', 'ratio_mcuentas_saldo_vs_prev', 'ratio_cpayroll_trx_vs_prev', 'ratio_mprestamos_personales_vs_prev', 'ratio_mtarjeta_visa_consumo_vs_prev', 'ratio_mcuenta_corriente_vs_prev', 'ratio_cprestamos_personales_vs_prev', 'ratio_ctarjeta_visa_transacciones_vs_prev', 'ratio_mrentabilidad_annual_vs_prev', 'ratio_Visa_msaldopesos_vs_prev', 'ratio_mpayroll_vs_prev', 'ratio_Master_status_vs_prev', 'ratio_mactivos_margen_vs_prev', 'ratio_Visa_status_vs_prev', 'ratio_ctarjeta_visa_vs_prev', 'ratio_mcomisiones_mantenimiento_vs_prev', 'ratio_ctarjeta_master_vs_prev', 'ratio_tcallcenter_vs_prev', 'ratio_mcomisiones_vs_prev', 'ratio_Visa_msaldototal_vs_prev', 'ratio_chomebanking_transacciones_vs_prev', 'ratio_cproductos_vs_prev', 'ratio_internet_vs_prev', 'ratio_Master_Fvencimiento_vs_prev', 'ratio_ccallcenter_transacciones_vs_prev', 'ratio_ccajas_consultas_vs_prev', 'ratio_Master_mfinanciacion_limite_vs_prev', 'ratio_mautoservicio_vs_prev', 'ratio_mrentabilidad_vs_prev', 'ratio_Visa_mpagospesos_vs_prev', 'ratio_Visa_Fvencimiento_vs_prev', 'ratio_ccomisiones_otras_vs_prev', 'ratio_Visa_mfinanciacion_limite_vs_prev', 'ratio_cdescubierto_preacordado_vs_prev', 'ratio_mtransferencias_recibidas_vs_prev', 'ratio_Visa_mpagominimo_vs_prev', 'ratio_ccomisiones_mantenimiento_vs_prev', 'ratio_Visa_mconsumospesos_vs_prev', 'ratio_mcomisiones_otras_vs_prev', 'ratio_mcaja_ahorro_dolares_vs_prev', 'ratio_Master_mlimitecompra_vs_prev', 'ratio_cmobile_app_trx_vs_prev', 'ratio_Master_mpagominimo_vs_prev', 'ratio_ccajas_transacciones_vs_prev', 'std_ctrx_quarter', 'std_mcaja_ahorro', 'std_mpasivos_margen', 'std_mcuentas_saldo', 'std_cpayroll_trx', 'std_mprestamos_personales', 'std_mtarjeta_visa_consumo', 'std_mcuenta_corriente', 'std_cprestamos_personales', 'std_ctarjeta_visa_transacciones', 'std_mrentabilidad_annual', 'std_Visa_msaldopesos', 'std_mpayroll', 'std_Master_status', 'std_mactivos_margen']\n"
          ]
        }
      ]
    },
    {
      "cell_type": "markdown",
      "metadata": {
        "id": "RWtoh2jm6jbm"
      },
      "source": [
        "# tc_saldo_total"
      ]
    },
    {
      "cell_type": "code",
      "execution_count": null,
      "metadata": {
        "id": "D4BWhGiz9mXD"
      },
      "outputs": [],
      "source": [
        "# Crea campo tc_saldo_total con la suma del saldo en tarjeta Master y tarjeta Visa\n",
        "\n",
        "query = \"\"\"create or replace table competencia_01 as\n",
        "select *,\n",
        "    ifnull(Master_msaldototal, 0) + ifnull(Visa_msaldototal, 0) as tc_saldo_total\n",
        "from competencia_01\"\"\"\n",
        "\n",
        "# con.execute(query)"
      ]
    },
    {
      "cell_type": "code",
      "execution_count": null,
      "metadata": {
        "colab": {
          "base_uri": "https://localhost:8080/"
        },
        "id": "aMhIhAEFNDq3",
        "outputId": "cfeeca55-e9ef-4c7e-c3c5-a7547868c7ef"
      },
      "outputs": [
        {
          "output_type": "stream",
          "name": "stdout",
          "text": [
            "['numero_de_cliente', 'foto_mes', 'active_quarter', 'cliente_vip', 'internet', 'cliente_edad', 'cliente_antiguedad', 'mrentabilidad', 'mrentabilidad_annual', 'mcomisiones', 'mactivos_margen', 'mpasivos_margen', 'cproductos', 'tcuentas', 'ccuenta_corriente', 'mcuenta_corriente_adicional', 'mcuenta_corriente', 'ccaja_ahorro', 'mcaja_ahorro', 'mcaja_ahorro_adicional', 'mcaja_ahorro_dolares', 'cdescubierto_preacordado', 'mcuentas_saldo', 'ctarjeta_debito', 'ctarjeta_debito_transacciones', 'mautoservicio', 'ctarjeta_visa', 'ctarjeta_visa_transacciones', 'mtarjeta_visa_consumo', 'ctarjeta_master', 'ctarjeta_master_transacciones', 'mtarjeta_master_consumo', 'cprestamos_personales', 'mprestamos_personales', 'cprestamos_prendarios', 'mprestamos_prendarios', 'cprestamos_hipotecarios', 'mprestamos_hipotecarios', 'cplazo_fijo', 'mplazo_fijo_dolares', 'mplazo_fijo_pesos', 'cinversion1', 'minversion1_pesos', 'minversion1_dolares', 'cinversion2', 'minversion2', 'cseguro_vida', 'cseguro_auto', 'cseguro_vivienda', 'cseguro_accidentes_personales', 'ccaja_seguridad', 'cpayroll_trx', 'mpayroll', 'mpayroll2', 'cpayroll2_trx', 'ccuenta_debitos_automaticos', 'mcuenta_debitos_automaticos', 'ctarjeta_visa_debitos_automaticos', 'mttarjeta_visa_debitos_automaticos', 'ctarjeta_master_debitos_automaticos', 'mttarjeta_master_debitos_automaticos', 'cpagodeservicios', 'mpagodeservicios', 'cpagomiscuentas', 'mpagomiscuentas', 'ccajeros_propios_descuentos', 'mcajeros_propios_descuentos', 'ctarjeta_visa_descuentos', 'mtarjeta_visa_descuentos', 'ctarjeta_master_descuentos', 'mtarjeta_master_descuentos', 'ccomisiones_mantenimiento', 'mcomisiones_mantenimiento', 'ccomisiones_otras', 'mcomisiones_otras', 'cforex', 'cforex_buy', 'mforex_buy', 'cforex_sell', 'mforex_sell', 'ctransferencias_recibidas', 'mtransferencias_recibidas', 'ctransferencias_emitidas', 'mtransferencias_emitidas', 'cextraccion_autoservicio', 'mextraccion_autoservicio', 'ccheques_depositados', 'mcheques_depositados', 'ccheques_emitidos', 'mcheques_emitidos', 'ccheques_depositados_rechazados', 'mcheques_depositados_rechazados', 'ccheques_emitidos_rechazados', 'mcheques_emitidos_rechazados', 'tcallcenter', 'ccallcenter_transacciones', 'thomebanking', 'chomebanking_transacciones', 'ccajas_transacciones', 'ccajas_consultas', 'ccajas_depositos', 'ccajas_extracciones', 'ccajas_otras', 'catm_trx', 'matm', 'catm_trx_other', 'matm_other', 'ctrx_quarter', 'tmobile_app', 'cmobile_app_trx', 'Master_delinquency', 'Master_status', 'Master_mfinanciacion_limite', 'Master_Fvencimiento', 'Master_Finiciomora', 'Master_msaldototal', 'Master_msaldopesos', 'Master_msaldodolares', 'Master_mconsumospesos', 'Master_mconsumosdolares', 'Master_mlimitecompra', 'Master_madelantopesos', 'Master_madelantodolares', 'Master_fultimo_cierre', 'Master_mpagado', 'Master_mpagospesos', 'Master_mpagosdolares', 'Master_fechaalta', 'Master_mconsumototal', 'Master_cconsumos', 'Master_cadelantosefectivo', 'Master_mpagominimo', 'Visa_delinquency', 'Visa_status', 'Visa_mfinanciacion_limite', 'Visa_Fvencimiento', 'Visa_Finiciomora', 'Visa_msaldototal', 'Visa_msaldopesos', 'Visa_msaldodolares', 'Visa_mconsumospesos', 'Visa_mconsumosdolares', 'Visa_mlimitecompra', 'Visa_madelantopesos', 'Visa_madelantodolares', 'Visa_fultimo_cierre', 'Visa_mpagado', 'Visa_mpagospesos', 'Visa_mpagosdolares', 'Visa_fechaalta', 'Visa_mconsumototal', 'Visa_cconsumos', 'Visa_cadelantosefectivo', 'Visa_mpagominimo', 'clase_ternaria', 'lag_1_ctrx_quarter', 'lag_2_ctrx_quarter', 'lag_3_ctrx_quarter', 'lag_1_mcaja_ahorro', 'lag_2_mcaja_ahorro', 'lag_3_mcaja_ahorro', 'lag_1_mpasivos_margen', 'lag_2_mpasivos_margen', 'lag_3_mpasivos_margen', 'lag_1_mcuentas_saldo', 'lag_2_mcuentas_saldo', 'lag_3_mcuentas_saldo', 'lag_1_cpayroll_trx', 'lag_2_cpayroll_trx', 'lag_3_cpayroll_trx', 'lag_1_mprestamos_personales', 'lag_2_mprestamos_personales', 'lag_3_mprestamos_personales', 'lag_1_mtarjeta_visa_consumo', 'lag_2_mtarjeta_visa_consumo', 'lag_3_mtarjeta_visa_consumo', 'lag_1_mcuenta_corriente', 'lag_2_mcuenta_corriente', 'lag_3_mcuenta_corriente', 'lag_1_cprestamos_personales', 'lag_2_cprestamos_personales', 'lag_3_cprestamos_personales', 'lag_1_ctarjeta_visa_transacciones', 'lag_2_ctarjeta_visa_transacciones', 'lag_3_ctarjeta_visa_transacciones', 'lag_1_mrentabilidad_annual', 'lag_2_mrentabilidad_annual', 'lag_3_mrentabilidad_annual', 'lag_1_Visa_msaldopesos', 'lag_2_Visa_msaldopesos', 'lag_3_Visa_msaldopesos', 'lag_1_mpayroll', 'lag_2_mpayroll', 'lag_3_mpayroll', 'lag_1_Master_status', 'lag_2_Master_status', 'lag_3_Master_status', 'lag_1_mactivos_margen', 'lag_2_mactivos_margen', 'lag_3_mactivos_margen', 'lag_1_Visa_status', 'lag_2_Visa_status', 'lag_3_Visa_status', 'lag_1_ctarjeta_visa', 'lag_2_ctarjeta_visa', 'lag_3_ctarjeta_visa', 'lag_1_mcomisiones_mantenimiento', 'lag_2_mcomisiones_mantenimiento', 'lag_3_mcomisiones_mantenimiento', 'lag_1_ctarjeta_master', 'lag_2_ctarjeta_master', 'lag_3_ctarjeta_master', 'lag_1_tcallcenter', 'lag_2_tcallcenter', 'lag_3_tcallcenter', 'lag_1_mcomisiones', 'lag_2_mcomisiones', 'lag_3_mcomisiones', 'lag_1_Visa_msaldototal', 'lag_2_Visa_msaldototal', 'lag_3_Visa_msaldototal', 'lag_1_chomebanking_transacciones', 'lag_2_chomebanking_transacciones', 'lag_3_chomebanking_transacciones', 'lag_1_cproductos', 'lag_2_cproductos', 'lag_3_cproductos', 'lag_1_internet', 'lag_2_internet', 'lag_3_internet', 'lag_1_Master_Fvencimiento', 'lag_2_Master_Fvencimiento', 'lag_3_Master_Fvencimiento', 'lag_1_ccallcenter_transacciones', 'lag_2_ccallcenter_transacciones', 'lag_3_ccallcenter_transacciones', 'lag_1_ccajas_consultas', 'lag_2_ccajas_consultas', 'lag_3_ccajas_consultas', 'lag_1_Master_mfinanciacion_limite', 'lag_2_Master_mfinanciacion_limite', 'lag_3_Master_mfinanciacion_limite', 'lag_1_mautoservicio', 'lag_2_mautoservicio', 'lag_3_mautoservicio', 'lag_1_mrentabilidad', 'lag_2_mrentabilidad', 'lag_3_mrentabilidad', 'lag_1_Visa_mpagospesos', 'lag_2_Visa_mpagospesos', 'lag_3_Visa_mpagospesos', 'lag_1_Visa_Fvencimiento', 'lag_2_Visa_Fvencimiento', 'lag_3_Visa_Fvencimiento', 'lag_1_ccomisiones_otras', 'lag_2_ccomisiones_otras', 'lag_3_ccomisiones_otras', 'lag_1_Visa_mfinanciacion_limite', 'lag_2_Visa_mfinanciacion_limite', 'lag_3_Visa_mfinanciacion_limite', 'lag_1_cdescubierto_preacordado', 'lag_2_cdescubierto_preacordado', 'lag_3_cdescubierto_preacordado', 'lag_1_mtransferencias_recibidas', 'lag_2_mtransferencias_recibidas', 'lag_3_mtransferencias_recibidas', 'lag_1_Visa_mpagominimo', 'lag_2_Visa_mpagominimo', 'lag_3_Visa_mpagominimo', 'lag_1_ccomisiones_mantenimiento', 'lag_2_ccomisiones_mantenimiento', 'lag_3_ccomisiones_mantenimiento', 'lag_1_Visa_mconsumospesos', 'lag_2_Visa_mconsumospesos', 'lag_3_Visa_mconsumospesos', 'lag_1_mcomisiones_otras', 'lag_2_mcomisiones_otras', 'lag_3_mcomisiones_otras', 'lag_1_mcaja_ahorro_dolares', 'lag_2_mcaja_ahorro_dolares', 'lag_3_mcaja_ahorro_dolares', 'lag_1_Master_mlimitecompra', 'lag_2_Master_mlimitecompra', 'lag_3_Master_mlimitecompra', 'lag_1_cmobile_app_trx', 'lag_2_cmobile_app_trx', 'lag_3_cmobile_app_trx', 'lag_1_Master_mpagominimo', 'lag_2_Master_mpagominimo', 'lag_3_Master_mpagominimo', 'lag_1_ccajas_transacciones', 'lag_2_ccajas_transacciones', 'lag_3_ccajas_transacciones', 'delta_1m_ctrx_quarter', 'delta_1m_mcaja_ahorro', 'delta_1m_mpasivos_margen', 'delta_1m_mcuentas_saldo', 'delta_1m_cpayroll_trx', 'delta_1m_mprestamos_personales', 'delta_1m_mtarjeta_visa_consumo', 'delta_1m_mcuenta_corriente', 'delta_1m_cprestamos_personales', 'delta_1m_ctarjeta_visa_transacciones', 'delta_1m_mrentabilidad_annual', 'delta_1m_Visa_msaldopesos', 'delta_1m_mpayroll', 'delta_1m_Master_status', 'delta_1m_mactivos_margen', 'delta_1m_Visa_status', 'delta_1m_ctarjeta_visa', 'delta_1m_mcomisiones_mantenimiento', 'delta_1m_ctarjeta_master', 'delta_1m_tcallcenter', 'delta_1m_mcomisiones', 'delta_1m_Visa_msaldototal', 'delta_1m_chomebanking_transacciones', 'delta_1m_cproductos', 'delta_1m_internet', 'delta_1m_Master_Fvencimiento', 'delta_1m_ccallcenter_transacciones', 'delta_1m_ccajas_consultas', 'delta_1m_Master_mfinanciacion_limite', 'delta_1m_mautoservicio', 'delta_1m_mrentabilidad', 'delta_1m_Visa_mpagospesos', 'delta_1m_Visa_Fvencimiento', 'delta_1m_ccomisiones_otras', 'delta_1m_Visa_mfinanciacion_limite', 'delta_1m_cdescubierto_preacordado', 'delta_1m_mtransferencias_recibidas', 'delta_1m_Visa_mpagominimo', 'delta_1m_ccomisiones_mantenimiento', 'delta_1m_Visa_mconsumospesos', 'delta_1m_mcomisiones_otras', 'delta_1m_mcaja_ahorro_dolares', 'delta_1m_Master_mlimitecompra', 'delta_1m_cmobile_app_trx', 'delta_1m_Master_mpagominimo', 'delta_1m_ccajas_transacciones', 'delta_2m_ctrx_quarter', 'delta_2m_mcaja_ahorro', 'delta_2m_mpasivos_margen', 'delta_2m_mcuentas_saldo', 'delta_2m_cpayroll_trx', 'delta_2m_mprestamos_personales', 'delta_2m_mtarjeta_visa_consumo', 'delta_2m_mcuenta_corriente', 'delta_2m_cprestamos_personales', 'delta_2m_ctarjeta_visa_transacciones', 'delta_2m_mrentabilidad_annual', 'delta_2m_Visa_msaldopesos', 'delta_2m_mpayroll', 'delta_2m_Master_status', 'delta_2m_mactivos_margen', 'delta_2m_Visa_status', 'delta_2m_ctarjeta_visa', 'delta_2m_mcomisiones_mantenimiento', 'delta_2m_ctarjeta_master', 'delta_2m_tcallcenter', 'delta_2m_mcomisiones', 'delta_2m_Visa_msaldototal', 'delta_2m_chomebanking_transacciones', 'delta_2m_cproductos', 'delta_2m_internet', 'delta_2m_Master_Fvencimiento', 'delta_2m_ccallcenter_transacciones', 'delta_2m_ccajas_consultas', 'delta_2m_Master_mfinanciacion_limite', 'delta_2m_mautoservicio', 'delta_2m_mrentabilidad', 'delta_2m_Visa_mpagospesos', 'delta_2m_Visa_Fvencimiento', 'delta_2m_ccomisiones_otras', 'delta_2m_Visa_mfinanciacion_limite', 'delta_2m_cdescubierto_preacordado', 'delta_2m_mtransferencias_recibidas', 'delta_2m_Visa_mpagominimo', 'delta_2m_ccomisiones_mantenimiento', 'delta_2m_Visa_mconsumospesos', 'delta_2m_mcomisiones_otras', 'delta_2m_mcaja_ahorro_dolares', 'delta_2m_Master_mlimitecompra', 'delta_2m_cmobile_app_trx', 'delta_2m_Master_mpagominimo', 'delta_2m_ccajas_transacciones', 'delta_3m_ctrx_quarter', 'delta_3m_mcaja_ahorro', 'delta_3m_mpasivos_margen', 'delta_3m_mcuentas_saldo', 'delta_3m_cpayroll_trx', 'delta_3m_mprestamos_personales', 'delta_3m_mtarjeta_visa_consumo', 'delta_3m_mcuenta_corriente', 'delta_3m_cprestamos_personales', 'delta_3m_ctarjeta_visa_transacciones', 'delta_3m_mrentabilidad_annual', 'delta_3m_Visa_msaldopesos', 'delta_3m_mpayroll', 'delta_3m_Master_status', 'delta_3m_mactivos_margen', 'delta_3m_Visa_status', 'delta_3m_ctarjeta_visa', 'delta_3m_mcomisiones_mantenimiento', 'delta_3m_ctarjeta_master', 'delta_3m_tcallcenter', 'delta_3m_mcomisiones', 'delta_3m_Visa_msaldototal', 'delta_3m_chomebanking_transacciones', 'delta_3m_cproductos', 'delta_3m_internet', 'delta_3m_Master_Fvencimiento', 'delta_3m_ccallcenter_transacciones', 'delta_3m_ccajas_consultas', 'delta_3m_Master_mfinanciacion_limite', 'delta_3m_mautoservicio', 'delta_3m_mrentabilidad', 'delta_3m_Visa_mpagospesos', 'delta_3m_Visa_Fvencimiento', 'delta_3m_ccomisiones_otras', 'delta_3m_Visa_mfinanciacion_limite', 'delta_3m_cdescubierto_preacordado', 'delta_3m_mtransferencias_recibidas', 'delta_3m_Visa_mpagominimo', 'delta_3m_ccomisiones_mantenimiento', 'delta_3m_Visa_mconsumospesos', 'delta_3m_mcomisiones_otras', 'delta_3m_mcaja_ahorro_dolares', 'delta_3m_Master_mlimitecompra', 'delta_3m_cmobile_app_trx', 'delta_3m_Master_mpagominimo', 'delta_3m_ccajas_transacciones', 'ratio_ctrx_quarter_vs_prev', 'ratio_mcaja_ahorro_vs_prev', 'ratio_mpasivos_margen_vs_prev', 'ratio_mcuentas_saldo_vs_prev', 'ratio_cpayroll_trx_vs_prev', 'ratio_mprestamos_personales_vs_prev', 'ratio_mtarjeta_visa_consumo_vs_prev', 'ratio_mcuenta_corriente_vs_prev', 'ratio_cprestamos_personales_vs_prev', 'ratio_ctarjeta_visa_transacciones_vs_prev', 'ratio_mrentabilidad_annual_vs_prev', 'ratio_Visa_msaldopesos_vs_prev', 'ratio_mpayroll_vs_prev', 'ratio_Master_status_vs_prev', 'ratio_mactivos_margen_vs_prev', 'ratio_Visa_status_vs_prev', 'ratio_ctarjeta_visa_vs_prev', 'ratio_mcomisiones_mantenimiento_vs_prev', 'ratio_ctarjeta_master_vs_prev', 'ratio_tcallcenter_vs_prev', 'ratio_mcomisiones_vs_prev', 'ratio_Visa_msaldototal_vs_prev', 'ratio_chomebanking_transacciones_vs_prev', 'ratio_cproductos_vs_prev', 'ratio_internet_vs_prev', 'ratio_Master_Fvencimiento_vs_prev', 'ratio_ccallcenter_transacciones_vs_prev', 'ratio_ccajas_consultas_vs_prev', 'ratio_Master_mfinanciacion_limite_vs_prev', 'ratio_mautoservicio_vs_prev', 'ratio_mrentabilidad_vs_prev', 'ratio_Visa_mpagospesos_vs_prev', 'ratio_Visa_Fvencimiento_vs_prev', 'ratio_ccomisiones_otras_vs_prev', 'ratio_Visa_mfinanciacion_limite_vs_prev', 'ratio_cdescubierto_preacordado_vs_prev', 'ratio_mtransferencias_recibidas_vs_prev', 'ratio_Visa_mpagominimo_vs_prev', 'ratio_ccomisiones_mantenimiento_vs_prev', 'ratio_Visa_mconsumospesos_vs_prev', 'ratio_mcomisiones_otras_vs_prev', 'ratio_mcaja_ahorro_dolares_vs_prev', 'ratio_Master_mlimitecompra_vs_prev', 'ratio_cmobile_app_trx_vs_prev', 'ratio_Master_mpagominimo_vs_prev', 'ratio_ccajas_transacciones_vs_prev', 'std_ctrx_quarter', 'std_mcaja_ahorro', 'std_mpasivos_margen', 'std_mcuentas_saldo', 'std_cpayroll_trx', 'std_mprestamos_personales', 'std_mtarjeta_visa_consumo', 'std_mcuenta_corriente', 'std_cprestamos_personales', 'std_ctarjeta_visa_transacciones', 'std_mrentabilidad_annual', 'std_Visa_msaldopesos', 'std_mpayroll', 'std_Master_status', 'std_mactivos_margen']\n"
          ]
        }
      ],
      "source": [
        "query = \"\"\"select * from competencia_01 limit 5\"\"\"\n",
        "df = con.execute(query).fetchdf()\n",
        "print((list(df.columns)))"
      ]
    },
    {
      "cell_type": "markdown",
      "source": [
        "# guardo archivo"
      ],
      "metadata": {
        "id": "2Fk8i_gw8xaE"
      }
    },
    {
      "cell_type": "code",
      "source": [
        "cols_no_lags = [col for col in df.columns if \"lag\" not in col]"
      ],
      "metadata": {
        "id": "bmJgcJI3FyNo"
      },
      "execution_count": null,
      "outputs": []
    },
    {
      "cell_type": "code",
      "source": [
        "query = f'select {\"\\n,\".join(cols_no_lags)} from competencia_01'"
      ],
      "metadata": {
        "id": "IWPVwYLI8ynE"
      },
      "execution_count": null,
      "outputs": []
    },
    {
      "cell_type": "code",
      "source": [
        "query = f'select * from competencia_01'"
      ],
      "metadata": {
        "id": "lFntkziElsAH"
      },
      "execution_count": null,
      "outputs": []
    },
    {
      "cell_type": "code",
      "source": [
        "con.execute(f\"copy ({query}) to '/content/drive/MyDrive/EyF/fe_muerte_v6.parquet' (format parquet)\")\n"
      ],
      "metadata": {
        "id": "w4i-bIZT9aOC",
        "colab": {
          "base_uri": "https://localhost:8080/",
          "height": 67,
          "referenced_widgets": [
            "e96ec079e55d47ffbf9969f0ae8d9ab3",
            "5ac2d0ae4ff44d90b602b33b1373cd16",
            "c66f918307824ac196af890eaaa55f60"
          ]
        },
        "outputId": "f817f71b-4f7b-4550-8ff4-832d800182e3"
      },
      "execution_count": null,
      "outputs": [
        {
          "output_type": "display_data",
          "data": {
            "text/plain": [
              "FloatProgress(value=0.0, layout=Layout(width='auto'), style=ProgressStyle(bar_color='black'))"
            ],
            "application/vnd.jupyter.widget-view+json": {
              "version_major": 2,
              "version_minor": 0,
              "model_id": "e96ec079e55d47ffbf9969f0ae8d9ab3"
            }
          },
          "metadata": {}
        },
        {
          "output_type": "execute_result",
          "data": {
            "text/plain": [
              "<duckdb.duckdb.DuckDBPyConnection at 0x7e1d8fcf5e30>"
            ]
          },
          "metadata": {},
          "execution_count": 84
        }
      ]
    },
    {
      "cell_type": "code",
      "source": [
        "query = f\"\"\"select * from competencia_01 limit 5\"\"\"\n",
        "df = con.execute(query).fetchdf()\n",
        "print(list(df.columns))"
      ],
      "metadata": {
        "colab": {
          "base_uri": "https://localhost:8080/"
        },
        "id": "V5tZgSt-fEns",
        "outputId": "641b75f2-d34b-4ffa-a5a0-4bcf956a233d"
      },
      "execution_count": null,
      "outputs": [
        {
          "output_type": "stream",
          "name": "stdout",
          "text": [
            "['numero_de_cliente', 'foto_mes', 'active_quarter', 'cliente_vip', 'internet', 'cliente_edad', 'cliente_antiguedad', 'mrentabilidad', 'mrentabilidad_annual', 'mcomisiones', 'mactivos_margen', 'mpasivos_margen', 'cproductos', 'tcuentas', 'ccuenta_corriente', 'mcuenta_corriente_adicional', 'mcuenta_corriente', 'ccaja_ahorro', 'mcaja_ahorro', 'mcaja_ahorro_adicional', 'mcaja_ahorro_dolares', 'cdescubierto_preacordado', 'mcuentas_saldo', 'ctarjeta_debito', 'ctarjeta_debito_transacciones', 'mautoservicio', 'ctarjeta_visa', 'ctarjeta_visa_transacciones', 'mtarjeta_visa_consumo', 'ctarjeta_master', 'ctarjeta_master_transacciones', 'mtarjeta_master_consumo', 'cprestamos_personales', 'mprestamos_personales', 'cprestamos_prendarios', 'mprestamos_prendarios', 'cprestamos_hipotecarios', 'mprestamos_hipotecarios', 'cplazo_fijo', 'mplazo_fijo_dolares', 'mplazo_fijo_pesos', 'cinversion1', 'minversion1_pesos', 'minversion1_dolares', 'cinversion2', 'minversion2', 'cseguro_vida', 'cseguro_auto', 'cseguro_vivienda', 'cseguro_accidentes_personales', 'ccaja_seguridad', 'cpayroll_trx', 'mpayroll', 'mpayroll2', 'cpayroll2_trx', 'ccuenta_debitos_automaticos', 'mcuenta_debitos_automaticos', 'ctarjeta_visa_debitos_automaticos', 'mttarjeta_visa_debitos_automaticos', 'ctarjeta_master_debitos_automaticos', 'mttarjeta_master_debitos_automaticos', 'cpagodeservicios', 'mpagodeservicios', 'cpagomiscuentas', 'mpagomiscuentas', 'ccajeros_propios_descuentos', 'mcajeros_propios_descuentos', 'ctarjeta_visa_descuentos', 'mtarjeta_visa_descuentos', 'ctarjeta_master_descuentos', 'mtarjeta_master_descuentos', 'ccomisiones_mantenimiento', 'mcomisiones_mantenimiento', 'ccomisiones_otras', 'mcomisiones_otras', 'cforex', 'cforex_buy', 'mforex_buy', 'cforex_sell', 'mforex_sell', 'ctransferencias_recibidas', 'mtransferencias_recibidas', 'ctransferencias_emitidas', 'mtransferencias_emitidas', 'cextraccion_autoservicio', 'mextraccion_autoservicio', 'ccheques_depositados', 'mcheques_depositados', 'ccheques_emitidos', 'mcheques_emitidos', 'ccheques_depositados_rechazados', 'mcheques_depositados_rechazados', 'ccheques_emitidos_rechazados', 'mcheques_emitidos_rechazados', 'tcallcenter', 'ccallcenter_transacciones', 'thomebanking', 'chomebanking_transacciones', 'ccajas_transacciones', 'ccajas_consultas', 'ccajas_depositos', 'ccajas_extracciones', 'ccajas_otras', 'catm_trx', 'matm', 'catm_trx_other', 'matm_other', 'ctrx_quarter', 'tmobile_app', 'cmobile_app_trx', 'Master_delinquency', 'Master_status', 'Master_mfinanciacion_limite', 'Master_Fvencimiento', 'Master_Finiciomora', 'Master_msaldototal', 'Master_msaldopesos', 'Master_msaldodolares', 'Master_mconsumospesos', 'Master_mconsumosdolares', 'Master_mlimitecompra', 'Master_madelantopesos', 'Master_madelantodolares', 'Master_fultimo_cierre', 'Master_mpagado', 'Master_mpagospesos', 'Master_mpagosdolares', 'Master_fechaalta', 'Master_mconsumototal', 'Master_cconsumos', 'Master_cadelantosefectivo', 'Master_mpagominimo', 'Visa_delinquency', 'Visa_status', 'Visa_mfinanciacion_limite', 'Visa_Fvencimiento', 'Visa_Finiciomora', 'Visa_msaldototal', 'Visa_msaldopesos', 'Visa_msaldodolares', 'Visa_mconsumospesos', 'Visa_mconsumosdolares', 'Visa_mlimitecompra', 'Visa_madelantopesos', 'Visa_madelantodolares', 'Visa_fultimo_cierre', 'Visa_mpagado', 'Visa_mpagospesos', 'Visa_mpagosdolares', 'Visa_fechaalta', 'Visa_mconsumototal', 'Visa_cconsumos', 'Visa_cadelantosefectivo', 'Visa_mpagominimo', 'clase_ternaria', 'lag_1_ctrx_quarter', 'lag_2_ctrx_quarter', 'lag_3_ctrx_quarter', 'lag_1_mcaja_ahorro', 'lag_2_mcaja_ahorro', 'lag_3_mcaja_ahorro', 'lag_1_mpasivos_margen', 'lag_2_mpasivos_margen', 'lag_3_mpasivos_margen', 'lag_1_mcuentas_saldo', 'lag_2_mcuentas_saldo', 'lag_3_mcuentas_saldo', 'lag_1_cpayroll_trx', 'lag_2_cpayroll_trx', 'lag_3_cpayroll_trx', 'lag_1_mprestamos_personales', 'lag_2_mprestamos_personales', 'lag_3_mprestamos_personales', 'lag_1_mtarjeta_visa_consumo', 'lag_2_mtarjeta_visa_consumo', 'lag_3_mtarjeta_visa_consumo', 'lag_1_mcuenta_corriente', 'lag_2_mcuenta_corriente', 'lag_3_mcuenta_corriente', 'lag_1_cprestamos_personales', 'lag_2_cprestamos_personales', 'lag_3_cprestamos_personales', 'lag_1_ctarjeta_visa_transacciones', 'lag_2_ctarjeta_visa_transacciones', 'lag_3_ctarjeta_visa_transacciones', 'lag_1_mrentabilidad_annual', 'lag_2_mrentabilidad_annual', 'lag_3_mrentabilidad_annual', 'lag_1_Visa_msaldopesos', 'lag_2_Visa_msaldopesos', 'lag_3_Visa_msaldopesos', 'lag_1_mpayroll', 'lag_2_mpayroll', 'lag_3_mpayroll', 'lag_1_Master_status', 'lag_2_Master_status', 'lag_3_Master_status', 'lag_1_mactivos_margen', 'lag_2_mactivos_margen', 'lag_3_mactivos_margen', 'lag_1_Visa_status', 'lag_2_Visa_status', 'lag_3_Visa_status', 'lag_1_ctarjeta_visa', 'lag_2_ctarjeta_visa', 'lag_3_ctarjeta_visa', 'lag_1_mcomisiones_mantenimiento', 'lag_2_mcomisiones_mantenimiento', 'lag_3_mcomisiones_mantenimiento', 'lag_1_ctarjeta_master', 'lag_2_ctarjeta_master', 'lag_3_ctarjeta_master', 'lag_1_tcallcenter', 'lag_2_tcallcenter', 'lag_3_tcallcenter', 'lag_1_mcomisiones', 'lag_2_mcomisiones', 'lag_3_mcomisiones', 'lag_1_Visa_msaldototal', 'lag_2_Visa_msaldototal', 'lag_3_Visa_msaldototal', 'lag_1_chomebanking_transacciones', 'lag_2_chomebanking_transacciones', 'lag_3_chomebanking_transacciones', 'lag_1_cproductos', 'lag_2_cproductos', 'lag_3_cproductos', 'lag_1_internet', 'lag_2_internet', 'lag_3_internet', 'lag_1_Master_Fvencimiento', 'lag_2_Master_Fvencimiento', 'lag_3_Master_Fvencimiento', 'lag_1_ccallcenter_transacciones', 'lag_2_ccallcenter_transacciones', 'lag_3_ccallcenter_transacciones', 'lag_1_ccajas_consultas', 'lag_2_ccajas_consultas', 'lag_3_ccajas_consultas', 'lag_1_Master_mfinanciacion_limite', 'lag_2_Master_mfinanciacion_limite', 'lag_3_Master_mfinanciacion_limite', 'lag_1_mautoservicio', 'lag_2_mautoservicio', 'lag_3_mautoservicio', 'lag_1_mrentabilidad', 'lag_2_mrentabilidad', 'lag_3_mrentabilidad', 'lag_1_Visa_mpagospesos', 'lag_2_Visa_mpagospesos', 'lag_3_Visa_mpagospesos', 'lag_1_Visa_Fvencimiento', 'lag_2_Visa_Fvencimiento', 'lag_3_Visa_Fvencimiento', 'lag_1_ccomisiones_otras', 'lag_2_ccomisiones_otras', 'lag_3_ccomisiones_otras', 'lag_1_Visa_mfinanciacion_limite', 'lag_2_Visa_mfinanciacion_limite', 'lag_3_Visa_mfinanciacion_limite', 'lag_1_cdescubierto_preacordado', 'lag_2_cdescubierto_preacordado', 'lag_3_cdescubierto_preacordado', 'lag_1_mtransferencias_recibidas', 'lag_2_mtransferencias_recibidas', 'lag_3_mtransferencias_recibidas', 'lag_1_Visa_mpagominimo', 'lag_2_Visa_mpagominimo', 'lag_3_Visa_mpagominimo', 'lag_1_ccomisiones_mantenimiento', 'lag_2_ccomisiones_mantenimiento', 'lag_3_ccomisiones_mantenimiento', 'lag_1_Visa_mconsumospesos', 'lag_2_Visa_mconsumospesos', 'lag_3_Visa_mconsumospesos', 'lag_1_mcomisiones_otras', 'lag_2_mcomisiones_otras', 'lag_3_mcomisiones_otras', 'lag_1_mcaja_ahorro_dolares', 'lag_2_mcaja_ahorro_dolares', 'lag_3_mcaja_ahorro_dolares', 'lag_1_Master_mlimitecompra', 'lag_2_Master_mlimitecompra', 'lag_3_Master_mlimitecompra', 'lag_1_cmobile_app_trx', 'lag_2_cmobile_app_trx', 'lag_3_cmobile_app_trx', 'lag_1_Master_mpagominimo', 'lag_2_Master_mpagominimo', 'lag_3_Master_mpagominimo', 'lag_1_ccajas_transacciones', 'lag_2_ccajas_transacciones', 'lag_3_ccajas_transacciones', 'delta_1m_ctrx_quarter', 'delta_1m_mcaja_ahorro', 'delta_1m_mpasivos_margen', 'delta_1m_mcuentas_saldo', 'delta_1m_cpayroll_trx', 'delta_1m_mprestamos_personales', 'delta_1m_mtarjeta_visa_consumo', 'delta_1m_mcuenta_corriente', 'delta_1m_cprestamos_personales', 'delta_1m_ctarjeta_visa_transacciones', 'delta_1m_mrentabilidad_annual', 'delta_1m_Visa_msaldopesos', 'delta_1m_mpayroll', 'delta_1m_Master_status', 'delta_1m_mactivos_margen', 'delta_1m_Visa_status', 'delta_1m_ctarjeta_visa', 'delta_1m_mcomisiones_mantenimiento', 'delta_1m_ctarjeta_master', 'delta_1m_tcallcenter', 'delta_1m_mcomisiones', 'delta_1m_Visa_msaldototal', 'delta_1m_chomebanking_transacciones', 'delta_1m_cproductos', 'delta_1m_internet', 'delta_1m_Master_Fvencimiento', 'delta_1m_ccallcenter_transacciones', 'delta_1m_ccajas_consultas', 'delta_1m_Master_mfinanciacion_limite', 'delta_1m_mautoservicio', 'delta_1m_mrentabilidad', 'delta_1m_Visa_mpagospesos', 'delta_1m_Visa_Fvencimiento', 'delta_1m_ccomisiones_otras', 'delta_1m_Visa_mfinanciacion_limite', 'delta_1m_cdescubierto_preacordado', 'delta_1m_mtransferencias_recibidas', 'delta_1m_Visa_mpagominimo', 'delta_1m_ccomisiones_mantenimiento', 'delta_1m_Visa_mconsumospesos', 'delta_1m_mcomisiones_otras', 'delta_1m_mcaja_ahorro_dolares', 'delta_1m_Master_mlimitecompra', 'delta_1m_cmobile_app_trx', 'delta_1m_Master_mpagominimo', 'delta_1m_ccajas_transacciones', 'delta_2m_ctrx_quarter', 'delta_2m_mcaja_ahorro', 'delta_2m_mpasivos_margen', 'delta_2m_mcuentas_saldo', 'delta_2m_cpayroll_trx', 'delta_2m_mprestamos_personales', 'delta_2m_mtarjeta_visa_consumo', 'delta_2m_mcuenta_corriente', 'delta_2m_cprestamos_personales', 'delta_2m_ctarjeta_visa_transacciones', 'delta_2m_mrentabilidad_annual', 'delta_2m_Visa_msaldopesos', 'delta_2m_mpayroll', 'delta_2m_Master_status', 'delta_2m_mactivos_margen', 'delta_2m_Visa_status', 'delta_2m_ctarjeta_visa', 'delta_2m_mcomisiones_mantenimiento', 'delta_2m_ctarjeta_master', 'delta_2m_tcallcenter', 'delta_2m_mcomisiones', 'delta_2m_Visa_msaldototal', 'delta_2m_chomebanking_transacciones', 'delta_2m_cproductos', 'delta_2m_internet', 'delta_2m_Master_Fvencimiento', 'delta_2m_ccallcenter_transacciones', 'delta_2m_ccajas_consultas', 'delta_2m_Master_mfinanciacion_limite', 'delta_2m_mautoservicio', 'delta_2m_mrentabilidad', 'delta_2m_Visa_mpagospesos', 'delta_2m_Visa_Fvencimiento', 'delta_2m_ccomisiones_otras', 'delta_2m_Visa_mfinanciacion_limite', 'delta_2m_cdescubierto_preacordado', 'delta_2m_mtransferencias_recibidas', 'delta_2m_Visa_mpagominimo', 'delta_2m_ccomisiones_mantenimiento', 'delta_2m_Visa_mconsumospesos', 'delta_2m_mcomisiones_otras', 'delta_2m_mcaja_ahorro_dolares', 'delta_2m_Master_mlimitecompra', 'delta_2m_cmobile_app_trx', 'delta_2m_Master_mpagominimo', 'delta_2m_ccajas_transacciones', 'delta_3m_ctrx_quarter', 'delta_3m_mcaja_ahorro', 'delta_3m_mpasivos_margen', 'delta_3m_mcuentas_saldo', 'delta_3m_cpayroll_trx', 'delta_3m_mprestamos_personales', 'delta_3m_mtarjeta_visa_consumo', 'delta_3m_mcuenta_corriente', 'delta_3m_cprestamos_personales', 'delta_3m_ctarjeta_visa_transacciones', 'delta_3m_mrentabilidad_annual', 'delta_3m_Visa_msaldopesos', 'delta_3m_mpayroll', 'delta_3m_Master_status', 'delta_3m_mactivos_margen', 'delta_3m_Visa_status', 'delta_3m_ctarjeta_visa', 'delta_3m_mcomisiones_mantenimiento', 'delta_3m_ctarjeta_master', 'delta_3m_tcallcenter', 'delta_3m_mcomisiones', 'delta_3m_Visa_msaldototal', 'delta_3m_chomebanking_transacciones', 'delta_3m_cproductos', 'delta_3m_internet', 'delta_3m_Master_Fvencimiento', 'delta_3m_ccallcenter_transacciones', 'delta_3m_ccajas_consultas', 'delta_3m_Master_mfinanciacion_limite', 'delta_3m_mautoservicio', 'delta_3m_mrentabilidad', 'delta_3m_Visa_mpagospesos', 'delta_3m_Visa_Fvencimiento', 'delta_3m_ccomisiones_otras', 'delta_3m_Visa_mfinanciacion_limite', 'delta_3m_cdescubierto_preacordado', 'delta_3m_mtransferencias_recibidas', 'delta_3m_Visa_mpagominimo', 'delta_3m_ccomisiones_mantenimiento', 'delta_3m_Visa_mconsumospesos', 'delta_3m_mcomisiones_otras', 'delta_3m_mcaja_ahorro_dolares', 'delta_3m_Master_mlimitecompra', 'delta_3m_cmobile_app_trx', 'delta_3m_Master_mpagominimo', 'delta_3m_ccajas_transacciones', 'ratio_ctrx_quarter_vs_prev', 'ratio_mcaja_ahorro_vs_prev', 'ratio_mpasivos_margen_vs_prev', 'ratio_mcuentas_saldo_vs_prev', 'ratio_cpayroll_trx_vs_prev', 'ratio_mprestamos_personales_vs_prev', 'ratio_mtarjeta_visa_consumo_vs_prev', 'ratio_mcuenta_corriente_vs_prev', 'ratio_cprestamos_personales_vs_prev', 'ratio_ctarjeta_visa_transacciones_vs_prev', 'ratio_mrentabilidad_annual_vs_prev', 'ratio_Visa_msaldopesos_vs_prev', 'ratio_mpayroll_vs_prev', 'ratio_Master_status_vs_prev', 'ratio_mactivos_margen_vs_prev', 'ratio_Visa_status_vs_prev', 'ratio_ctarjeta_visa_vs_prev', 'ratio_mcomisiones_mantenimiento_vs_prev', 'ratio_ctarjeta_master_vs_prev', 'ratio_tcallcenter_vs_prev', 'ratio_mcomisiones_vs_prev', 'ratio_Visa_msaldototal_vs_prev', 'ratio_chomebanking_transacciones_vs_prev', 'ratio_cproductos_vs_prev', 'ratio_internet_vs_prev', 'ratio_Master_Fvencimiento_vs_prev', 'ratio_ccallcenter_transacciones_vs_prev', 'ratio_ccajas_consultas_vs_prev', 'ratio_Master_mfinanciacion_limite_vs_prev', 'ratio_mautoservicio_vs_prev', 'ratio_mrentabilidad_vs_prev', 'ratio_Visa_mpagospesos_vs_prev', 'ratio_Visa_Fvencimiento_vs_prev', 'ratio_ccomisiones_otras_vs_prev', 'ratio_Visa_mfinanciacion_limite_vs_prev', 'ratio_cdescubierto_preacordado_vs_prev', 'ratio_mtransferencias_recibidas_vs_prev', 'ratio_Visa_mpagominimo_vs_prev', 'ratio_ccomisiones_mantenimiento_vs_prev', 'ratio_Visa_mconsumospesos_vs_prev', 'ratio_mcomisiones_otras_vs_prev', 'ratio_mcaja_ahorro_dolares_vs_prev', 'ratio_Master_mlimitecompra_vs_prev', 'ratio_cmobile_app_trx_vs_prev', 'ratio_Master_mpagominimo_vs_prev', 'ratio_ccajas_transacciones_vs_prev', 'std_ctrx_quarter', 'std_mcaja_ahorro', 'std_mpasivos_margen', 'std_mcuentas_saldo', 'std_cpayroll_trx', 'std_mprestamos_personales', 'std_mtarjeta_visa_consumo', 'std_mcuenta_corriente', 'std_cprestamos_personales', 'std_ctarjeta_visa_transacciones', 'std_mrentabilidad_annual', 'std_Visa_msaldopesos', 'std_mpayroll', 'std_Master_status', 'std_mactivos_margen']\n"
          ]
        }
      ]
    },
    {
      "cell_type": "code",
      "source": [
        "len(df.columns)"
      ],
      "metadata": {
        "colab": {
          "base_uri": "https://localhost:8080/"
        },
        "id": "ahKUeFl7GBHF",
        "outputId": "bf3b762a-5403-43d7-d3c5-cee6ba322ef8"
      },
      "execution_count": null,
      "outputs": [
        {
          "output_type": "execute_result",
          "data": {
            "text/plain": [
              "354"
            ]
          },
          "metadata": {},
          "execution_count": 81
        }
      ]
    }
  ],
  "metadata": {
    "colab": {
      "collapsed_sections": [
        "4NhRvEEe6CFY"
      ],
      "provenance": []
    },
    "kernelspec": {
      "display_name": "Python 3",
      "name": "python3"
    },
    "language_info": {
      "name": "python"
    },
    "widgets": {
      "application/vnd.jupyter.widget-state+json": {
        "c6b69bd32b584babb9f9569904c81f09": {
          "model_module": "@jupyter-widgets/controls",
          "model_name": "FloatProgressModel",
          "model_module_version": "1.5.0",
          "state": {
            "_dom_classes": [],
            "_model_module": "@jupyter-widgets/controls",
            "_model_module_version": "1.5.0",
            "_model_name": "FloatProgressModel",
            "_view_count": null,
            "_view_module": "@jupyter-widgets/controls",
            "_view_module_version": "1.5.0",
            "_view_name": "ProgressView",
            "bar_style": "",
            "description": "",
            "description_tooltip": null,
            "layout": "IPY_MODEL_b3efd958d5e3430b929f6dfa296034fa",
            "max": 100,
            "min": 0,
            "orientation": "horizontal",
            "style": "IPY_MODEL_9b1ead265fdd4b72bf7b321ce7b666e9",
            "value": 100
          }
        },
        "b3efd958d5e3430b929f6dfa296034fa": {
          "model_module": "@jupyter-widgets/base",
          "model_name": "LayoutModel",
          "model_module_version": "1.2.0",
          "state": {
            "_model_module": "@jupyter-widgets/base",
            "_model_module_version": "1.2.0",
            "_model_name": "LayoutModel",
            "_view_count": null,
            "_view_module": "@jupyter-widgets/base",
            "_view_module_version": "1.2.0",
            "_view_name": "LayoutView",
            "align_content": null,
            "align_items": null,
            "align_self": null,
            "border": null,
            "bottom": null,
            "display": null,
            "flex": null,
            "flex_flow": null,
            "grid_area": null,
            "grid_auto_columns": null,
            "grid_auto_flow": null,
            "grid_auto_rows": null,
            "grid_column": null,
            "grid_gap": null,
            "grid_row": null,
            "grid_template_areas": null,
            "grid_template_columns": null,
            "grid_template_rows": null,
            "height": null,
            "justify_content": null,
            "justify_items": null,
            "left": null,
            "margin": null,
            "max_height": null,
            "max_width": null,
            "min_height": null,
            "min_width": null,
            "object_fit": null,
            "object_position": null,
            "order": null,
            "overflow": null,
            "overflow_x": null,
            "overflow_y": null,
            "padding": null,
            "right": null,
            "top": null,
            "visibility": null,
            "width": "auto"
          }
        },
        "9b1ead265fdd4b72bf7b321ce7b666e9": {
          "model_module": "@jupyter-widgets/controls",
          "model_name": "ProgressStyleModel",
          "model_module_version": "1.5.0",
          "state": {
            "_model_module": "@jupyter-widgets/controls",
            "_model_module_version": "1.5.0",
            "_model_name": "ProgressStyleModel",
            "_view_count": null,
            "_view_module": "@jupyter-widgets/base",
            "_view_module_version": "1.2.0",
            "_view_name": "StyleView",
            "bar_color": "black",
            "description_width": ""
          }
        },
        "7e46e19506564a43a7b397cd9f821a95": {
          "model_module": "@jupyter-widgets/controls",
          "model_name": "FloatProgressModel",
          "model_module_version": "1.5.0",
          "state": {
            "_dom_classes": [],
            "_model_module": "@jupyter-widgets/controls",
            "_model_module_version": "1.5.0",
            "_model_name": "FloatProgressModel",
            "_view_count": null,
            "_view_module": "@jupyter-widgets/controls",
            "_view_module_version": "1.5.0",
            "_view_name": "ProgressView",
            "bar_style": "",
            "description": "",
            "description_tooltip": null,
            "layout": "IPY_MODEL_faf37a0531f94277955d0b57179044ca",
            "max": 100,
            "min": 0,
            "orientation": "horizontal",
            "style": "IPY_MODEL_c627ce8375aa455e847daf7becda3504",
            "value": 100
          }
        },
        "faf37a0531f94277955d0b57179044ca": {
          "model_module": "@jupyter-widgets/base",
          "model_name": "LayoutModel",
          "model_module_version": "1.2.0",
          "state": {
            "_model_module": "@jupyter-widgets/base",
            "_model_module_version": "1.2.0",
            "_model_name": "LayoutModel",
            "_view_count": null,
            "_view_module": "@jupyter-widgets/base",
            "_view_module_version": "1.2.0",
            "_view_name": "LayoutView",
            "align_content": null,
            "align_items": null,
            "align_self": null,
            "border": null,
            "bottom": null,
            "display": null,
            "flex": null,
            "flex_flow": null,
            "grid_area": null,
            "grid_auto_columns": null,
            "grid_auto_flow": null,
            "grid_auto_rows": null,
            "grid_column": null,
            "grid_gap": null,
            "grid_row": null,
            "grid_template_areas": null,
            "grid_template_columns": null,
            "grid_template_rows": null,
            "height": null,
            "justify_content": null,
            "justify_items": null,
            "left": null,
            "margin": null,
            "max_height": null,
            "max_width": null,
            "min_height": null,
            "min_width": null,
            "object_fit": null,
            "object_position": null,
            "order": null,
            "overflow": null,
            "overflow_x": null,
            "overflow_y": null,
            "padding": null,
            "right": null,
            "top": null,
            "visibility": null,
            "width": "auto"
          }
        },
        "c627ce8375aa455e847daf7becda3504": {
          "model_module": "@jupyter-widgets/controls",
          "model_name": "ProgressStyleModel",
          "model_module_version": "1.5.0",
          "state": {
            "_model_module": "@jupyter-widgets/controls",
            "_model_module_version": "1.5.0",
            "_model_name": "ProgressStyleModel",
            "_view_count": null,
            "_view_module": "@jupyter-widgets/base",
            "_view_module_version": "1.2.0",
            "_view_name": "StyleView",
            "bar_color": "black",
            "description_width": ""
          }
        },
        "ee2c1229ab594393a0ae0e295da44377": {
          "model_module": "@jupyter-widgets/controls",
          "model_name": "FloatProgressModel",
          "model_module_version": "1.5.0",
          "state": {
            "_dom_classes": [],
            "_model_module": "@jupyter-widgets/controls",
            "_model_module_version": "1.5.0",
            "_model_name": "FloatProgressModel",
            "_view_count": null,
            "_view_module": "@jupyter-widgets/controls",
            "_view_module_version": "1.5.0",
            "_view_name": "ProgressView",
            "bar_style": "",
            "description": "",
            "description_tooltip": null,
            "layout": "IPY_MODEL_d0dd64d277aa4d8cb0847b77daa65166",
            "max": 100,
            "min": 0,
            "orientation": "horizontal",
            "style": "IPY_MODEL_4ae3105e5d1d4c2ba9817fd5a71cf81f",
            "value": 100
          }
        },
        "d0dd64d277aa4d8cb0847b77daa65166": {
          "model_module": "@jupyter-widgets/base",
          "model_name": "LayoutModel",
          "model_module_version": "1.2.0",
          "state": {
            "_model_module": "@jupyter-widgets/base",
            "_model_module_version": "1.2.0",
            "_model_name": "LayoutModel",
            "_view_count": null,
            "_view_module": "@jupyter-widgets/base",
            "_view_module_version": "1.2.0",
            "_view_name": "LayoutView",
            "align_content": null,
            "align_items": null,
            "align_self": null,
            "border": null,
            "bottom": null,
            "display": null,
            "flex": null,
            "flex_flow": null,
            "grid_area": null,
            "grid_auto_columns": null,
            "grid_auto_flow": null,
            "grid_auto_rows": null,
            "grid_column": null,
            "grid_gap": null,
            "grid_row": null,
            "grid_template_areas": null,
            "grid_template_columns": null,
            "grid_template_rows": null,
            "height": null,
            "justify_content": null,
            "justify_items": null,
            "left": null,
            "margin": null,
            "max_height": null,
            "max_width": null,
            "min_height": null,
            "min_width": null,
            "object_fit": null,
            "object_position": null,
            "order": null,
            "overflow": null,
            "overflow_x": null,
            "overflow_y": null,
            "padding": null,
            "right": null,
            "top": null,
            "visibility": null,
            "width": "auto"
          }
        },
        "4ae3105e5d1d4c2ba9817fd5a71cf81f": {
          "model_module": "@jupyter-widgets/controls",
          "model_name": "ProgressStyleModel",
          "model_module_version": "1.5.0",
          "state": {
            "_model_module": "@jupyter-widgets/controls",
            "_model_module_version": "1.5.0",
            "_model_name": "ProgressStyleModel",
            "_view_count": null,
            "_view_module": "@jupyter-widgets/base",
            "_view_module_version": "1.2.0",
            "_view_name": "StyleView",
            "bar_color": "black",
            "description_width": ""
          }
        },
        "1b2c59293d784a0aba5bae460c169737": {
          "model_module": "@jupyter-widgets/controls",
          "model_name": "FloatProgressModel",
          "model_module_version": "1.5.0",
          "state": {
            "_dom_classes": [],
            "_model_module": "@jupyter-widgets/controls",
            "_model_module_version": "1.5.0",
            "_model_name": "FloatProgressModel",
            "_view_count": null,
            "_view_module": "@jupyter-widgets/controls",
            "_view_module_version": "1.5.0",
            "_view_name": "ProgressView",
            "bar_style": "",
            "description": "",
            "description_tooltip": null,
            "layout": "IPY_MODEL_8642e4277df5492dacfdbaeb6f089ca7",
            "max": 100,
            "min": 0,
            "orientation": "horizontal",
            "style": "IPY_MODEL_5c2f43badcad4c55b68243d82744e049",
            "value": 100
          }
        },
        "8642e4277df5492dacfdbaeb6f089ca7": {
          "model_module": "@jupyter-widgets/base",
          "model_name": "LayoutModel",
          "model_module_version": "1.2.0",
          "state": {
            "_model_module": "@jupyter-widgets/base",
            "_model_module_version": "1.2.0",
            "_model_name": "LayoutModel",
            "_view_count": null,
            "_view_module": "@jupyter-widgets/base",
            "_view_module_version": "1.2.0",
            "_view_name": "LayoutView",
            "align_content": null,
            "align_items": null,
            "align_self": null,
            "border": null,
            "bottom": null,
            "display": null,
            "flex": null,
            "flex_flow": null,
            "grid_area": null,
            "grid_auto_columns": null,
            "grid_auto_flow": null,
            "grid_auto_rows": null,
            "grid_column": null,
            "grid_gap": null,
            "grid_row": null,
            "grid_template_areas": null,
            "grid_template_columns": null,
            "grid_template_rows": null,
            "height": null,
            "justify_content": null,
            "justify_items": null,
            "left": null,
            "margin": null,
            "max_height": null,
            "max_width": null,
            "min_height": null,
            "min_width": null,
            "object_fit": null,
            "object_position": null,
            "order": null,
            "overflow": null,
            "overflow_x": null,
            "overflow_y": null,
            "padding": null,
            "right": null,
            "top": null,
            "visibility": null,
            "width": "auto"
          }
        },
        "5c2f43badcad4c55b68243d82744e049": {
          "model_module": "@jupyter-widgets/controls",
          "model_name": "ProgressStyleModel",
          "model_module_version": "1.5.0",
          "state": {
            "_model_module": "@jupyter-widgets/controls",
            "_model_module_version": "1.5.0",
            "_model_name": "ProgressStyleModel",
            "_view_count": null,
            "_view_module": "@jupyter-widgets/base",
            "_view_module_version": "1.2.0",
            "_view_name": "StyleView",
            "bar_color": "black",
            "description_width": ""
          }
        },
        "c4b2244d426041c99abac6cfe8bad0bc": {
          "model_module": "@jupyter-widgets/controls",
          "model_name": "FloatProgressModel",
          "model_module_version": "1.5.0",
          "state": {
            "_dom_classes": [],
            "_model_module": "@jupyter-widgets/controls",
            "_model_module_version": "1.5.0",
            "_model_name": "FloatProgressModel",
            "_view_count": null,
            "_view_module": "@jupyter-widgets/controls",
            "_view_module_version": "1.5.0",
            "_view_name": "ProgressView",
            "bar_style": "",
            "description": "",
            "description_tooltip": null,
            "layout": "IPY_MODEL_78ce665489d349a4bf64849f0d8884b9",
            "max": 100,
            "min": 0,
            "orientation": "horizontal",
            "style": "IPY_MODEL_78c2595b7a0f4e64b48f3837947cfe53",
            "value": 100
          }
        },
        "78ce665489d349a4bf64849f0d8884b9": {
          "model_module": "@jupyter-widgets/base",
          "model_name": "LayoutModel",
          "model_module_version": "1.2.0",
          "state": {
            "_model_module": "@jupyter-widgets/base",
            "_model_module_version": "1.2.0",
            "_model_name": "LayoutModel",
            "_view_count": null,
            "_view_module": "@jupyter-widgets/base",
            "_view_module_version": "1.2.0",
            "_view_name": "LayoutView",
            "align_content": null,
            "align_items": null,
            "align_self": null,
            "border": null,
            "bottom": null,
            "display": null,
            "flex": null,
            "flex_flow": null,
            "grid_area": null,
            "grid_auto_columns": null,
            "grid_auto_flow": null,
            "grid_auto_rows": null,
            "grid_column": null,
            "grid_gap": null,
            "grid_row": null,
            "grid_template_areas": null,
            "grid_template_columns": null,
            "grid_template_rows": null,
            "height": null,
            "justify_content": null,
            "justify_items": null,
            "left": null,
            "margin": null,
            "max_height": null,
            "max_width": null,
            "min_height": null,
            "min_width": null,
            "object_fit": null,
            "object_position": null,
            "order": null,
            "overflow": null,
            "overflow_x": null,
            "overflow_y": null,
            "padding": null,
            "right": null,
            "top": null,
            "visibility": null,
            "width": "auto"
          }
        },
        "78c2595b7a0f4e64b48f3837947cfe53": {
          "model_module": "@jupyter-widgets/controls",
          "model_name": "ProgressStyleModel",
          "model_module_version": "1.5.0",
          "state": {
            "_model_module": "@jupyter-widgets/controls",
            "_model_module_version": "1.5.0",
            "_model_name": "ProgressStyleModel",
            "_view_count": null,
            "_view_module": "@jupyter-widgets/base",
            "_view_module_version": "1.2.0",
            "_view_name": "StyleView",
            "bar_color": "black",
            "description_width": ""
          }
        },
        "1b2363c0ecf74d91a1e3a8d0a70d95ec": {
          "model_module": "@jupyter-widgets/controls",
          "model_name": "FloatProgressModel",
          "model_module_version": "1.5.0",
          "state": {
            "_dom_classes": [],
            "_model_module": "@jupyter-widgets/controls",
            "_model_module_version": "1.5.0",
            "_model_name": "FloatProgressModel",
            "_view_count": null,
            "_view_module": "@jupyter-widgets/controls",
            "_view_module_version": "1.5.0",
            "_view_name": "ProgressView",
            "bar_style": "",
            "description": "",
            "description_tooltip": null,
            "layout": "IPY_MODEL_0532ffa9451941c59bc9490f5b0116bd",
            "max": 100,
            "min": 0,
            "orientation": "horizontal",
            "style": "IPY_MODEL_6479e0366247417b9aab843560095f7f",
            "value": 100
          }
        },
        "0532ffa9451941c59bc9490f5b0116bd": {
          "model_module": "@jupyter-widgets/base",
          "model_name": "LayoutModel",
          "model_module_version": "1.2.0",
          "state": {
            "_model_module": "@jupyter-widgets/base",
            "_model_module_version": "1.2.0",
            "_model_name": "LayoutModel",
            "_view_count": null,
            "_view_module": "@jupyter-widgets/base",
            "_view_module_version": "1.2.0",
            "_view_name": "LayoutView",
            "align_content": null,
            "align_items": null,
            "align_self": null,
            "border": null,
            "bottom": null,
            "display": null,
            "flex": null,
            "flex_flow": null,
            "grid_area": null,
            "grid_auto_columns": null,
            "grid_auto_flow": null,
            "grid_auto_rows": null,
            "grid_column": null,
            "grid_gap": null,
            "grid_row": null,
            "grid_template_areas": null,
            "grid_template_columns": null,
            "grid_template_rows": null,
            "height": null,
            "justify_content": null,
            "justify_items": null,
            "left": null,
            "margin": null,
            "max_height": null,
            "max_width": null,
            "min_height": null,
            "min_width": null,
            "object_fit": null,
            "object_position": null,
            "order": null,
            "overflow": null,
            "overflow_x": null,
            "overflow_y": null,
            "padding": null,
            "right": null,
            "top": null,
            "visibility": null,
            "width": "auto"
          }
        },
        "6479e0366247417b9aab843560095f7f": {
          "model_module": "@jupyter-widgets/controls",
          "model_name": "ProgressStyleModel",
          "model_module_version": "1.5.0",
          "state": {
            "_model_module": "@jupyter-widgets/controls",
            "_model_module_version": "1.5.0",
            "_model_name": "ProgressStyleModel",
            "_view_count": null,
            "_view_module": "@jupyter-widgets/base",
            "_view_module_version": "1.2.0",
            "_view_name": "StyleView",
            "bar_color": "black",
            "description_width": ""
          }
        },
        "9575bb52585a43cfae36be15a53122c3": {
          "model_module": "@jupyter-widgets/controls",
          "model_name": "FloatProgressModel",
          "model_module_version": "1.5.0",
          "state": {
            "_dom_classes": [],
            "_model_module": "@jupyter-widgets/controls",
            "_model_module_version": "1.5.0",
            "_model_name": "FloatProgressModel",
            "_view_count": null,
            "_view_module": "@jupyter-widgets/controls",
            "_view_module_version": "1.5.0",
            "_view_name": "ProgressView",
            "bar_style": "",
            "description": "",
            "description_tooltip": null,
            "layout": "IPY_MODEL_43840995bfe44d7086cd9d08e6285182",
            "max": 100,
            "min": 0,
            "orientation": "horizontal",
            "style": "IPY_MODEL_4585247ed3c64b5d903e8095f2f606e4",
            "value": 100
          }
        },
        "43840995bfe44d7086cd9d08e6285182": {
          "model_module": "@jupyter-widgets/base",
          "model_name": "LayoutModel",
          "model_module_version": "1.2.0",
          "state": {
            "_model_module": "@jupyter-widgets/base",
            "_model_module_version": "1.2.0",
            "_model_name": "LayoutModel",
            "_view_count": null,
            "_view_module": "@jupyter-widgets/base",
            "_view_module_version": "1.2.0",
            "_view_name": "LayoutView",
            "align_content": null,
            "align_items": null,
            "align_self": null,
            "border": null,
            "bottom": null,
            "display": null,
            "flex": null,
            "flex_flow": null,
            "grid_area": null,
            "grid_auto_columns": null,
            "grid_auto_flow": null,
            "grid_auto_rows": null,
            "grid_column": null,
            "grid_gap": null,
            "grid_row": null,
            "grid_template_areas": null,
            "grid_template_columns": null,
            "grid_template_rows": null,
            "height": null,
            "justify_content": null,
            "justify_items": null,
            "left": null,
            "margin": null,
            "max_height": null,
            "max_width": null,
            "min_height": null,
            "min_width": null,
            "object_fit": null,
            "object_position": null,
            "order": null,
            "overflow": null,
            "overflow_x": null,
            "overflow_y": null,
            "padding": null,
            "right": null,
            "top": null,
            "visibility": null,
            "width": "auto"
          }
        },
        "4585247ed3c64b5d903e8095f2f606e4": {
          "model_module": "@jupyter-widgets/controls",
          "model_name": "ProgressStyleModel",
          "model_module_version": "1.5.0",
          "state": {
            "_model_module": "@jupyter-widgets/controls",
            "_model_module_version": "1.5.0",
            "_model_name": "ProgressStyleModel",
            "_view_count": null,
            "_view_module": "@jupyter-widgets/base",
            "_view_module_version": "1.2.0",
            "_view_name": "StyleView",
            "bar_color": "black",
            "description_width": ""
          }
        },
        "05bb255e5b97406db77eab25fac9d9ff": {
          "model_module": "@jupyter-widgets/controls",
          "model_name": "FloatProgressModel",
          "model_module_version": "1.5.0",
          "state": {
            "_dom_classes": [],
            "_model_module": "@jupyter-widgets/controls",
            "_model_module_version": "1.5.0",
            "_model_name": "FloatProgressModel",
            "_view_count": null,
            "_view_module": "@jupyter-widgets/controls",
            "_view_module_version": "1.5.0",
            "_view_name": "ProgressView",
            "bar_style": "",
            "description": "",
            "description_tooltip": null,
            "layout": "IPY_MODEL_a4b8029460ca4b68acea00405316a538",
            "max": 100,
            "min": 0,
            "orientation": "horizontal",
            "style": "IPY_MODEL_d828fe1e8aa9467fb9c0f6204cec52b2",
            "value": 100
          }
        },
        "a4b8029460ca4b68acea00405316a538": {
          "model_module": "@jupyter-widgets/base",
          "model_name": "LayoutModel",
          "model_module_version": "1.2.0",
          "state": {
            "_model_module": "@jupyter-widgets/base",
            "_model_module_version": "1.2.0",
            "_model_name": "LayoutModel",
            "_view_count": null,
            "_view_module": "@jupyter-widgets/base",
            "_view_module_version": "1.2.0",
            "_view_name": "LayoutView",
            "align_content": null,
            "align_items": null,
            "align_self": null,
            "border": null,
            "bottom": null,
            "display": null,
            "flex": null,
            "flex_flow": null,
            "grid_area": null,
            "grid_auto_columns": null,
            "grid_auto_flow": null,
            "grid_auto_rows": null,
            "grid_column": null,
            "grid_gap": null,
            "grid_row": null,
            "grid_template_areas": null,
            "grid_template_columns": null,
            "grid_template_rows": null,
            "height": null,
            "justify_content": null,
            "justify_items": null,
            "left": null,
            "margin": null,
            "max_height": null,
            "max_width": null,
            "min_height": null,
            "min_width": null,
            "object_fit": null,
            "object_position": null,
            "order": null,
            "overflow": null,
            "overflow_x": null,
            "overflow_y": null,
            "padding": null,
            "right": null,
            "top": null,
            "visibility": null,
            "width": "auto"
          }
        },
        "d828fe1e8aa9467fb9c0f6204cec52b2": {
          "model_module": "@jupyter-widgets/controls",
          "model_name": "ProgressStyleModel",
          "model_module_version": "1.5.0",
          "state": {
            "_model_module": "@jupyter-widgets/controls",
            "_model_module_version": "1.5.0",
            "_model_name": "ProgressStyleModel",
            "_view_count": null,
            "_view_module": "@jupyter-widgets/base",
            "_view_module_version": "1.2.0",
            "_view_name": "StyleView",
            "bar_color": "black",
            "description_width": ""
          }
        },
        "66aa048a6f55456e9de17c615dde0843": {
          "model_module": "@jupyter-widgets/controls",
          "model_name": "FloatProgressModel",
          "model_module_version": "1.5.0",
          "state": {
            "_dom_classes": [],
            "_model_module": "@jupyter-widgets/controls",
            "_model_module_version": "1.5.0",
            "_model_name": "FloatProgressModel",
            "_view_count": null,
            "_view_module": "@jupyter-widgets/controls",
            "_view_module_version": "1.5.0",
            "_view_name": "ProgressView",
            "bar_style": "",
            "description": "",
            "description_tooltip": null,
            "layout": "IPY_MODEL_94ba6b4453f8405a82504876bc570da3",
            "max": 100,
            "min": 0,
            "orientation": "horizontal",
            "style": "IPY_MODEL_af2316f9d4504edeb7c29232ebab4e2b",
            "value": 100
          }
        },
        "94ba6b4453f8405a82504876bc570da3": {
          "model_module": "@jupyter-widgets/base",
          "model_name": "LayoutModel",
          "model_module_version": "1.2.0",
          "state": {
            "_model_module": "@jupyter-widgets/base",
            "_model_module_version": "1.2.0",
            "_model_name": "LayoutModel",
            "_view_count": null,
            "_view_module": "@jupyter-widgets/base",
            "_view_module_version": "1.2.0",
            "_view_name": "LayoutView",
            "align_content": null,
            "align_items": null,
            "align_self": null,
            "border": null,
            "bottom": null,
            "display": null,
            "flex": null,
            "flex_flow": null,
            "grid_area": null,
            "grid_auto_columns": null,
            "grid_auto_flow": null,
            "grid_auto_rows": null,
            "grid_column": null,
            "grid_gap": null,
            "grid_row": null,
            "grid_template_areas": null,
            "grid_template_columns": null,
            "grid_template_rows": null,
            "height": null,
            "justify_content": null,
            "justify_items": null,
            "left": null,
            "margin": null,
            "max_height": null,
            "max_width": null,
            "min_height": null,
            "min_width": null,
            "object_fit": null,
            "object_position": null,
            "order": null,
            "overflow": null,
            "overflow_x": null,
            "overflow_y": null,
            "padding": null,
            "right": null,
            "top": null,
            "visibility": null,
            "width": "auto"
          }
        },
        "af2316f9d4504edeb7c29232ebab4e2b": {
          "model_module": "@jupyter-widgets/controls",
          "model_name": "ProgressStyleModel",
          "model_module_version": "1.5.0",
          "state": {
            "_model_module": "@jupyter-widgets/controls",
            "_model_module_version": "1.5.0",
            "_model_name": "ProgressStyleModel",
            "_view_count": null,
            "_view_module": "@jupyter-widgets/base",
            "_view_module_version": "1.2.0",
            "_view_name": "StyleView",
            "bar_color": "black",
            "description_width": ""
          }
        },
        "e96ec079e55d47ffbf9969f0ae8d9ab3": {
          "model_module": "@jupyter-widgets/controls",
          "model_name": "FloatProgressModel",
          "model_module_version": "1.5.0",
          "state": {
            "_dom_classes": [],
            "_model_module": "@jupyter-widgets/controls",
            "_model_module_version": "1.5.0",
            "_model_name": "FloatProgressModel",
            "_view_count": null,
            "_view_module": "@jupyter-widgets/controls",
            "_view_module_version": "1.5.0",
            "_view_name": "ProgressView",
            "bar_style": "",
            "description": "",
            "description_tooltip": null,
            "layout": "IPY_MODEL_5ac2d0ae4ff44d90b602b33b1373cd16",
            "max": 100,
            "min": 0,
            "orientation": "horizontal",
            "style": "IPY_MODEL_c66f918307824ac196af890eaaa55f60",
            "value": 100
          }
        },
        "5ac2d0ae4ff44d90b602b33b1373cd16": {
          "model_module": "@jupyter-widgets/base",
          "model_name": "LayoutModel",
          "model_module_version": "1.2.0",
          "state": {
            "_model_module": "@jupyter-widgets/base",
            "_model_module_version": "1.2.0",
            "_model_name": "LayoutModel",
            "_view_count": null,
            "_view_module": "@jupyter-widgets/base",
            "_view_module_version": "1.2.0",
            "_view_name": "LayoutView",
            "align_content": null,
            "align_items": null,
            "align_self": null,
            "border": null,
            "bottom": null,
            "display": null,
            "flex": null,
            "flex_flow": null,
            "grid_area": null,
            "grid_auto_columns": null,
            "grid_auto_flow": null,
            "grid_auto_rows": null,
            "grid_column": null,
            "grid_gap": null,
            "grid_row": null,
            "grid_template_areas": null,
            "grid_template_columns": null,
            "grid_template_rows": null,
            "height": null,
            "justify_content": null,
            "justify_items": null,
            "left": null,
            "margin": null,
            "max_height": null,
            "max_width": null,
            "min_height": null,
            "min_width": null,
            "object_fit": null,
            "object_position": null,
            "order": null,
            "overflow": null,
            "overflow_x": null,
            "overflow_y": null,
            "padding": null,
            "right": null,
            "top": null,
            "visibility": null,
            "width": "auto"
          }
        },
        "c66f918307824ac196af890eaaa55f60": {
          "model_module": "@jupyter-widgets/controls",
          "model_name": "ProgressStyleModel",
          "model_module_version": "1.5.0",
          "state": {
            "_model_module": "@jupyter-widgets/controls",
            "_model_module_version": "1.5.0",
            "_model_name": "ProgressStyleModel",
            "_view_count": null,
            "_view_module": "@jupyter-widgets/base",
            "_view_module_version": "1.2.0",
            "_view_name": "StyleView",
            "bar_color": "black",
            "description_width": ""
          }
        }
      }
    }
  },
  "nbformat": 4,
  "nbformat_minor": 0
}