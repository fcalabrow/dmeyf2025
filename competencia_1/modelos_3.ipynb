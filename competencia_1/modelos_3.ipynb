{
  "cells": [
    {
      "cell_type": "markdown",
      "metadata": {
        "id": "E_4xbBwrvkaD"
      },
      "source": [
        "<details>\n",
        "Modelo a vencer:\n",
        "\n",
        "```\n",
        "params_model_1 = {\n",
        "  \"max_bin\": 100,\n",
        "  \"num_leaves\": 75,\n",
        "  \"learning_rate\": 0.006817310481237339,\n",
        "  \"min_data_in_leaf\": 50,\n",
        "  \"feature_fraction\": 0.5,\n",
        "  \"bagging_freq\": 5,\n",
        "  \"bagging_fraction\": 0.5,\n",
        "  \"feature_pre_filter\": True,\n",
        "  \"num_boost_round\": 1700,\n",
        "  \"boosting_type\": \"gbdt\",\n",
        "  \"verbose\": 1,\n",
        "  \"objective\": \"binary\",\n",
        "  \"boost_from_average\": True\n",
        "}\n",
        "\n",
        "_, X_train, y_train, w_train, _ = get_dataset_mes([202101, 202102, 202103])\n",
        "```\n",
        "\n",
        "Primera prueba: \\[ensamble de modelo con params_model_1, features filtradas y febrero-marzo\\] + \\[modelo de enero\\]\n",
        "\n",
        "Params por default:\n",
        "```\n",
        "  {\"max_bin\": 100,\n",
        "  \"num_leaves\": 75,\n",
        "  \"learning_rate\": 0.006817310481237339,\n",
        "  \"min_data_in_leaf\": 50,\n",
        "  \"feature_fraction\": 0.5,\n",
        "  \"bagging_freq\": 5,\n",
        "  \"bagging_fraction\": 0.5,\n",
        "  \"feature_pre_filter\": True,\n",
        "  \"num_boost_round\": 1700,\n",
        "  \"boosting_type\": \"gbdt\",\n",
        "  \"verbose\": 1,\n",
        "  \"objective\": \"binary\",\n",
        "  \"boost_from_average\": True,\n",
        "  \"force_row_wise\": True}\n",
        "```\n",
        "</details>"
      ]
    },
    {
      "cell_type": "markdown",
      "metadata": {
        "id": "Qf5m92f0RdUC"
      },
      "source": [
        "# Carga de cosas"
      ]
    },
    {
      "cell_type": "code",
      "execution_count": 4,
      "metadata": {
        "id": "rD57-P85YEyE",
        "colab": {
          "base_uri": "https://localhost:8080/"
        },
        "outputId": "047ca0eb-5fd4-43a4-c897-d292408551df"
      },
      "outputs": [
        {
          "output_type": "stream",
          "name": "stdout",
          "text": [
            "Mounted at /content/drive\n"
          ]
        }
      ],
      "source": [
        "from google.colab import drive\n",
        "drive.mount('/content/drive')"
      ]
    },
    {
      "cell_type": "code",
      "execution_count": 5,
      "metadata": {
        "id": "xy8_OtJJhafC"
      },
      "outputs": [],
      "source": [
        "import pandas as pd\n",
        "import numpy as np\n",
        "import seaborn as sns\n",
        "import matplotlib.pyplot as plt\n",
        "import lightgbm as lgb\n",
        "import re\n",
        "import pyarrow.parquet as pq\n",
        "import pyarrow.dataset as ds\n",
        "import gc\n",
        "#import optuna\n",
        "import itertools\n",
        "from sklearn.model_selection import train_test_split\n",
        "from joblib import Parallel, delayed, parallel_backend\n",
        "from time import time\n",
        "from sklearn.model_selection import ShuffleSplit, StratifiedShuffleSplit\n",
        "from multiprocessing import Pool, cpu_count\n",
        "import itertools\n",
        "#from optuna.visualization import plot_optimization_history, plot_param_importances, plot_slice, plot_contour"
      ]
    },
    {
      "cell_type": "code",
      "execution_count": 6,
      "metadata": {
        "id": "istFgMr9iVM_"
      },
      "outputs": [],
      "source": [
        "base_path = '/content/drive/MyDrive/EyF/'\n",
        "dataset_path = base_path + 'datos/'\n",
        "modelos_path = base_path + 'modelos/'\n",
        "db_path = base_path + 'db/'\n",
        "dataset_file = 'fe_std.parquet'\n",
        "dataset_file = 'fe_0210.parquet'\n",
        "dataset_file = 'fe_muerte.parquet'\n",
        "dataset_file = 'fe_muerte_v2.parquet'\n",
        "dataset_file = 'fe_muerte_v3.parquet'\n",
        "dataset_file = 'fe_muerte_v5.parquet'\n",
        "dataset_file = 'fe_muerte_v6.parquet'\n",
        "EXPERIMENTS_DIR = '/content/drive/MyDrive/EyF/experimentos/gbm/'"
      ]
    },
    {
      "cell_type": "markdown",
      "metadata": {
        "id": "gGDI1XNsDdd4"
      },
      "source": [
        "## Mes train"
      ]
    },
    {
      "cell_type": "code",
      "execution_count": 7,
      "metadata": {
        "id": "nqTgTwVvhjRI"
      },
      "outputs": [],
      "source": [
        "mes_train = 202103\n",
        "mes_test = 202104\n",
        "\n",
        "# agregue sus semillas\n",
        "semillas = [104801, 104803, 114809, 134807, 148013]\n",
        "\n",
        "# X_train = data[data['foto_mes'] == mes_train]\n",
        "# y_train = X_train['clase_ternaria']\n",
        "# X_train = X_train.drop(columns = ['clase_ternaria'])"
      ]
    },
    {
      "cell_type": "code",
      "execution_count": 8,
      "metadata": {
        "id": "Kn2koYCMjl04"
      },
      "outputs": [],
      "source": [
        "# train_data = data[data['foto_mes'] == mes_train]\n",
        "# test_data = data[data['foto_mes'] == mes_test]\n",
        "\n",
        "# X_train = train_data.drop(['clase_ternaria', 'clase_peso', 'clase_binaria1','clase_binaria2'], axis=1)\n",
        "# y_train_binaria1 = train_data['clase_binaria1']\n",
        "# y_train_binaria2 = train_data['clase_binaria2']\n",
        "# w_train = train_data['clase_peso']\n",
        "\n",
        "# X_test = test_data.drop(['clase_ternaria', 'clase_peso', 'clase_binaria1','clase_binaria2'], axis=1)\n",
        "# y_test_binaria1 = test_data['clase_binaria1']\n",
        "# y_test_class = test_data['clase_ternaria']\n",
        "# w_test = test_data['clase_peso']"
      ]
    },
    {
      "cell_type": "markdown",
      "source": [
        "## Subsets"
      ],
      "metadata": {
        "id": "mb9Ev5YgppDS"
      }
    },
    {
      "cell_type": "code",
      "source": [
        "seleccion = ['std_ctrx_quarter', 'ctrx_quarter', 'mcaja_ahorro', 'cpayroll_trx', 'mpasivos_margen', 'mcuentas_saldo', 'std_mpayroll', 'std_mprestamos_personales', 'mprestamos_personales', 'mpayroll', 'std_cpayroll_trx', 'std_mtarjeta_visa_consumo', 'Visa_status', 'std_mpasivos_margen', 'mcuenta_corriente', 'Visa_msaldopesos', 'Visa_msaldototal', 'delta_1m_ccomisiones_mantenimiento', 'ratio_mprestamos_personales_vs_prev', 'mtarjeta_visa_consumo', 'Master_status', 'cdescubierto_preacordado', 'lag_1_mrentabilidad_annual', 'std_Visa_msaldopesos', 'lag_1_ctrx_quarter', 'Visa_fechaalta', 'std_mcuenta_corriente', 'mactivos_margen', 'Visa_mpagominimo', 'Master_fechaalta', 'cliente_edad', 'std_mrentabilidad_annual', 'mrentabilidad_annual', 'ratio_cproductos_vs_prev', 'std_mcuentas_saldo', 'cproductos', 'delta_2m_ccomisiones_mantenimiento', 'delta_2m_mcomisiones_mantenimiento', 'chomebanking_transacciones', 'std_mactivos_margen', 'delta_1m_mrentabilidad_annual', 'mtarjeta_master_consumo', 'delta_1m_mcomisiones_mantenimiento', 'ccaja_seguridad', 'lag_1_mcuentas_saldo', 'tmobile_app', 'ratio_mcuentas_saldo_vs_prev', 'ccallcenter_transacciones', 'std_cprestamos_personales', 'internet', 'delta_1m_mcuentas_saldo', 'lag_2_mcuenta_corriente', 'ratio_ctrx_quarter_vs_prev', 'Master_mpagominimo', 'lag_1_mcaja_ahorro', 'lag_1_mcuenta_corriente', 'std_Master_status', 'cprestamos_personales', 'std_ctarjeta_visa_transacciones', 'delta_1m_mcaja_ahorro_dolares', 'Master_Fvencimiento', 'ctarjeta_visa_transacciones', 'Master_mfinanciacion_limite']"
      ],
      "metadata": {
        "id": "rRHgyejkzaGD"
      },
      "execution_count": 9,
      "outputs": []
    },
    {
      "cell_type": "code",
      "source": [
        "features_base = ['foto_mes', 'active_quarter', 'cliente_vip', 'internet', 'cliente_edad', 'cliente_antiguedad', 'mrentabilidad', 'mrentabilidad_annual', 'mcomisiones', 'mactivos_margen', 'mpasivos_margen', 'cproductos', 'tcuentas', 'ccuenta_corriente', 'mcuenta_corriente_adicional', 'mcuenta_corriente', 'ccaja_ahorro', 'mcaja_ahorro', 'mcaja_ahorro_adicional', 'mcaja_ahorro_dolares', 'cdescubierto_preacordado', 'mcuentas_saldo', 'ctarjeta_debito', 'ctarjeta_debito_transacciones', 'mautoservicio', 'ctarjeta_visa', 'ctarjeta_visa_transacciones', 'mtarjeta_visa_consumo', 'ctarjeta_master', 'ctarjeta_master_transacciones', 'mtarjeta_master_consumo', 'cprestamos_personales', 'mprestamos_personales', 'cprestamos_prendarios', 'mprestamos_prendarios', 'cprestamos_hipotecarios', 'mprestamos_hipotecarios', 'cplazo_fijo', 'mplazo_fijo_dolares', 'mplazo_fijo_pesos', 'cinversion1', 'minversion1_pesos', 'minversion1_dolares', 'cinversion2', 'minversion2', 'cseguro_vida', 'cseguro_auto', 'cseguro_vivienda', 'cseguro_accidentes_personales', 'ccaja_seguridad', 'cpayroll_trx', 'mpayroll', 'mpayroll2', 'cpayroll2_trx', 'ccuenta_debitos_automaticos', 'mcuenta_debitos_automaticos', 'ctarjeta_visa_debitos_automaticos', 'mttarjeta_visa_debitos_automaticos', 'ctarjeta_master_debitos_automaticos', 'mttarjeta_master_debitos_automaticos', 'cpagodeservicios', 'mpagodeservicios', 'cpagomiscuentas', 'mpagomiscuentas', 'ccajeros_propios_descuentos', 'mcajeros_propios_descuentos', 'ctarjeta_visa_descuentos', 'mtarjeta_visa_descuentos', 'ctarjeta_master_descuentos', 'mtarjeta_master_descuentos', 'ccomisiones_mantenimiento', 'mcomisiones_mantenimiento', 'ccomisiones_otras', 'mcomisiones_otras', 'cforex', 'cforex_buy', 'mforex_buy', 'cforex_sell', 'mforex_sell', 'ctransferencias_recibidas', 'mtransferencias_recibidas', 'ctransferencias_emitidas', 'mtransferencias_emitidas', 'cextraccion_autoservicio', 'mextraccion_autoservicio', 'ccheques_depositados', 'mcheques_depositados', 'ccheques_emitidos', 'mcheques_emitidos', 'ccheques_depositados_rechazados', 'mcheques_depositados_rechazados', 'ccheques_emitidos_rechazados', 'mcheques_emitidos_rechazados', 'tcallcenter', 'ccallcenter_transacciones', 'thomebanking', 'chomebanking_transacciones', 'ccajas_transacciones', 'ccajas_consultas', 'ccajas_depositos', 'ccajas_extracciones', 'ccajas_otras', 'catm_trx', 'matm', 'catm_trx_other', 'matm_other', 'ctrx_quarter', 'tmobile_app', 'cmobile_app_trx', 'Master_delinquency', 'Master_status', 'Master_mfinanciacion_limite', 'Master_Fvencimiento', 'Master_Finiciomora', 'Master_msaldototal', 'Master_msaldopesos', 'Master_msaldodolares', 'Master_mconsumospesos', 'Master_mconsumosdolares', 'Master_mlimitecompra', 'Master_madelantopesos', 'Master_madelantodolares', 'Master_fultimo_cierre', 'Master_mpagado', 'Master_mpagospesos', 'Master_mpagosdolares', 'Master_fechaalta', 'Master_mconsumototal', 'Master_cconsumos', 'Master_cadelantosefectivo', 'Master_mpagominimo', 'Visa_delinquency', 'Visa_status', 'Visa_mfinanciacion_limite', 'Visa_Fvencimiento', 'Visa_Finiciomora', 'Visa_msaldototal', 'Visa_msaldopesos', 'Visa_msaldodolares', 'Visa_mconsumospesos', 'Visa_mconsumosdolares', 'Visa_mlimitecompra', 'Visa_madelantopesos', 'Visa_madelantodolares', 'Visa_fultimo_cierre', 'Visa_mpagado', 'Visa_mpagospesos', 'Visa_mpagosdolares', 'Visa_fechaalta', 'Visa_mconsumototal', 'Visa_cconsumos', 'Visa_cadelantosefectivo', 'Visa_mpagominimo']"
      ],
      "metadata": {
        "id": "_mcVPwtyM08t"
      },
      "execution_count": 10,
      "outputs": []
    },
    {
      "cell_type": "code",
      "source": [
        "std = ['std_ctrx_quarter', 'std_mcaja_ahorro', 'std_mpasivos_margen', 'std_mcuentas_saldo', 'std_cpayroll_trx', 'std_mprestamos_personales', 'std_mtarjeta_visa_consumo', 'std_mcuenta_corriente', 'std_cprestamos_personales', 'std_ctarjeta_visa_transacciones', 'std_mrentabilidad_annual', 'std_Visa_msaldopesos', 'std_mpayroll', 'std_Master_status', 'std_mactivos_margen']"
      ],
      "metadata": {
        "id": "T0VK5-a6M-fs"
      },
      "execution_count": 11,
      "outputs": []
    },
    {
      "cell_type": "code",
      "source": [
        "columns_old = ['foto_mes', 'numero_de_cliente', 'active_quarter', 'cliente_vip', 'internet', 'cliente_edad', 'cliente_antiguedad', 'mrentabilidad', 'mrentabilidad_annual', 'mcomisiones', 'mactivos_margen', 'mpasivos_margen', 'cproductos', 'tcuentas', 'ccuenta_corriente', 'mcuenta_corriente_adicional', 'mcuenta_corriente', 'ccaja_ahorro', 'mcaja_ahorro', 'mcaja_ahorro_adicional', 'mcaja_ahorro_dolares', 'cdescubierto_preacordado', 'mcuentas_saldo', 'ctarjeta_debito', 'ctarjeta_debito_transacciones', 'mautoservicio', 'ctarjeta_visa', 'ctarjeta_visa_transacciones', 'mtarjeta_visa_consumo', 'ctarjeta_master', 'ctarjeta_master_transacciones', 'mtarjeta_master_consumo', 'cprestamos_personales', 'mprestamos_personales', 'cprestamos_prendarios', 'mprestamos_prendarios', 'cprestamos_hipotecarios', 'mprestamos_hipotecarios', 'cplazo_fijo', 'mplazo_fijo_dolares', 'mplazo_fijo_pesos', 'cinversion1', 'minversion1_pesos', 'minversion1_dolares', 'cinversion2', 'minversion2', 'cseguro_vida', 'cseguro_auto', 'cseguro_vivienda', 'cseguro_accidentes_personales', 'ccaja_seguridad', 'cpayroll_trx', 'mpayroll', 'mpayroll2', 'cpayroll2_trx', 'ccuenta_debitos_automaticos', 'mcuenta_debitos_automaticos', 'ctarjeta_visa_debitos_automaticos', 'mttarjeta_visa_debitos_automaticos', 'ctarjeta_master_debitos_automaticos', 'mttarjeta_master_debitos_automaticos', 'cpagodeservicios', 'mpagodeservicios', 'cpagomiscuentas', 'mpagomiscuentas', 'ccajeros_propios_descuentos', 'mcajeros_propios_descuentos', 'ctarjeta_visa_descuentos', 'mtarjeta_visa_descuentos', 'ctarjeta_master_descuentos', 'mtarjeta_master_descuentos', 'ccomisiones_mantenimiento', 'mcomisiones_mantenimiento', 'ccomisiones_otras', 'mcomisiones_otras', 'cforex', 'cforex_buy', 'mforex_buy', 'cforex_sell', 'mforex_sell', 'ctransferencias_recibidas', 'mtransferencias_recibidas', 'ctransferencias_emitidas', 'mtransferencias_emitidas', 'cextraccion_autoservicio', 'mextraccion_autoservicio', 'ccheques_depositados', 'mcheques_depositados', 'ccheques_emitidos', 'mcheques_emitidos', 'ccheques_depositados_rechazados', 'mcheques_depositados_rechazados', 'ccheques_emitidos_rechazados', 'mcheques_emitidos_rechazados', 'tcallcenter', 'ccallcenter_transacciones', 'thomebanking', 'chomebanking_transacciones', 'ccajas_transacciones', 'ccajas_consultas', 'ccajas_depositos', 'ccajas_extracciones', 'ccajas_otras', 'catm_trx', 'matm', 'catm_trx_other', 'matm_other', 'ctrx_quarter', 'tmobile_app', 'cmobile_app_trx', 'Master_delinquency', 'Master_status', 'Master_mfinanciacion_limite', 'Master_Fvencimiento', 'Master_Finiciomora', 'Master_msaldototal', 'Master_msaldopesos', 'Master_msaldodolares', 'Master_mconsumospesos', 'Master_mconsumosdolares', 'Master_mlimitecompra', 'Master_madelantopesos', 'Master_madelantodolares', 'Master_fultimo_cierre', 'Master_mpagado', 'Master_mpagospesos', 'Master_mpagosdolares', 'Master_fechaalta', 'Master_mconsumototal', 'Master_cconsumos', 'Master_cadelantosefectivo', 'Master_mpagominimo', 'Visa_delinquency', 'Visa_status', 'Visa_mfinanciacion_limite', 'Visa_Fvencimiento', 'Visa_Finiciomora', 'Visa_msaldototal', 'Visa_msaldopesos', 'Visa_msaldodolares', 'Visa_mconsumospesos', 'Visa_mconsumosdolares', 'Visa_mlimitecompra', 'Visa_madelantopesos', 'Visa_madelantodolares', 'Visa_fultimo_cierre', 'Visa_mpagado', 'Visa_mpagospesos', 'Visa_mpagosdolares', 'Visa_fechaalta', 'Visa_mconsumototal', 'Visa_cconsumos', 'Visa_cadelantosefectivo', 'Visa_mpagominimo', 'lag_1_mpasivos_margen', 'lag_2_mpasivos_margen', 'lag_3_mpasivos_margen', 'lag_1_cproductos', 'lag_2_cproductos', 'lag_3_cproductos', 'lag_1_mcuenta_corriente', 'lag_2_mcuenta_corriente', 'lag_3_mcuenta_corriente', 'lag_1_cdescubierto_preacordado', 'lag_2_cdescubierto_preacordado', 'lag_3_cdescubierto_preacordado', 'lag_1_mcuentas_saldo', 'lag_2_mcuentas_saldo', 'lag_3_mcuentas_saldo', 'lag_1_ctarjeta_visa_transacciones', 'lag_2_ctarjeta_visa_transacciones', 'lag_3_ctarjeta_visa_transacciones', 'lag_1_mtarjeta_visa_consumo', 'lag_2_mtarjeta_visa_consumo', 'lag_3_mtarjeta_visa_consumo', 'lag_1_mprestamos_personales', 'lag_2_mprestamos_personales', 'lag_3_mprestamos_personales', 'lag_1_cpayroll_trx', 'lag_2_cpayroll_trx', 'lag_3_cpayroll_trx', 'lag_1_ccomisiones_mantenimiento', 'lag_2_ccomisiones_mantenimiento', 'lag_3_ccomisiones_mantenimiento', 'lag_1_ccallcenter_transacciones', 'lag_2_ccallcenter_transacciones', 'lag_3_ccallcenter_transacciones', 'lag_1_ccajas_consultas', 'lag_2_ccajas_consultas', 'lag_3_ccajas_consultas', 'lag_1_ctrx_quarter', 'lag_2_ctrx_quarter', 'lag_3_ctrx_quarter', 'lag_1_Master_status', 'lag_2_Master_status', 'lag_3_Master_status', 'lag_1_Master_mfinanciacion_limite', 'lag_2_Master_mfinanciacion_limite', 'lag_3_Master_mfinanciacion_limite', 'lag_1_Visa_status', 'lag_2_Visa_status', 'lag_3_Visa_status', 'lag_1_Visa_msaldototal', 'lag_2_Visa_msaldototal', 'lag_3_Visa_msaldototal', 'delta_1m_mpasivos_margen', 'delta_1m_cproductos', 'delta_1m_mcuenta_corriente', 'delta_1m_cdescubierto_preacordado', 'delta_1m_mcuentas_saldo', 'delta_1m_ctarjeta_visa_transacciones', 'delta_1m_mtarjeta_visa_consumo', 'delta_1m_mprestamos_personales', 'delta_1m_cpayroll_trx', 'delta_1m_ccomisiones_mantenimiento', 'delta_1m_ccallcenter_transacciones', 'delta_1m_ccajas_consultas', 'delta_1m_ctrx_quarter', 'delta_1m_Master_status', 'delta_1m_Master_mfinanciacion_limite', 'delta_1m_Visa_status', 'delta_1m_Visa_msaldototal', 'std_mpasivos_margen', 'std_cproductos', 'std_mcuenta_corriente', 'std_mcuentas_saldo', 'std_ctarjeta_visa_transacciones', 'std_mtarjeta_visa_consumo', 'std_mprestamos_personales', 'std_cpayroll_trx', 'std_ccallcenter_transacciones', 'std_ccajas_consultas', 'std_ctrx_quarter', 'std_Master_status', 'std_Master_mfinanciacion_limite', 'std_Visa_status', 'std_Visa_msaldototal']"
      ],
      "metadata": {
        "id": "0JaBZf-wmQD8"
      },
      "execution_count": 12,
      "outputs": []
    },
    {
      "cell_type": "code",
      "source": [
        "lag_3 = ['lag_3_ctrx_quarter', 'lag_3_mcaja_ahorro', 'lag_3_mpasivos_margen', 'lag_3_mcuentas_saldo', 'lag_3_cpayroll_trx', 'lag_3_mprestamos_personales', 'lag_3_mtarjeta_visa_consumo', 'lag_3_mcuenta_corriente', 'lag_3_cprestamos_personales', 'lag_3_ctarjeta_visa_transacciones', 'lag_3_mrentabilidad_annual', 'lag_3_Visa_msaldopesos', 'lag_3_mpayroll', 'lag_3_Master_status', 'lag_3_mactivos_margen', 'lag_3_Visa_status', 'lag_3_ctarjeta_visa', 'lag_3_mcomisiones_mantenimiento', 'lag_3_ctarjeta_master', 'lag_3_tcallcenter', 'lag_3_mcomisiones', 'lag_3_Visa_msaldototal', 'lag_3_chomebanking_transacciones', 'lag_3_cproductos', 'lag_3_internet', 'lag_3_Master_Fvencimiento', 'lag_3_ccallcenter_transacciones', 'lag_3_ccajas_consultas', 'lag_3_Master_mfinanciacion_limite', 'lag_3_mautoservicio', 'lag_3_mrentabilidad', 'lag_3_Visa_mpagospesos', 'lag_3_Visa_Fvencimiento', 'lag_3_ccomisiones_otras', 'lag_3_Visa_mfinanciacion_limite', 'lag_3_cdescubierto_preacordado', 'lag_3_mtransferencias_recibidas', 'lag_3_Visa_mpagominimo', 'lag_3_ccomisiones_mantenimiento', 'lag_3_Visa_mconsumospesos', 'lag_3_mcomisiones_otras', 'lag_3_mcaja_ahorro_dolares', 'lag_3_Master_mlimitecompra', 'lag_3_cmobile_app_trx', 'lag_3_Master_mpagominimo', 'lag_3_ccajas_transacciones']\n",
        "ranked_vars = ['ctrx_quarter_ranked', 'mcaja_ahorro_ranked', 'mpasivos_margen_ranked', 'mcuentas_saldo_ranked', 'cpayroll_trx_ranked', 'mprestamos_personales_ranked', 'mtarjeta_visa_consumo_ranked', 'mcuenta_corriente_ranked', 'cprestamos_personales_ranked', 'ctarjeta_visa_transacciones_ranked']"
      ],
      "metadata": {
        "id": "5JCJamcwpJwP"
      },
      "execution_count": 13,
      "outputs": []
    },
    {
      "cell_type": "code",
      "source": [
        "lag_2 = ['lag_2_ctrx_quarter', 'lag_2_mcaja_ahorro', 'lag_2_mpasivos_margen', 'lag_2_mcuentas_saldo', 'lag_2_cpayroll_trx', 'lag_2_mprestamos_personales', 'lag_2_mtarjeta_visa_consumo', 'lag_2_mcuenta_corriente', 'lag_2_cprestamos_personales', 'lag_2_ctarjeta_visa_transacciones', 'lag_2_mrentabilidad_annual', 'lag_2_Visa_msaldopesos', 'lag_2_mpayroll', 'lag_2_Master_status', 'lag_2_mactivos_margen', 'lag_2_Visa_status', 'lag_2_ctarjeta_visa', 'lag_2_mcomisiones_mantenimiento', 'lag_2_ctarjeta_master', 'lag_2_tcallcenter', 'lag_2_mcomisiones', 'lag_2_Visa_msaldototal', 'lag_2_chomebanking_transacciones', 'lag_2_cproductos', 'lag_2_internet', 'lag_2_Master_Fvencimiento', 'lag_2_ccallcenter_transacciones', 'lag_2_ccajas_consultas', 'lag_2_Master_mfinanciacion_limite', 'lag_2_mautoservicio', 'lag_2_mrentabilidad', 'lag_2_Visa_mpagospesos', 'lag_2_Visa_Fvencimiento', 'lag_2_ccomisiones_otras', 'lag_2_Visa_mfinanciacion_limite', 'lag_2_cdescubierto_preacordado', 'lag_2_mtransferencias_recibidas', 'lag_2_Visa_mpagominimo', 'lag_2_ccomisiones_mantenimiento', 'lag_2_Visa_mconsumospesos', 'lag_2_mcomisiones_otras', 'lag_2_mcaja_ahorro_dolares', 'lag_2_Master_mlimitecompra', 'lag_2_cmobile_app_trx', 'lag_2_Master_mpagominimo', 'lag_2_ccajas_transacciones']\n",
        "lag_1 = ['lag_1_ctrx_quarter', 'lag_1_mcaja_ahorro', 'lag_1_mpasivos_margen', 'lag_1_mcuentas_saldo', 'lag_1_cpayroll_trx', 'lag_1_mprestamos_personales', 'lag_1_mtarjeta_visa_consumo', 'lag_1_mcuenta_corriente', 'lag_1_cprestamos_personales', 'lag_1_ctarjeta_visa_transacciones', 'lag_1_mrentabilidad_annual', 'lag_1_Visa_msaldopesos', 'lag_1_mpayroll', 'lag_1_Master_status', 'lag_1_mactivos_margen', 'lag_1_Visa_status', 'lag_1_ctarjeta_visa', 'lag_1_mcomisiones_mantenimiento', 'lag_1_ctarjeta_master', 'lag_1_tcallcenter', 'lag_1_mcomisiones', 'lag_1_Visa_msaldototal', 'lag_1_chomebanking_transacciones', 'lag_1_cproductos', 'lag_1_internet', 'lag_1_Master_Fvencimiento', 'lag_1_ccallcenter_transacciones', 'lag_1_ccajas_consultas', 'lag_1_Master_mfinanciacion_limite', 'lag_1_mautoservicio', 'lag_1_mrentabilidad', 'lag_1_Visa_mpagospesos', 'lag_1_Visa_Fvencimiento', 'lag_1_ccomisiones_otras', 'lag_1_Visa_mfinanciacion_limite', 'lag_1_cdescubierto_preacordado', 'lag_1_mtransferencias_recibidas', 'lag_1_Visa_mpagominimo', 'lag_1_ccomisiones_mantenimiento', 'lag_1_Visa_mconsumospesos', 'lag_1_mcomisiones_otras', 'lag_1_mcaja_ahorro_dolares', 'lag_1_Master_mlimitecompra', 'lag_1_cmobile_app_trx', 'lag_1_Master_mpagominimo', 'lag_1_ccajas_transacciones']\n",
        "delta_1 = ['delta_1m_ctrx_quarter', 'delta_1m_mcaja_ahorro', 'delta_1m_mpasivos_margen', 'delta_1m_mcuentas_saldo', 'delta_1m_cpayroll_trx', 'delta_1m_mprestamos_personales', 'delta_1m_mtarjeta_visa_consumo', 'delta_1m_mcuenta_corriente', 'delta_1m_cprestamos_personales', 'delta_1m_ctarjeta_visa_transacciones', 'delta_1m_mrentabilidad_annual', 'delta_1m_Visa_msaldopesos', 'delta_1m_mpayroll', 'delta_1m_Master_status', 'delta_1m_mactivos_margen', 'delta_1m_Visa_status', 'delta_1m_ctarjeta_visa', 'delta_1m_mcomisiones_mantenimiento', 'delta_1m_ctarjeta_master', 'delta_1m_tcallcenter', 'delta_1m_mcomisiones', 'delta_1m_Visa_msaldototal', 'delta_1m_chomebanking_transacciones', 'delta_1m_cproductos', 'delta_1m_internet', 'delta_1m_Master_Fvencimiento', 'delta_1m_ccallcenter_transacciones', 'delta_1m_ccajas_consultas', 'delta_1m_Master_mfinanciacion_limite', 'delta_1m_mautoservicio', 'delta_1m_mrentabilidad', 'delta_1m_Visa_mpagospesos', 'delta_1m_Visa_Fvencimiento', 'delta_1m_ccomisiones_otras', 'delta_1m_Visa_mfinanciacion_limite', 'delta_1m_cdescubierto_preacordado', 'delta_1m_mtransferencias_recibidas', 'delta_1m_Visa_mpagominimo', 'delta_1m_ccomisiones_mantenimiento', 'delta_1m_Visa_mconsumospesos', 'delta_1m_mcomisiones_otras', 'delta_1m_mcaja_ahorro_dolares', 'delta_1m_Master_mlimitecompra', 'delta_1m_cmobile_app_trx', 'delta_1m_Master_mpagominimo', 'delta_1m_ccajas_transacciones']"
      ],
      "metadata": {
        "id": "0lFFnzropwYW"
      },
      "execution_count": 14,
      "outputs": []
    },
    {
      "cell_type": "code",
      "source": [
        "delta_2 = ['delta_2m_ctrx_quarter', 'delta_2m_mcaja_ahorro', 'delta_2m_mpasivos_margen', 'delta_2m_mcuentas_saldo', 'delta_2m_cpayroll_trx', 'delta_2m_mprestamos_personales', 'delta_2m_mtarjeta_visa_consumo', 'delta_2m_mcuenta_corriente', 'delta_2m_cprestamos_personales', 'delta_2m_ctarjeta_visa_transacciones', 'delta_2m_mrentabilidad_annual', 'delta_2m_Visa_msaldopesos', 'delta_2m_mpayroll', 'delta_2m_Master_status', 'delta_2m_mactivos_margen', 'delta_2m_Visa_status', 'delta_2m_ctarjeta_visa', 'delta_2m_mcomisiones_mantenimiento', 'delta_2m_ctarjeta_master', 'delta_2m_tcallcenter', 'delta_2m_mcomisiones', 'delta_2m_Visa_msaldototal', 'delta_2m_chomebanking_transacciones', 'delta_2m_cproductos', 'delta_2m_internet', 'delta_2m_Master_Fvencimiento', 'delta_2m_ccallcenter_transacciones', 'delta_2m_ccajas_consultas', 'delta_2m_Master_mfinanciacion_limite', 'delta_2m_mautoservicio', 'delta_2m_mrentabilidad', 'delta_2m_Visa_mpagospesos', 'delta_2m_Visa_Fvencimiento', 'delta_2m_ccomisiones_otras', 'delta_2m_Visa_mfinanciacion_limite', 'delta_2m_cdescubierto_preacordado', 'delta_2m_mtransferencias_recibidas', 'delta_2m_Visa_mpagominimo', 'delta_2m_ccomisiones_mantenimiento', 'delta_2m_Visa_mconsumospesos', 'delta_2m_mcomisiones_otras', 'delta_2m_mcaja_ahorro_dolares', 'delta_2m_Master_mlimitecompra', 'delta_2m_cmobile_app_trx', 'delta_2m_Master_mpagominimo', 'delta_2m_ccajas_transacciones']"
      ],
      "metadata": {
        "id": "XO8Qet84eKk5"
      },
      "execution_count": 15,
      "outputs": []
    },
    {
      "cell_type": "code",
      "source": [
        "slopes = ['slope_2m_ctrx_quarter', 'slope_2m_mcaja_ahorro', 'slope_2m_mpasivos_margen', 'slope_2m_mcuentas_saldo', 'slope_2m_cpayroll_trx', 'slope_2m_mprestamos_personales', 'slope_2m_mtarjeta_visa_consumo', 'slope_2m_mcuenta_corriente', 'slope_2m_cprestamos_personales', 'slope_2m_ctarjeta_visa_transacciones', 'slope_2m_mrentabilidad_annual', 'slope_2m_Visa_msaldopesos', 'slope_2m_mpayroll', 'slope_2m_Master_status', 'slope_2m_mactivos_margen', 'slope_2m_Visa_status', 'slope_2m_ctarjeta_visa', 'slope_2m_mcomisiones_mantenimiento', 'slope_2m_ctarjeta_master', 'slope_2m_tcallcenter', 'slope_2m_mcomisiones', 'slope_2m_Visa_msaldototal', 'slope_2m_chomebanking_transacciones', 'slope_2m_cproductos', 'slope_2m_internet', 'slope_2m_Master_Fvencimiento', 'slope_2m_ccallcenter_transacciones', 'slope_2m_ccajas_consultas', 'slope_2m_Master_mfinanciacion_limite', 'slope_2m_mautoservicio', 'slope_2m_mrentabilidad', 'slope_2m_Visa_mpagospesos', 'slope_2m_Visa_Fvencimiento', 'slope_2m_ccomisiones_otras', 'slope_2m_Visa_mfinanciacion_limite', 'slope_2m_cdescubierto_preacordado', 'slope_2m_mtransferencias_recibidas', 'slope_2m_Visa_mpagominimo', 'slope_2m_ccomisiones_mantenimiento', 'slope_2m_Visa_mconsumospesos', 'slope_2m_mcomisiones_otras', 'slope_2m_mcaja_ahorro_dolares', 'slope_2m_Master_mlimitecompra', 'slope_2m_cmobile_app_trx', 'slope_2m_Master_mpagominimo', 'slope_2m_ccajas_transacciones']"
      ],
      "metadata": {
        "id": "jj50ZwyLexvO"
      },
      "execution_count": 16,
      "outputs": []
    },
    {
      "cell_type": "code",
      "source": [
        "ratios = ['ratio_mpasivos_margen_vs_prev', 'ratio_cproductos_vs_prev', 'ratio_mcuenta_corriente_vs_prev', 'ratio_cdescubierto_preacordado_vs_prev', 'ratio_mcuentas_saldo_vs_prev', 'ratio_ctarjeta_visa_transacciones_vs_prev', 'ratio_mtarjeta_visa_consumo_vs_prev', 'ratio_mprestamos_personales_vs_prev', 'ratio_cpayroll_trx_vs_prev', 'ratio_ccomisiones_mantenimiento_vs_prev', 'ratio_ccallcenter_transacciones_vs_prev', 'ratio_ccajas_consultas_vs_prev', 'ratio_ctrx_quarter_vs_prev', 'ratio_Master_status_vs_prev', 'ratio_Master_mfinanciacion_limite_vs_prev', 'ratio_Visa_status_vs_prev', 'ratio_Visa_msaldototal_vs_prev']"
      ],
      "metadata": {
        "id": "eL7c5wJKe291"
      },
      "execution_count": 17,
      "outputs": []
    },
    {
      "cell_type": "code",
      "source": [
        "creadas = ['tc_saldo_total', 'es_empleado']"
      ],
      "metadata": {
        "id": "1BQCp4pOoZ6n"
      },
      "execution_count": 18,
      "outputs": []
    },
    {
      "cell_type": "code",
      "source": [
        "delta_3 = ['delta_3m_ctrx_quarter', 'delta_3m_mcaja_ahorro', 'delta_3m_mpasivos_margen', 'delta_3m_mcuentas_saldo', 'delta_3m_cpayroll_trx', 'delta_3m_mprestamos_personales', 'delta_3m_mtarjeta_visa_consumo', 'delta_3m_mcuenta_corriente', 'delta_3m_cprestamos_personales', 'delta_3m_ctarjeta_visa_transacciones', 'delta_3m_mrentabilidad_annual', 'delta_3m_Visa_msaldopesos', 'delta_3m_mpayroll', 'delta_3m_Master_status', 'delta_3m_mactivos_margen', 'delta_3m_Visa_status', 'delta_3m_ctarjeta_visa', 'delta_3m_mcomisiones_mantenimiento', 'delta_3m_ctarjeta_master', 'delta_3m_tcallcenter', 'delta_3m_mcomisiones', 'delta_3m_Visa_msaldototal', 'delta_3m_chomebanking_transacciones', 'delta_3m_cproductos', 'delta_3m_internet', 'delta_3m_Master_Fvencimiento', 'delta_3m_ccallcenter_transacciones', 'delta_3m_ccajas_consultas', 'delta_3m_Master_mfinanciacion_limite', 'delta_3m_mautoservicio', 'delta_3m_mrentabilidad', 'delta_3m_Visa_mpagospesos', 'delta_3m_Visa_Fvencimiento', 'delta_3m_ccomisiones_otras', 'delta_3m_Visa_mfinanciacion_limite', 'delta_3m_cdescubierto_preacordado', 'delta_3m_mtransferencias_recibidas', 'delta_3m_Visa_mpagominimo', 'delta_3m_ccomisiones_mantenimiento', 'delta_3m_Visa_mconsumospesos', 'delta_3m_mcomisiones_otras', 'delta_3m_mcaja_ahorro_dolares', 'delta_3m_Master_mlimitecompra', 'delta_3m_cmobile_app_trx', 'delta_3m_Master_mpagominimo', 'delta_3m_ccajas_transacciones']"
      ],
      "metadata": {
        "id": "lVaOJ7-3tJWa"
      },
      "execution_count": 19,
      "outputs": []
    },
    {
      "cell_type": "code",
      "source": [
        "means =['mean_ctrx_quarter', 'mean_mcaja_ahorro', 'mean_mpasivos_margen', 'mean_mcuentas_saldo', 'mean_cpayroll_trx', 'mean_mprestamos_personales', 'mean_mtarjeta_visa_consumo', 'mean_mcuenta_corriente', 'mean_cprestamos_personales', 'mean_ctarjeta_visa_transacciones', 'mean_mrentabilidad_annual', 'mean_Visa_msaldopesos', 'mean_mpayroll', 'mean_Master_status', 'mean_mactivos_margen', 'mean_Visa_status', 'mean_ctarjeta_visa', 'mean_mcomisiones_mantenimiento', 'mean_ctarjeta_master', 'mean_tcallcenter', 'mean_mcomisiones', 'mean_Visa_msaldototal', 'mean_chomebanking_transacciones', 'mean_cproductos', 'mean_internet', 'mean_Master_Fvencimiento', 'mean_ccallcenter_transacciones', 'mean_ccajas_consultas', 'mean_Master_mfinanciacion_limite', 'mean_mautoservicio', 'mean_mrentabilidad', 'mean_Visa_mpagospesos', 'mean_Visa_Fvencimiento', 'mean_ccomisiones_otras', 'mean_Visa_mfinanciacion_limite', 'mean_cdescubierto_preacordado', 'mean_mtransferencias_recibidas', 'mean_Visa_mpagominimo', 'mean_ccomisiones_mantenimiento', 'mean_Visa_mconsumospesos', 'mean_mcomisiones_otras', 'mean_mcaja_ahorro_dolares', 'mean_Master_mlimitecompra', 'mean_cmobile_app_trx', 'mean_Master_mpagominimo', 'mean_ccajas_transacciones']"
      ],
      "metadata": {
        "id": "hcYTDRGEtNTG"
      },
      "execution_count": 20,
      "outputs": []
    },
    {
      "cell_type": "code",
      "source": [
        "maxs = ['max_3m_ctrx_quarter', 'max_3m_mcaja_ahorro', 'max_3m_mpasivos_margen', 'max_3m_mcuentas_saldo', 'max_3m_cpayroll_trx', 'max_3m_mprestamos_personales', 'max_3m_mtarjeta_visa_consumo', 'max_3m_mcuenta_corriente', 'max_3m_cprestamos_personales', 'max_3m_ctarjeta_visa_transacciones', 'max_3m_mrentabilidad_annual', 'max_3m_Visa_msaldopesos', 'max_3m_mpayroll', 'max_3m_Master_status', 'max_3m_mactivos_margen', 'max_3m_Visa_status', 'max_3m_ctarjeta_visa', 'max_3m_mcomisiones_mantenimiento', 'max_3m_ctarjeta_master', 'max_3m_tcallcenter', 'max_3m_mcomisiones', 'max_3m_Visa_msaldototal', 'max_3m_chomebanking_transacciones', 'max_3m_cproductos', 'max_3m_internet', 'max_3m_Master_Fvencimiento', 'max_3m_ccallcenter_transacciones', 'max_3m_ccajas_consultas', 'max_3m_Master_mfinanciacion_limite', 'max_3m_mautoservicio', 'max_3m_mrentabilidad', 'max_3m_Visa_mpagospesos', 'max_3m_Visa_Fvencimiento', 'max_3m_ccomisiones_otras', 'max_3m_Visa_mfinanciacion_limite', 'max_3m_cdescubierto_preacordado', 'max_3m_mtransferencias_recibidas', 'max_3m_Visa_mpagominimo', 'max_3m_ccomisiones_mantenimiento', 'max_3m_Visa_mconsumospesos', 'max_3m_mcomisiones_otras', 'max_3m_mcaja_ahorro_dolares', 'max_3m_Master_mlimitecompra', 'max_3m_cmobile_app_trx', 'max_3m_Master_mpagominimo', 'max_3m_ccajas_transacciones']"
      ],
      "metadata": {
        "id": "2XYsxD_l04Pu"
      },
      "execution_count": 21,
      "outputs": []
    },
    {
      "cell_type": "code",
      "source": [
        "mins = ['min_ctrx_quarter', 'min_mcaja_ahorro', 'min_mpasivos_margen', 'min_mcuentas_saldo', 'min_cpayroll_trx', 'min_mprestamos_personales', 'min_mtarjeta_visa_consumo', 'min_mcuenta_corriente', 'min_cprestamos_personales', 'min_ctarjeta_visa_transacciones', 'min_mrentabilidad_annual', 'min_Visa_msaldopesos', 'min_mpayroll', 'min_Master_status', 'min_mactivos_margen', 'min_Visa_status', 'min_ctarjeta_visa', 'min_mcomisiones_mantenimiento', 'min_ctarjeta_master', 'min_tcallcenter', 'min_mcomisiones', 'min_Visa_msaldototal', 'min_chomebanking_transacciones', 'min_cproductos', 'min_internet', 'min_Master_Fvencimiento', 'min_ccallcenter_transacciones', 'min_ccajas_consultas', 'min_Master_mfinanciacion_limite', 'min_mautoservicio', 'min_mrentabilidad', 'min_Visa_mpagospesos', 'min_Visa_Fvencimiento', 'min_ccomisiones_otras', 'min_Visa_mfinanciacion_limite', 'min_cdescubierto_preacordado', 'min_mtransferencias_recibidas', 'min_Visa_mpagominimo', 'min_ccomisiones_mantenimiento', 'min_Visa_mconsumospesos', 'min_mcomisiones_otras', 'min_mcaja_ahorro_dolares', 'min_Master_mlimitecompra', 'min_cmobile_app_trx', 'min_Master_mpagominimo', 'min_ccajas_transacciones']"
      ],
      "metadata": {
        "id": "dA1JhN8d1GE3"
      },
      "execution_count": 22,
      "outputs": []
    },
    {
      "cell_type": "markdown",
      "metadata": {
        "id": "NEkduWtORig4"
      },
      "source": [
        "## Funciones"
      ]
    },
    {
      "cell_type": "code",
      "execution_count": 23,
      "metadata": {
        "id": "jNXW88pUqJKb"
      },
      "outputs": [],
      "source": [
        "def get_dataset_mes(mes, features=None, kaggle = False):\n",
        "    # Crear dataset Arrow\n",
        "    dataset = ds.dataset(base_path + dataset_file, format=\"parquet\")\n",
        "\n",
        "    if isinstance(mes, int):\n",
        "        filtro = (ds.field(\"foto_mes\") == mes)\n",
        "    elif isinstance(mes, list):\n",
        "        filtro = ds.field(\"foto_mes\").isin(mes)\n",
        "    else:\n",
        "        raise ValueError(\"mes debe ser int o list[int]\")\n",
        "\n",
        "    # Columnas obligatorias para etiquetas y pesos\n",
        "    columnas_obligatorias = [\"clase_ternaria\"]\n",
        "\n",
        "    # Si se pasan features, combinar con las obligatorias, sino usar todas\n",
        "    if features is None:\n",
        "        columnas = features_base + delta_1 + delta_2 + delta_3 + lag_1 + lag_2 + ratios + columnas_obligatorias + std\n",
        "    if kaggle:\n",
        "      columnas.append('numero_de_cliente')\n",
        "\n",
        "    data = dataset.to_table(columns=columnas, filter=filtro).to_pandas()\n",
        "\n",
        "    # --- Procesamiento mínimo ---\n",
        "    data[\"clase_peso\"] = 1.0\n",
        "    data.loc[data[\"clase_ternaria\"] == \"BAJA+2\", \"clase_peso\"] = 1.00002\n",
        "    data.loc[data[\"clase_ternaria\"] == \"BAJA+1\", \"clase_peso\"] = 1.00001\n",
        "    data[\"clase_binaria1\"] = (data[\"clase_ternaria\"] == \"BAJA+2\").astype(int)\n",
        "    data[\"clase_binaria2\"] = (data[\"clase_ternaria\"] != \"CONTINUA\").astype(int)\n",
        "\n",
        "    data.columns = [re.sub(r\"[^A-Za-z0-9_]\", \"_\", c.strip()) for c in data.columns]\n",
        "\n",
        "    X = data.drop([\"clase_ternaria\", \"clase_peso\", \"clase_binaria1\", \"clase_binaria2\"], axis=1)\n",
        "    y_1 = data[\"clase_binaria1\"]\n",
        "    y_2 = data[\"clase_binaria2\"]\n",
        "    w = data[\"clase_peso\"]\n",
        "\n",
        "    # Liberar memoria\n",
        "    del data\n",
        "    gc.collect()\n",
        "    return _, X, y_2, w, y_1\n"
      ]
    },
    {
      "cell_type": "code",
      "execution_count": 24,
      "metadata": {
        "id": "sCiPEPRCoyxW"
      },
      "outputs": [],
      "source": [
        "ganancia_acierto = 780000\n",
        "costo_estimulo = 20000\n",
        "\n",
        "def lgb_gan_eval(y_pred, data):\n",
        "    weight = data.get_weight()\n",
        "    ganancia = np.where(weight == 1.00002, ganancia_acierto, 0) - np.where(weight < 1.00002, costo_estimulo, 0)\n",
        "    ganancia = ganancia[np.argsort(y_pred)[::-1]]\n",
        "    ganancia = np.cumsum(ganancia)\n",
        "\n",
        "    return 'gan_eval', np.max(ganancia) , True\n",
        "\n",
        "positions = []\n",
        "\n",
        "def lgb_gan_eval_th(y_pred, data):\n",
        "    weight = data.get_weight()\n",
        "\n",
        "    ganancia = np.where(weight == 1.00002, ganancia_acierto, 0) - np.where(weight < 1.00002, costo_estimulo, 0)\n",
        "    ganancia = ganancia[np.argsort(y_pred)[::-1]]\n",
        "    ganancia_acum = np.cumsum(ganancia)\n",
        "\n",
        "    max_gan = np.max(ganancia_acum)\n",
        "    pos_max = np.argmax(ganancia_acum) + 1\n",
        "\n",
        "    positions.append(pos_max)  # guarda la posición óptima de este fold\n",
        "\n",
        "    return 'gan_eval', max_gan, True"
      ]
    },
    {
      "cell_type": "code",
      "source": [
        "def ganancia_prob(y_pred, y_true, th, prop=1):\n",
        "    ganancia = np.where(y_true == 1, ganancia_acierto, 0) - np.where(y_true == 0, costo_estimulo, 0)\n",
        "    return ganancia[y_pred >= th].sum() / prop"
      ],
      "metadata": {
        "id": "6fRCwXeGs4_H"
      },
      "execution_count": 25,
      "outputs": []
    },
    {
      "cell_type": "code",
      "source": [
        "def get_ganancia(y_pred, y_true, ganancia_acierto=ganancia_acierto, costo_estimulo=costo_estimulo):\n",
        "    ganancia = np.where(y_true == 1, ganancia_acierto, 0) - np.where(y_true == 0, costo_estimulo, 0)\n",
        "    idx = np.argsort(y_pred)[::-1]\n",
        "    ganancia = ganancia[idx]\n",
        "    y_pred_ord = y_pred[idx]\n",
        "\n",
        "    ganancia_cum = np.cumsum(ganancia)\n",
        "\n",
        "    maxima_ganancia = np.max(ganancia_cum)\n",
        "    envios = np.argmax(ganancia_cum)\n",
        "    proba = y_pred_ord[envios]\n",
        "\n",
        "    print(f\"Máxima ganancia: {maxima_ganancia}\\nEnvios: {envios}\\nProba: {round(proba, 4)}\")\n",
        "    return maxima_ganancia, proba\n"
      ],
      "metadata": {
        "id": "dzWue6npL_yX"
      },
      "execution_count": 26,
      "outputs": []
    },
    {
      "cell_type": "code",
      "source": [
        "def ensemble_rank_by_position_np(predictions_list, weights=None):\n",
        "    \"\"\"\n",
        "    Combina predicciones de varios modelos usando ranking, solo con NumPy.\n",
        "\n",
        "    Cada modelo contribuye con la posición de cada caso (mayor valor = mejor lugar),\n",
        "    y el ranking final se obtiene sumando los lugares ponderados.\n",
        "\n",
        "    Parámetros\n",
        "    ----------\n",
        "    predictions_list : list of np.ndarray\n",
        "        Lista de arrays con las predicciones de cada modelo. Todos deben tener la misma longitud.\n",
        "    weights : list of float, opcional\n",
        "        Pesos para cada modelo. Si no se especifica, todos los modelos tienen el mismo peso.\n",
        "\n",
        "    Retorna\n",
        "    -------\n",
        "    np.ndarray\n",
        "        Array del mismo tamaño que las predicciones individuales, con valores que reflejan el ranking final.\n",
        "        Solo importa el orden relativo.\n",
        "    \"\"\"\n",
        "\n",
        "    if not predictions_list:\n",
        "        raise ValueError(\"La lista de predicciones está vacía.\")\n",
        "\n",
        "    n_models = len(predictions_list)\n",
        "    n_samples = len(predictions_list[0])\n",
        "\n",
        "    if any(len(p) != n_samples for p in predictions_list):\n",
        "        raise ValueError(\"Todas las predicciones deben tener la misma longitud.\")\n",
        "\n",
        "    if weights is None:\n",
        "        weights = np.ones(n_models)\n",
        "    else:\n",
        "        weights = np.array(weights)\n",
        "        if len(weights) != n_models:\n",
        "            raise ValueError(\"La cantidad de pesos debe coincidir con la cantidad de modelos.\")\n",
        "\n",
        "    weighted_ranks = np.zeros(n_samples)\n",
        "\n",
        "    for p, w in zip(predictions_list, weights):\n",
        "        # Obtener ranking: argsort dos veces para obtener ranks\n",
        "        ranks = np.empty_like(p, dtype=float)\n",
        "        # Primer argsort: orden de menor a mayor\n",
        "        order = np.argsort(-p)  # invertimos para que el mayor tenga menor número\n",
        "        # Segundo argsort: posición en ranking\n",
        "        ranks[order] = np.arange(1, n_samples + 1)  # 1 = mejor posición\n",
        "        weighted_ranks += w * ranks\n",
        "\n",
        "    # Invertimos para que mayores valores = mejor ranking (similar a predict)\n",
        "    final_scores = -weighted_ranks\n",
        "    return final_scores\n",
        "\n",
        "def ensemble_predict(models_list, X_test, weights: list[float] = None):\n",
        "    print(f\"Prediciendo {len(X_test)} samples de {int(X_test.iloc[0].foto_mes)} con {len(models_list)} modelo(s)\")\n",
        "    predictions_list = []\n",
        "    for model in models_list:\n",
        "      predictions_list.append(model.predict(X_test[model.feature_name()]))\n",
        "\n",
        "    return ensemble_rank_by_position_np(predictions_list, weights = weights)"
      ],
      "metadata": {
        "id": "AW71MKVl80ZY"
      },
      "execution_count": 27,
      "outputs": []
    },
    {
      "cell_type": "code",
      "source": [
        "def test_all_weight_combinations_parallel(predictions_list, y_true, weight_range, n_jobs=-1):\n",
        "    \"\"\"\n",
        "    Prueba todas las combinaciones posibles de pesos, con rangos específicos por modelo.\n",
        "    Devuelve la mejor combinación según la ganancia.\n",
        "\n",
        "    Parámetros\n",
        "    ----------\n",
        "    predictions_list : list of np.ndarray\n",
        "        Lista de predicciones de los modelos.\n",
        "    y_true : np.ndarray\n",
        "        Vector de etiquetas verdaderas.\n",
        "    weight_range : list[tuple[int, int]]\n",
        "        Lista de tuplas (min, max) por modelo. Ejemplo: [(0,5),(0,10),(0,0),(0,10)]\n",
        "    n_jobs : int\n",
        "        Número de procesos paralelos a usar (por defecto, usa todos los disponibles).\n",
        "\n",
        "    Retorna\n",
        "    -------\n",
        "    dict\n",
        "        {\n",
        "            \"mejores_pesos\": list[int],\n",
        "            \"mejor_ganancia\": float,\n",
        "            \"mejor_threshold\": float,\n",
        "            \"resultados\": list[dict]\n",
        "        }\n",
        "    \"\"\"\n",
        "\n",
        "    if len(weight_range) != len(predictions_list):\n",
        "        raise ValueError(\"La cantidad de rangos de pesos debe coincidir con la cantidad de modelos.\")\n",
        "\n",
        "    # Generar los valores posibles para cada modelo\n",
        "    valores_por_modelo = [range(r[0], r[1] + 1) for r in weight_range]\n",
        "\n",
        "    # Crear todas las combinaciones posibles\n",
        "    combinaciones = list(itertools.product(*valores_por_modelo))\n",
        "\n",
        "    def evaluar_combinacion(weights):\n",
        "        y_pred = ensemble_rank_by_position_np(predictions_list, weights=weights)\n",
        "        ganancia, thr = get_ganancia(y_pred, y_true)\n",
        "        return {\"weights\": weights, \"ganancia\": ganancia, \"threshold\": thr}\n",
        "\n",
        "    resultados = Parallel(n_jobs=n_jobs, backend=\"loky\")(delayed(evaluar_combinacion)(w) for w in combinaciones)\n",
        "\n",
        "    resultados_ordenados = sorted(resultados, key=lambda x: x[\"ganancia\"], reverse=True)\n",
        "    mejor = resultados_ordenados[0]\n",
        "\n",
        "    print(\"\\nTop 5 combinaciones por ganancia:\")\n",
        "    for i, r in enumerate(resultados_ordenados[:5], start=1):\n",
        "        print(f\"{i}. Pesos: {r['weights']} | Ganancia: {r['ganancia']:.2f} | Threshold: {r['threshold']:.4f}\")\n",
        "\n",
        "    print(f\"\\nMejores pesos globales: {mejor['weights']} | Ganancia: {mejor['ganancia']:.2f} | Threshold: {mejor['threshold']:.4f}\")\n",
        "\n",
        "    return {\n",
        "        \"mejores_pesos\": mejor[\"weights\"],\n",
        "        \"mejor_ganancia\": mejor[\"ganancia\"],\n",
        "        \"mejor_threshold\": mejor[\"threshold\"],\n",
        "        \"resultados\": resultados_ordenados\n",
        "    }\n"
      ],
      "metadata": {
        "id": "95gkQqOWd5MU"
      },
      "execution_count": 28,
      "outputs": []
    },
    {
      "cell_type": "markdown",
      "metadata": {
        "id": "Gh0ibT5cpvzQ"
      },
      "source": [
        "# Feature importance"
      ]
    },
    {
      "cell_type": "code",
      "execution_count": null,
      "metadata": {
        "id": "AUTmFQQNpx5g"
      },
      "outputs": [],
      "source": [
        "seed = semillas[0]\n",
        "\n",
        "params = {\n",
        "  \"max_bin\": 31,\n",
        "  \"num_leaves\": 31,\n",
        "  \"learning_rate\": 0.01,\n",
        "  \"min_data_in_leaf\": 50,\n",
        "  \"feature_fraction\": 0.5,\n",
        "  \"bagging_freq\": 5,\n",
        "  \"bagging_fraction\": 0.5,\n",
        "  \"feature_pre_filter\": True,\n",
        "  \"num_boost_round\": 300,\n",
        "  \"boosting_type\": \"gbdt\",\n",
        "  \"verbose\": 1,\n",
        "  \"objective\": \"binary\",\n",
        "  \"boost_from_average\": True,\n",
        "  \"force_row_wise\": True\n",
        "}"
      ]
    },
    {
      "cell_type": "code",
      "execution_count": null,
      "metadata": {
        "id": "M6u9als-qkN5"
      },
      "outputs": [],
      "source": [
        "_, X_train, y_train, w_train, _ = get_dataset_mes([202102,202103,202104])"
      ]
    },
    {
      "cell_type": "code",
      "execution_count": null,
      "metadata": {
        "id": "gSur5v5Or18w"
      },
      "outputs": [],
      "source": [
        "# X_train = X_train[columns_old]\n",
        "# X_train = X_train.loc[:, ~X_train.columns.str.contains(r'(?:lag_[32]|delta_[3]|numero_de_cliente|foto_mes)')]"
      ]
    },
    {
      "cell_type": "code",
      "execution_count": null,
      "metadata": {
        "id": "8Ul4aqnBqu0_"
      },
      "outputs": [],
      "source": [
        "train_data = lgb.Dataset(X_train,\n",
        "                          label=y_train,\n",
        "                          weight=w_train)\n",
        "\n",
        "print(f\"Entrenando modelo con parámetros: {params}\")\n",
        "print(X_train.shape)\n",
        "model = lgb.train(params = params,\n",
        "                  train_set = train_data)"
      ]
    },
    {
      "cell_type": "code",
      "execution_count": null,
      "metadata": {
        "id": "-iScFO8xqmlq"
      },
      "outputs": [],
      "source": [
        "importance_type = 'gain'\n",
        "importance_type = 'split'\n",
        "\n",
        "importances = model.feature_importance(importance_type = importance_type)\n",
        "feature_names = X_train.columns.tolist()\n",
        "importance_df = pd.DataFrame({'feature': feature_names, 'importance': importances})\n",
        "importance_df = importance_df.sort_values('importance', ascending=False)\n",
        "importance_df[importance_df['importance'] > 0]"
      ]
    },
    {
      "cell_type": "code",
      "source": [
        "importances = model.feature_importance(importance_type = 'gain')\n",
        "importances_gain = pd.DataFrame({'feature': feature_names, 'importance': importances})\n",
        "importances_gain = importances_gain.sort_values('importance', ascending=False)\n",
        "importances_gain[importances_gain['importance'] > 0]\n",
        "\n",
        "importances = model.feature_importance(importance_type = 'split')\n",
        "importances_split = pd.DataFrame({'feature': feature_names, 'importance': importances})\n",
        "importances_split = importances_split.sort_values('importance', ascending=False)\n",
        "importances_split[importances_split['importance'] > 0]\n",
        "\n",
        "imp_feat = list(set(list(importances_gain.head(200).feature.values) + list(importances_split.head(200).feature.values)))"
      ],
      "metadata": {
        "id": "4T0FOJf-NjBR"
      },
      "execution_count": null,
      "outputs": []
    },
    {
      "cell_type": "code",
      "source": [
        "len(imp_feat)"
      ],
      "metadata": {
        "id": "i7bMsXEImgiz"
      },
      "execution_count": null,
      "outputs": []
    },
    {
      "cell_type": "code",
      "source": [
        "importance_df.to_csv(\"importance.csv\")"
      ],
      "metadata": {
        "id": "XdRNRMyu5g-t"
      },
      "execution_count": null,
      "outputs": []
    },
    {
      "cell_type": "markdown",
      "source": [
        "# Optuna"
      ],
      "metadata": {
        "id": "xSfe44-pxC3t"
      }
    },
    {
      "cell_type": "code",
      "source": [
        "!pip install optuna"
      ],
      "metadata": {
        "id": "5EWwiX_-QAlJ"
      },
      "execution_count": null,
      "outputs": []
    },
    {
      "cell_type": "code",
      "source": [
        "import optuna"
      ],
      "metadata": {
        "id": "ncNDNa16QBVe"
      },
      "execution_count": null,
      "outputs": []
    },
    {
      "cell_type": "code",
      "source": [
        "_, X_sub, y_sub, w_sub, _ = get_dataset_mes([202103])\n",
        "# X_sub, _, y_sub, _, w_sub, _ = train_test_split(\n",
        "#     X_opt, y_opt, w_opt,\n",
        "#     test_size=1,\n",
        "#     stratify=y_opt,\n",
        "#     random_state=semillas[0]\n",
        "# )\n",
        "# X_sub = X_sub\n",
        "# print(X_sub.shape)\n",
        "# del X_opt, y_opt, w_opt"
      ],
      "metadata": {
        "id": "GO8LZk0EUibp"
      },
      "execution_count": null,
      "outputs": []
    },
    {
      "cell_type": "code",
      "source": [
        "def objective(trial):\n",
        "\n",
        "    # Sugerencias (todas al nivel superior, sin condicionales que creen distribuciones dinámicas)\n",
        "    max_bin = trial.suggest_int('max_bin', 30, 150, step=10)\n",
        "    num_leaves = trial.suggest_int('num_leaves', 30, 150, step=10)\n",
        "    learning_rate = trial.suggest_float('learning_rate', high = 0.1, low = 0.005, log = True)\n",
        "    min_data_in_leaf = trial.suggest_int('min_data_in_leaf', 10, 200, step=10)\n",
        "    feature_fraction = trial.suggest_categorical('feature_fraction', [0.5, 0.75, 1.0])\n",
        "    bagging_freq = trial.suggest_categorical('bagging_freq', [0, 5])\n",
        "    # definimos bagging_fraction siempre (luego lo ignoramos si bagging_freq == 0)\n",
        "    bagging_fraction = trial.suggest_categorical('bagging_fraction', [0.5, 1.0])\n",
        "    option_idx = trial.suggest_int(\"feature_set\", 0, 3)\n",
        "    if option_idx == 0:\n",
        "        features = columns_old\n",
        "    elif option_idx == 1:\n",
        "        features = features_106\n",
        "    elif option_idx == 2:\n",
        "        features = columns_old + ['numero_de_cliente']\n",
        "    else:\n",
        "        features = list(X_sub.columns.drop([\"foto_mes\", \"numero_de_cliente\"]))\n",
        "\n",
        "\n",
        "    # si bagging_freq == 0, forzamos bagging_fraction a 1.0 (no requiere nueva sugerencia)\n",
        "    if bagging_freq == 0:\n",
        "        actual_bagging_fraction = 1.0\n",
        "    else:\n",
        "        actual_bagging_fraction = bagging_fraction\n",
        "\n",
        "    train_data = lgb.Dataset(X_sub[features],\n",
        "                          label=y_sub,\n",
        "                          weight=w_sub)\n",
        "\n",
        "    params = {\n",
        "        'objective': 'binary',\n",
        "        'metric': 'auc',\n",
        "        'first_metric_only': True,\n",
        "        'boost_from_average': True,\n",
        "        'feature_pre_filter': True,\n",
        "        'max_bin': max_bin,\n",
        "        'num_leaves': num_leaves,\n",
        "        'learning_rate': learning_rate,\n",
        "        'min_data_in_leaf': min_data_in_leaf,\n",
        "        'feature_fraction': feature_fraction,\n",
        "        'bagging_fraction': actual_bagging_fraction,\n",
        "        'bagging_freq': bagging_freq,\n",
        "        'boosting_type': 'gbdt',\n",
        "        'seed': semillas[0],\n",
        "        'verbose': -1,\n",
        "    }\n",
        "\n",
        "    cv_results = lgb.cv(\n",
        "        params,\n",
        "        train_data,\n",
        "        metrics = \"auc\",\n",
        "        num_boost_round=800,\n",
        "        callbacks=[lgb.early_stopping(first_metric_only = True, stopping_rounds=50)],\n",
        "        stratified=True,\n",
        "        nfold=5,\n",
        "        seed=semillas[0],\n",
        "        feval=lgb_gan_eval,\n",
        "    )\n",
        "\n",
        "    max_gan = max(cv_results['valid gan_eval-mean'])\n",
        "    max_auc = max(cv_results['valid auc-mean'])\n",
        "    best_iter_gan = cv_results['valid gan_eval-mean'].index(max_gan) + 1\n",
        "    best_iter_auc = cv_results['valid auc-mean'].index(max_auc) + 1\n",
        "\n",
        "    trial.set_user_attr(\"best_iter_gan\", best_iter_gan)\n",
        "    trial.set_user_attr(\"best_iter_auc\", best_iter_auc)\n",
        "    trial.set_user_attr(\"max_gan\", max_gan)\n",
        "\n",
        "    return max_auc\n",
        "\n",
        "\n",
        "storage_name = \"sqlite:///\" + db_path + \"base_04_10_v3.db\"\n",
        "study_name = \"auc_marzo\"\n",
        "\n",
        "study = optuna.create_study(\n",
        "    direction=\"maximize\",\n",
        "    study_name=study_name,\n",
        "    storage=storage_name,\n",
        "    load_if_exists=True,\n",
        ")"
      ],
      "metadata": {
        "id": "oaVDjf_PxEGg"
      },
      "execution_count": null,
      "outputs": []
    },
    {
      "cell_type": "code",
      "source": [
        "study.optimize(n_trials = 200, func = objective, n_jobs = -1)"
      ],
      "metadata": {
        "id": "EIUjI4ntUGsw"
      },
      "execution_count": null,
      "outputs": []
    },
    {
      "cell_type": "markdown",
      "source": [
        "# Ensamble"
      ],
      "metadata": {
        "id": "xakulcmi8wnW"
      }
    },
    {
      "cell_type": "code",
      "source": [
        "seed = 77"
      ],
      "metadata": {
        "id": "wgVLWz5bD8Js"
      },
      "execution_count": null,
      "outputs": []
    },
    {
      "cell_type": "markdown",
      "source": [
        "## Entrenamiento"
      ],
      "metadata": {
        "id": "mNxpaBDPEUHL"
      }
    },
    {
      "cell_type": "code",
      "source": [
        "params = {\n",
        "  \"max_bin\": 31,\n",
        "  \"num_leaves\": 31,\n",
        "  \"learning_rate\": 0.01,\n",
        "  \"min_data_in_leaf\": 20,\n",
        "  \"feature_fraction\": 0.5,\n",
        "  \"bagging_freq\": 5,\n",
        "  \"bagging_fraction\": 0.5,\n",
        "  \"feature_pre_filter\": True,\n",
        "  \"num_boost_round\": 50,\n",
        "  \"boosting_type\": \"gbdt\",\n",
        "  \"verbose\": 1,\n",
        "  \"objective\": \"binary\",\n",
        "  \"boost_from_average\": True,\n",
        "  \"force_row_wise\": True,\n",
        "  \"seed\":seed+1\n",
        "}\n",
        "\n",
        "_, X_train, y_train, w_train, _ = get_dataset_mes([202101, 202102, 202103])\n",
        "\n",
        "train_data = lgb.Dataset(X_train,\n",
        "                          label=y_train,\n",
        "                          weight=w_train)\n",
        "\n",
        "print(f\"Entrenando modelo con parámetros: {params}\")\n",
        "print(X_train.shape)\n",
        "del X_train, y_train, w_train\n",
        "model_e1 = lgb.train(params = params,\n",
        "                  train_set = train_data)\n",
        "del train_data"
      ],
      "metadata": {
        "id": "Scp0AOCADUmV"
      },
      "execution_count": null,
      "outputs": []
    },
    {
      "cell_type": "code",
      "source": [
        "params = {\n",
        "  \"max_bin\": 31,\n",
        "  \"num_leaves\": 31,\n",
        "  \"learning_rate\": 0.01,\n",
        "  \"min_data_in_leaf\": 20,\n",
        "  \"feature_fraction\": 0.5,\n",
        "  \"bagging_freq\": 5,\n",
        "  \"bagging_fraction\": 0.5,\n",
        "  \"feature_pre_filter\": True,\n",
        "  \"num_boost_round\": 50,\n",
        "  \"boosting_type\": \"gbdt\",\n",
        "  \"verbose\": 1,\n",
        "  \"objective\": \"binary\",\n",
        "  \"boost_from_average\": True,\n",
        "  \"force_row_wise\": True,\n",
        "  \"seed\":seed+2\n",
        "}\n",
        "\n",
        "_, X_train, y_train, w_train, _ = get_dataset_mes([202101, 202102, 202103])\n",
        "\n",
        "#w_train = np.where(w_train == 1.00002, 100, w_train)\n",
        "#y_train = np.where(w_train == 1.00002, 1, 0)\n",
        "\n",
        "train_data = lgb.Dataset(X_train,\n",
        "                          label=y_train,\n",
        "                          weight=w_train)\n",
        "\n",
        "print(f\"Entrenando modelo con parámetros: {params}\")\n",
        "print(X_train.shape)\n",
        "del X_train, y_train, w_train\n",
        "model_e2 = lgb.train(params = params,\n",
        "                  train_set = train_data)\n",
        "del train_data"
      ],
      "metadata": {
        "id": "WrXvd9kADceI"
      },
      "execution_count": null,
      "outputs": []
    },
    {
      "cell_type": "code",
      "source": [
        "params = {\n",
        "  \"max_bin\": 31,\n",
        "  \"num_leaves\": 31,\n",
        "  \"learning_rate\": 0.01,\n",
        "  \"min_data_in_leaf\": 20,\n",
        "  \"feature_fraction\": 0.5,\n",
        "  \"bagging_freq\": 5,\n",
        "  \"bagging_fraction\": 0.5,\n",
        "  \"feature_pre_filter\": True,\n",
        "  \"num_boost_round\": 50,\n",
        "  \"boosting_type\": \"gbdt\",\n",
        "  \"verbose\": 1,\n",
        "  \"objective\": \"binary\",\n",
        "  \"boost_from_average\": True,\n",
        "  \"force_row_wise\": True,\n",
        "  \"seed\":seed+3\n",
        "}\n",
        "_, X_train, y_train, w_train, _ = get_dataset_mes([202101, 202102, 202103])\n",
        "\n",
        "train_data = lgb.Dataset(X_train,\n",
        "                          label=y_train,\n",
        "                          weight=w_train)\n",
        "\n",
        "print(f\"Entrenando modelo con parámetros: {params}\")\n",
        "print(X_train.shape)\n",
        "del X_train, y_train, w_train\n",
        "model_e3 = lgb.train(params = params,\n",
        "                  train_set = train_data)\n",
        "del train_data"
      ],
      "metadata": {
        "id": "KqXZa7Zbze2d"
      },
      "execution_count": null,
      "outputs": []
    },
    {
      "cell_type": "code",
      "source": [
        "# params = {\n",
        "#   \"max_bin\": 31,\n",
        "#   \"num_leaves\": 31,\n",
        "#   \"learning_rate\": 0.01,\n",
        "#   \"min_data_in_leaf\": 20,\n",
        "#   \"feature_fraction\": 0.5,\n",
        "#   \"bagging_freq\": 5,\n",
        "#   \"bagging_fraction\": 0.5,\n",
        "#   \"feature_pre_filter\": True,\n",
        "#   \"num_boost_round\": 50,\n",
        "#   \"boosting_type\": \"gbdt\",\n",
        "#   \"verbose\": 1,\n",
        "#   \"objective\": \"binary\",\n",
        "#   \"boost_from_average\": True,\n",
        "#   \"force_row_wise\": True,\n",
        "#   \"seed\":4\n",
        "# }\n",
        "\n",
        "\n",
        "# _, X_train, y_train, w_train, _ = get_dataset_mes([202101, 202102, 202103])\n",
        "# X_train = X_train\n",
        "\n",
        "\n",
        "# train_data = lgb.Dataset(X_train,\n",
        "#                           label=y_train,\n",
        "#                           weight=w_train)\n",
        "\n",
        "# print(f\"Entrenando modelo con parámetros: {params}\")\n",
        "# print(X_train.shape)\n",
        "# del X_train, y_train, w_train\n",
        "# model_e4 = lgb.train(params = params,\n",
        "#                   train_set = train_data)\n",
        "# del train_data"
      ],
      "metadata": {
        "id": "62qu4wxkBh-Q"
      },
      "execution_count": null,
      "outputs": []
    },
    {
      "cell_type": "markdown",
      "source": [
        "## Predicción"
      ],
      "metadata": {
        "id": "bBIRoV2ZEXOE"
      }
    },
    {
      "cell_type": "code",
      "source": [
        "_, X_test, _, _, y_true = get_dataset_mes([202104])"
      ],
      "metadata": {
        "id": "bwAz4CT-FxKG"
      },
      "execution_count": null,
      "outputs": []
    },
    {
      "cell_type": "code",
      "source": [
        "predicciones_modelos = {}\n",
        "\n",
        "for i, model in enumerate([model_e1, model_e2, model_e3], start=1):\n",
        "    predicciones_modelos[f\"modelo_{i}\"] = model.predict(X_test[model.feature_name()])\n"
      ],
      "metadata": {
        "id": "Jdm7gA5ELvNq"
      },
      "execution_count": null,
      "outputs": []
    },
    {
      "cell_type": "code",
      "source": [
        "# Ensamble usando las predicciones ya calculadas\n",
        "pred_list = [predicciones_modelos[f\"modelo_{i}\"] for i in range(1, 4)]\n",
        "y_pred_e = np.mean(pred_list, axis = 0)#ensemble_rank_by_position_np(pred_list, weights=[1, 1, 1])\n",
        "ganancia_e, thr_e = get_ganancia(y_pred_e, y_true)\n",
        "resultados = {\n",
        "    \"ensamble\": {\"ganancia\": ganancia_e, \"threshold\": thr_e, \"y_pred\": y_pred_e}\n",
        "}\n",
        "\n",
        "# Evaluar cada modelo individual usando las predicciones ya calculadas\n",
        "for i in range(1, 4):\n",
        "    y_pred = predicciones_modelos[f\"modelo_{i}\"]\n",
        "    ganancia, thr = get_ganancia(y_pred, y_true)\n",
        "    resultados[f\"modelo_{i}\"] = {\"ganancia\": ganancia, \"threshold\": thr, \"y_pred\": y_pred}\n",
        "\n",
        "# Seleccionar el mejor modelo (sin incluir el ensamble)\n",
        "mejor_modelo = max([f\"modelo_{i}\" for i in range(1, 4)], key=lambda m: resultados[m][\"ganancia\"])\n",
        "mejor_ganancia = resultados[mejor_modelo][\"ganancia\"]\n",
        "mejor_threshold = resultados[mejor_modelo][\"threshold\"]\n",
        "mejor_y_pred = resultados[mejor_modelo][\"y_pred\"]"
      ],
      "metadata": {
        "id": "J6PFMvo3nLBZ"
      },
      "execution_count": null,
      "outputs": []
    },
    {
      "cell_type": "code",
      "source": [
        "# best_combo = test_all_weight_combinations_parallel(\n",
        "#     predictions_list=pred_list,\n",
        "#     y_true=y_true,\n",
        "#     weight_range=[(0,5), (0,5), (0,5)]\n",
        "# )"
      ],
      "metadata": {
        "id": "D3E8ZC01m75I"
      },
      "execution_count": null,
      "outputs": []
    },
    {
      "cell_type": "code",
      "source": [
        "sss_futuro = StratifiedShuffleSplit(n_splits=50,\n",
        "                             test_size=0.3,\n",
        "                             random_state=seed)\n",
        "\n",
        "modelos = {\"mejor_modelo\":{\"pred\": mejor_y_pred, \"th\": mejor_threshold}, \"ensamble\":{\"pred\":y_pred_e, \"th\": resultados[\"ensamble\"][\"threshold\"]}}\n",
        "rows = []\n",
        "for private_index, public_index in sss_futuro.split(X_test, y_true):\n",
        "  row = {}\n",
        "  for name, y_pred in modelos.items():\n",
        "    row[name + \"_public\"] = ganancia_prob(modelos[name][\"pred\"][public_index], y_true.iloc[public_index], th = modelos[name][\"th\"], prop = 0.3)\n",
        "    row[name + \"_private\"] = ganancia_prob(modelos[name][\"pred\"][private_index], y_true.iloc[private_index], th = modelos[name][\"th\"], prop = 0.7)\n",
        "  rows.append(row)\n",
        "df_lb = pd.DataFrame(rows)\n",
        "\n",
        "df = pd.DataFrame()\n",
        "df['best_public'] = df_lb.filter(regex='_public').idxmax(axis=1)\n",
        "df['best_private'] = df_lb.filter(regex='_private').idxmax(axis=1)\n",
        "\n",
        "pd.crosstab(df['best_public'], df['best_private'])"
      ],
      "metadata": {
        "id": "G1ZYhpxyqFdA"
      },
      "execution_count": null,
      "outputs": []
    },
    {
      "cell_type": "markdown",
      "source": [
        "## Punto de corte"
      ],
      "metadata": {
        "id": "SanBcivhgNeY"
      }
    },
    {
      "cell_type": "code",
      "source": [
        "_, X_test, _, _, y_true = get_dataset_mes([202103])\n",
        "\n",
        "predicciones_modelos = {}\n",
        "\n",
        "for i, model in enumerate([model_e1, model_e2, model_e3], start=1):\n",
        "    predicciones_modelos[f\"modelo_{i}\"] = model.predict(X_test[model.feature_name()])"
      ],
      "metadata": {
        "id": "7FXKh8SOgYn2"
      },
      "execution_count": null,
      "outputs": []
    },
    {
      "cell_type": "code",
      "source": [
        "pred_list = [predicciones_modelos[f\"modelo_{i}\"] for i in range(1, 4)]\n",
        "y_pred_e = ensemble_rank_by_position_np(pred_list, weights=[1, 1, 1])\n",
        "\n",
        "# Resultado por cliente si lo estimuláramos\n",
        "ganancia = np.where(y_true == 1, ganancia_acierto, 0) - np.where(y_true == 0, costo_estimulo, 0)\n",
        "\n",
        "# Se ordena por mayor a menor probabilidad\n",
        "idx = np.argsort(y_pred_e)[::-1]\n",
        "\n",
        "ganancia = ganancia[idx]\n",
        "y_pred = y_pred_e[idx] # Ordenados de mayor a menor probabilidad\n",
        "\n",
        "ganancia_cum = np.cumsum(ganancia)"
      ],
      "metadata": {
        "id": "exAAh-04a3uV"
      },
      "execution_count": null,
      "outputs": []
    },
    {
      "cell_type": "code",
      "source": [
        "maxima_ganancia = np.max(ganancia_cum)\n",
        "envios = np.argmax(ganancia_cum)\n",
        "proba = y_pred[envios]\n",
        "\n",
        "print(f\"Maxima ganancia: {maxima_ganancia}\\nEnvios:{envios}\\nProba:{round(proba,4)}\")"
      ],
      "metadata": {
        "id": "17566R0kgtEB"
      },
      "execution_count": null,
      "outputs": []
    },
    {
      "cell_type": "markdown",
      "metadata": {
        "id": "r7SRtWZH33Ho"
      },
      "source": [
        "# CV manual"
      ]
    },
    {
      "cell_type": "markdown",
      "source": [
        "## modelo 1"
      ],
      "metadata": {
        "id": "QLBY1NwF2c3J"
      }
    },
    {
      "cell_type": "code",
      "source": [
        "seed = 24"
      ],
      "metadata": {
        "id": "S8FJV9P-qPMp"
      },
      "execution_count": null,
      "outputs": []
    },
    {
      "cell_type": "code",
      "source": [
        "params_cv_1 = {\n",
        "  \"max_bin\": 50,\n",
        "  \"num_leaves\": 50,\n",
        "  \"learning_rate\": 0.007,\n",
        "  \"min_data_in_leaf\": 20,\n",
        "  \"feature_fraction\": 0.5,\n",
        "  \"bagging_freq\": 5,\n",
        "  \"bagging_fraction\": 0.5,\n",
        "  \"feature_pre_filter\": True,\n",
        "  \"num_boost_round\": 1500,\n",
        "  \"boosting_type\": \"gbdt\",\n",
        "  \"verbose\": 1,\n",
        "  \"objective\": \"binary\",\n",
        "  \"boost_from_average\": True,\n",
        "  \"force_row_wise\": True\n",
        "}"
      ],
      "metadata": {
        "id": "1PVel5P6oMwx"
      },
      "execution_count": null,
      "outputs": []
    },
    {
      "cell_type": "code",
      "execution_count": null,
      "metadata": {
        "id": "o6Vgy0J7T-B7"
      },
      "outputs": [],
      "source": [
        "_, X_cv_1, y_cv_1, w_cv_1, _ = get_dataset_mes([202104])\n",
        "\n",
        "mask = y_cv_1[y_cv_1 != 0]\n",
        "\n",
        "w_cv_1 = np.where(w_cv_1 == 1.00001, 0, np.where(w_cv_1 == 1.00002, 1, w_cv_1))\n",
        "\n",
        "# Ahora descartar las filas donde y_cv_1 == 0\n",
        "mask = y_cv_1 != 0\n",
        "X_cv_1 = X_cv_1[mask]\n",
        "y_cv_1 = y_cv_1[mask]\n",
        "w_cv_1 = w_cv_1[mask]\n",
        "\n",
        "#X_cv_1 = X_cv_1[columns_old]\n",
        "#X_cv_1 = X_cv_1.loc[:, ~X_cv_1.columns.str.contains(r'(?:lag_[32]|delta_[3]|numero_de_cliente|foto_mes)')]\n",
        "#X_cv_1 = X_cv_1.loc[:, ~X_cv_1.columns.str.contains(r'(?:lag_[3]|delta_[3]|numero_de_cliente|foto_mes)')]"
      ]
    },
    {
      "cell_type": "code",
      "source": [
        "np.unique(w_cv_1)"
      ],
      "metadata": {
        "id": "-73XuklxlX9T"
      },
      "execution_count": null,
      "outputs": []
    },
    {
      "cell_type": "code",
      "execution_count": null,
      "metadata": {
        "id": "Ui_fpVI2Rls0"
      },
      "outputs": [],
      "source": [
        "train_data_1 = lgb.Dataset(X_cv_1, label=w_cv_1)\n",
        "\n",
        "print(X_cv_1.shape)\n",
        "\n",
        "cv_1 = lgb.cv(\n",
        "    params = params_cv_1,\n",
        "    metrics = \"auc\",\n",
        "    train_set = train_data_1,\n",
        "    callbacks=[\n",
        "        lgb.early_stopping(first_metric_only = True, stopping_rounds=50),\n",
        "        lgb.log_evaluation(period=50),\n",
        "    ],\n",
        "    stratified=True,\n",
        "    nfold=5,\n",
        "    seed=seed\n",
        ")"
      ]
    },
    {
      "cell_type": "code",
      "source": [
        "print(positions[-50:])"
      ],
      "metadata": {
        "id": "3QUB6yZ1x8XR"
      },
      "execution_count": null,
      "outputs": []
    },
    {
      "cell_type": "code",
      "source": [
        "# print(np.max(cv_1[\"valid gan_eval-mean\"]))\n",
        "print(np.max(cv_1[\"valid auc-mean\"]))"
      ],
      "metadata": {
        "id": "Id11r6lM24M0"
      },
      "execution_count": null,
      "outputs": []
    },
    {
      "cell_type": "code",
      "source": [
        "del X_cv_1, train_data_1, y_cv_1, w_cv_1"
      ],
      "metadata": {
        "id": "nFj54UWuX4pV"
      },
      "execution_count": null,
      "outputs": []
    },
    {
      "cell_type": "markdown",
      "source": [
        "## modelo 2"
      ],
      "metadata": {
        "id": "EoN8GmZc2fBm"
      }
    },
    {
      "cell_type": "code",
      "source": [
        "params_cv_2 = {\n",
        "  \"max_bin\": 100,\n",
        "  \"num_leaves\": 75,\n",
        "  \"learning_rate\": 0.01,\n",
        "  \"min_data_in_leaf\": 50,\n",
        "  \"feature_fraction\": 0.5,\n",
        "  \"bagging_freq\": 5,\n",
        "  \"bagging_fraction\": 0.5,\n",
        "  \"feature_pre_filter\": True,\n",
        "  \"num_boost_round\": 50,\n",
        "  \"boosting_type\": \"gbdt\",\n",
        "  \"verbose\": 1,\n",
        "  \"objective\": \"binary\",\n",
        "  \"seed\":seed,\n",
        "  \"boost_from_average\": True\n",
        "}"
      ],
      "metadata": {
        "id": "7FRJJ8iMp-0A"
      },
      "execution_count": null,
      "outputs": []
    },
    {
      "cell_type": "code",
      "source": [
        "_, X_cv_2, y_cv_2, w_cv_2, _ = get_dataset_mes([202104])\n",
        "\n",
        "X_cv_2 = X_cv_2"
      ],
      "metadata": {
        "id": "wCJH8jy2pm1D"
      },
      "execution_count": null,
      "outputs": []
    },
    {
      "cell_type": "code",
      "source": [
        "train_data_2 = lgb.Dataset(X_cv_2, label=y_cv_2, weight=w_cv_2)\n",
        "\n",
        "print(X_cv_2.shape)\n",
        "\n",
        "cv_2 = lgb.cv(\n",
        "    params = params_cv_2,\n",
        "    feval=lgb_gan_eval,\n",
        "    train_set = train_data_2,\n",
        "    callbacks=[\n",
        "        lgb.log_evaluation(period=50),\n",
        "    ],\n",
        "    stratified=True,\n",
        "    nfold=5,\n",
        "    seed=seed\n",
        ")\n",
        "\n",
        "print(np.max(cv_2[\"valid gan_eval-mean\"]))"
      ],
      "metadata": {
        "id": "OoY8jBzfqD_O"
      },
      "execution_count": null,
      "outputs": []
    },
    {
      "cell_type": "code",
      "source": [
        "print(np.max(cv_1[\"valid gan_eval-mean\"]))\n",
        "print(np.max(cv_2[\"valid gan_eval-mean\"]))"
      ],
      "metadata": {
        "id": "ZbOQgOSIueS8"
      },
      "execution_count": null,
      "outputs": []
    },
    {
      "cell_type": "code",
      "source": [
        "del X_cv_2, train_data_2, y_cv_2, w_cv_2"
      ],
      "metadata": {
        "id": "NGaVxqE0Xk7-"
      },
      "execution_count": null,
      "outputs": []
    },
    {
      "cell_type": "markdown",
      "metadata": {
        "id": "tv_dTEXQh9mt"
      },
      "source": [
        "# Comparación 2 modelos"
      ]
    },
    {
      "cell_type": "code",
      "execution_count": null,
      "metadata": {
        "id": "x7IL5hqKYisx"
      },
      "outputs": [],
      "source": [
        "seed = 68"
      ]
    },
    {
      "cell_type": "code",
      "execution_count": null,
      "metadata": {
        "id": "jbHQhoPust7D"
      },
      "outputs": [],
      "source": [
        "fixed_params = {\n",
        "  \"boosting_type\": \"gbdt\",\n",
        "  \"verbose\": 1,\n",
        "  \"objective\": \"binary\",\n",
        "  \"seed\": seed,\n",
        "  \"boost_from_average\": True\n",
        "}"
      ]
    },
    {
      "cell_type": "code",
      "source": [
        "#prueba\n",
        "\n",
        "params_model_1 = {\n",
        "  \"max_bin\": 80,\n",
        "  \"num_leaves\": 80,\n",
        "  \"learning_rate\": 0.007,\n",
        "  \"min_data_in_leaf\": 180,\n",
        "  \"feature_fraction\": 0.5,\n",
        "  \"bagging_freq\": 5,\n",
        "  \"bagging_fraction\": 0.5,\n",
        "  \"feature_pre_filter\": True,\n",
        "  \"num_boost_round\": 200,\n",
        "  \"boosting_type\": \"gbdt\",\n",
        "  \"verbose\": 1,\n",
        "  \"objective\": \"binary\",\n",
        "  \"force_row_wise\": True,\n",
        "  \"boost_from_average\": True,\n",
        "  \"seed\":seed\n",
        "}\n",
        "\n",
        "params_model_1 = params_model_1 | fixed_params"
      ],
      "metadata": {
        "id": "-2c7st8rEvVW"
      },
      "execution_count": null,
      "outputs": []
    },
    {
      "cell_type": "code",
      "source": [
        "params_model_2 = {\n",
        "  \"max_bin\": 80,\n",
        "  \"num_leaves\": 80,\n",
        "  \"learning_rate\": 0.007,\n",
        "  \"min_data_in_leaf\": 180,\n",
        "  \"feature_fraction\": 0.5,\n",
        "  \"bagging_freq\": 5,\n",
        "  \"bagging_fraction\": 0.5,\n",
        "  \"feature_pre_filter\": True,\n",
        "  \"num_boost_round\": 200,\n",
        "  \"boosting_type\": \"gbdt\",\n",
        "  \"verbose\": 1,\n",
        "  \"objective\": \"binary\",\n",
        "  \"force_row_wise\": True,\n",
        "  \"boost_from_average\": True,\n",
        "  \"seed\":seed,\n",
        "}\n",
        "\n",
        "params_model_2 = params_model_2 | fixed_params"
      ],
      "metadata": {
        "id": "QZGwtAuxYdvL"
      },
      "execution_count": null,
      "outputs": []
    },
    {
      "cell_type": "code",
      "execution_count": null,
      "metadata": {
        "id": "50mLTyu8ruEL"
      },
      "outputs": [],
      "source": [
        "vars_to_keep = features_base + delta_1 + delta_2\n",
        "\n",
        "_, X_train, y_train, w_train, _ = get_dataset_mes([202101, 202102, 202103], features = vars_to_keep)\n",
        "_, X_test, _, _, y_true = get_dataset_mes([202104], features = vars_to_keep)\n",
        "\n",
        "print(X_train.shape)\n",
        "print(X_test.shape)"
      ]
    },
    {
      "cell_type": "code",
      "source": [
        "# w_train_1 = w_train.copy()\n",
        "\n",
        "# mask_202103 = X_train[\"foto_mes\"] == 202103\n",
        "# w_train_1[mask_202103] = w_train_1[mask_202103] * 1.3\n",
        "w_train_1 = w_train\n",
        "w_train_2 = w_train"
      ],
      "metadata": {
        "id": "HqxSeWyeh1Ri"
      },
      "execution_count": null,
      "outputs": []
    },
    {
      "cell_type": "code",
      "source": [
        "y_train_1 = y_train[y_train == 1]\n",
        "y_train_0 = y_train[y_train == 0]\n",
        "\n",
        "# Tomar el 50% de los que valen 1\n",
        "y_train_0_sample = y_train_0.sample(frac=0.5, random_state=seed)\n",
        "\n",
        "# Combinar\n",
        "y_train_filtered = pd.concat([y_train_1, y_train_0_sample]).sort_index()\n",
        "\n",
        "# Filtrar x_train en consecuencia\n",
        "X_train_1 = X_train.loc[y_train_filtered.index]\n",
        "X_train_2 = X_train.loc[y_train_filtered.index]"
      ],
      "metadata": {
        "id": "OLHhsbahVK6I"
      },
      "execution_count": null,
      "outputs": []
    },
    {
      "cell_type": "code",
      "execution_count": null,
      "metadata": {
        "id": "ruSBZ4ylbEmn"
      },
      "outputs": [],
      "source": [
        "X_train_1 = X_train_1[features_base + delta_1 + ratios] #[[col for col in columns_old if col not in lag_1]]\n",
        "X_train_2 = X_train_2[features_base + delta_1]\n",
        "\n",
        "def train_model(params, X_train, y_train, w_train):\n",
        "    print(f\"\\nEntrenando modelo con parámetros: {params}\\nShape: {X_train.shape}\")\n",
        "    train_data = lgb.Dataset(X_train, label=y_train, weight=w_train)\n",
        "\n",
        "    try:\n",
        "      del X_train_1\n",
        "    except Exception as e:\n",
        "      pass\n",
        "    try:\n",
        "      del X_train_2\n",
        "    except Exception as e:\n",
        "      pass\n",
        "\n",
        "    model = lgb.train(params=params, train_set=train_data)\n",
        "    return model\n",
        "\n",
        "try:\n",
        "  print(\"Eliminando data...\")\n",
        "  del X_train\n",
        "except Exception as e:\n",
        "  print(e)\n",
        "\n",
        "with parallel_backend('threading'):\n",
        "    models = Parallel(n_jobs=-1)(\n",
        "        delayed(train_model)(p, X, y_train[X.index], w_train[X.index])\n",
        "        for p, X, w_train in [(params_model_1, X_train_1, w_train_1), (params_model_2, X_train_2, w_train_2)]\n",
        "    )\n",
        "\n",
        "model_1, model_2 = models"
      ]
    },
    {
      "cell_type": "code",
      "execution_count": null,
      "metadata": {
        "id": "c_h90V6RE_bZ"
      },
      "outputs": [],
      "source": [
        "y_pred_1 = model_1.predict(X_test[model_1.feature_name()])\n",
        "y_pred_2 = model_2.predict(X_test[model_2.feature_name()])"
      ]
    },
    {
      "cell_type": "code",
      "execution_count": null,
      "metadata": {
        "id": "zyyeNTGTE_ba"
      },
      "outputs": [],
      "source": [
        "def ganancia_prob_th(y_pred, y_true, prop=1):\n",
        "    # Calcular ganancia individual para cada observación\n",
        "    ganancia = np.where(y_true == 1, ganancia_acierto, 0) - np.where(y_true == 0, costo_estimulo, 0)\n",
        "\n",
        "    # Ordenar por probabilidad descendente\n",
        "    idx = np.argsort(y_pred)[::-1]\n",
        "    ganancia_ordenada = ganancia[idx]\n",
        "    y_pred_ordenado = y_pred[idx]\n",
        "\n",
        "    # Ganancia acumulada\n",
        "    ganancia_cum = np.cumsum(ganancia_ordenada) / prop\n",
        "\n",
        "    # Encontrar el máximo\n",
        "    idx_max = ganancia_cum.argmax()\n",
        "    mejor_ganancia = ganancia_cum[idx_max]\n",
        "    mejor_threshold = y_pred_ordenado[idx_max]\n",
        "    mejor_envios = idx_max + 1\n",
        "\n",
        "    print(f\"Mejor punto de corte: {mejor_threshold:.6f}\")\n",
        "    print(f\"Envíos: {mejor_envios}\")\n",
        "    print(f\"Ganancia máxima: {mejor_ganancia:.2f}\")\n",
        "\n",
        "    return mejor_ganancia, mejor_threshold\n",
        "\n",
        "# Uso\n",
        "print(\"Modelo 1:\")\n",
        "ganancia_max_1, threshold_model_1 = ganancia_prob_th(y_pred_1, y_true)\n",
        "\n",
        "print(\"\\nModelo 2:\")\n",
        "ganancia_max_2, threshold_model_2 = ganancia_prob_th(y_pred_2, y_true)"
      ]
    },
    {
      "cell_type": "code",
      "execution_count": null,
      "metadata": {
        "id": "P-kJXqzvB2n7"
      },
      "outputs": [],
      "source": [
        "def ganancia_prob(y_pred, y_true, th, prop=1):\n",
        "    ganancia = np.where(y_true == 1, ganancia_acierto, 0) - np.where(y_true == 0, costo_estimulo, 0)\n",
        "    return ganancia[y_pred >= th].sum() / prop\n",
        "\n",
        "sss_futuro = StratifiedShuffleSplit(n_splits=50,\n",
        "                             test_size=0.3,\n",
        "                             random_state=seed)\n",
        "modelos = {\"model1\":{\"pred\": y_pred_1, \"th\":threshold_model_1}, \"model2\":{\"pred\":y_pred_2, \"th\": threshold_model_2}}\n",
        "rows = []\n",
        "for private_index, public_index in sss_futuro.split(X_test, y_true):\n",
        "  row = {}\n",
        "  for name, y_pred in modelos.items():\n",
        "    row[name + \"_public\"] = ganancia_prob(modelos[name][\"pred\"][public_index], y_true.iloc[public_index], th = modelos[name][\"th\"], prop = 0.3)\n",
        "    row[name + \"_private\"] = ganancia_prob(modelos[name][\"pred\"][private_index], y_true.iloc[private_index], th = modelos[name][\"th\"], prop = 0.7)\n",
        "  rows.append(row)\n",
        "df_lb = pd.DataFrame(rows)"
      ]
    },
    {
      "cell_type": "code",
      "execution_count": null,
      "metadata": {
        "id": "1aXjQqqRB6QZ"
      },
      "outputs": [],
      "source": [
        "df_lb_long = df_lb.reset_index()\n",
        "df_lb_long = df_lb_long.melt(id_vars=['index'], var_name='model_type', value_name='ganancia')\n",
        "df_lb_long[['modelo', 'tipo']] = df_lb_long['model_type'].str.split('_', expand=True)\n",
        "df_lb_long = df_lb_long[['ganancia', 'tipo', 'modelo']]"
      ]
    },
    {
      "cell_type": "markdown",
      "source": [
        "## Resultados"
      ],
      "metadata": {
        "id": "RypLe9pp0IQ-"
      }
    },
    {
      "cell_type": "code",
      "execution_count": null,
      "metadata": {
        "id": "Ocd88pp0B9rf"
      },
      "outputs": [],
      "source": [
        "g = sns.FacetGrid(df_lb_long, col=\"tipo\", row=\"modelo\", aspect=2)\n",
        "g.map(sns.histplot, \"ganancia\", kde=True)\n",
        "plt.show()"
      ]
    },
    {
      "cell_type": "code",
      "execution_count": null,
      "metadata": {
        "id": "d9qfsUvFCAi8"
      },
      "outputs": [],
      "source": [
        "df = pd.DataFrame()\n",
        "df['best_public'] = df_lb.filter(regex='_public').idxmax(axis=1)\n",
        "df['best_private'] = df_lb.filter(regex='_private').idxmax(axis=1)\n",
        "\n",
        "pd.crosstab(df['best_public'], df['best_private'])"
      ]
    },
    {
      "cell_type": "code",
      "source": [
        "def threshold_optimo_por_ganancia(y_pred, y_true, ganancia_acierto, costo_estimulo):\n",
        "    \"\"\"Devuelve el threshold que maximiza la ganancia acumulada.\"\"\"\n",
        "    ganancia = np.where(y_true == 1, ganancia_acierto, 0) - np.where(y_true == 0, costo_estimulo, 0)\n",
        "    idx = np.argsort(y_pred)[::-1]\n",
        "    ganancia_cum = np.cumsum(ganancia[idx])\n",
        "    envios_opt = np.argmax(ganancia_cum)\n",
        "    y_pred_ordenado = y_pred[idx]\n",
        "    th_opt = y_pred_ordenado[envios_opt]\n",
        "    return th_opt, ganancia_cum[envios_opt]\n",
        "\n",
        "sss_futuro = StratifiedShuffleSplit(n_splits=50, test_size=0.3, random_state=seed)\n",
        "\n",
        "thresholds_privados = []\n",
        "thresholds_publicos = []\n",
        "\n",
        "for private_index, public_index in sss_futuro.split(X_test, y_true):\n",
        "    # Privado\n",
        "    th_priv, gan_priv = threshold_optimo_por_ganancia(\n",
        "        y_pred_1[private_index],\n",
        "        y_true.iloc[private_index],\n",
        "        ganancia_acierto,\n",
        "        costo_estimulo\n",
        "    )\n",
        "    thresholds_privados.append(th_priv)\n",
        "\n",
        "    # Público\n",
        "    th_pub, gan_pub = threshold_optimo_por_ganancia(\n",
        "        y_pred_1[public_index],\n",
        "        y_true.iloc[public_index],\n",
        "        ganancia_acierto,\n",
        "        costo_estimulo\n",
        "    )\n",
        "    thresholds_publicos.append(th_pub)\n",
        "\n",
        "print(f\"Threshold privado promedio: {np.mean(thresholds_privados):.4f}\")\n",
        "print(f\"Threshold público promedio: {np.mean(thresholds_publicos):.4f}\")"
      ],
      "metadata": {
        "id": "fSvKexCZSeLh"
      },
      "execution_count": null,
      "outputs": []
    },
    {
      "cell_type": "code",
      "source": [
        "del X_train_1, X_train_2"
      ],
      "metadata": {
        "id": "h785a1B642Oe"
      },
      "execution_count": null,
      "outputs": []
    },
    {
      "cell_type": "markdown",
      "metadata": {
        "id": "wylHRKb1f3M3"
      },
      "source": [
        "# Punto de corte"
      ]
    },
    {
      "cell_type": "code",
      "source": [
        "seed = 254"
      ],
      "metadata": {
        "id": "YWA1IGcVkfrA"
      },
      "execution_count": null,
      "outputs": []
    },
    {
      "cell_type": "code",
      "execution_count": null,
      "metadata": {
        "id": "rCcrIQR0f3M4"
      },
      "outputs": [],
      "source": [
        "params = {\n",
        "  \"max_bin\": 80,\n",
        "  \"num_leaves\": 80,\n",
        "  \"learning_rate\": 0.007,\n",
        "  \"min_data_in_leaf\": 180,\n",
        "  \"feature_fraction\": 0.5,\n",
        "  \"bagging_freq\": 5,\n",
        "  \"bagging_fraction\": 0.5,\n",
        "  \"feature_pre_filter\": True,\n",
        "  \"num_boost_round\": 500,\n",
        "  \"boosting_type\": \"gbdt\",\n",
        "  \"verbose\": 1,\n",
        "  \"objective\": \"binary\",\n",
        "  \"force_row_wise\": True,\n",
        "  \"boost_from_average\": True,\n",
        "  \"seed\":seed\n",
        "}"
      ]
    },
    {
      "cell_type": "code",
      "execution_count": null,
      "metadata": {
        "id": "BgChKWOwf3M4"
      },
      "outputs": [],
      "source": [
        "_, X_train, y_train, w_train, _ = get_dataset_mes([202101])\n",
        "_, X_test, _, _, y_test_binaria1 = get_dataset_mes([202104])\n",
        "\n",
        "\n",
        "train_data = lgb.Dataset(X_train[features_base],\n",
        "                          label=y_train,\n",
        "                          weight=w_train)\n",
        "del X_train, y_train, w_train\n",
        "print(f\"Entrenando model con parámetros: {params}\")\n",
        "\n",
        "model_pc = lgb.train(params = params,\n",
        "                  train_set = train_data)"
      ]
    },
    {
      "cell_type": "code",
      "execution_count": null,
      "metadata": {
        "id": "0qZZWS9Lf3M4"
      },
      "outputs": [],
      "source": [
        "# pd.DataFrame({\"feature\": X_train.columns, \"importance\": model.feature_importance(importance_type = \"gain\")}).sort_values(by = \"importance\", ascending = False)"
      ]
    },
    {
      "cell_type": "code",
      "execution_count": null,
      "metadata": {
        "id": "t6OrwHPJf3M4"
      },
      "outputs": [],
      "source": [
        "y_pred = model_pc.predict(X_test[model_pc.feature_name()])"
      ]
    },
    {
      "cell_type": "code",
      "execution_count": null,
      "metadata": {
        "id": "HsUXdg2Lf3M4"
      },
      "outputs": [],
      "source": [
        "# Resultado por cliente si lo estimuláramos\n",
        "ganancia = np.where(y_test_binaria1 == 1, ganancia_acierto, 0) - np.where(y_test_binaria1 == 0, costo_estimulo, 0)\n",
        "\n",
        "# Se ordena por mayor a menor probabilidad\n",
        "idx = np.argsort(y_pred)[::-1]\n",
        "\n",
        "ganancia = ganancia[idx]\n",
        "y_pred_ordenado = y_pred[idx] # Ordenados de mayor a menor probabilidad\n",
        "\n",
        "ganancia_cum = np.cumsum(ganancia)"
      ]
    },
    {
      "cell_type": "code",
      "execution_count": null,
      "metadata": {
        "id": "5KJVl9v0f3M4"
      },
      "outputs": [],
      "source": [
        "print(ganancia_cum[0:100])"
      ]
    },
    {
      "cell_type": "code",
      "execution_count": null,
      "metadata": {
        "id": "WX3imc4Bf3M5"
      },
      "outputs": [],
      "source": [
        "piso_envios = 4000\n",
        "techo_envios = 20000\n",
        "\n",
        "plt.figure(figsize=(10, 6))\n",
        "plt.plot(y_pred_ordenado[piso_envios:techo_envios], ganancia_cum[piso_envios:techo_envios], label='Ganancia LGBM')\n",
        "plt.title('Curva de Ganancia')\n",
        "plt.xlabel('Predicción de probabilidad')\n",
        "plt.ylabel('Ganancia')\n",
        "plt.axvline(x=0.025, color='g', linestyle='--', label='Punto de corte a 0.025')\n",
        "plt.legend()\n",
        "plt.show()\n"
      ]
    },
    {
      "cell_type": "code",
      "execution_count": null,
      "metadata": {
        "id": "7ZkJjtpBf3M5"
      },
      "outputs": [],
      "source": [
        "maxima_ganancia = np.max(ganancia_cum)\n",
        "envios = np.argmax(ganancia_cum)\n",
        "proba = y_pred_ordenado[envios]\n",
        "\n",
        "print(f\"Maxima ganancia: {maxima_ganancia}\\nEnvios:{envios}\\nProba:{round(proba,4)}\")"
      ]
    },
    {
      "cell_type": "code",
      "source": [
        "def threshold_optimo_por_ganancia(y_pred, y_true, ganancia_acierto, costo_estimulo):\n",
        "    \"\"\"Devuelve el threshold que maximiza la ganancia acumulada.\"\"\"\n",
        "    ganancia = np.where(y_true == 1, ganancia_acierto, 0) - np.where(y_true == 0, costo_estimulo, 0)\n",
        "    idx = np.argsort(y_pred)[::-1]\n",
        "    ganancia_cum = np.cumsum(ganancia[idx])\n",
        "    envios_opt = np.argmax(ganancia_cum)\n",
        "    y_pred_ordenado = y_pred[idx]\n",
        "    th_opt = y_pred_ordenado[envios_opt]\n",
        "    return th_opt, ganancia_cum[envios_opt]\n",
        "\n",
        "sss_futuro = StratifiedShuffleSplit(n_splits=50, test_size=0.3, random_state=seed)\n",
        "\n",
        "thresholds_privados = []\n",
        "thresholds_publicos = []\n",
        "\n",
        "for private_index, public_index in sss_futuro.split(X_test, y_test_binaria1):\n",
        "    # Privado\n",
        "    th_priv, gan_priv = threshold_optimo_por_ganancia(\n",
        "        y_pred[private_index],\n",
        "        y_test_binaria1.iloc[private_index],\n",
        "        ganancia_acierto,\n",
        "        costo_estimulo\n",
        "    )\n",
        "    thresholds_privados.append(th_priv)\n",
        "\n",
        "    # Público\n",
        "    th_pub, gan_pub = threshold_optimo_por_ganancia(\n",
        "        y_pred[public_index],\n",
        "        y_test_binaria1.iloc[public_index],\n",
        "        ganancia_acierto,\n",
        "        costo_estimulo\n",
        "    )\n",
        "    thresholds_publicos.append(th_pub)\n",
        "\n",
        "print(f\"Threshold privado promedio: {np.mean(thresholds_privados):.4f}\")\n",
        "print(f\"Threshold público promedio: {np.mean(thresholds_publicos):.4f}\")"
      ],
      "metadata": {
        "id": "e4bTQmX0mVi4"
      },
      "execution_count": null,
      "outputs": []
    },
    {
      "cell_type": "code",
      "source": [
        "del X_test, y_true"
      ],
      "metadata": {
        "id": "-uJ_5fGCAT1U"
      },
      "execution_count": null,
      "outputs": []
    },
    {
      "cell_type": "markdown",
      "metadata": {
        "id": "kpQzkroPE3VI"
      },
      "source": [
        "# Train final"
      ]
    },
    {
      "cell_type": "code",
      "source": [
        "_, X_kaggle, _, _, _ = get_dataset_mes(202106, kaggle = True)"
      ],
      "metadata": {
        "id": "a1_eQPz0ZWos"
      },
      "execution_count": 29,
      "outputs": []
    },
    {
      "cell_type": "code",
      "source": [
        "semillas = [0,1,24,19,12,2018,1918,1900]"
      ],
      "metadata": {
        "id": "pApW13ENQY02"
      },
      "execution_count": 30,
      "outputs": []
    },
    {
      "cell_type": "code",
      "execution_count": 31,
      "metadata": {
        "id": "nA03-6facOf4",
        "colab": {
          "base_uri": "https://localhost:8080/"
        },
        "outputId": "a140572e-4f3f-4bdf-a87b-18c2b2c8ec2e"
      },
      "outputs": [
        {
          "output_type": "stream",
          "name": "stdout",
          "text": [
            "Entrenando modelo con parámetros: {'max_bin': 50, 'num_leaves': 50, 'learning_rate': 0.01, 'min_data_in_leaf': 200, 'feature_fraction': 0.5, 'bagging_freq': 5, 'bagging_fraction': 0.5, 'feature_pre_filter': True, 'num_boost_round': 1000, 'boosting_type': 'gbdt', 'verbose': 1, 'objective': 'binary', 'force_row_wise': True, 'boost_from_average': True, 'seed': 0, 'is_unbalance': True}\n",
            "(650209, 323)\n",
            "[LightGBM] [Info] Number of positive: 7385, number of negative: 642824\n",
            "[LightGBM] [Info] Total Bins 11870\n",
            "[LightGBM] [Info] Number of data points in the train set: 650209, number of used features: 321\n",
            "[LightGBM] [Info] [binary:BoostFromScore]: pavg=0.011358 -> initscore=-4.466405\n",
            "[LightGBM] [Info] Start training from score -4.466405\n",
            "                                 feature    importance\n",
            "265                         cpayroll_trx  4.129510e+06\n",
            "158                             mpayroll  1.786361e+06\n",
            "125                     Visa_msaldopesos  1.733831e+06\n",
            "136                         std_mpayroll  1.211774e+06\n",
            "9                       std_cpayroll_trx  1.088146e+06\n",
            "21                          mcaja_ahorro  9.512109e+05\n",
            "320                     std_ctrx_quarter  9.511872e+05\n",
            "67                 mprestamos_personales  5.336220e+05\n",
            "63                       mpasivos_margen  5.042672e+05\n",
            "84                        mcuentas_saldo  4.669466e+05\n",
            "303                         ctrx_quarter  4.123722e+05\n",
            "203                mtarjeta_visa_consumo  3.899538e+05\n",
            "127                     Master_fechaalta  3.858644e+05\n",
            "129           lag_1_mrentabilidad_annual  3.708631e+05\n",
            "77                          cliente_edad  3.318612e+05\n",
            "43                       mactivos_margen  2.940136e+05\n",
            "279            mcomisiones_mantenimiento  2.850943e+05\n",
            "14           ctarjeta_visa_transacciones  2.813409e+05\n",
            "295                     Visa_mpagominimo  2.727372e+05\n",
            "274            std_mprestamos_personales  2.631228e+05\n",
            "266                      mpagomiscuentas  2.490431e+05\n",
            "290      std_ctarjeta_visa_transacciones  2.376087e+05\n",
            "25                        Visa_fechaalta  2.332124e+05\n",
            "105                  Master_Fvencimiento  2.174779e+05\n",
            "177                   lag_1_ctrx_quarter  2.160773e+05\n",
            "210            std_cprestamos_personales  2.103524e+05\n",
            "318          mcuenta_debitos_automaticos  1.997662e+05\n",
            "165                   cliente_antiguedad  1.980486e+05\n",
            "291                   std_mcuentas_saldo  1.964923e+05\n",
            "140                  std_mactivos_margen  1.957089e+05\n",
            "23                     ccomisiones_otras  1.919154e+05\n",
            "91   ratio_mprestamos_personales_vs_prev  1.905757e+05\n",
            "189            mtransferencias_recibidas  1.870585e+05\n",
            "157         ratio_mcuentas_saldo_vs_prev  1.853746e+05\n",
            "15                  Master_mlimitecompra  1.820785e+05\n",
            "89                     mcuenta_corriente  1.818857e+05\n",
            "60                         mrentabilidad  1.785961e+05\n",
            "260            std_mtarjeta_visa_consumo  1.762288e+05\n",
            "46                   std_mpasivos_margen  1.755647e+05\n",
            "248             std_mrentabilidad_annual  1.706617e+05\n",
            "264                    Visa_Fvencimiento  1.699849e+05\n",
            "16                  mrentabilidad_annual  1.692157e+05\n",
            "185              mtarjeta_master_consumo  1.580761e+05\n",
            "111                 std_Visa_msaldopesos  1.490419e+05\n",
            "294   mttarjeta_visa_debitos_automaticos  1.476663e+05\n",
            "52               delta_1m_mcuentas_saldo  1.466917e+05\n",
            "251                delta_2m_ctrx_quarter  1.425487e+05\n",
            "90            ratio_ctrx_quarter_vs_prev  1.400493e+05\n",
            "132           chomebanking_transacciones  1.399699e+05\n",
            "99                    Master_msaldototal  1.379074e+05\n"
          ]
        }
      ],
      "source": [
        "subset = list(set(seleccion + features_base + ratios + delta_1 + delta_2 + lag_1))\n",
        "#subset = seleccion\n",
        "\n",
        "_, X_train, y_train, w_train, _ = get_dataset_mes([202101, 202102, 202103, 202104])\n",
        "\n",
        "\n",
        "for seed in semillas[0:1]:\n",
        "  params = {\n",
        "    \"max_bin\": 50,\n",
        "    \"num_leaves\": 50,\n",
        "    \"learning_rate\": 0.01,\n",
        "    \"min_data_in_leaf\": 200,\n",
        "    \"feature_fraction\": 0.5,\n",
        "    \"bagging_freq\": 5,\n",
        "    \"bagging_fraction\": 0.5,\n",
        "    \"feature_pre_filter\": True,\n",
        "    \"num_boost_round\": 1000,\n",
        "    \"boosting_type\": \"gbdt\",\n",
        "    \"verbose\": 1,\n",
        "    \"objective\": \"binary\",\n",
        "    \"force_row_wise\": True,\n",
        "    \"boost_from_average\": True,\n",
        "    \"seed\":seed,\n",
        "    'is_unbalance':True\n",
        "  }\n",
        "\n",
        "  if subset:\n",
        "    X_train = X_train[subset]\n",
        "\n",
        "  train_data = lgb.Dataset(X_train,\n",
        "                            label=y_train,\n",
        "                            weight=w_train)\n",
        "\n",
        "  print(f\"Entrenando modelo con parámetros: {params}\")\n",
        "  print(X_train.shape)\n",
        "\n",
        "  model = lgb.train(params = params,\n",
        "                    train_set = train_data)\n",
        "\n",
        "  predictions = model.predict(X_kaggle[model.feature_name()])\n",
        "  np.save(f'/content/drive/MyDrive/EyF/predicciones/{seed}.npy', predictions)\n",
        "\n",
        "  importance_type = 'split'\n",
        "  importance_type = 'gain'\n",
        "\n",
        "  importances = model.feature_importance(importance_type = importance_type)\n",
        "  feature_names = model.feature_name()\n",
        "  importance_df = pd.DataFrame({'feature': feature_names, 'importance': importances})\n",
        "  importance_df = importance_df.sort_values('importance', ascending=False)\n",
        "  importance_df[importance_df['importance'] > 0]\n",
        "\n",
        "  print(importance_df.head(50))"
      ]
    },
    {
      "cell_type": "markdown",
      "source": [
        "# Ensamble"
      ],
      "metadata": {
        "id": "lMM7YDKPFMiZ"
      }
    },
    {
      "cell_type": "code",
      "source": [
        "predicciones = list()\n",
        "for seed in semillas[0:1]:\n",
        "  path = f'/content/drive/MyDrive/EyF/predicciones/{seed}.npy'\n",
        "  preds = np.load(path)\n",
        "  predicciones.append(preds)"
      ],
      "metadata": {
        "id": "dnFGdA26FQbR"
      },
      "execution_count": 38,
      "outputs": []
    },
    {
      "cell_type": "code",
      "source": [
        "np.mean(predicciones, axis = 0).shape"
      ],
      "metadata": {
        "colab": {
          "base_uri": "https://localhost:8080/"
        },
        "id": "BE3iYWGzQcKs",
        "outputId": "e77c7701-5163-4151-a10a-bbc19790c5e9"
      },
      "execution_count": 39,
      "outputs": [
        {
          "output_type": "execute_result",
          "data": {
            "text/plain": [
              "(164313,)"
            ]
          },
          "metadata": {},
          "execution_count": 39
        }
      ]
    },
    {
      "cell_type": "code",
      "source": [
        "X_kaggle[\"numero_de_cliente\"]"
      ],
      "metadata": {
        "colab": {
          "base_uri": "https://localhost:8080/",
          "height": 458
        },
        "id": "Gs3qAHVnTM6q",
        "outputId": "17c54a61-b2d9-4e2b-98b9-b47ed404e167"
      },
      "execution_count": 40,
      "outputs": [
        {
          "output_type": "execute_result",
          "data": {
            "text/plain": [
              "0          249302860\n",
              "1          249363168\n",
              "2          249378334\n",
              "3          249427711\n",
              "4          249509684\n",
              "             ...    \n",
              "164308    1593917771\n",
              "164309    1595838016\n",
              "164310    1597522333\n",
              "164311    1598425905\n",
              "164312    1598470389\n",
              "Name: numero_de_cliente, Length: 164313, dtype: int64"
            ],
            "text/html": [
              "<div>\n",
              "<style scoped>\n",
              "    .dataframe tbody tr th:only-of-type {\n",
              "        vertical-align: middle;\n",
              "    }\n",
              "\n",
              "    .dataframe tbody tr th {\n",
              "        vertical-align: top;\n",
              "    }\n",
              "\n",
              "    .dataframe thead th {\n",
              "        text-align: right;\n",
              "    }\n",
              "</style>\n",
              "<table border=\"1\" class=\"dataframe\">\n",
              "  <thead>\n",
              "    <tr style=\"text-align: right;\">\n",
              "      <th></th>\n",
              "      <th>numero_de_cliente</th>\n",
              "    </tr>\n",
              "  </thead>\n",
              "  <tbody>\n",
              "    <tr>\n",
              "      <th>0</th>\n",
              "      <td>249302860</td>\n",
              "    </tr>\n",
              "    <tr>\n",
              "      <th>1</th>\n",
              "      <td>249363168</td>\n",
              "    </tr>\n",
              "    <tr>\n",
              "      <th>2</th>\n",
              "      <td>249378334</td>\n",
              "    </tr>\n",
              "    <tr>\n",
              "      <th>3</th>\n",
              "      <td>249427711</td>\n",
              "    </tr>\n",
              "    <tr>\n",
              "      <th>4</th>\n",
              "      <td>249509684</td>\n",
              "    </tr>\n",
              "    <tr>\n",
              "      <th>...</th>\n",
              "      <td>...</td>\n",
              "    </tr>\n",
              "    <tr>\n",
              "      <th>164308</th>\n",
              "      <td>1593917771</td>\n",
              "    </tr>\n",
              "    <tr>\n",
              "      <th>164309</th>\n",
              "      <td>1595838016</td>\n",
              "    </tr>\n",
              "    <tr>\n",
              "      <th>164310</th>\n",
              "      <td>1597522333</td>\n",
              "    </tr>\n",
              "    <tr>\n",
              "      <th>164311</th>\n",
              "      <td>1598425905</td>\n",
              "    </tr>\n",
              "    <tr>\n",
              "      <th>164312</th>\n",
              "      <td>1598470389</td>\n",
              "    </tr>\n",
              "  </tbody>\n",
              "</table>\n",
              "<p>164313 rows × 1 columns</p>\n",
              "</div><br><label><b>dtype:</b> int64</label>"
            ]
          },
          "metadata": {},
          "execution_count": 40
        }
      ]
    },
    {
      "cell_type": "code",
      "source": [
        "th = 0.6\n",
        "X_kaggle[\"proba\"] = np.mean(predicciones, axis = 0)\n",
        "X_kaggle[\"Predicted\"] = (X_kaggle[\"proba\"] > th).astype(int)"
      ],
      "metadata": {
        "id": "JojVUrd67tTB"
      },
      "execution_count": 41,
      "outputs": []
    },
    {
      "cell_type": "code",
      "source": [
        "X_kaggle[[\"Predicted\"]].value_counts()"
      ],
      "metadata": {
        "colab": {
          "base_uri": "https://localhost:8080/",
          "height": 178
        },
        "id": "9mST41pF-vBn",
        "outputId": "784457ec-07ff-41ca-f645-0381f659daf4"
      },
      "execution_count": 42,
      "outputs": [
        {
          "output_type": "execute_result",
          "data": {
            "text/plain": [
              "Predicted\n",
              "0            151501\n",
              "1             12812\n",
              "Name: count, dtype: int64"
            ],
            "text/html": [
              "<div>\n",
              "<style scoped>\n",
              "    .dataframe tbody tr th:only-of-type {\n",
              "        vertical-align: middle;\n",
              "    }\n",
              "\n",
              "    .dataframe tbody tr th {\n",
              "        vertical-align: top;\n",
              "    }\n",
              "\n",
              "    .dataframe thead th {\n",
              "        text-align: right;\n",
              "    }\n",
              "</style>\n",
              "<table border=\"1\" class=\"dataframe\">\n",
              "  <thead>\n",
              "    <tr style=\"text-align: right;\">\n",
              "      <th></th>\n",
              "      <th>count</th>\n",
              "    </tr>\n",
              "    <tr>\n",
              "      <th>Predicted</th>\n",
              "      <th></th>\n",
              "    </tr>\n",
              "  </thead>\n",
              "  <tbody>\n",
              "    <tr>\n",
              "      <th>0</th>\n",
              "      <td>151501</td>\n",
              "    </tr>\n",
              "    <tr>\n",
              "      <th>1</th>\n",
              "      <td>12812</td>\n",
              "    </tr>\n",
              "  </tbody>\n",
              "</table>\n",
              "</div><br><label><b>dtype:</b> int64</label>"
            ]
          },
          "metadata": {},
          "execution_count": 42
        }
      ]
    },
    {
      "cell_type": "code",
      "source": [
        "X_kaggle[[\"numero_de_cliente\", \"Predicted\"]].to_csv(\"ultima_19.csv\", index = False)"
      ],
      "metadata": {
        "id": "vtSNgVF28Ir4"
      },
      "execution_count": 43,
      "outputs": []
    }
  ],
  "metadata": {
    "colab": {
      "provenance": []
    },
    "kernelspec": {
      "display_name": "Python 3",
      "name": "python3"
    },
    "language_info": {
      "name": "python"
    }
  },
  "nbformat": 4,
  "nbformat_minor": 0
}